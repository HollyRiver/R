{
 "cells": [
  {
   "cell_type": "code",
   "execution_count": 191,
   "id": "7e81141f-be31-4ba2-bac8-74c4ff37e68c",
   "metadata": {},
   "outputs": [],
   "source": [
    "import pandas as pd\n",
    "import numpy as np\n",
    "import sqlite3\n",
    "import sklearn.linear_model\n",
    "import matplotlib.pyplot as plt\n",
    "import seaborn as sns"
   ]
  },
  {
   "cell_type": "code",
   "execution_count": 293,
   "id": "b9477a4c-e977-48ce-a1e9-649e61226530",
   "metadata": {},
   "outputs": [
    {
     "name": "stdout",
     "output_type": "stream",
     "text": [
      "[('university',), ('professor',), ('course_classed',), ('norm_course',), ('charge',)]\n"
     ]
    },
    {
     "data": {
      "text/plain": [
       "<sqlite3.Cursor at 0x28b4bf140>"
      ]
     },
     "execution_count": 293,
     "metadata": {},
     "output_type": "execute_result"
    }
   ],
   "source": [
    "sql_query = \"\"\"SELECT name FROM sqlite_master\n",
    "    WHERE type='table';\"\"\"\n",
    "\n",
    "conn = sqlite3.connect(\"/Users/99ksh/TDB/kocw.db\")\n",
    "cur = conn.cursor()\n",
    "cur.execute(sql_query)\n",
    "print(cur.fetchall())\n",
    "conn.execute(\"PRAGMA foreign_keys = 1\")"
   ]
  },
  {
   "cell_type": "markdown",
   "id": "b5833487-9810-458f-bed4-2a28ab998cea",
   "metadata": {},
   "source": [
    "### 1. 기본키 설정이 맞는지 확인 + 튜플의 수정 및 삭제"
   ]
  },
  {
   "cell_type": "code",
   "execution_count": null,
   "id": "4704d8aa-ba69-4bd4-873c-921485736479",
   "metadata": {},
   "outputs": [],
   "source": [
    "## professor 중복되지 않는 기본키를 가지는 튜플 삽입 시 정상"
   ]
  },
  {
   "cell_type": "code",
   "execution_count": 298,
   "id": "998b733d-3490-4368-85ba-4c8543a364b8",
   "metadata": {
    "scrolled": true
   },
   "outputs": [
    {
     "data": {
      "text/plain": [
       "[(-1, '강신성', '자연계열', '전북대학교'),\n",
       " (0, '안상욱', '자연계열', '한경대학교'),\n",
       " (1, '이중호', '자연계열', '가천대학교'),\n",
       " (2, '최수한', '자연계열', '단국대학교'),\n",
       " (3, '김문현', '자연계열', '성균관대학교')]"
      ]
     },
     "execution_count": 298,
     "metadata": {},
     "output_type": "execute_result"
    }
   ],
   "source": [
    "cur.execute(\"INSERT INTO professor VALUES(-1, '강신성', '자연계열', '전북대학교')\")\n",
    "cur.execute(\"SELECT * FROM professor LIMIT 5\")\n",
    "cur.fetchall()"
   ]
  },
  {
   "cell_type": "code",
   "execution_count": 299,
   "id": "ef193494-b257-4c65-9e9b-5992f3b8218c",
   "metadata": {},
   "outputs": [
    {
     "data": {
      "text/plain": [
       "[(-1, '강신성', '자연계열', '조선대학교'),\n",
       " (0, '안상욱', '자연계열', '한경대학교'),\n",
       " (1, '이중호', '자연계열', '가천대학교'),\n",
       " (2, '최수한', '자연계열', '단국대학교'),\n",
       " (3, '김문현', '자연계열', '성균관대학교')]"
      ]
     },
     "execution_count": 299,
     "metadata": {},
     "output_type": "execute_result"
    }
   ],
   "source": [
    "## 수정\n",
    "cur.execute(\"UPDATE professor SET 제공대학명 = '조선대학교' WHERE 교수코드 = -1\")\n",
    "cur.execute(\"SELECT * FROM professor LIMIT 5\")\n",
    "cur.fetchall()"
   ]
  },
  {
   "cell_type": "code",
   "execution_count": 300,
   "id": "03dd86a9-c897-4966-b911-07814f37675f",
   "metadata": {},
   "outputs": [
    {
     "data": {
      "text/plain": [
       "[(0, '안상욱', '자연계열', '한경대학교'),\n",
       " (1, '이중호', '자연계열', '가천대학교'),\n",
       " (2, '최수한', '자연계열', '단국대학교'),\n",
       " (3, '김문현', '자연계열', '성균관대학교'),\n",
       " (4, '이상준', '자연계열', '덕성여자대학교')]"
      ]
     },
     "execution_count": 300,
     "metadata": {},
     "output_type": "execute_result"
    }
   ],
   "source": [
    "## 삭제\n",
    "cur.execute(\"DELETE FROM professor WHERE 교수코드 = -1\")\n",
    "cur.execute(\"SELECT * FROM professor LIMIT 5\")\n",
    "cur.fetchall()"
   ]
  },
  {
   "cell_type": "code",
   "execution_count": 143,
   "id": "1266a7df-4db9-44d1-8309-be135e43a133",
   "metadata": {},
   "outputs": [
    {
     "data": {
      "text/plain": [
       "[('사이버한국외국어대학교', '서울특별시', '사립'),\n",
       " ('수원대학교', '경기도', '사립'),\n",
       " ('구미대학교', '경상북도', '사립'),\n",
       " ('가톨릭관동대학교', '강원특별자치도', '사립'),\n",
       " ('1조대학교', '뉴욕', '사립')]"
      ]
     },
     "execution_count": 143,
     "metadata": {},
     "output_type": "execute_result"
    }
   ],
   "source": [
    "## university 중복되지 않은 기본키를 가지는 튜플 삽입 시 정상\n",
    "cur.execute(\"INSERT INTO university VALUES('1조대학교', '뉴욕', '사립')\")\n",
    "cur.execute(\"SELECT * FROM university LIMIT 10 OFFSET 182\")\n",
    "cur.fetchall()"
   ]
  },
  {
   "cell_type": "code",
   "execution_count": 144,
   "id": "cea775a1-7933-4181-974d-d00432a13de5",
   "metadata": {},
   "outputs": [
    {
     "data": {
      "text/plain": [
       "[('사이버한국외국어대학교', '서울특별시', '사립'),\n",
       " ('수원대학교', '경기도', '사립'),\n",
       " ('구미대학교', '경상북도', '사립'),\n",
       " ('가톨릭관동대학교', '강원특별자치도', '사립'),\n",
       " ('1조대학교', '도쿄', '사립')]"
      ]
     },
     "execution_count": 144,
     "metadata": {},
     "output_type": "execute_result"
    }
   ],
   "source": [
    "## 수정\n",
    "cur.execute(\"UPDATE university SET 대학소재지 = '도쿄' WHERE 제공대학명 = '1조대학교'\")\n",
    "cur.execute(\"SELECT * FROM university LIMIT 10 OFFSET 182\")\n",
    "cur.fetchall()"
   ]
  },
  {
   "cell_type": "code",
   "execution_count": 145,
   "id": "6a7ac931-dda3-460b-94f9-fda8bb49e404",
   "metadata": {},
   "outputs": [
    {
     "data": {
      "text/plain": [
       "[('사이버한국외국어대학교', '서울특별시', '사립'),\n",
       " ('수원대학교', '경기도', '사립'),\n",
       " ('구미대학교', '경상북도', '사립'),\n",
       " ('가톨릭관동대학교', '강원특별자치도', '사립')]"
      ]
     },
     "execution_count": 145,
     "metadata": {},
     "output_type": "execute_result"
    }
   ],
   "source": [
    "## 삭제\n",
    "cur.execute(\"DELETE FROM university WHERE 제공대학명 = '1조대학교'\")\n",
    "cur.execute(\"SELECT * FROM university LIMIT 10 OFFSET 182\")\n",
    "cur.fetchall()"
   ]
  },
  {
   "cell_type": "code",
   "execution_count": 146,
   "id": "94ef4f42-44bb-4257-98f2-1925c021976d",
   "metadata": {
    "scrolled": true
   },
   "outputs": [
    {
     "ename": "IntegrityError",
     "evalue": "UNIQUE constraint failed: professor.교수코드",
     "output_type": "error",
     "traceback": [
      "\u001b[0;31m---------------------------------------------------------------------------\u001b[0m",
      "\u001b[0;31mIntegrityError\u001b[0m                            Traceback (most recent call last)",
      "Cell \u001b[0;32mIn[146], line 2\u001b[0m\n\u001b[1;32m      1\u001b[0m \u001b[38;5;66;03m## 중복되는 기본키를 가지는 튜플 삽입 시 오류 발생 -> 정상적으로 기본키 설정됨\u001b[39;00m\n\u001b[0;32m----> 2\u001b[0m cur\u001b[38;5;241m.\u001b[39mexecute(\u001b[38;5;124m\"\u001b[39m\u001b[38;5;124mINSERT INTO professor VALUES(1, \u001b[39m\u001b[38;5;124m'\u001b[39m\u001b[38;5;124m강신성2\u001b[39m\u001b[38;5;124m'\u001b[39m\u001b[38;5;124m, \u001b[39m\u001b[38;5;124m'\u001b[39m\u001b[38;5;124m자연계열\u001b[39m\u001b[38;5;124m'\u001b[39m\u001b[38;5;124m, \u001b[39m\u001b[38;5;124m'\u001b[39m\u001b[38;5;124m전북대학교\u001b[39m\u001b[38;5;124m'\u001b[39m\u001b[38;5;124m)\u001b[39m\u001b[38;5;124m\"\u001b[39m)\n",
      "\u001b[0;31mIntegrityError\u001b[0m: UNIQUE constraint failed: professor.교수코드"
     ]
    }
   ],
   "source": [
    "## 중복되는 기본키를 가지는 튜플 삽입 시 오류 발생 -> 정상적으로 기본키 설정됨\n",
    "cur.execute(\"INSERT INTO professor VALUES(1, '강신성2', '자연계열', '전북대학교')\")"
   ]
  },
  {
   "cell_type": "code",
   "execution_count": 304,
   "id": "c7c85421-6c79-416f-8f52-eb2642bbc2d9",
   "metadata": {},
   "outputs": [
    {
     "data": {
      "text/plain": [
       "[('한경대학교', '경기도', '국립'),\n",
       " ('가천대학교', '경기도', '사립'),\n",
       " ('단국대학교', '경기도', '사립'),\n",
       " ('성균관대학교', '서울특별시', '사립'),\n",
       " ('덕성여자대학교', '서울특별시', '사립'),\n",
       " ('과학기술연합대학원대학교', '대전광역시', '국립'),\n",
       " ('국민대학교', '서울특별시', '사립'),\n",
       " ('금오공과대학교', '경상북도', '국립'),\n",
       " ('전북대학교', '전라북도', '국립'),\n",
       " ('건국대학교', '서울특별시', '사립')]"
      ]
     },
     "execution_count": 304,
     "metadata": {},
     "output_type": "execute_result"
    }
   ],
   "source": [
    "# 기존 university 테이블\n",
    "cur.execute(\"SELECT * FROM university LIMIT 10\")\n",
    "cur.fetchall()"
   ]
  },
  {
   "cell_type": "code",
   "execution_count": 306,
   "id": "98403c20-7117-435a-b0df-6e87f2edfb33",
   "metadata": {
    "scrolled": true
   },
   "outputs": [
    {
     "ename": "IntegrityError",
     "evalue": "UNIQUE constraint failed: university.제공대학명",
     "output_type": "error",
     "traceback": [
      "\u001b[0;31m---------------------------------------------------------------------------\u001b[0m",
      "\u001b[0;31mIntegrityError\u001b[0m                            Traceback (most recent call last)",
      "Cell \u001b[0;32mIn[306], line 2\u001b[0m\n\u001b[1;32m      1\u001b[0m \u001b[38;5;66;03m## 중복되는 기본키를 가지는 튜플 삽입 시 오류 발생 -> 정상적으로 기본키 설정됨\u001b[39;00m\n\u001b[0;32m----> 2\u001b[0m cur\u001b[38;5;241m.\u001b[39mexecute(\u001b[38;5;124m\"\u001b[39m\u001b[38;5;124mINSERT INTO university VALUES(\u001b[39m\u001b[38;5;124m'\u001b[39m\u001b[38;5;124m전북대학교\u001b[39m\u001b[38;5;124m'\u001b[39m\u001b[38;5;124m, \u001b[39m\u001b[38;5;124m'\u001b[39m\u001b[38;5;124m뉴욕\u001b[39m\u001b[38;5;124m'\u001b[39m\u001b[38;5;124m, \u001b[39m\u001b[38;5;124m'\u001b[39m\u001b[38;5;124m국립\u001b[39m\u001b[38;5;124m'\u001b[39m\u001b[38;5;124m)\u001b[39m\u001b[38;5;124m\"\u001b[39m)\n",
      "\u001b[0;31mIntegrityError\u001b[0m: UNIQUE constraint failed: university.제공대학명"
     ]
    }
   ],
   "source": [
    "## 중복되는 기본키를 가지는 튜플 삽입 시 오류 발생 -> 정상적으로 기본키 설정됨\n",
    "cur.execute(\"INSERT INTO university VALUES('전북대학교', '뉴욕', '국립')\")"
   ]
  },
  {
   "cell_type": "code",
   "execution_count": 148,
   "id": "d1723b77-bc04-4007-96d5-e6b1891b70d3",
   "metadata": {},
   "outputs": [
    {
     "data": {
      "text/plain": [
       "[(-1, '윤리학개론', 2025, 3, '연세대학교', '2025-09-09'),\n",
       " (127521, '윤리학 개론', 2009, 1, '연세대학교', '2009-03-12'),\n",
       " (127676, '발명과 특허', 2009, 1, '부경대학교', '2009-04-30'),\n",
       " (128045, '연구방법론', 2009, 1, '삼육대학교', '2015-08-30'),\n",
       " (128322, '사회복지 개론', 2009, 1, '을지대학교', '2009-06-30')]"
      ]
     },
     "execution_count": 148,
     "metadata": {},
     "output_type": "execute_result"
    }
   ],
   "source": [
    "## norm_course 중복되지 않는 기본키를 가지는 튜플 삽입 시 정상\n",
    "cur.execute(\"INSERT INTO norm_course VALUES(-1, '윤리학개론', '2025', '3', '연세대학교', '2025-09-09')\")\n",
    "cur.execute(\"SELECT * FROM norm_course LIMIT 5\")\n",
    "cur.fetchall()"
   ]
  },
  {
   "cell_type": "code",
   "execution_count": 149,
   "id": "39937f1c-9c2f-4d89-bd18-1264da4ec0c1",
   "metadata": {},
   "outputs": [
    {
     "data": {
      "text/plain": [
       "[(-1, '수학1', 2025, 3, '연세대학교', '2025-09-09'),\n",
       " (127521, '윤리학 개론', 2009, 1, '연세대학교', '2009-03-12'),\n",
       " (127676, '발명과 특허', 2009, 1, '부경대학교', '2009-04-30'),\n",
       " (128045, '연구방법론', 2009, 1, '삼육대학교', '2015-08-30'),\n",
       " (128322, '사회복지 개론', 2009, 1, '을지대학교', '2009-06-30')]"
      ]
     },
     "execution_count": 149,
     "metadata": {},
     "output_type": "execute_result"
    }
   ],
   "source": [
    "## 수정\n",
    "cur.execute(\"UPDATE norm_course SET 강의명 = '수학1' WHERE 강의코드 = -1\")\n",
    "cur.execute(\"SELECT * FROM norm_course LIMIT 5\")\n",
    "cur.fetchall()"
   ]
  },
  {
   "cell_type": "code",
   "execution_count": 150,
   "id": "3e263820-6298-4de4-b9cc-544c2b5d1965",
   "metadata": {},
   "outputs": [
    {
     "data": {
      "text/plain": [
       "[(127521, '윤리학 개론', 2009, 1, '연세대학교', '2009-03-12'),\n",
       " (127676, '발명과 특허', 2009, 1, '부경대학교', '2009-04-30'),\n",
       " (128045, '연구방법론', 2009, 1, '삼육대학교', '2015-08-30'),\n",
       " (128322, '사회복지 개론', 2009, 1, '을지대학교', '2009-06-30'),\n",
       " (128348, '부부 이마고 치료', 2009, 1, '수도국제대학원대학교', '2022-09-28')]"
      ]
     },
     "execution_count": 150,
     "metadata": {},
     "output_type": "execute_result"
    }
   ],
   "source": [
    "## 삭제\n",
    "cur.execute(\"DELETE FROM norm_course WHERE 강의코드 = -1\")\n",
    "cur.execute(\"SELECT * FROM norm_course LIMIT 5\")\n",
    "cur.fetchall()"
   ]
  },
  {
   "cell_type": "code",
   "execution_count": 151,
   "id": "62309885-af4a-4778-b242-02089b3e967b",
   "metadata": {},
   "outputs": [
    {
     "ename": "IntegrityError",
     "evalue": "UNIQUE constraint failed: norm_course.강의코드",
     "output_type": "error",
     "traceback": [
      "\u001b[0;31m---------------------------------------------------------------------------\u001b[0m",
      "\u001b[0;31mIntegrityError\u001b[0m                            Traceback (most recent call last)",
      "Cell \u001b[0;32mIn[151], line 2\u001b[0m\n\u001b[1;32m      1\u001b[0m \u001b[38;5;66;03m## 중복되는 기본키를 가지는 튜플 삽입 시 오류 발생 -> 정상적으로 기본키 설정됨\u001b[39;00m\n\u001b[0;32m----> 2\u001b[0m cur\u001b[38;5;241m.\u001b[39mexecute(\u001b[38;5;124m\"\u001b[39m\u001b[38;5;124mINSERT INTO norm_course VALUES(127521, \u001b[39m\u001b[38;5;124m'\u001b[39m\u001b[38;5;124m수학1\u001b[39m\u001b[38;5;124m'\u001b[39m\u001b[38;5;124m, \u001b[39m\u001b[38;5;124m'\u001b[39m\u001b[38;5;124m2025\u001b[39m\u001b[38;5;124m'\u001b[39m\u001b[38;5;124m, \u001b[39m\u001b[38;5;124m'\u001b[39m\u001b[38;5;124m3\u001b[39m\u001b[38;5;124m'\u001b[39m\u001b[38;5;124m, \u001b[39m\u001b[38;5;124m'\u001b[39m\u001b[38;5;124m연세대학교\u001b[39m\u001b[38;5;124m'\u001b[39m\u001b[38;5;124m, \u001b[39m\u001b[38;5;124m'\u001b[39m\u001b[38;5;124m2025-09-09\u001b[39m\u001b[38;5;124m'\u001b[39m\u001b[38;5;124m)\u001b[39m\u001b[38;5;124m\"\u001b[39m)\n",
      "\u001b[0;31mIntegrityError\u001b[0m: UNIQUE constraint failed: norm_course.강의코드"
     ]
    }
   ],
   "source": [
    "## 중복되는 기본키를 가지는 튜플 삽입 시 오류 발생 -> 정상적으로 기본키 설정됨\n",
    "cur.execute(\"INSERT INTO norm_course VALUES(127521, '수학1', '2025', '3', '연세대학교', '2025-09-09')\")"
   ]
  },
  {
   "cell_type": "code",
   "execution_count": 152,
   "id": "85a45824-b087-44b4-9907-c91a23c17c08",
   "metadata": {},
   "outputs": [
    {
     "data": {
      "text/plain": [
       "[('가수업', '가분류'),\n",
       " ('예방치과학의 이해', '자연과학기타'),\n",
       " ('과학사 이해', '자연과학기타'),\n",
       " ('회귀분석(II)', '수학ㆍ물리ㆍ천문ㆍ지리'),\n",
       " ('AI를 위한 딥러닝', '수학ㆍ물리ㆍ천문ㆍ지리')]"
      ]
     },
     "execution_count": 152,
     "metadata": {},
     "output_type": "execute_result"
    }
   ],
   "source": [
    "## course_classed 중복되지 않는 기본키를 가지는 튜플 삽입 시 정상\n",
    "cur.execute(\"INSERT INTO course_classed VALUES('가수업', '가분류')\")\n",
    "cur.execute(\"SELECT * FROM course_classed ORDER BY rowid DESC LIMIT 5\")\n",
    "cur.fetchall()"
   ]
  },
  {
   "cell_type": "code",
   "execution_count": 153,
   "id": "3f5f583e-96f4-48c2-900b-11be573d2a6c",
   "metadata": {},
   "outputs": [
    {
     "data": {
      "text/plain": [
       "[('가수업', '나분류'),\n",
       " ('예방치과학의 이해', '자연과학기타'),\n",
       " ('과학사 이해', '자연과학기타'),\n",
       " ('회귀분석(II)', '수학ㆍ물리ㆍ천문ㆍ지리'),\n",
       " ('AI를 위한 딥러닝', '수학ㆍ물리ㆍ천문ㆍ지리')]"
      ]
     },
     "execution_count": 153,
     "metadata": {},
     "output_type": "execute_result"
    }
   ],
   "source": [
    "## 수정\n",
    "cur.execute(\"UPDATE course_classed SET 교육분류 = '나분류' WHERE 강의명 = '가수업'\")\n",
    "cur.execute(\"SELECT * FROM course_classed ORDER BY rowid DESC LIMIT 5\")\n",
    "cur.fetchall()"
   ]
  },
  {
   "cell_type": "code",
   "execution_count": 154,
   "id": "e5c10427-0628-4f1b-ab59-1b81f3833cc9",
   "metadata": {},
   "outputs": [
    {
     "data": {
      "text/plain": [
       "[('예방치과학의 이해', '자연과학기타'),\n",
       " ('과학사 이해', '자연과학기타'),\n",
       " ('회귀분석(II)', '수학ㆍ물리ㆍ천문ㆍ지리'),\n",
       " ('AI를 위한 딥러닝', '수학ㆍ물리ㆍ천문ㆍ지리'),\n",
       " ('다변량통계학(II)', '수학ㆍ물리ㆍ천문ㆍ지리')]"
      ]
     },
     "execution_count": 154,
     "metadata": {},
     "output_type": "execute_result"
    }
   ],
   "source": [
    "## 삭제\n",
    "cur.execute(\"DELETE FROM course_classed WHERE 강의명 = '가수업'\")\n",
    "cur.execute(\"SELECT * FROM course_classed ORDER BY rowid DESC LIMIT 5\")\n",
    "cur.fetchall()"
   ]
  },
  {
   "cell_type": "code",
   "execution_count": 155,
   "id": "7c4e30c1-d2c0-45cc-b234-85ab99ebcafc",
   "metadata": {},
   "outputs": [
    {
     "ename": "IntegrityError",
     "evalue": "UNIQUE constraint failed: course_classed.강의명",
     "output_type": "error",
     "traceback": [
      "\u001b[0;31m---------------------------------------------------------------------------\u001b[0m",
      "\u001b[0;31mIntegrityError\u001b[0m                            Traceback (most recent call last)",
      "Cell \u001b[0;32mIn[155], line 2\u001b[0m\n\u001b[1;32m      1\u001b[0m \u001b[38;5;66;03m## 중복되는 기본키를 가지는 튜플 삽입 시 오류 발생 -> 정상적으로 기본키 설정됨\u001b[39;00m\n\u001b[0;32m----> 2\u001b[0m cur\u001b[38;5;241m.\u001b[39mexecute(\u001b[38;5;124m\"\u001b[39m\u001b[38;5;124mINSERT INTO course_classed VALUES(\u001b[39m\u001b[38;5;124m'\u001b[39m\u001b[38;5;124m과학사 이해\u001b[39m\u001b[38;5;124m'\u001b[39m\u001b[38;5;124m, \u001b[39m\u001b[38;5;124m'\u001b[39m\u001b[38;5;124m다분류\u001b[39m\u001b[38;5;124m'\u001b[39m\u001b[38;5;124m)\u001b[39m\u001b[38;5;124m\"\u001b[39m)\n\u001b[1;32m      3\u001b[0m cur\u001b[38;5;241m.\u001b[39mfetchall()\n",
      "\u001b[0;31mIntegrityError\u001b[0m: UNIQUE constraint failed: course_classed.강의명"
     ]
    }
   ],
   "source": [
    "## 중복되는 기본키를 가지는 튜플 삽입 시 오류 발생 -> 정상적으로 기본키 설정됨\n",
    "cur.execute(\"INSERT INTO course_classed VALUES('과학사 이해', '다분류')\")\n",
    "cur.fetchall()"
   ]
  },
  {
   "cell_type": "code",
   "execution_count": 156,
   "id": "4d4a8ee6-1cde-4926-ae51-851bcfc4e5cf",
   "metadata": {},
   "outputs": [
    {
     "data": {
      "text/plain": [
       "[(1, 1112400), (8913, 1398367), (852, 820840), (60, 1445911), (7838, 1443736)]"
      ]
     },
     "execution_count": 156,
     "metadata": {},
     "output_type": "execute_result"
    }
   ],
   "source": [
    "## charge 중복되지 않는 기본키를 가지는 튜플 삽입 시 정상\n",
    "cur.execute(\"INSERT INTO charge VALUES(1, 1112400)\")\n",
    "cur.execute(\"SELECT * FROM charge ORDER BY rowid DESC LIMIT 5\")\n",
    "cur.fetchall()"
   ]
  },
  {
   "cell_type": "code",
   "execution_count": 157,
   "id": "f9fbce56-391c-4fbe-acf6-377e7b4a8be5",
   "metadata": {},
   "outputs": [
    {
     "data": {
      "text/plain": [
       "[(1, 1112400), (8913, 1398367), (852, 820840), (60, 1445911), (7838, 1443736)]"
      ]
     },
     "execution_count": 157,
     "metadata": {},
     "output_type": "execute_result"
    }
   ],
   "source": [
    "## 삭제\n",
    "cur.execute(\"DELETE FROM charge WHERE 교수코드= 1 AND 강의코드= 111240\")\n",
    "cur.execute(\"SELECT * FROM charge ORDER BY rowid DESC LIMIT 5\")\n",
    "cur.fetchall()"
   ]
  },
  {
   "cell_type": "code",
   "execution_count": 158,
   "id": "df9fe62b-ea43-4818-b972-358b544f65cb",
   "metadata": {},
   "outputs": [
    {
     "ename": "IntegrityError",
     "evalue": "UNIQUE constraint failed: charge.교수코드, charge.강의코드",
     "output_type": "error",
     "traceback": [
      "\u001b[0;31m---------------------------------------------------------------------------\u001b[0m",
      "\u001b[0;31mIntegrityError\u001b[0m                            Traceback (most recent call last)",
      "Cell \u001b[0;32mIn[158], line 2\u001b[0m\n\u001b[1;32m      1\u001b[0m \u001b[38;5;66;03m## charge 중복되는 기본키를 가지는 튜플 삽입 시 오류 발생 -> 정상적으로 기본키 설정됨\u001b[39;00m\n\u001b[0;32m----> 2\u001b[0m cur\u001b[38;5;241m.\u001b[39mexecute(\u001b[38;5;124m\"\u001b[39m\u001b[38;5;124mINSERT INTO charge VALUES(1, 1104074)\u001b[39m\u001b[38;5;124m\"\u001b[39m)\n",
      "\u001b[0;31mIntegrityError\u001b[0m: UNIQUE constraint failed: charge.교수코드, charge.강의코드"
     ]
    }
   ],
   "source": [
    "## charge 중복되는 기본키를 가지는 튜플 삽입 시 오류 발생 -> 정상적으로 기본키 설정됨\n",
    "cur.execute(\"INSERT INTO charge VALUES(1, 1104074)\")"
   ]
  },
  {
   "cell_type": "markdown",
   "id": "73405aeb-850b-4db2-88b5-5a312f39df7c",
   "metadata": {},
   "source": [
    "### 2.기본키 삭제에 따른 외래키 변화 확인"
   ]
  },
  {
   "cell_type": "code",
   "execution_count": 309,
   "id": "2a14fa1b-1ed7-4ddc-9978-7e412e6e7789",
   "metadata": {},
   "outputs": [
    {
     "data": {
      "text/plain": [
       "[(9, '마인숙', '자연계열', '전북대학교'),\n",
       " (103, '곽지이', '자연계열', '전북대학교'),\n",
       " (104, '이선영', '자연계열', '전북대학교'),\n",
       " (105, '정수미', '자연계열', '전북대학교'),\n",
       " (106, '최일선', '자연계열', '전북대학교')]"
      ]
     },
     "execution_count": 309,
     "metadata": {},
     "output_type": "execute_result"
    }
   ],
   "source": [
    "# 원래 professor 테이블\n",
    "cur.execute(\"SELECT * FROM professor WHERE 제공대학명 = '전북대학교' LIMIT 5\")\n",
    "cur.fetchall()"
   ]
  },
  {
   "cell_type": "code",
   "execution_count": 170,
   "id": "72885005-9594-4bce-9e4e-5b14538c19dd",
   "metadata": {},
   "outputs": [
    {
     "data": {
      "text/html": [
       "<div>\n",
       "<style scoped>\n",
       "    .dataframe tbody tr th:only-of-type {\n",
       "        vertical-align: middle;\n",
       "    }\n",
       "\n",
       "    .dataframe tbody tr th {\n",
       "        vertical-align: top;\n",
       "    }\n",
       "\n",
       "    .dataframe thead th {\n",
       "        text-align: right;\n",
       "    }\n",
       "</style>\n",
       "<table border=\"1\" class=\"dataframe\">\n",
       "  <thead>\n",
       "    <tr style=\"text-align: right;\">\n",
       "      <th></th>\n",
       "      <th>강의코드</th>\n",
       "      <th>강의명</th>\n",
       "      <th>강의년도</th>\n",
       "      <th>강의학기</th>\n",
       "      <th>제공대학명</th>\n",
       "      <th>제공일자</th>\n",
       "    </tr>\n",
       "  </thead>\n",
       "  <tbody>\n",
       "    <tr>\n",
       "      <th>0</th>\n",
       "      <td>133761</td>\n",
       "      <td>자바 프로그래밍</td>\n",
       "      <td>2009</td>\n",
       "      <td>1</td>\n",
       "      <td>전북대학교</td>\n",
       "      <td>2008-12-11</td>\n",
       "    </tr>\n",
       "    <tr>\n",
       "      <th>1</th>\n",
       "      <td>145685</td>\n",
       "      <td>조경수 관리</td>\n",
       "      <td>2009</td>\n",
       "      <td>1</td>\n",
       "      <td>전북대학교</td>\n",
       "      <td>2009-11-05</td>\n",
       "    </tr>\n",
       "    <tr>\n",
       "      <th>2</th>\n",
       "      <td>153670</td>\n",
       "      <td>전력전자 및 실험</td>\n",
       "      <td>2009</td>\n",
       "      <td>2</td>\n",
       "      <td>전북대학교</td>\n",
       "      <td>2010-04-28</td>\n",
       "    </tr>\n",
       "    <tr>\n",
       "      <th>3</th>\n",
       "      <td>156266</td>\n",
       "      <td>기능생리학 1</td>\n",
       "      <td>2009</td>\n",
       "      <td>1</td>\n",
       "      <td>전북대학교</td>\n",
       "      <td>2010-06-10</td>\n",
       "    </tr>\n",
       "    <tr>\n",
       "      <th>4</th>\n",
       "      <td>156446</td>\n",
       "      <td>BIN융합개론및세미나 1</td>\n",
       "      <td>2009</td>\n",
       "      <td>1</td>\n",
       "      <td>전북대학교</td>\n",
       "      <td>2010-06-11</td>\n",
       "    </tr>\n",
       "  </tbody>\n",
       "</table>\n",
       "</div>"
      ],
      "text/plain": [
       "     강의코드            강의명  강의년도  강의학기  제공대학명        제공일자\n",
       "0  133761       자바 프로그래밍  2009     1  전북대학교  2008-12-11\n",
       "1  145685         조경수 관리  2009     1  전북대학교  2009-11-05\n",
       "2  153670      전력전자 및 실험  2009     2  전북대학교  2010-04-28\n",
       "3  156266        기능생리학 1  2009     1  전북대학교  2010-06-10\n",
       "4  156446  BIN융합개론및세미나 1  2009     1  전북대학교  2010-06-11"
      ]
     },
     "execution_count": 170,
     "metadata": {},
     "output_type": "execute_result"
    }
   ],
   "source": [
    "# norm_course 원래 테이블\n",
    "cur.execute(\"SELECT * FROM norm_course WHERE 제공대학명 = '전북대학교' LIMIT 5\")\n",
    "cols = [column[0] for column in cur.description]  # 열 이름 가져오기\n",
    "rows = cur.fetchall()  # 행 정보 가져오기\n",
    "fetchall = pd.DataFrame.from_records(data=rows, columns=cols)\n",
    "fetchall"
   ]
  },
  {
   "cell_type": "code",
   "execution_count": 172,
   "id": "f6a7d483-116d-4ec8-9f68-8651f01e3886",
   "metadata": {},
   "outputs": [
    {
     "data": {
      "text/plain": [
       "[('전북대학교', '전라북도', '국립')]"
      ]
     },
     "execution_count": 172,
     "metadata": {},
     "output_type": "execute_result"
    }
   ],
   "source": [
    "cur.execute(\"SELECT * FROM university WHERE 제공대학명 = '전북대학교'\")\n",
    "cur.fetchall()"
   ]
  },
  {
   "cell_type": "code",
   "execution_count": 173,
   "id": "07d1552d-481e-4f51-9195-8c95ffe011eb",
   "metadata": {},
   "outputs": [
    {
     "data": {
      "text/plain": [
       "[]"
      ]
     },
     "execution_count": 173,
     "metadata": {},
     "output_type": "execute_result"
    }
   ],
   "source": [
    "#기본키 수정\n",
    "cur.execute(\"UPDATE university SET 제공대학명 = '전북특별자치대학교' WHERE 제공대학명 = '전북대학교'\")\n",
    "cur.execute(\"SELECT * FROM university WHERE 제공대학명 = '전북특별자치대학교'\")\n",
    "cur.execute(\"SELECT * FROM norm_course WHERE 제공대학명 = '전북특별자치대학교' LIMIT 5\")\n",
    "cur.execute(\"SELECT * FROM professor WHERE 제공대학명 = '전북대학교' LIMIT 5\") # 바뀐 내용 보여주기\n",
    "cur.fetchall()"
   ]
  },
  {
   "cell_type": "code",
   "execution_count": 174,
   "id": "babfce6a-8df6-4fa7-8c35-93d91d1ae170",
   "metadata": {},
   "outputs": [
    {
     "data": {
      "text/html": [
       "<div>\n",
       "<style scoped>\n",
       "    .dataframe tbody tr th:only-of-type {\n",
       "        vertical-align: middle;\n",
       "    }\n",
       "\n",
       "    .dataframe tbody tr th {\n",
       "        vertical-align: top;\n",
       "    }\n",
       "\n",
       "    .dataframe thead th {\n",
       "        text-align: right;\n",
       "    }\n",
       "</style>\n",
       "<table border=\"1\" class=\"dataframe\">\n",
       "  <thead>\n",
       "    <tr style=\"text-align: right;\">\n",
       "      <th></th>\n",
       "      <th>교수코드</th>\n",
       "      <th>담당교수명</th>\n",
       "      <th>담당분야</th>\n",
       "      <th>제공대학명</th>\n",
       "    </tr>\n",
       "  </thead>\n",
       "  <tbody>\n",
       "    <tr>\n",
       "      <th>0</th>\n",
       "      <td>9</td>\n",
       "      <td>마인숙</td>\n",
       "      <td>자연계열</td>\n",
       "      <td>전북대학교</td>\n",
       "    </tr>\n",
       "    <tr>\n",
       "      <th>1</th>\n",
       "      <td>103</td>\n",
       "      <td>곽지이</td>\n",
       "      <td>자연계열</td>\n",
       "      <td>전북대학교</td>\n",
       "    </tr>\n",
       "    <tr>\n",
       "      <th>2</th>\n",
       "      <td>104</td>\n",
       "      <td>이선영</td>\n",
       "      <td>자연계열</td>\n",
       "      <td>전북대학교</td>\n",
       "    </tr>\n",
       "    <tr>\n",
       "      <th>3</th>\n",
       "      <td>105</td>\n",
       "      <td>정수미</td>\n",
       "      <td>자연계열</td>\n",
       "      <td>전북대학교</td>\n",
       "    </tr>\n",
       "    <tr>\n",
       "      <th>4</th>\n",
       "      <td>106</td>\n",
       "      <td>최일선</td>\n",
       "      <td>자연계열</td>\n",
       "      <td>전북대학교</td>\n",
       "    </tr>\n",
       "  </tbody>\n",
       "</table>\n",
       "</div>"
      ],
      "text/plain": [
       "   교수코드 담당교수명  담당분야  제공대학명\n",
       "0     9   마인숙  자연계열  전북대학교\n",
       "1   103   곽지이  자연계열  전북대학교\n",
       "2   104   이선영  자연계열  전북대학교\n",
       "3   105   정수미  자연계열  전북대학교\n",
       "4   106   최일선  자연계열  전북대학교"
      ]
     },
     "execution_count": 174,
     "metadata": {},
     "output_type": "execute_result"
    }
   ],
   "source": [
    "#원래대로 복구\n",
    "cur.execute(\"UPDATE university SET 제공대학명 = '전북대학교' WHERE 제공대학명 = '전북특별자치대학교'\")\n",
    "cur.execute(\"SELECT * FROM professor WHERE 제공대학명 = '전북대학교' LIMIT 5\")\n",
    "cols = [column[0] for column in cur.description]  # 열 이름 가져오기\n",
    "rows = cur.fetchall()  # 행 정보 가져오기\n",
    "fetchall = pd.DataFrame.from_records(data=rows, columns=cols)\n",
    "fetchall"
   ]
  },
  {
   "cell_type": "code",
   "execution_count": 176,
   "id": "58c15510-dc66-4ed0-a5d3-fc2c61779138",
   "metadata": {},
   "outputs": [
    {
     "data": {
      "text/html": [
       "<div>\n",
       "<style scoped>\n",
       "    .dataframe tbody tr th:only-of-type {\n",
       "        vertical-align: middle;\n",
       "    }\n",
       "\n",
       "    .dataframe tbody tr th {\n",
       "        vertical-align: top;\n",
       "    }\n",
       "\n",
       "    .dataframe thead th {\n",
       "        text-align: right;\n",
       "    }\n",
       "</style>\n",
       "<table border=\"1\" class=\"dataframe\">\n",
       "  <thead>\n",
       "    <tr style=\"text-align: right;\">\n",
       "      <th></th>\n",
       "      <th>교수코드</th>\n",
       "      <th>담당교수명</th>\n",
       "      <th>담당분야</th>\n",
       "      <th>제공대학명</th>\n",
       "    </tr>\n",
       "  </thead>\n",
       "  <tbody>\n",
       "    <tr>\n",
       "      <th>0</th>\n",
       "      <td>9</td>\n",
       "      <td>마인숙</td>\n",
       "      <td>자연계열</td>\n",
       "      <td>None</td>\n",
       "    </tr>\n",
       "    <tr>\n",
       "      <th>1</th>\n",
       "      <td>103</td>\n",
       "      <td>곽지이</td>\n",
       "      <td>자연계열</td>\n",
       "      <td>None</td>\n",
       "    </tr>\n",
       "    <tr>\n",
       "      <th>2</th>\n",
       "      <td>104</td>\n",
       "      <td>이선영</td>\n",
       "      <td>자연계열</td>\n",
       "      <td>None</td>\n",
       "    </tr>\n",
       "    <tr>\n",
       "      <th>3</th>\n",
       "      <td>105</td>\n",
       "      <td>정수미</td>\n",
       "      <td>자연계열</td>\n",
       "      <td>None</td>\n",
       "    </tr>\n",
       "    <tr>\n",
       "      <th>4</th>\n",
       "      <td>106</td>\n",
       "      <td>최일선</td>\n",
       "      <td>자연계열</td>\n",
       "      <td>None</td>\n",
       "    </tr>\n",
       "  </tbody>\n",
       "</table>\n",
       "</div>"
      ],
      "text/plain": [
       "   교수코드 담당교수명  담당분야 제공대학명\n",
       "0     9   마인숙  자연계열  None\n",
       "1   103   곽지이  자연계열  None\n",
       "2   104   이선영  자연계열  None\n",
       "3   105   정수미  자연계열  None\n",
       "4   106   최일선  자연계열  None"
      ]
     },
     "execution_count": 176,
     "metadata": {},
     "output_type": "execute_result"
    }
   ],
   "source": [
    "#기본키 삭제(ON DELETE SET NULL) 전북대학교 삭제\n",
    "cur.execute(\"DELETE FROM university WHERE 제공대학명 = '전북대학교'\")\n",
    "cur.execute(\"SELECT * FROM norm_course WHERE 제공대학명 IS NULL LIMIT 5\")\n",
    "cur.execute(\"SELECT * FROM professor WHERE 제공대학명 IS NULL LIMIT 5\")\n",
    "\n",
    "cols = [column[0] for column in cur.description]  # 열 이름 가져오기\n",
    "rows = cur.fetchall()  # 행 정보 가져오기\n",
    "fetchall = pd.DataFrame.from_records(data=rows, columns=cols)\n",
    "fetchall"
   ]
  },
  {
   "cell_type": "code",
   "execution_count": 177,
   "id": "a78c0069-d6f9-4475-b676-52c5fe35a65b",
   "metadata": {},
   "outputs": [
    {
     "data": {
      "text/html": [
       "<div>\n",
       "<style scoped>\n",
       "    .dataframe tbody tr th:only-of-type {\n",
       "        vertical-align: middle;\n",
       "    }\n",
       "\n",
       "    .dataframe tbody tr th {\n",
       "        vertical-align: top;\n",
       "    }\n",
       "\n",
       "    .dataframe thead th {\n",
       "        text-align: right;\n",
       "    }\n",
       "</style>\n",
       "<table border=\"1\" class=\"dataframe\">\n",
       "  <thead>\n",
       "    <tr style=\"text-align: right;\">\n",
       "      <th></th>\n",
       "      <th>강의코드</th>\n",
       "      <th>강의명</th>\n",
       "      <th>강의년도</th>\n",
       "      <th>강의학기</th>\n",
       "      <th>제공대학명</th>\n",
       "      <th>제공일자</th>\n",
       "    </tr>\n",
       "  </thead>\n",
       "  <tbody>\n",
       "    <tr>\n",
       "      <th>0</th>\n",
       "      <td>133761</td>\n",
       "      <td>자바 프로그래밍</td>\n",
       "      <td>2009</td>\n",
       "      <td>1</td>\n",
       "      <td>None</td>\n",
       "      <td>2008-12-11</td>\n",
       "    </tr>\n",
       "    <tr>\n",
       "      <th>1</th>\n",
       "      <td>145685</td>\n",
       "      <td>조경수 관리</td>\n",
       "      <td>2009</td>\n",
       "      <td>1</td>\n",
       "      <td>None</td>\n",
       "      <td>2009-11-05</td>\n",
       "    </tr>\n",
       "    <tr>\n",
       "      <th>2</th>\n",
       "      <td>153670</td>\n",
       "      <td>전력전자 및 실험</td>\n",
       "      <td>2009</td>\n",
       "      <td>2</td>\n",
       "      <td>None</td>\n",
       "      <td>2010-04-28</td>\n",
       "    </tr>\n",
       "    <tr>\n",
       "      <th>3</th>\n",
       "      <td>156266</td>\n",
       "      <td>기능생리학 1</td>\n",
       "      <td>2009</td>\n",
       "      <td>1</td>\n",
       "      <td>None</td>\n",
       "      <td>2010-06-10</td>\n",
       "    </tr>\n",
       "    <tr>\n",
       "      <th>4</th>\n",
       "      <td>156446</td>\n",
       "      <td>BIN융합개론및세미나 1</td>\n",
       "      <td>2009</td>\n",
       "      <td>1</td>\n",
       "      <td>None</td>\n",
       "      <td>2010-06-11</td>\n",
       "    </tr>\n",
       "  </tbody>\n",
       "</table>\n",
       "</div>"
      ],
      "text/plain": [
       "     강의코드            강의명  강의년도  강의학기 제공대학명        제공일자\n",
       "0  133761       자바 프로그래밍  2009     1  None  2008-12-11\n",
       "1  145685         조경수 관리  2009     1  None  2009-11-05\n",
       "2  153670      전력전자 및 실험  2009     2  None  2010-04-28\n",
       "3  156266        기능생리학 1  2009     1  None  2010-06-10\n",
       "4  156446  BIN융합개론및세미나 1  2009     1  None  2010-06-11"
      ]
     },
     "execution_count": 177,
     "metadata": {},
     "output_type": "execute_result"
    }
   ],
   "source": [
    "cur.execute(\"SELECT * FROM norm_course WHERE 제공대학명 IS NULL LIMIT 5\")\n",
    "\n",
    "cols = [column[0] for column in cur.description]  # 열 이름 가져오기\n",
    "rows = cur.fetchall()  # 행 정보 가져오기\n",
    "fetchall = pd.DataFrame.from_records(data=rows, columns=cols)\n",
    "fetchall"
   ]
  },
  {
   "cell_type": "code",
   "execution_count": 182,
   "id": "6c5ad4b0-f2a9-4548-8f74-6fc344676dfe",
   "metadata": {},
   "outputs": [
    {
     "data": {
      "text/html": [
       "<div>\n",
       "<style scoped>\n",
       "    .dataframe tbody tr th:only-of-type {\n",
       "        vertical-align: middle;\n",
       "    }\n",
       "\n",
       "    .dataframe tbody tr th {\n",
       "        vertical-align: top;\n",
       "    }\n",
       "\n",
       "    .dataframe thead th {\n",
       "        text-align: right;\n",
       "    }\n",
       "</style>\n",
       "<table border=\"1\" class=\"dataframe\">\n",
       "  <thead>\n",
       "    <tr style=\"text-align: right;\">\n",
       "      <th></th>\n",
       "      <th>강의코드</th>\n",
       "      <th>강의명</th>\n",
       "      <th>강의년도</th>\n",
       "      <th>강의학기</th>\n",
       "      <th>제공대학명</th>\n",
       "      <th>제공일자</th>\n",
       "    </tr>\n",
       "  </thead>\n",
       "  <tbody>\n",
       "  </tbody>\n",
       "</table>\n",
       "</div>"
      ],
      "text/plain": [
       "Empty DataFrame\n",
       "Columns: [강의코드, 강의명, 강의년도, 강의학기, 제공대학명, 제공일자]\n",
       "Index: []"
      ]
     },
     "execution_count": 182,
     "metadata": {},
     "output_type": "execute_result"
    }
   ],
   "source": [
    "#기본키 삭제(ON DELETE CASCADE)\n",
    "cur.execute(\"SELECT * FROM norm_course WHERE 강의명 = '수학1'\")\n",
    "cur.execute(\"DELETE FROM course_classed WHERE 강의명 = '수학1'\")\n",
    "cur.execute(\"SELECT * FROM norm_course WHERE 강의명 = '수학1'\")\n",
    "\n",
    "cols = [column[0] for column in cur.description]  # 열 이름 가져오기\n",
    "rows = cur.fetchall()  # 행 정보 가져오기\n",
    "fetchall = pd.DataFrame.from_records(data=rows, columns=cols)\n",
    "fetchall"
   ]
  },
  {
   "cell_type": "markdown",
   "id": "4827b156-a626-4e54-85df-e2567b735a0f",
   "metadata": {},
   "source": [
    "## 3. 조인 조작의 정상성 여부 확인"
   ]
  },
  {
   "cell_type": "markdown",
   "id": "f681b9a7-ed70-4344-a8d1-e4bdf43fac06",
   "metadata": {},
   "source": [
    "#### 조인을 이용해 쪼개기 전 테이블 만들기"
   ]
  },
  {
   "cell_type": "code",
   "execution_count": 192,
   "id": "74e1777c-d683-49b7-bbb5-b34a6bd0f3a9",
   "metadata": {},
   "outputs": [],
   "source": [
    "conn = sqlite3.connect(\"/Users/99ksh/TDB/kocw.db\")\n",
    "cur = conn.cursor()"
   ]
  },
  {
   "cell_type": "code",
   "execution_count": 186,
   "id": "f9dd3ab3-3e56-4cec-bcb3-0977c0d50267",
   "metadata": {},
   "outputs": [
    {
     "data": {
      "text/plain": [
       "[(0, '안상욱', '자연계열', '한경대학교', '경기도', '국립'),\n",
       " (1, '이중호', '자연계열', '가천대학교', '경기도', '사립'),\n",
       " (2, '최수한', '자연계열', '단국대학교', '경기도', '사립'),\n",
       " (3, '김문현', '자연계열', '성균관대학교', '서울특별시', '사립'),\n",
       " (4, '이상준', '자연계열', '덕성여자대학교', '서울특별시', '사립'),\n",
       " (5, '나성호', '자연계열', '과학기술연합대학원대학교', '대전광역시', '국립')]"
      ]
     },
     "execution_count": 186,
     "metadata": {},
     "output_type": "execute_result"
    }
   ],
   "source": [
    "#제공대학명을 기준으로 교수와 제공대학을 내부 조인\n",
    "cur.execute(\"SELECT * FROM professor LIMIT 6\")\n",
    "cur.execute(\"SELECT * FROM university LIMIT 6\")\n",
    "cur.execute(\"\"\"\n",
    "    SELECT 교수코드, 담당교수명, 담당분야, university.제공대학명 AS 제공대학명, 대학소재지, 구분\n",
    "    FROM university \n",
    "    INNER JOIN professor ON university.제공대학명 = professor.제공대학명 \n",
    "    LIMIT 6\n",
    "\"\"\")\n",
    "cur.fetchall()"
   ]
  },
  {
   "cell_type": "code",
   "execution_count": 187,
   "id": "b8295ecc-a9fc-4113-b98f-5280c21c2b48",
   "metadata": {},
   "outputs": [
    {
     "data": {
      "text/plain": [
       "[(1095582, 0, '안상욱', '자연계열', '한경대학교', '경기도', '국립'),\n",
       " (1104074, 1, '이중호', '자연계열', '가천대학교', '경기도', '사립'),\n",
       " (1110603, 2, '최수한', '자연계열', '단국대학교', '경기도', '사립'),\n",
       " (1112400, 3, '김문현', '자연계열', '성균관대학교', '서울특별시', '사립'),\n",
       " (1118072, 4, '이상준', '자연계열', '덕성여자대학교', '서울특별시', '사립'),\n",
       " (1118158, 4, '이상준', '자연계열', '덕성여자대학교', '서울특별시', '사립')]"
      ]
     },
     "execution_count": 187,
     "metadata": {},
     "output_type": "execute_result"
    }
   ],
   "source": [
    "#위 테이블과 담당을 조인\n",
    "cur.execute(\"SELECT * FROM charge LIMIT 6\")\n",
    "cur.execute(\"\"\"\n",
    "    SELECT 강의코드, professor.교수코드 AS 교수코드, 담당교수명, 담당분야, university.제공대학명 AS 제공대학명, 대학소재지, 구분\n",
    "    FROM university \n",
    "    INNER JOIN professor ON university.제공대학명 = professor.제공대학명\n",
    "    INNER JOIN charge ON professor.교수코드 = charge.교수코드 \n",
    "    LIMIT 6\n",
    "\"\"\")\n",
    "cur.fetchall()"
   ]
  },
  {
   "cell_type": "code",
   "execution_count": 188,
   "id": "0e360c85-80ff-4d28-8646-a652b33f9aee",
   "metadata": {},
   "outputs": [
    {
     "data": {
      "text/html": [
       "<div>\n",
       "<style scoped>\n",
       "    .dataframe tbody tr th:only-of-type {\n",
       "        vertical-align: middle;\n",
       "    }\n",
       "\n",
       "    .dataframe tbody tr th {\n",
       "        vertical-align: top;\n",
       "    }\n",
       "\n",
       "    .dataframe thead th {\n",
       "        text-align: right;\n",
       "    }\n",
       "</style>\n",
       "<table border=\"1\" class=\"dataframe\">\n",
       "  <thead>\n",
       "    <tr style=\"text-align: right;\">\n",
       "      <th></th>\n",
       "      <th>강의코드</th>\n",
       "      <th>강의명</th>\n",
       "      <th>강의년도</th>\n",
       "      <th>강의학기</th>\n",
       "      <th>제공일자</th>\n",
       "      <th>교수코드</th>\n",
       "      <th>담당교수명</th>\n",
       "      <th>담당분야</th>\n",
       "      <th>제공대학명</th>\n",
       "      <th>대학소재지</th>\n",
       "      <th>구분</th>\n",
       "    </tr>\n",
       "  </thead>\n",
       "  <tbody>\n",
       "    <tr>\n",
       "      <th>0</th>\n",
       "      <td>1095582</td>\n",
       "      <td>대학수학1</td>\n",
       "      <td>2015</td>\n",
       "      <td>1</td>\n",
       "      <td>2015-08-30</td>\n",
       "      <td>0</td>\n",
       "      <td>안상욱</td>\n",
       "      <td>자연계열</td>\n",
       "      <td>한경대학교</td>\n",
       "      <td>경기도</td>\n",
       "      <td>국립</td>\n",
       "    </tr>\n",
       "    <tr>\n",
       "      <th>1</th>\n",
       "      <td>1104074</td>\n",
       "      <td>수학1</td>\n",
       "      <td>2015</td>\n",
       "      <td>1</td>\n",
       "      <td>2015-09-14</td>\n",
       "      <td>1</td>\n",
       "      <td>이중호</td>\n",
       "      <td>자연계열</td>\n",
       "      <td>가천대학교</td>\n",
       "      <td>경기도</td>\n",
       "      <td>사립</td>\n",
       "    </tr>\n",
       "    <tr>\n",
       "      <th>2</th>\n",
       "      <td>1110603</td>\n",
       "      <td>미적분학</td>\n",
       "      <td>2015</td>\n",
       "      <td>1</td>\n",
       "      <td>2015-10-08</td>\n",
       "      <td>2</td>\n",
       "      <td>최수한</td>\n",
       "      <td>자연계열</td>\n",
       "      <td>단국대학교</td>\n",
       "      <td>경기도</td>\n",
       "      <td>사립</td>\n",
       "    </tr>\n",
       "    <tr>\n",
       "      <th>3</th>\n",
       "      <td>1112400</td>\n",
       "      <td>공학수학1</td>\n",
       "      <td>2015</td>\n",
       "      <td>1</td>\n",
       "      <td>2015-11-02</td>\n",
       "      <td>3</td>\n",
       "      <td>김문현</td>\n",
       "      <td>자연계열</td>\n",
       "      <td>성균관대학교</td>\n",
       "      <td>서울특별시</td>\n",
       "      <td>사립</td>\n",
       "    </tr>\n",
       "    <tr>\n",
       "      <th>4</th>\n",
       "      <td>1118072</td>\n",
       "      <td>정수론</td>\n",
       "      <td>2015</td>\n",
       "      <td>2</td>\n",
       "      <td>2015-12-16</td>\n",
       "      <td>4</td>\n",
       "      <td>이상준</td>\n",
       "      <td>자연계열</td>\n",
       "      <td>덕성여자대학교</td>\n",
       "      <td>서울특별시</td>\n",
       "      <td>사립</td>\n",
       "    </tr>\n",
       "    <tr>\n",
       "      <th>5</th>\n",
       "      <td>1118158</td>\n",
       "      <td>확률론</td>\n",
       "      <td>2015</td>\n",
       "      <td>2</td>\n",
       "      <td>2015-12-16</td>\n",
       "      <td>4</td>\n",
       "      <td>이상준</td>\n",
       "      <td>자연계열</td>\n",
       "      <td>덕성여자대학교</td>\n",
       "      <td>서울특별시</td>\n",
       "      <td>사립</td>\n",
       "    </tr>\n",
       "  </tbody>\n",
       "</table>\n",
       "</div>"
      ],
      "text/plain": [
       "      강의코드    강의명  강의년도  강의학기        제공일자  교수코드 담당교수명  담당분야    제공대학명  대학소재지  \\\n",
       "0  1095582  대학수학1  2015     1  2015-08-30     0   안상욱  자연계열    한경대학교    경기도   \n",
       "1  1104074    수학1  2015     1  2015-09-14     1   이중호  자연계열    가천대학교    경기도   \n",
       "2  1110603   미적분학  2015     1  2015-10-08     2   최수한  자연계열    단국대학교    경기도   \n",
       "3  1112400  공학수학1  2015     1  2015-11-02     3   김문현  자연계열   성균관대학교  서울특별시   \n",
       "4  1118072    정수론  2015     2  2015-12-16     4   이상준  자연계열  덕성여자대학교  서울특별시   \n",
       "5  1118158    확률론  2015     2  2015-12-16     4   이상준  자연계열  덕성여자대학교  서울특별시   \n",
       "\n",
       "   구분  \n",
       "0  국립  \n",
       "1  사립  \n",
       "2  사립  \n",
       "3  사립  \n",
       "4  사립  \n",
       "5  사립  "
      ]
     },
     "execution_count": 188,
     "metadata": {},
     "output_type": "execute_result"
    }
   ],
   "source": [
    "#위 테이블과 강의를 조인\n",
    "cur.execute(\"SELECT * FROM norm_course LIMIT 6\")\n",
    "cur.execute(\"\"\"\n",
    "    SELECT norm_course.강의코드 AS 강의코드, 강의명, 강의년도, 강의학기, 제공일자,\n",
    "           professor.교수코드 AS 교수코드, 담당교수명, 담당분야,\n",
    "           university.제공대학명 AS 제공대학명, 대학소재지, 구분\n",
    "    FROM university \n",
    "    INNER JOIN professor ON university.제공대학명 = professor.제공대학명\n",
    "    INNER JOIN charge ON professor.교수코드 = charge.교수코드\n",
    "    INNER JOIN norm_course ON charge.강의코드 = norm_course.강의코드 \n",
    "    LIMIT 6\n",
    "\"\"\")\n",
    "cols = [column[0] for column in cur.description]  # 열 이름 가져오기\n",
    "rows = cur.fetchall()  # 행 정보 가져오기\n",
    "fetchall = pd.DataFrame.from_records(data=rows, columns=cols)\n",
    "fetchall"
   ]
  },
  {
   "cell_type": "code",
   "execution_count": 189,
   "id": "48d0701b-0293-47fb-9487-06e1b3506956",
   "metadata": {},
   "outputs": [
    {
     "data": {
      "text/html": [
       "<div>\n",
       "<style scoped>\n",
       "    .dataframe tbody tr th:only-of-type {\n",
       "        vertical-align: middle;\n",
       "    }\n",
       "\n",
       "    .dataframe tbody tr th {\n",
       "        vertical-align: top;\n",
       "    }\n",
       "\n",
       "    .dataframe thead th {\n",
       "        text-align: right;\n",
       "    }\n",
       "</style>\n",
       "<table border=\"1\" class=\"dataframe\">\n",
       "  <thead>\n",
       "    <tr style=\"text-align: right;\">\n",
       "      <th></th>\n",
       "      <th>강의코드</th>\n",
       "      <th>강의년도</th>\n",
       "      <th>강의학기</th>\n",
       "      <th>제공일자</th>\n",
       "      <th>강의명</th>\n",
       "      <th>교육분류</th>\n",
       "      <th>교수코드</th>\n",
       "      <th>담당교수명</th>\n",
       "      <th>담당분야</th>\n",
       "      <th>제공대학명</th>\n",
       "      <th>대학소재지</th>\n",
       "      <th>구분</th>\n",
       "    </tr>\n",
       "  </thead>\n",
       "  <tbody>\n",
       "    <tr>\n",
       "      <th>0</th>\n",
       "      <td>1095582</td>\n",
       "      <td>2015</td>\n",
       "      <td>1</td>\n",
       "      <td>2015-08-30</td>\n",
       "      <td>대학수학1</td>\n",
       "      <td>수학ㆍ물리ㆍ천문ㆍ지리</td>\n",
       "      <td>0</td>\n",
       "      <td>안상욱</td>\n",
       "      <td>자연계열</td>\n",
       "      <td>한경대학교</td>\n",
       "      <td>경기도</td>\n",
       "      <td>국립</td>\n",
       "    </tr>\n",
       "    <tr>\n",
       "      <th>1</th>\n",
       "      <td>1104074</td>\n",
       "      <td>2015</td>\n",
       "      <td>1</td>\n",
       "      <td>2015-09-14</td>\n",
       "      <td>수학1</td>\n",
       "      <td>수학ㆍ물리ㆍ천문ㆍ지리</td>\n",
       "      <td>1</td>\n",
       "      <td>이중호</td>\n",
       "      <td>자연계열</td>\n",
       "      <td>가천대학교</td>\n",
       "      <td>경기도</td>\n",
       "      <td>사립</td>\n",
       "    </tr>\n",
       "    <tr>\n",
       "      <th>2</th>\n",
       "      <td>1110603</td>\n",
       "      <td>2015</td>\n",
       "      <td>1</td>\n",
       "      <td>2015-10-08</td>\n",
       "      <td>미적분학</td>\n",
       "      <td>수학ㆍ물리ㆍ천문ㆍ지리</td>\n",
       "      <td>2</td>\n",
       "      <td>최수한</td>\n",
       "      <td>자연계열</td>\n",
       "      <td>단국대학교</td>\n",
       "      <td>경기도</td>\n",
       "      <td>사립</td>\n",
       "    </tr>\n",
       "    <tr>\n",
       "      <th>3</th>\n",
       "      <td>1112400</td>\n",
       "      <td>2015</td>\n",
       "      <td>1</td>\n",
       "      <td>2015-11-02</td>\n",
       "      <td>공학수학1</td>\n",
       "      <td>수학ㆍ물리ㆍ천문ㆍ지리</td>\n",
       "      <td>3</td>\n",
       "      <td>김문현</td>\n",
       "      <td>자연계열</td>\n",
       "      <td>성균관대학교</td>\n",
       "      <td>서울특별시</td>\n",
       "      <td>사립</td>\n",
       "    </tr>\n",
       "    <tr>\n",
       "      <th>4</th>\n",
       "      <td>1118072</td>\n",
       "      <td>2015</td>\n",
       "      <td>2</td>\n",
       "      <td>2015-12-16</td>\n",
       "      <td>정수론</td>\n",
       "      <td>수학ㆍ물리ㆍ천문ㆍ지리</td>\n",
       "      <td>4</td>\n",
       "      <td>이상준</td>\n",
       "      <td>자연계열</td>\n",
       "      <td>덕성여자대학교</td>\n",
       "      <td>서울특별시</td>\n",
       "      <td>사립</td>\n",
       "    </tr>\n",
       "    <tr>\n",
       "      <th>5</th>\n",
       "      <td>1118158</td>\n",
       "      <td>2015</td>\n",
       "      <td>2</td>\n",
       "      <td>2015-12-16</td>\n",
       "      <td>확률론</td>\n",
       "      <td>수학ㆍ물리ㆍ천문ㆍ지리</td>\n",
       "      <td>4</td>\n",
       "      <td>이상준</td>\n",
       "      <td>자연계열</td>\n",
       "      <td>덕성여자대학교</td>\n",
       "      <td>서울특별시</td>\n",
       "      <td>사립</td>\n",
       "    </tr>\n",
       "  </tbody>\n",
       "</table>\n",
       "</div>"
      ],
      "text/plain": [
       "      강의코드  강의년도  강의학기        제공일자    강의명         교육분류  교수코드 담당교수명  담당분야  \\\n",
       "0  1095582  2015     1  2015-08-30  대학수학1  수학ㆍ물리ㆍ천문ㆍ지리     0   안상욱  자연계열   \n",
       "1  1104074  2015     1  2015-09-14    수학1  수학ㆍ물리ㆍ천문ㆍ지리     1   이중호  자연계열   \n",
       "2  1110603  2015     1  2015-10-08   미적분학  수학ㆍ물리ㆍ천문ㆍ지리     2   최수한  자연계열   \n",
       "3  1112400  2015     1  2015-11-02  공학수학1  수학ㆍ물리ㆍ천문ㆍ지리     3   김문현  자연계열   \n",
       "4  1118072  2015     2  2015-12-16    정수론  수학ㆍ물리ㆍ천문ㆍ지리     4   이상준  자연계열   \n",
       "5  1118158  2015     2  2015-12-16    확률론  수학ㆍ물리ㆍ천문ㆍ지리     4   이상준  자연계열   \n",
       "\n",
       "     제공대학명  대학소재지  구분  \n",
       "0    한경대학교    경기도  국립  \n",
       "1    가천대학교    경기도  사립  \n",
       "2    단국대학교    경기도  사립  \n",
       "3   성균관대학교  서울특별시  사립  \n",
       "4  덕성여자대학교  서울특별시  사립  \n",
       "5  덕성여자대학교  서울특별시  사립  "
      ]
     },
     "execution_count": 189,
     "metadata": {},
     "output_type": "execute_result"
    }
   ],
   "source": [
    "#위 테이블과 강의교육분류를 내부 조인\n",
    "cur.execute(\"SELECT * FROM course_classed LIMIT 6\")\n",
    "cur.execute(\"\"\"\n",
    "    SELECT norm_course.강의코드 AS 강의코드, 강의년도, 강의학기, 제공일자,\n",
    "           course_classed.강의명 AS 강의명, 교육분류,\n",
    "           professor.교수코드 AS 교수코드, 담당교수명, 담당분야,\n",
    "           university.제공대학명 AS 제공대학명, 대학소재지, 구분\n",
    "    FROM university \n",
    "    INNER JOIN professor ON university.제공대학명 = professor.제공대학명\n",
    "    INNER JOIN charge ON professor.교수코드 = charge.교수코드\n",
    "    INNER JOIN norm_course ON charge.강의코드 = norm_course.강의코드\n",
    "    INNER JOIN course_classed ON norm_course.강의명 = course_classed.강의명 \n",
    "    LIMIT 6\n",
    "\"\"\")\n",
    "cols = [column[0] for column in cur.description]  # 열 이름 가져오기\n",
    "rows = cur.fetchall()  # 행 정보 가져오기\n",
    "data_df = pd.DataFrame.from_records(data=rows, columns=cols)\n",
    "data_df"
   ]
  },
  {
   "cell_type": "markdown",
   "id": "332329d0-c1b8-4997-8669-478dacb7bd28",
   "metadata": {},
   "source": [
    "## 4. 정보 추출을 위한 주요 변수 및 목표 서술"
   ]
  },
  {
   "cell_type": "code",
   "execution_count": null,
   "id": "9043a892-c9eb-47c3-abce-fc00a93b0b60",
   "metadata": {},
   "outputs": [],
   "source": [
    "> 대학소재지, 대학명, 대학구분, 강의년도, 강의학기\n",
    "-> 시간의 흐름에 따라 제공되는 강의 수가 어떻게 바뀌는지 python"
   ]
  },
  {
   "cell_type": "code",
   "execution_count": 268,
   "id": "183048dc-5eeb-468e-9332-03a56c7a232d",
   "metadata": {},
   "outputs": [],
   "source": [
    "conn = sqlite3.connect(\"/Users/99ksh/TDB/kocw.db\")\n",
    "cur = conn.cursor()"
   ]
  },
  {
   "cell_type": "code",
   "execution_count": 215,
   "id": "1de9e876-c88c-4fa7-bb05-65e19fca024f",
   "metadata": {},
   "outputs": [
    {
     "data": {
      "text/html": [
       "<div>\n",
       "<style scoped>\n",
       "    .dataframe tbody tr th:only-of-type {\n",
       "        vertical-align: middle;\n",
       "    }\n",
       "\n",
       "    .dataframe tbody tr th {\n",
       "        vertical-align: top;\n",
       "    }\n",
       "\n",
       "    .dataframe thead th {\n",
       "        text-align: right;\n",
       "    }\n",
       "</style>\n",
       "<table border=\"1\" class=\"dataframe\">\n",
       "  <thead>\n",
       "    <tr style=\"text-align: right;\">\n",
       "      <th></th>\n",
       "      <th>강의년도</th>\n",
       "      <th>강의학기</th>\n",
       "      <th>강의코드</th>\n",
       "    </tr>\n",
       "  </thead>\n",
       "  <tbody>\n",
       "    <tr>\n",
       "      <th>0</th>\n",
       "      <td>2009</td>\n",
       "      <td>1</td>\n",
       "      <td>127521</td>\n",
       "    </tr>\n",
       "    <tr>\n",
       "      <th>1</th>\n",
       "      <td>2009</td>\n",
       "      <td>1</td>\n",
       "      <td>127676</td>\n",
       "    </tr>\n",
       "    <tr>\n",
       "      <th>2</th>\n",
       "      <td>2009</td>\n",
       "      <td>1</td>\n",
       "      <td>128045</td>\n",
       "    </tr>\n",
       "    <tr>\n",
       "      <th>3</th>\n",
       "      <td>2009</td>\n",
       "      <td>1</td>\n",
       "      <td>128322</td>\n",
       "    </tr>\n",
       "    <tr>\n",
       "      <th>4</th>\n",
       "      <td>2009</td>\n",
       "      <td>1</td>\n",
       "      <td>128348</td>\n",
       "    </tr>\n",
       "    <tr>\n",
       "      <th>...</th>\n",
       "      <td>...</td>\n",
       "      <td>...</td>\n",
       "      <td>...</td>\n",
       "    </tr>\n",
       "    <tr>\n",
       "      <th>16809</th>\n",
       "      <td>2022</td>\n",
       "      <td>1</td>\n",
       "      <td>1448791</td>\n",
       "    </tr>\n",
       "    <tr>\n",
       "      <th>16810</th>\n",
       "      <td>2022</td>\n",
       "      <td>1</td>\n",
       "      <td>1448831</td>\n",
       "    </tr>\n",
       "    <tr>\n",
       "      <th>16811</th>\n",
       "      <td>2022</td>\n",
       "      <td>2</td>\n",
       "      <td>1448861</td>\n",
       "    </tr>\n",
       "    <tr>\n",
       "      <th>16812</th>\n",
       "      <td>2022</td>\n",
       "      <td>2</td>\n",
       "      <td>1448911</td>\n",
       "    </tr>\n",
       "    <tr>\n",
       "      <th>16813</th>\n",
       "      <td>2022</td>\n",
       "      <td>2</td>\n",
       "      <td>1448951</td>\n",
       "    </tr>\n",
       "  </tbody>\n",
       "</table>\n",
       "<p>16814 rows × 3 columns</p>\n",
       "</div>"
      ],
      "text/plain": [
       "       강의년도  강의학기     강의코드\n",
       "0      2009     1   127521\n",
       "1      2009     1   127676\n",
       "2      2009     1   128045\n",
       "3      2009     1   128322\n",
       "4      2009     1   128348\n",
       "...     ...   ...      ...\n",
       "16809  2022     1  1448791\n",
       "16810  2022     1  1448831\n",
       "16811  2022     2  1448861\n",
       "16812  2022     2  1448911\n",
       "16813  2022     2  1448951\n",
       "\n",
       "[16814 rows x 3 columns]"
      ]
     },
     "execution_count": 215,
     "metadata": {},
     "output_type": "execute_result"
    }
   ],
   "source": [
    "cur.execute(\"SELECT 강의년도, 강의학기, 강의코드 FROM norm_course\")\n",
    "cols = [column[0] for column in cur.description]  # 열 이름 가져오기\n",
    "rows = cur.fetchall()  # 행 정보 가져오기\n",
    "fetchall = pd.DataFrame.from_records(data=rows, columns=cols)\n",
    "fetchall"
   ]
  },
  {
   "cell_type": "code",
   "execution_count": 221,
   "id": "192f089e-6322-4ef7-819c-37db3761209c",
   "metadata": {},
   "outputs": [
    {
     "data": {
      "text/html": [
       "<div>\n",
       "<style scoped>\n",
       "    .dataframe tbody tr th:only-of-type {\n",
       "        vertical-align: middle;\n",
       "    }\n",
       "\n",
       "    .dataframe tbody tr th {\n",
       "        vertical-align: top;\n",
       "    }\n",
       "\n",
       "    .dataframe thead th {\n",
       "        text-align: right;\n",
       "    }\n",
       "</style>\n",
       "<table border=\"1\" class=\"dataframe\">\n",
       "  <thead>\n",
       "    <tr style=\"text-align: right;\">\n",
       "      <th></th>\n",
       "      <th>강의년도</th>\n",
       "      <th>강의학기</th>\n",
       "      <th>제공강의 수</th>\n",
       "    </tr>\n",
       "  </thead>\n",
       "  <tbody>\n",
       "    <tr>\n",
       "      <th>0</th>\n",
       "      <td>2007</td>\n",
       "      <td>1</td>\n",
       "      <td>1</td>\n",
       "    </tr>\n",
       "    <tr>\n",
       "      <th>1</th>\n",
       "      <td>2009</td>\n",
       "      <td>1</td>\n",
       "      <td>1414</td>\n",
       "    </tr>\n",
       "    <tr>\n",
       "      <th>2</th>\n",
       "      <td>2009</td>\n",
       "      <td>2</td>\n",
       "      <td>85</td>\n",
       "    </tr>\n",
       "    <tr>\n",
       "      <th>3</th>\n",
       "      <td>2010</td>\n",
       "      <td>1</td>\n",
       "      <td>179</td>\n",
       "    </tr>\n",
       "    <tr>\n",
       "      <th>4</th>\n",
       "      <td>2010</td>\n",
       "      <td>2</td>\n",
       "      <td>205</td>\n",
       "    </tr>\n",
       "    <tr>\n",
       "      <th>5</th>\n",
       "      <td>2011</td>\n",
       "      <td>1</td>\n",
       "      <td>431</td>\n",
       "    </tr>\n",
       "    <tr>\n",
       "      <th>6</th>\n",
       "      <td>2011</td>\n",
       "      <td>2</td>\n",
       "      <td>466</td>\n",
       "    </tr>\n",
       "    <tr>\n",
       "      <th>7</th>\n",
       "      <td>2012</td>\n",
       "      <td>1</td>\n",
       "      <td>714</td>\n",
       "    </tr>\n",
       "    <tr>\n",
       "      <th>8</th>\n",
       "      <td>2012</td>\n",
       "      <td>2</td>\n",
       "      <td>724</td>\n",
       "    </tr>\n",
       "    <tr>\n",
       "      <th>9</th>\n",
       "      <td>2013</td>\n",
       "      <td>1</td>\n",
       "      <td>771</td>\n",
       "    </tr>\n",
       "    <tr>\n",
       "      <th>10</th>\n",
       "      <td>2013</td>\n",
       "      <td>2</td>\n",
       "      <td>769</td>\n",
       "    </tr>\n",
       "    <tr>\n",
       "      <th>11</th>\n",
       "      <td>2014</td>\n",
       "      <td>1</td>\n",
       "      <td>777</td>\n",
       "    </tr>\n",
       "    <tr>\n",
       "      <th>12</th>\n",
       "      <td>2014</td>\n",
       "      <td>2</td>\n",
       "      <td>951</td>\n",
       "    </tr>\n",
       "    <tr>\n",
       "      <th>13</th>\n",
       "      <td>2015</td>\n",
       "      <td>1</td>\n",
       "      <td>799</td>\n",
       "    </tr>\n",
       "    <tr>\n",
       "      <th>14</th>\n",
       "      <td>2015</td>\n",
       "      <td>2</td>\n",
       "      <td>975</td>\n",
       "    </tr>\n",
       "    <tr>\n",
       "      <th>15</th>\n",
       "      <td>2016</td>\n",
       "      <td>1</td>\n",
       "      <td>718</td>\n",
       "    </tr>\n",
       "    <tr>\n",
       "      <th>16</th>\n",
       "      <td>2016</td>\n",
       "      <td>2</td>\n",
       "      <td>801</td>\n",
       "    </tr>\n",
       "    <tr>\n",
       "      <th>17</th>\n",
       "      <td>2017</td>\n",
       "      <td>1</td>\n",
       "      <td>621</td>\n",
       "    </tr>\n",
       "    <tr>\n",
       "      <th>18</th>\n",
       "      <td>2017</td>\n",
       "      <td>2</td>\n",
       "      <td>861</td>\n",
       "    </tr>\n",
       "    <tr>\n",
       "      <th>19</th>\n",
       "      <td>2018</td>\n",
       "      <td>1</td>\n",
       "      <td>469</td>\n",
       "    </tr>\n",
       "    <tr>\n",
       "      <th>20</th>\n",
       "      <td>2018</td>\n",
       "      <td>2</td>\n",
       "      <td>576</td>\n",
       "    </tr>\n",
       "    <tr>\n",
       "      <th>21</th>\n",
       "      <td>2019</td>\n",
       "      <td>1</td>\n",
       "      <td>466</td>\n",
       "    </tr>\n",
       "    <tr>\n",
       "      <th>22</th>\n",
       "      <td>2019</td>\n",
       "      <td>2</td>\n",
       "      <td>641</td>\n",
       "    </tr>\n",
       "    <tr>\n",
       "      <th>23</th>\n",
       "      <td>2020</td>\n",
       "      <td>1</td>\n",
       "      <td>378</td>\n",
       "    </tr>\n",
       "    <tr>\n",
       "      <th>24</th>\n",
       "      <td>2020</td>\n",
       "      <td>2</td>\n",
       "      <td>635</td>\n",
       "    </tr>\n",
       "    <tr>\n",
       "      <th>25</th>\n",
       "      <td>2021</td>\n",
       "      <td>1</td>\n",
       "      <td>666</td>\n",
       "    </tr>\n",
       "    <tr>\n",
       "      <th>26</th>\n",
       "      <td>2021</td>\n",
       "      <td>2</td>\n",
       "      <td>480</td>\n",
       "    </tr>\n",
       "    <tr>\n",
       "      <th>27</th>\n",
       "      <td>2022</td>\n",
       "      <td>1</td>\n",
       "      <td>213</td>\n",
       "    </tr>\n",
       "    <tr>\n",
       "      <th>28</th>\n",
       "      <td>2022</td>\n",
       "      <td>2</td>\n",
       "      <td>28</td>\n",
       "    </tr>\n",
       "  </tbody>\n",
       "</table>\n",
       "</div>"
      ],
      "text/plain": [
       "    강의년도  강의학기  제공강의 수\n",
       "0   2007     1       1\n",
       "1   2009     1    1414\n",
       "2   2009     2      85\n",
       "3   2010     1     179\n",
       "4   2010     2     205\n",
       "5   2011     1     431\n",
       "6   2011     2     466\n",
       "7   2012     1     714\n",
       "8   2012     2     724\n",
       "9   2013     1     771\n",
       "10  2013     2     769\n",
       "11  2014     1     777\n",
       "12  2014     2     951\n",
       "13  2015     1     799\n",
       "14  2015     2     975\n",
       "15  2016     1     718\n",
       "16  2016     2     801\n",
       "17  2017     1     621\n",
       "18  2017     2     861\n",
       "19  2018     1     469\n",
       "20  2018     2     576\n",
       "21  2019     1     466\n",
       "22  2019     2     641\n",
       "23  2020     1     378\n",
       "24  2020     2     635\n",
       "25  2021     1     666\n",
       "26  2021     2     480\n",
       "27  2022     1     213\n",
       "28  2022     2      28"
      ]
     },
     "execution_count": 221,
     "metadata": {},
     "output_type": "execute_result"
    }
   ],
   "source": [
    "cur.execute(\"\"\"\n",
    "    SELECT 강의년도, 강의학기,\n",
    "    COUNT(*) as '제공강의 수'\n",
    "    FROM norm_course \n",
    "    GROUP BY 강의년도, 강의학기\n",
    "    ORDER BY 강의년도, 강의학기\n",
    "\"\"\")\n",
    "\n",
    "cols = [column[0] for column in cur.description]  # 열 이름 가져오기\n",
    "rows = cur.fetchall()  # 행 정보 가져오기\n",
    "fetchall = pd.DataFrame.from_records(data=rows, columns=cols)\n",
    "fetchall"
   ]
  },
  {
   "cell_type": "code",
   "execution_count": 222,
   "id": "94f4b478-07ee-45d4-a5db-2ee57f8625a0",
   "metadata": {},
   "outputs": [
    {
     "data": {
      "text/plain": [
       "<Axes: >"
      ]
     },
     "execution_count": 222,
     "metadata": {},
     "output_type": "execute_result"
    },
    {
     "data": {
      "image/png": "[encoded data removed]",
      "text/plain": [
       "<Figure size 640x480 with 1 Axes>"
      ]
     },
     "metadata": {},
     "output_type": "display_data"
    }
   ],
   "source": [
    "fetchall[\"제공강의 수\"].plot()"
   ]
  },
  {
   "cell_type": "markdown",
   "id": "2f10272c-dcc5-4770-a478-ae47dd7c36f0",
   "metadata": {},
   "source": [
    "- 강의 수가 증가하질 않는다. 왜그럴까?\n",
    "\n",
    "- K-MOOC 운영 개시일 : 2015년 10월.\n",
    "- 실제로 2015년 2학기를 기점으로 강의 수가 내려가는 추세인 것을 확인할 수 있음. 기존에 KOCW에서만 강의가 제공되었지만 K-MOOC이 새로 서비스를 시작하면서 제공되는 강의들이 KOCW와 K-MOOC으로 나뉘어져서 KOCW에 대한 의존도가 줄어들었기 떄문에 나타나는 현상이라고 생각된다."
   ]
  },
  {
   "cell_type": "code",
   "execution_count": null,
   "id": "f3860059-3646-4a88-9873-607c0dc0c794",
   "metadata": {},
   "outputs": [],
   "source": [
    "Python - 추출하고자하는 정보를 위해서 조인 및 추출 조작을 통해서 (외부) 데이터 프레임 구성"
   ]
  },
  {
   "cell_type": "markdown",
   "id": "b78b8991-3b35-4b64-9c9b-586e7f67c641",
   "metadata": {},
   "source": [
    "## 1. 로지스틱 회귀분석(국립/사립 분류)이 의미가 있을까?"
   ]
  },
  {
   "cell_type": "code",
   "execution_count": 272,
   "id": "a5c19039-3ab9-4c2e-8455-d15410f2373a",
   "metadata": {},
   "outputs": [
    {
     "data": {
      "text/html": [
       "<div>\n",
       "<style scoped>\n",
       "    .dataframe tbody tr th:only-of-type {\n",
       "        vertical-align: middle;\n",
       "    }\n",
       "\n",
       "    .dataframe tbody tr th {\n",
       "        vertical-align: top;\n",
       "    }\n",
       "\n",
       "    .dataframe thead th {\n",
       "        text-align: right;\n",
       "    }\n",
       "</style>\n",
       "<table border=\"1\" class=\"dataframe\">\n",
       "  <thead>\n",
       "    <tr style=\"text-align: right;\">\n",
       "      <th></th>\n",
       "      <th>강의코드</th>\n",
       "      <th>강의명</th>\n",
       "      <th>강의년도</th>\n",
       "      <th>강의학기</th>\n",
       "      <th>제공일자</th>\n",
       "      <th>교수코드</th>\n",
       "      <th>담당교수명</th>\n",
       "      <th>담당분야</th>\n",
       "      <th>제공대학명</th>\n",
       "      <th>대학소재지</th>\n",
       "      <th>구분</th>\n",
       "    </tr>\n",
       "  </thead>\n",
       "  <tbody>\n",
       "    <tr>\n",
       "      <th>0</th>\n",
       "      <td>1095582</td>\n",
       "      <td>대학수학1</td>\n",
       "      <td>2015</td>\n",
       "      <td>1</td>\n",
       "      <td>2015-08-30</td>\n",
       "      <td>0</td>\n",
       "      <td>안상욱</td>\n",
       "      <td>자연계열</td>\n",
       "      <td>한경대학교</td>\n",
       "      <td>경기도</td>\n",
       "      <td>국립</td>\n",
       "    </tr>\n",
       "    <tr>\n",
       "      <th>1</th>\n",
       "      <td>1104074</td>\n",
       "      <td>수학1</td>\n",
       "      <td>2015</td>\n",
       "      <td>1</td>\n",
       "      <td>2015-09-14</td>\n",
       "      <td>1</td>\n",
       "      <td>이중호</td>\n",
       "      <td>자연계열</td>\n",
       "      <td>가천대학교</td>\n",
       "      <td>경기도</td>\n",
       "      <td>사립</td>\n",
       "    </tr>\n",
       "    <tr>\n",
       "      <th>2</th>\n",
       "      <td>1110603</td>\n",
       "      <td>미적분학</td>\n",
       "      <td>2015</td>\n",
       "      <td>1</td>\n",
       "      <td>2015-10-08</td>\n",
       "      <td>2</td>\n",
       "      <td>최수한</td>\n",
       "      <td>자연계열</td>\n",
       "      <td>단국대학교</td>\n",
       "      <td>경기도</td>\n",
       "      <td>사립</td>\n",
       "    </tr>\n",
       "    <tr>\n",
       "      <th>3</th>\n",
       "      <td>1112400</td>\n",
       "      <td>공학수학1</td>\n",
       "      <td>2015</td>\n",
       "      <td>1</td>\n",
       "      <td>2015-11-02</td>\n",
       "      <td>3</td>\n",
       "      <td>김문현</td>\n",
       "      <td>자연계열</td>\n",
       "      <td>성균관대학교</td>\n",
       "      <td>서울특별시</td>\n",
       "      <td>사립</td>\n",
       "    </tr>\n",
       "    <tr>\n",
       "      <th>4</th>\n",
       "      <td>1118072</td>\n",
       "      <td>정수론</td>\n",
       "      <td>2015</td>\n",
       "      <td>2</td>\n",
       "      <td>2015-12-16</td>\n",
       "      <td>4</td>\n",
       "      <td>이상준</td>\n",
       "      <td>자연계열</td>\n",
       "      <td>덕성여자대학교</td>\n",
       "      <td>서울특별시</td>\n",
       "      <td>사립</td>\n",
       "    </tr>\n",
       "    <tr>\n",
       "      <th>...</th>\n",
       "      <td>...</td>\n",
       "      <td>...</td>\n",
       "      <td>...</td>\n",
       "      <td>...</td>\n",
       "      <td>...</td>\n",
       "      <td>...</td>\n",
       "      <td>...</td>\n",
       "      <td>...</td>\n",
       "      <td>...</td>\n",
       "      <td>...</td>\n",
       "      <td>...</td>\n",
       "    </tr>\n",
       "    <tr>\n",
       "      <th>17286</th>\n",
       "      <td>1430653</td>\n",
       "      <td>다변량통계학(II)</td>\n",
       "      <td>2021</td>\n",
       "      <td>2</td>\n",
       "      <td>2015-01-08</td>\n",
       "      <td>8638</td>\n",
       "      <td>최용석</td>\n",
       "      <td>자연계열</td>\n",
       "      <td>부산대학교</td>\n",
       "      <td>부산광역시</td>\n",
       "      <td>국립</td>\n",
       "    </tr>\n",
       "    <tr>\n",
       "      <th>17287</th>\n",
       "      <td>1443736</td>\n",
       "      <td>AI를 위한 딥러닝</td>\n",
       "      <td>2022</td>\n",
       "      <td>1</td>\n",
       "      <td>2016-04-07</td>\n",
       "      <td>7838</td>\n",
       "      <td>곽일엽</td>\n",
       "      <td>자연계열</td>\n",
       "      <td>중앙대학교</td>\n",
       "      <td>서울특별시</td>\n",
       "      <td>사립</td>\n",
       "    </tr>\n",
       "    <tr>\n",
       "      <th>17288</th>\n",
       "      <td>1445911</td>\n",
       "      <td>회귀분석(II)</td>\n",
       "      <td>2021</td>\n",
       "      <td>2</td>\n",
       "      <td>2017-10-17</td>\n",
       "      <td>60</td>\n",
       "      <td>김충락</td>\n",
       "      <td>자연계열</td>\n",
       "      <td>부산대학교</td>\n",
       "      <td>부산광역시</td>\n",
       "      <td>국립</td>\n",
       "    </tr>\n",
       "    <tr>\n",
       "      <th>17289</th>\n",
       "      <td>820840</td>\n",
       "      <td>과학사 이해</td>\n",
       "      <td>2013</td>\n",
       "      <td>2</td>\n",
       "      <td>2012-02-29</td>\n",
       "      <td>852</td>\n",
       "      <td>박종범</td>\n",
       "      <td>자연계열</td>\n",
       "      <td>신라대학교</td>\n",
       "      <td>부산광역시</td>\n",
       "      <td>사립</td>\n",
       "    </tr>\n",
       "    <tr>\n",
       "      <th>17290</th>\n",
       "      <td>1398367</td>\n",
       "      <td>예방치과학의 이해</td>\n",
       "      <td>2020</td>\n",
       "      <td>2</td>\n",
       "      <td>2013-01-31</td>\n",
       "      <td>8913</td>\n",
       "      <td>좌수경</td>\n",
       "      <td>자연계열</td>\n",
       "      <td>울산과학대학교</td>\n",
       "      <td>울산광역시</td>\n",
       "      <td>사립</td>\n",
       "    </tr>\n",
       "  </tbody>\n",
       "</table>\n",
       "<p>17291 rows × 11 columns</p>\n",
       "</div>"
      ],
      "text/plain": [
       "          강의코드         강의명  강의년도  강의학기        제공일자  교수코드 담당교수명  담당분야    제공대학명  \\\n",
       "0      1095582       대학수학1  2015     1  2015-08-30     0   안상욱  자연계열    한경대학교   \n",
       "1      1104074         수학1  2015     1  2015-09-14     1   이중호  자연계열    가천대학교   \n",
       "2      1110603        미적분학  2015     1  2015-10-08     2   최수한  자연계열    단국대학교   \n",
       "3      1112400       공학수학1  2015     1  2015-11-02     3   김문현  자연계열   성균관대학교   \n",
       "4      1118072         정수론  2015     2  2015-12-16     4   이상준  자연계열  덕성여자대학교   \n",
       "...        ...         ...   ...   ...         ...   ...   ...   ...      ...   \n",
       "17286  1430653  다변량통계학(II)  2021     2  2015-01-08  8638   최용석  자연계열    부산대학교   \n",
       "17287  1443736  AI를 위한 딥러닝  2022     1  2016-04-07  7838   곽일엽  자연계열    중앙대학교   \n",
       "17288  1445911    회귀분석(II)  2021     2  2017-10-17    60   김충락  자연계열    부산대학교   \n",
       "17289   820840      과학사 이해  2013     2  2012-02-29   852   박종범  자연계열    신라대학교   \n",
       "17290  1398367   예방치과학의 이해  2020     2  2013-01-31  8913   좌수경  자연계열  울산과학대학교   \n",
       "\n",
       "       대학소재지  구분  \n",
       "0        경기도  국립  \n",
       "1        경기도  사립  \n",
       "2        경기도  사립  \n",
       "3      서울특별시  사립  \n",
       "4      서울특별시  사립  \n",
       "...      ...  ..  \n",
       "17286  부산광역시  국립  \n",
       "17287  서울특별시  사립  \n",
       "17288  부산광역시  국립  \n",
       "17289  부산광역시  사립  \n",
       "17290  울산광역시  사립  \n",
       "\n",
       "[17291 rows x 11 columns]"
      ]
     },
     "execution_count": 272,
     "metadata": {},
     "output_type": "execute_result"
    }
   ],
   "source": [
    "cur.execute(\"\"\"\n",
    "    SELECT norm_course.강의코드 AS 강의코드, 강의명, 강의년도, 강의학기, 제공일자,\n",
    "           professor.교수코드 AS 교수코드, 담당교수명, 담당분야,\n",
    "           university.제공대학명 AS 제공대학명, 대학소재지, 구분\n",
    "    FROM university \n",
    "    INNER JOIN professor ON university.제공대학명 = professor.제공대학명\n",
    "    INNER JOIN charge ON professor.교수코드 = charge.교수코드\n",
    "    INNER JOIN norm_course ON charge.강의코드 = norm_course.강의코드 \n",
    "\"\"\")\n",
    "\n",
    "cols = [column[0] for column in cur.description]  # 열 이름 가져오기\n",
    "rows = cur.fetchall()  # 행 정보 가져오기\n",
    "fetchall = pd.DataFrame.from_records(data=rows, columns=cols)\n",
    "fetchall"
   ]
  },
  {
   "cell_type": "code",
   "execution_count": 277,
   "id": "f285d1e9-41c6-4da4-a76d-ed24a1ec4c65",
   "metadata": {},
   "outputs": [
    {
     "data": {
      "text/html": [
       "<div>\n",
       "<style scoped>\n",
       "    .dataframe tbody tr th:only-of-type {\n",
       "        vertical-align: middle;\n",
       "    }\n",
       "\n",
       "    .dataframe tbody tr th {\n",
       "        vertical-align: top;\n",
       "    }\n",
       "\n",
       "    .dataframe thead th {\n",
       "        text-align: right;\n",
       "    }\n",
       "</style>\n",
       "<table border=\"1\" class=\"dataframe\">\n",
       "  <thead>\n",
       "    <tr style=\"text-align: right;\">\n",
       "      <th></th>\n",
       "      <th>제공대학명</th>\n",
       "      <th>제공강의 수</th>\n",
       "    </tr>\n",
       "  </thead>\n",
       "  <tbody>\n",
       "    <tr>\n",
       "      <th>0</th>\n",
       "      <td>가천대학교</td>\n",
       "      <td>354</td>\n",
       "    </tr>\n",
       "    <tr>\n",
       "      <th>1</th>\n",
       "      <td>가톨릭관동대학교</td>\n",
       "      <td>1</td>\n",
       "    </tr>\n",
       "    <tr>\n",
       "      <th>2</th>\n",
       "      <td>가톨릭꽃동네대학교</td>\n",
       "      <td>14</td>\n",
       "    </tr>\n",
       "    <tr>\n",
       "      <th>3</th>\n",
       "      <td>가톨릭대학교</td>\n",
       "      <td>91</td>\n",
       "    </tr>\n",
       "    <tr>\n",
       "      <th>4</th>\n",
       "      <td>강남대학교</td>\n",
       "      <td>102</td>\n",
       "    </tr>\n",
       "    <tr>\n",
       "      <th>...</th>\n",
       "      <td>...</td>\n",
       "      <td>...</td>\n",
       "    </tr>\n",
       "    <tr>\n",
       "      <th>181</th>\n",
       "      <td>한양여자대학교</td>\n",
       "      <td>3</td>\n",
       "    </tr>\n",
       "    <tr>\n",
       "      <th>182</th>\n",
       "      <td>협성대학교</td>\n",
       "      <td>1</td>\n",
       "    </tr>\n",
       "    <tr>\n",
       "      <th>183</th>\n",
       "      <td>호남대학교</td>\n",
       "      <td>120</td>\n",
       "    </tr>\n",
       "    <tr>\n",
       "      <th>184</th>\n",
       "      <td>호서대학교</td>\n",
       "      <td>61</td>\n",
       "    </tr>\n",
       "    <tr>\n",
       "      <th>185</th>\n",
       "      <td>홍익대학교</td>\n",
       "      <td>34</td>\n",
       "    </tr>\n",
       "  </tbody>\n",
       "</table>\n",
       "<p>186 rows × 2 columns</p>\n",
       "</div>"
      ],
      "text/plain": [
       "         제공대학명  제공강의 수\n",
       "0        가천대학교     354\n",
       "1     가톨릭관동대학교       1\n",
       "2    가톨릭꽃동네대학교      14\n",
       "3       가톨릭대학교      91\n",
       "4        강남대학교     102\n",
       "..         ...     ...\n",
       "181    한양여자대학교       3\n",
       "182      협성대학교       1\n",
       "183      호남대학교     120\n",
       "184      호서대학교      61\n",
       "185      홍익대학교      34\n",
       "\n",
       "[186 rows x 2 columns]"
      ]
     },
     "execution_count": 277,
     "metadata": {},
     "output_type": "execute_result"
    }
   ],
   "source": [
    "course_count = fetchall.pivot_table(index = \"제공대학명\", values = \"강의명\", aggfunc = \"count\")\\\n",
    ".reset_index()\\\n",
    ".rename({\"강의명\" : \"제공강의 수\"}, axis = 1)\n",
    "course_count"
   ]
  },
  {
   "cell_type": "code",
   "execution_count": 278,
   "id": "832bdba0-314f-4d75-bdc6-d4451ae7761e",
   "metadata": {
    "scrolled": true
   },
   "outputs": [
    {
     "data": {
      "text/html": [
       "<div>\n",
       "<style scoped>\n",
       "    .dataframe tbody tr th:only-of-type {\n",
       "        vertical-align: middle;\n",
       "    }\n",
       "\n",
       "    .dataframe tbody tr th {\n",
       "        vertical-align: top;\n",
       "    }\n",
       "\n",
       "    .dataframe thead th {\n",
       "        text-align: right;\n",
       "    }\n",
       "</style>\n",
       "<table border=\"1\" class=\"dataframe\">\n",
       "  <thead>\n",
       "    <tr style=\"text-align: right;\">\n",
       "      <th></th>\n",
       "      <th>제공대학명</th>\n",
       "      <th>참여교수 수</th>\n",
       "    </tr>\n",
       "  </thead>\n",
       "  <tbody>\n",
       "    <tr>\n",
       "      <th>0</th>\n",
       "      <td>가천대학교</td>\n",
       "      <td>354</td>\n",
       "    </tr>\n",
       "    <tr>\n",
       "      <th>1</th>\n",
       "      <td>가톨릭관동대학교</td>\n",
       "      <td>1</td>\n",
       "    </tr>\n",
       "    <tr>\n",
       "      <th>2</th>\n",
       "      <td>가톨릭꽃동네대학교</td>\n",
       "      <td>14</td>\n",
       "    </tr>\n",
       "    <tr>\n",
       "      <th>3</th>\n",
       "      <td>가톨릭대학교</td>\n",
       "      <td>91</td>\n",
       "    </tr>\n",
       "    <tr>\n",
       "      <th>4</th>\n",
       "      <td>강남대학교</td>\n",
       "      <td>102</td>\n",
       "    </tr>\n",
       "    <tr>\n",
       "      <th>...</th>\n",
       "      <td>...</td>\n",
       "      <td>...</td>\n",
       "    </tr>\n",
       "    <tr>\n",
       "      <th>181</th>\n",
       "      <td>한양여자대학교</td>\n",
       "      <td>3</td>\n",
       "    </tr>\n",
       "    <tr>\n",
       "      <th>182</th>\n",
       "      <td>협성대학교</td>\n",
       "      <td>1</td>\n",
       "    </tr>\n",
       "    <tr>\n",
       "      <th>183</th>\n",
       "      <td>호남대학교</td>\n",
       "      <td>120</td>\n",
       "    </tr>\n",
       "    <tr>\n",
       "      <th>184</th>\n",
       "      <td>호서대학교</td>\n",
       "      <td>61</td>\n",
       "    </tr>\n",
       "    <tr>\n",
       "      <th>185</th>\n",
       "      <td>홍익대학교</td>\n",
       "      <td>34</td>\n",
       "    </tr>\n",
       "  </tbody>\n",
       "</table>\n",
       "<p>186 rows × 2 columns</p>\n",
       "</div>"
      ],
      "text/plain": [
       "         제공대학명  참여교수 수\n",
       "0        가천대학교     354\n",
       "1     가톨릭관동대학교       1\n",
       "2    가톨릭꽃동네대학교      14\n",
       "3       가톨릭대학교      91\n",
       "4        강남대학교     102\n",
       "..         ...     ...\n",
       "181    한양여자대학교       3\n",
       "182      협성대학교       1\n",
       "183      호남대학교     120\n",
       "184      호서대학교      61\n",
       "185      홍익대학교      34\n",
       "\n",
       "[186 rows x 2 columns]"
      ]
     },
     "execution_count": 278,
     "metadata": {},
     "output_type": "execute_result"
    }
   ],
   "source": [
    "professor_count = fetchall.pivot_table(index = \"제공대학명\", values = \"교수코드\", aggfunc = \"count\")\\\n",
    ".reset_index()\\\n",
    ".rename({\"교수코드\" : \"참여교수 수\"}, axis = 1)\n",
    "professor_count"
   ]
  },
  {
   "cell_type": "code",
   "execution_count": 281,
   "id": "41ce1650-69f7-4aa1-86f3-2f6bf953189f",
   "metadata": {},
   "outputs": [
    {
     "data": {
      "text/html": [
       "<div>\n",
       "<style scoped>\n",
       "    .dataframe tbody tr th:only-of-type {\n",
       "        vertical-align: middle;\n",
       "    }\n",
       "\n",
       "    .dataframe tbody tr th {\n",
       "        vertical-align: top;\n",
       "    }\n",
       "\n",
       "    .dataframe thead th {\n",
       "        text-align: right;\n",
       "    }\n",
       "</style>\n",
       "<table border=\"1\" class=\"dataframe\">\n",
       "  <thead>\n",
       "    <tr style=\"text-align: right;\">\n",
       "      <th></th>\n",
       "      <th>제공대학명</th>\n",
       "      <th>대학소재지</th>\n",
       "      <th>구분</th>\n",
       "    </tr>\n",
       "  </thead>\n",
       "  <tbody>\n",
       "    <tr>\n",
       "      <th>0</th>\n",
       "      <td>한경대학교</td>\n",
       "      <td>경기도</td>\n",
       "      <td>국립</td>\n",
       "    </tr>\n",
       "    <tr>\n",
       "      <th>1</th>\n",
       "      <td>가천대학교</td>\n",
       "      <td>경기도</td>\n",
       "      <td>사립</td>\n",
       "    </tr>\n",
       "    <tr>\n",
       "      <th>2</th>\n",
       "      <td>단국대학교</td>\n",
       "      <td>경기도</td>\n",
       "      <td>사립</td>\n",
       "    </tr>\n",
       "    <tr>\n",
       "      <th>3</th>\n",
       "      <td>성균관대학교</td>\n",
       "      <td>서울특별시</td>\n",
       "      <td>사립</td>\n",
       "    </tr>\n",
       "    <tr>\n",
       "      <th>4</th>\n",
       "      <td>덕성여자대학교</td>\n",
       "      <td>서울특별시</td>\n",
       "      <td>사립</td>\n",
       "    </tr>\n",
       "    <tr>\n",
       "      <th>...</th>\n",
       "      <td>...</td>\n",
       "      <td>...</td>\n",
       "      <td>...</td>\n",
       "    </tr>\n",
       "    <tr>\n",
       "      <th>181</th>\n",
       "      <td>수도국제대학원대학교</td>\n",
       "      <td>서울특별시</td>\n",
       "      <td>국립</td>\n",
       "    </tr>\n",
       "    <tr>\n",
       "      <th>182</th>\n",
       "      <td>사이버한국외국어대학교</td>\n",
       "      <td>서울특별시</td>\n",
       "      <td>사립</td>\n",
       "    </tr>\n",
       "    <tr>\n",
       "      <th>183</th>\n",
       "      <td>수원대학교</td>\n",
       "      <td>경기도</td>\n",
       "      <td>사립</td>\n",
       "    </tr>\n",
       "    <tr>\n",
       "      <th>184</th>\n",
       "      <td>구미대학교</td>\n",
       "      <td>경상북도</td>\n",
       "      <td>사립</td>\n",
       "    </tr>\n",
       "    <tr>\n",
       "      <th>185</th>\n",
       "      <td>가톨릭관동대학교</td>\n",
       "      <td>강원특별자치도</td>\n",
       "      <td>사립</td>\n",
       "    </tr>\n",
       "  </tbody>\n",
       "</table>\n",
       "<p>186 rows × 3 columns</p>\n",
       "</div>"
      ],
      "text/plain": [
       "           제공대학명    대학소재지  구분\n",
       "0          한경대학교      경기도  국립\n",
       "1          가천대학교      경기도  사립\n",
       "2          단국대학교      경기도  사립\n",
       "3         성균관대학교    서울특별시  사립\n",
       "4        덕성여자대학교    서울특별시  사립\n",
       "..           ...      ...  ..\n",
       "181   수도국제대학원대학교    서울특별시  국립\n",
       "182  사이버한국외국어대학교    서울특별시  사립\n",
       "183        수원대학교      경기도  사립\n",
       "184        구미대학교     경상북도  사립\n",
       "185     가톨릭관동대학교  강원특별자치도  사립\n",
       "\n",
       "[186 rows x 3 columns]"
      ]
     },
     "execution_count": 281,
     "metadata": {},
     "output_type": "execute_result"
    }
   ],
   "source": [
    "cur.execute(\"SELECT * FROM university\")\n",
    "\n",
    "cols = [column[0] for column in cur.description]  # 열 이름 가져오기\n",
    "rows = cur.fetchall()  # 행 정보 가져오기\n",
    "university = pd.DataFrame.from_records(data=rows, columns=cols) # university 테이블을 data.frame으로저장\n",
    "university"
   ]
  },
  {
   "cell_type": "code",
   "execution_count": 283,
   "id": "7bede313-f708-40fd-8d65-f9274262bf72",
   "metadata": {},
   "outputs": [
    {
     "data": {
      "text/html": [
       "<div>\n",
       "<style scoped>\n",
       "    .dataframe tbody tr th:only-of-type {\n",
       "        vertical-align: middle;\n",
       "    }\n",
       "\n",
       "    .dataframe tbody tr th {\n",
       "        vertical-align: top;\n",
       "    }\n",
       "\n",
       "    .dataframe thead th {\n",
       "        text-align: right;\n",
       "    }\n",
       "</style>\n",
       "<table border=\"1\" class=\"dataframe\">\n",
       "  <thead>\n",
       "    <tr style=\"text-align: right;\">\n",
       "      <th></th>\n",
       "      <th>제공대학명</th>\n",
       "      <th>대학소재지</th>\n",
       "      <th>구분</th>\n",
       "      <th>제공강의 수</th>\n",
       "      <th>참여교수 수</th>\n",
       "    </tr>\n",
       "  </thead>\n",
       "  <tbody>\n",
       "    <tr>\n",
       "      <th>0</th>\n",
       "      <td>한경대학교</td>\n",
       "      <td>경기도</td>\n",
       "      <td>국립</td>\n",
       "      <td>236</td>\n",
       "      <td>236</td>\n",
       "    </tr>\n",
       "    <tr>\n",
       "      <th>1</th>\n",
       "      <td>가천대학교</td>\n",
       "      <td>경기도</td>\n",
       "      <td>사립</td>\n",
       "      <td>354</td>\n",
       "      <td>354</td>\n",
       "    </tr>\n",
       "    <tr>\n",
       "      <th>2</th>\n",
       "      <td>단국대학교</td>\n",
       "      <td>경기도</td>\n",
       "      <td>사립</td>\n",
       "      <td>187</td>\n",
       "      <td>187</td>\n",
       "    </tr>\n",
       "    <tr>\n",
       "      <th>3</th>\n",
       "      <td>성균관대학교</td>\n",
       "      <td>서울특별시</td>\n",
       "      <td>사립</td>\n",
       "      <td>437</td>\n",
       "      <td>437</td>\n",
       "    </tr>\n",
       "    <tr>\n",
       "      <th>4</th>\n",
       "      <td>덕성여자대학교</td>\n",
       "      <td>서울특별시</td>\n",
       "      <td>사립</td>\n",
       "      <td>75</td>\n",
       "      <td>75</td>\n",
       "    </tr>\n",
       "    <tr>\n",
       "      <th>...</th>\n",
       "      <td>...</td>\n",
       "      <td>...</td>\n",
       "      <td>...</td>\n",
       "      <td>...</td>\n",
       "      <td>...</td>\n",
       "    </tr>\n",
       "    <tr>\n",
       "      <th>181</th>\n",
       "      <td>수도국제대학원대학교</td>\n",
       "      <td>서울특별시</td>\n",
       "      <td>국립</td>\n",
       "      <td>1</td>\n",
       "      <td>1</td>\n",
       "    </tr>\n",
       "    <tr>\n",
       "      <th>182</th>\n",
       "      <td>사이버한국외국어대학교</td>\n",
       "      <td>서울특별시</td>\n",
       "      <td>사립</td>\n",
       "      <td>13</td>\n",
       "      <td>13</td>\n",
       "    </tr>\n",
       "    <tr>\n",
       "      <th>183</th>\n",
       "      <td>수원대학교</td>\n",
       "      <td>경기도</td>\n",
       "      <td>사립</td>\n",
       "      <td>1</td>\n",
       "      <td>1</td>\n",
       "    </tr>\n",
       "    <tr>\n",
       "      <th>184</th>\n",
       "      <td>구미대학교</td>\n",
       "      <td>경상북도</td>\n",
       "      <td>사립</td>\n",
       "      <td>1</td>\n",
       "      <td>1</td>\n",
       "    </tr>\n",
       "    <tr>\n",
       "      <th>185</th>\n",
       "      <td>가톨릭관동대학교</td>\n",
       "      <td>강원특별자치도</td>\n",
       "      <td>사립</td>\n",
       "      <td>1</td>\n",
       "      <td>1</td>\n",
       "    </tr>\n",
       "  </tbody>\n",
       "</table>\n",
       "<p>186 rows × 5 columns</p>\n",
       "</div>"
      ],
      "text/plain": [
       "           제공대학명    대학소재지  구분  제공강의 수  참여교수 수\n",
       "0          한경대학교      경기도  국립     236     236\n",
       "1          가천대학교      경기도  사립     354     354\n",
       "2          단국대학교      경기도  사립     187     187\n",
       "3         성균관대학교    서울특별시  사립     437     437\n",
       "4        덕성여자대학교    서울특별시  사립      75      75\n",
       "..           ...      ...  ..     ...     ...\n",
       "181   수도국제대학원대학교    서울특별시  국립       1       1\n",
       "182  사이버한국외국어대학교    서울특별시  사립      13      13\n",
       "183        수원대학교      경기도  사립       1       1\n",
       "184        구미대학교     경상북도  사립       1       1\n",
       "185     가톨릭관동대학교  강원특별자치도  사립       1       1\n",
       "\n",
       "[186 rows x 5 columns]"
      ]
     },
     "execution_count": 283,
     "metadata": {},
     "output_type": "execute_result"
    }
   ],
   "source": [
    "df = university.merge(course_count).merge(professor_count)\n",
    "df"
   ]
  },
  {
   "cell_type": "code",
   "execution_count": 285,
   "id": "e8123e76-0f41-4e1b-92c2-b2582346f76b",
   "metadata": {},
   "outputs": [
    {
     "data": {
      "text/plain": [
       "array(['사립', '사립', '사립', '사립', '사립', '사립', '사립', '사립', '사립', '사립', '사립',\n",
       "       '사립', '사립', '사립', '사립', '사립', '사립', '사립', '사립', '사립', '사립', '사립',\n",
       "       '사립', '사립', '사립', '사립', '사립', '사립', '사립', '사립', '사립', '사립', '사립',\n",
       "       '사립', '사립', '사립', '사립', '사립', '사립', '사립', '사립', '사립', '사립', '사립',\n",
       "       '사립', '사립', '사립', '사립', '사립', '사립', '사립', '사립', '사립', '사립', '사립',\n",
       "       '사립', '사립', '사립', '사립', '사립', '사립', '사립', '사립', '사립', '사립', '사립',\n",
       "       '사립', '사립', '사립', '사립', '사립', '사립', '사립', '사립', '사립', '사립', '사립',\n",
       "       '사립', '사립', '사립', '사립', '사립', '사립', '사립', '사립', '사립', '사립', '사립',\n",
       "       '사립', '사립', '사립', '사립', '사립', '사립', '사립', '사립', '사립', '사립', '사립',\n",
       "       '사립', '사립', '사립', '사립', '사립', '사립', '사립', '사립', '사립', '사립', '사립',\n",
       "       '사립', '사립', '사립', '사립', '사립', '사립', '사립', '사립', '사립', '사립', '사립',\n",
       "       '사립', '사립', '사립', '사립', '사립', '사립', '사립', '사립', '사립', '사립', '사립',\n",
       "       '사립', '사립', '사립', '사립', '사립', '사립', '사립', '사립', '사립', '사립', '사립',\n",
       "       '사립', '사립', '사립', '사립', '사립', '사립', '사립', '사립', '사립', '사립', '사립',\n",
       "       '사립', '사립', '사립', '사립', '사립', '사립', '사립', '사립', '사립', '사립', '사립',\n",
       "       '사립', '사립', '사립', '사립', '사립', '사립', '사립', '사립', '사립', '사립', '사립',\n",
       "       '사립', '사립', '사립', '사립', '사립', '사립', '사립', '사립', '사립', '사립'],\n",
       "      dtype=object)"
      ]
     },
     "execution_count": 285,
     "metadata": {},
     "output_type": "execute_result"
    }
   ],
   "source": [
    "## features and target\n",
    "X = df[[\"제공강의 수\", \"참여교수 수\"]]\n",
    "y = df[\"구분\"]\n",
    "\n",
    "## predictor\n",
    "predictr = sklearn.linear_model.LogisticRegression()\n",
    "\n",
    "## fitting\n",
    "predictr.fit(X, y)\n",
    "\n",
    "## predict\n",
    "predictr.predict(X)"
   ]
  },
  {
   "cell_type": "code",
   "execution_count": 286,
   "id": "68b2faa1-c3ce-4ef2-8fe0-2abc7e32bdd2",
   "metadata": {},
   "outputs": [
    {
     "data": {
      "text/plain": [
       "array([[0.00024363, 0.00024363]])"
      ]
     },
     "execution_count": 286,
     "metadata": {},
     "output_type": "execute_result"
    }
   ],
   "source": [
    "predictr.coef_"
   ]
  },
  {
   "cell_type": "code",
   "execution_count": 287,
   "id": "2a8136fc-254c-411e-a048-9f4695f230c2",
   "metadata": {},
   "outputs": [
    {
     "data": {
      "text/plain": [
       "0.8279569892473119"
      ]
     },
     "execution_count": 287,
     "metadata": {},
     "output_type": "execute_result"
    }
   ],
   "source": [
    "predictr.score(X, y)  ## 전부 사립으로 예측했음. 사립이 애초에 더 많음"
   ]
  }
 ],
 "metadata": {
  "kernelspec": {
   "display_name": "Python 3 (ipykernel)",
   "language": "python",
   "name": "python3"
  },
  "language_info": {
   "codemirror_mode": {
    "name": "ipython",
    "version": 3
   },
   "file_extension": ".py",
   "mimetype": "text/x-python",
   "name": "python",
   "nbconvert_exporter": "python",
   "pygments_lexer": "ipython3",
   "version": "3.9.18"
  }
 },
 "nbformat": 4,
 "nbformat_minor": 5
}
