{
 "cells": [
  {
   "cell_type": "markdown",
   "id": "93ff442c-ee48-479e-a7d2-57987f313c90",
   "metadata": {},
   "source": [
    "### Import"
   ]
  },
  {
   "cell_type": "code",
   "execution_count": 1,
   "id": "7cbc11c1-cef1-46bf-9793-eecf2fbcdb32",
   "metadata": {},
   "outputs": [],
   "source": [
    "import pandas as pd\n",
    "import numpy as np\n",
    "import sqlite3\n",
    "import sklearn.linear_model\n",
    "import matplotlib.pyplot as plt\n",
    "import seaborn as sns\n",
    "from matplotlib import rc"
   ]
  },
  {
   "cell_type": "code",
   "execution_count": 2,
   "id": "2f69945b-687b-407b-a4dc-2ffd36a1def7",
   "metadata": {},
   "outputs": [],
   "source": [
    "rc('font', family='AppleGothic')\n",
    "\n",
    "plt.rcParams['axes.unicode_minus'] = False"
   ]
  },
  {
   "cell_type": "markdown",
   "id": "6f3d379a-22fc-43fd-97ee-b6726557e121",
   "metadata": {
    "jp-MarkdownHeadingCollapsed": true
   },
   "source": [
    "## 데이터베이스 생성"
   ]
  },
  {
   "cell_type": "code",
   "execution_count": 39,
   "id": "95f2b48a-494e-4852-a9fe-978a2f5d2d5d",
   "metadata": {},
   "outputs": [],
   "source": [
    "import sqlite3\n",
    "import pandas as pd"
   ]
  },
  {
   "cell_type": "code",
   "execution_count": 40,
   "id": "e9dd4767-7cd8-40b0-9afd-af82a601c2bd",
   "metadata": {},
   "outputs": [],
   "source": [
    "sql_query = \"\"\"SELECT name FROM sqlite_master\n",
    "    WHERE type='table';\"\"\""
   ]
  },
  {
   "cell_type": "code",
   "execution_count": 113,
   "id": "2a2767d8-453d-4e7b-9d02-8094591ff5aa",
   "metadata": {},
   "outputs": [],
   "source": [
    "professor_df = pd.read_excel(\"/Users/99ksh/TDB/professor.xlsx\")\n",
    "course_classed_df = pd.read_excel(\"/Users/99ksh/TDB/course_classed.xlsx\")\n",
    "norm_course_df = pd.read_excel(\"/Users/99ksh/TDB/norm_course.xlsx\")\n",
    "charge_df = pd.read_excel(\"/Users/99ksh/TDB/charge.xlsx\")\n",
    "university_df = pd.read_excel(\"/Users/99ksh/TDB/university.xlsx\")"
   ]
  },
  {
   "cell_type": "code",
   "execution_count": 114,
   "id": "f8e4fb8f-f0b3-4abb-9517-50f3b58ea790",
   "metadata": {},
   "outputs": [],
   "source": [
    "professor_df = professor_df.iloc[:, 1:]\n",
    "course_classed_df = course_classed_df.iloc[:, 1:]\n",
    "norm_course_df = norm_course_df.iloc[:, 1:]\n",
    "charge_df = charge_df.iloc[:, 1:]\n",
    "university_df = university_df.iloc[:, 1:]"
   ]
  },
  {
   "cell_type": "code",
   "execution_count": 115,
   "id": "c70eccd9-3492-40f4-950c-848a83dae6ce",
   "metadata": {},
   "outputs": [],
   "source": [
    "university_df.rename(columns={\"사립/국립 구분\": \"구분\"}, inplace=True)\n",
    "university_df.rename(columns={\"대학소재지(시/도)\": \"대학소재지\"}, inplace=True)"
   ]
  },
  {
   "cell_type": "code",
   "execution_count": 116,
   "id": "37085ad0-6c73-4c41-8953-9e45d7d34f15",
   "metadata": {},
   "outputs": [],
   "source": [
    "con = sqlite3.connect('kocw.db')"
   ]
  },
  {
   "cell_type": "code",
   "execution_count": 133,
   "id": "e47e4fa6-5453-46e3-90d4-a9e46293e28f",
   "metadata": {},
   "outputs": [
    {
     "name": "stdout",
     "output_type": "stream",
     "text": [
      "[('university',), ('professor',), ('course_classed',), ('norm_course',), ('charge',)]\n"
     ]
    }
   ],
   "source": [
    "cur = con.cursor()\n",
    "cur.execute(sql_query)\n",
    "con.execute(\"PRAGMA foreign_keys = ON\")\n",
    "print(cur.fetchall())"
   ]
  },
  {
   "cell_type": "code",
   "execution_count": 118,
   "id": "9952f06b-ec64-4e9e-9ea9-156b85a4bd62",
   "metadata": {},
   "outputs": [
    {
     "data": {
      "text/plain": [
       "<sqlite3.Cursor at 0x106ec45c0>"
      ]
     },
     "execution_count": 118,
     "metadata": {},
     "output_type": "execute_result"
    }
   ],
   "source": [
    "cur.execute(\"DROP TABLE IF EXISTS charge\")\n",
    "cur.execute(\"DROP TABLE IF EXISTS norm_course\")\n",
    "cur.execute(\"DROP TABLE IF EXISTS course_classed\")\n",
    "cur.execute(\"DROP TABLE IF EXISTS professor\")\n",
    "cur.execute(\"DROP TABLE IF EXISTS university\")"
   ]
  },
  {
   "cell_type": "code",
   "execution_count": 120,
   "id": "3f980899-afc3-45e9-9a23-97a5bc16aa1f",
   "metadata": {},
   "outputs": [],
   "source": [
    "university = \"\"\" CREATE TABLE university (\n",
    "            제공대학명 CHAR(50) PRIMARY KEY NOT NULL UNIQUE,\n",
    "            대학소재지 CHAR(50) ,\n",
    "            구분 CHAR(50)\n",
    "        ); \"\"\""
   ]
  },
  {
   "cell_type": "code",
   "execution_count": 121,
   "id": "cf9ba380-3bca-4fbe-a8db-0f974a2542e6",
   "metadata": {},
   "outputs": [],
   "source": [
    "course_classed  = \"\"\" CREATE TABLE course_classed (\n",
    "    강의명 CHAR(50) PRIMARY KEY NOT NULL UNIQUE,\n",
    "    교육분류 CHAR(50)\n",
    "        ); \"\"\""
   ]
  },
  {
   "cell_type": "code",
   "execution_count": 122,
   "id": "9c5ea759-97a4-4bb0-a432-f3e3c8e9a58f",
   "metadata": {},
   "outputs": [],
   "source": [
    "norm_course = \"\"\" CREATE TABLE norm_course (\n",
    "    강의코드 INTEGER PRIMARY KEY NOT NULL UNIQUE,\n",
    "    강의명 CHAR(50),\n",
    "    강의년도 INTEGER,\n",
    "    강의학기 INT,\n",
    "    제공대학명 CHAR(50),\n",
    "    제공일자 DATE,\n",
    "    FOREIGN KEY (제공대학명) REFERENCES university (제공대학명)\n",
    "            ON UPDATE CASCADE\n",
    "            ON DELETE SET NULL\n",
    "    FOREIGN KEY (강의명) REFERENCES course_classed (강의명)\n",
    "            ON UPDATE CASCADE\n",
    "            ON DELETE SET NULL        \n",
    "        ); \"\"\""
   ]
  },
  {
   "cell_type": "code",
   "execution_count": 123,
   "id": "6754160a-2d6c-4ca0-8e8c-02539860f8d7",
   "metadata": {},
   "outputs": [],
   "source": [
    "professor = \"\"\" CREATE TABLE professor (\n",
    "            교수코드 INTEGER PRIMARY KEY NOT NULL UNIQUE,\n",
    "            담당교수명 CHAR(50) ,\n",
    "            담당분야 CHAR(50),\n",
    "            제공대학명 CHAR(50),\n",
    "            FOREIGN KEY (제공대학명) REFERENCES university (제공대학명)\n",
    "                ON UPDATE CASCADE\n",
    "                ON DELETE SET NULL\n",
    "        ); \"\"\""
   ]
  },
  {
   "cell_type": "code",
   "execution_count": 124,
   "id": "c49e84e6-cb1b-4565-bbc3-bcccb72ba14a",
   "metadata": {},
   "outputs": [],
   "source": [
    "charge = \"\"\" CREATE TABLE charge (\n",
    "    교수코드 INTEGER,\n",
    "    강의코드 INTEGER,\n",
    "    PRIMARY KEY (교수코드, 강의코드),\n",
    "    FOREIGN KEY (교수코드) REFERENCES professor (교수코드)\n",
    "        ON UPDATE CASCADE\n",
    "        ON DELETE CASCADE,\n",
    "    FOREIGN KEY (강의코드) REFERENCES norm_course (강의코드)\n",
    "        ON UPDATE CASCADE\n",
    "        ON DELETE CASCADE\n",
    "        ); \"\"\""
   ]
  },
  {
   "cell_type": "code",
   "execution_count": 125,
   "id": "9feee66b-7eae-4178-be9c-4487032650c5",
   "metadata": {},
   "outputs": [
    {
     "name": "stdout",
     "output_type": "stream",
     "text": [
      "<map object at 0x1312d42e0>\n"
     ]
    },
    {
     "data": {
      "text/plain": [
       "<sqlite3.Cursor at 0x13779f140>"
      ]
     },
     "execution_count": 125,
     "metadata": {},
     "output_type": "execute_result"
    }
   ],
   "source": [
    "cur.execute(university)\n",
    "print(university_df.itertuples())\n",
    "for row in university_df.itertuples():\n",
    "    university_1 = \"INSERT INTO university(제공대학명, 대학소재지, 구분) VALUES (?, ?, ?)\"\n",
    "    cur.execute(university_1, (row[1], row[2], row[3]))\n",
    "con.commit()\n",
    "#cur.execute('DELETE FROM target_db')\n",
    "cur.execute('SELECT * FROM university')"
   ]
  },
  {
   "cell_type": "code",
   "execution_count": 126,
   "id": "5a5865a1-5de9-45b7-9fb6-0994235c2518",
   "metadata": {
    "scrolled": true
   },
   "outputs": [
    {
     "name": "stdout",
     "output_type": "stream",
     "text": [
      "<map object at 0x1312d59f0>\n"
     ]
    },
    {
     "data": {
      "text/plain": [
       "<sqlite3.Cursor at 0x13779f140>"
      ]
     },
     "execution_count": 126,
     "metadata": {},
     "output_type": "execute_result"
    }
   ],
   "source": [
    "cur.execute(professor)\n",
    "print(professor_df.itertuples())\n",
    "for row in professor_df.itertuples():\n",
    "    professor_1 = \"INSERT INTO professor(교수코드, 담당교수명, 담당분야, 제공대학명) VALUES (?, ?, ?, ?)\"\n",
    "    cur.execute(professor_1, (row[1], row[2], row[3], row[4]))\n",
    "con.commit()\n",
    "cur.execute('SELECT * FROM professor')"
   ]
  },
  {
   "cell_type": "code",
   "execution_count": 127,
   "id": "09bc51b6-ba9a-4c2d-94ab-7a093a5d5e60",
   "metadata": {},
   "outputs": [
    {
     "name": "stdout",
     "output_type": "stream",
     "text": [
      "<map object at 0x1312d6620>\n"
     ]
    },
    {
     "data": {
      "text/plain": [
       "<sqlite3.Cursor at 0x13779f140>"
      ]
     },
     "execution_count": 127,
     "metadata": {},
     "output_type": "execute_result"
    }
   ],
   "source": [
    "cur.execute(course_classed)\n",
    "print(course_classed_df.itertuples())\n",
    "for row in course_classed_df.itertuples():\n",
    "    course_classed_1 = \"INSERT INTO course_classed(강의명, 교육분류) VALUES (?, ?)\"\n",
    "    cur.execute(course_classed_1, (row[1], row[2]))\n",
    "con.commit()\n",
    "cur.execute('SELECT * FROM course_classed')\n",
    "#cur.fetchall()"
   ]
  },
  {
   "cell_type": "code",
   "execution_count": 128,
   "id": "aeeb706c-b0d6-4d62-a1fa-c119f0795a4b",
   "metadata": {},
   "outputs": [
    {
     "name": "stdout",
     "output_type": "stream",
     "text": [
      "<map object at 0x1375668c0>\n"
     ]
    },
    {
     "data": {
      "text/plain": [
       "<sqlite3.Cursor at 0x13779f140>"
      ]
     },
     "execution_count": 128,
     "metadata": {},
     "output_type": "execute_result"
    }
   ],
   "source": [
    "cur.execute(norm_course)\n",
    "print(norm_course_df.itertuples())\n",
    "for row in norm_course_df.itertuples():\n",
    "    norm_course_1 = \"INSERT INTO norm_course(강의코드, 강의명, 강의년도, 강의학기, 제공대학명, 제공일자) VALUES (?, ?, ?, ?, ?, ?)\"\n",
    "    cur.execute(norm_course_1, (row[1], row[2], row[3], row[4], row[5], row[6]))\n",
    "con.commit()\n",
    "cur.execute('SELECT * FROM norm_course')\n",
    "#cur.fetchall()"
   ]
  },
  {
   "cell_type": "code",
   "execution_count": 129,
   "id": "9e87e309-235b-4aaf-944c-20ae3051b1d7",
   "metadata": {},
   "outputs": [
    {
     "name": "stdout",
     "output_type": "stream",
     "text": [
      "<map object at 0x137571d20>\n"
     ]
    },
    {
     "data": {
      "text/plain": [
       "<sqlite3.Cursor at 0x13779f140>"
      ]
     },
     "execution_count": 129,
     "metadata": {},
     "output_type": "execute_result"
    }
   ],
   "source": [
    "cur.execute(charge)\n",
    "print(charge_df.itertuples())\n",
    "for row in charge_df.itertuples():\n",
    "    charge_1 = \"INSERT INTO charge(교수코드, 강의코드) VALUES (?, ?)\"\n",
    "    cur.execute(charge_1, (row[1], row[2]))\n",
    "con.commit()\n",
    "cur.execute('SELECT * FROM charge')\n",
    "#cur.fetchall()"
   ]
  },
  {
   "cell_type": "code",
   "execution_count": 130,
   "id": "3f9f470d-f90d-40c2-aaef-5e9537b079e4",
   "metadata": {},
   "outputs": [
    {
     "data": {
      "text/plain": [
       "[('university',),\n",
       " ('professor',),\n",
       " ('course_classed',),\n",
       " ('norm_course',),\n",
       " ('charge',)]"
      ]
     },
     "execution_count": 130,
     "metadata": {},
     "output_type": "execute_result"
    }
   ],
   "source": [
    "cur.execute(sql_query)\n",
    "cur.fetchall()"
   ]
  },
  {
   "cell_type": "code",
   "execution_count": 131,
   "id": "1e4b4fe9-054a-4f26-8de5-d749780fe595",
   "metadata": {},
   "outputs": [
    {
     "data": {
      "text/plain": [
       "<function Connection.close()>"
      ]
     },
     "execution_count": 131,
     "metadata": {},
     "output_type": "execute_result"
    }
   ],
   "source": [
    "con.close"
   ]
  },
  {
   "cell_type": "code",
   "execution_count": 132,
   "id": "d07d3bcf-ce21-4a6d-80e9-1ecb2c72a241",
   "metadata": {},
   "outputs": [
    {
     "name": "stdout",
     "output_type": "stream",
     "text": [
      "['university', 'professor', 'course_classed', 'norm_course', 'charge']\n",
      "table: university\n",
      "[(0, '제공대학명', 'CHAR(50)', 1, None, 1), (1, '대학소재지', 'CHAR(50)', 0, None, 0), (2, '구분', 'CHAR(50)', 0, None, 0)]\n",
      "[]\n",
      "table: professor\n",
      "[(0, '교수코드', 'INTEGER', 1, None, 1), (1, '담당교수명', 'CHAR(50)', 0, None, 0), (2, '담당분야', 'CHAR(50)', 0, None, 0), (3, '제공대학명', 'CHAR(50)', 0, None, 0)]\n",
      "[(0, 0, 'university', '제공대학명', '제공대학명', 'CASCADE', 'SET NULL', 'NONE')]\n",
      "table: course_classed\n",
      "[(0, '강의명', 'CHAR(50)', 1, None, 1), (1, '교육분류', 'CHAR(50)', 0, None, 0)]\n",
      "[]\n",
      "table: norm_course\n",
      "[(0, '강의코드', 'INTEGER', 1, None, 1), (1, '강의명', 'CHAR(50)', 0, None, 0), (2, '강의년도', 'INTEGER', 0, None, 0), (3, '강의학기', 'INT', 0, None, 0), (4, '제공대학명', 'CHAR(50)', 0, None, 0), (5, '제공일자', 'DATE', 0, None, 0)]\n",
      "[(0, 0, 'course_classed', '강의명', '강의명', 'CASCADE', 'SET NULL', 'NONE'), (1, 0, 'university', '제공대학명', '제공대학명', 'CASCADE', 'SET NULL', 'NONE')]\n",
      "table: charge\n",
      "[(0, '교수코드', 'INTEGER', 0, None, 1), (1, '강의코드', 'INTEGER', 0, None, 2)]\n",
      "[(0, 0, 'norm_course', '강의코드', '강의코드', 'CASCADE', 'CASCADE', 'NONE'), (1, 0, 'professor', '교수코드', '교수코드', 'CASCADE', 'CASCADE', 'NONE')]\n"
     ]
    }
   ],
   "source": [
    "rows = cur.execute(\"SELECT name FROM sqlite_master WHERE type = 'table'\")\n",
    "tables = [row[0] for row in rows]\n",
    "print(tables)\n",
    "\n",
    "def sql_identifier(s):\n",
    "    return '\"' + s.replace('\"', '\"\"') + '\"'\n",
    "\n",
    "for table in tables:\n",
    "    print(\"table: \" + table)\n",
    "    rows = cur.execute(\"PRAGMA table_info({})\".format(sql_identifier(table)))\n",
    "    print(rows.fetchall())\n",
    "    rows = cur.execute(\"PRAGMA foreign_key_list({})\".format(sql_identifier(table)))\n",
    "    print(rows.fetchall())"
   ]
  },
  {
   "cell_type": "markdown",
   "id": "423e4042-fa80-4a32-9ac9-f74791e1c5af",
   "metadata": {
    "jp-MarkdownHeadingCollapsed": true
   },
   "source": [
    "## DB 조작 및 정보 추출"
   ]
  },
  {
   "cell_type": "code",
   "execution_count": 293,
   "id": "d44c7790-1802-4f65-8844-c7714281dd79",
   "metadata": {},
   "outputs": [
    {
     "name": "stdout",
     "output_type": "stream",
     "text": [
      "[('university',), ('professor',), ('course_classed',), ('norm_course',), ('charge',)]\n"
     ]
    },
    {
     "data": {
      "text/plain": [
       "<sqlite3.Cursor at 0x28b4bf140>"
      ]
     },
     "execution_count": 293,
     "metadata": {},
     "output_type": "execute_result"
    }
   ],
   "source": [
    "sql_query = \"\"\"SELECT name FROM sqlite_master\n",
    "    WHERE type='table';\"\"\"\n",
    "\n",
    "conn = sqlite3.connect(\"/Users/99ksh/TDB/kocw.db\")\n",
    "cur = conn.cursor()\n",
    "cur.execute(sql_query)\n",
    "print(cur.fetchall())\n",
    "conn.execute(\"PRAGMA foreign_keys = 1\")"
   ]
  },
  {
   "cell_type": "markdown",
   "id": "a7b39de8-d879-4e97-8a77-3b49ddd3cd2a",
   "metadata": {
    "jp-MarkdownHeadingCollapsed": true
   },
   "source": [
    "### 1. 기본키 설정이 맞는지 확인 + 튜플의 수정 및 삭제"
   ]
  },
  {
   "cell_type": "code",
   "execution_count": null,
   "id": "ba67e3fa-e98f-4000-ab65-05f242d0095f",
   "metadata": {},
   "outputs": [],
   "source": [
    "## professor 중복되지 않는 기본키를 가지는 튜플 삽입 시 정상"
   ]
  },
  {
   "cell_type": "code",
   "execution_count": 298,
   "id": "a90cc2dc-49ff-4f9d-b334-2a2ca81679d8",
   "metadata": {
    "scrolled": true
   },
   "outputs": [
    {
     "data": {
      "text/plain": [
       "[(-1, '강신성', '자연계열', '전북대학교'),\n",
       " (0, '안상욱', '자연계열', '한경대학교'),\n",
       " (1, '이중호', '자연계열', '가천대학교'),\n",
       " (2, '최수한', '자연계열', '단국대학교'),\n",
       " (3, '김문현', '자연계열', '성균관대학교')]"
      ]
     },
     "execution_count": 298,
     "metadata": {},
     "output_type": "execute_result"
    }
   ],
   "source": [
    "cur.execute(\"INSERT INTO professor VALUES(-1, '강신성', '자연계열', '전북대학교')\")\n",
    "cur.execute(\"SELECT * FROM professor LIMIT 5\")\n",
    "cur.fetchall()"
   ]
  },
  {
   "cell_type": "code",
   "execution_count": 299,
   "id": "aef1707e-f180-453e-85dd-6bf0a4012928",
   "metadata": {},
   "outputs": [
    {
     "data": {
      "text/plain": [
       "[(-1, '강신성', '자연계열', '조선대학교'),\n",
       " (0, '안상욱', '자연계열', '한경대학교'),\n",
       " (1, '이중호', '자연계열', '가천대학교'),\n",
       " (2, '최수한', '자연계열', '단국대학교'),\n",
       " (3, '김문현', '자연계열', '성균관대학교')]"
      ]
     },
     "execution_count": 299,
     "metadata": {},
     "output_type": "execute_result"
    }
   ],
   "source": [
    "## 수정\n",
    "cur.execute(\"UPDATE professor SET 제공대학명 = '조선대학교' WHERE 교수코드 = -1\")\n",
    "cur.execute(\"SELECT * FROM professor LIMIT 5\")\n",
    "cur.fetchall()"
   ]
  },
  {
   "cell_type": "code",
   "execution_count": 300,
   "id": "c05ad8cf-b2ca-4ba1-afe1-29ad2503f163",
   "metadata": {},
   "outputs": [
    {
     "data": {
      "text/plain": [
       "[(0, '안상욱', '자연계열', '한경대학교'),\n",
       " (1, '이중호', '자연계열', '가천대학교'),\n",
       " (2, '최수한', '자연계열', '단국대학교'),\n",
       " (3, '김문현', '자연계열', '성균관대학교'),\n",
       " (4, '이상준', '자연계열', '덕성여자대학교')]"
      ]
     },
     "execution_count": 300,
     "metadata": {},
     "output_type": "execute_result"
    }
   ],
   "source": [
    "## 삭제\n",
    "cur.execute(\"DELETE FROM professor WHERE 교수코드 = -1\")\n",
    "cur.execute(\"SELECT * FROM professor LIMIT 5\")\n",
    "cur.fetchall()"
   ]
  },
  {
   "cell_type": "code",
   "execution_count": 143,
   "id": "0851d738-fa4b-4a45-b0e5-915e7b5ec92f",
   "metadata": {},
   "outputs": [
    {
     "data": {
      "text/plain": [
       "[('사이버한국외국어대학교', '서울특별시', '사립'),\n",
       " ('수원대학교', '경기도', '사립'),\n",
       " ('구미대학교', '경상북도', '사립'),\n",
       " ('가톨릭관동대학교', '강원특별자치도', '사립'),\n",
       " ('1조대학교', '뉴욕', '사립')]"
      ]
     },
     "execution_count": 143,
     "metadata": {},
     "output_type": "execute_result"
    }
   ],
   "source": [
    "## university 중복되지 않은 기본키를 가지는 튜플 삽입 시 정상\n",
    "cur.execute(\"INSERT INTO university VALUES('1조대학교', '뉴욕', '사립')\")\n",
    "cur.execute(\"SELECT * FROM university LIMIT 10 OFFSET 182\")\n",
    "cur.fetchall()"
   ]
  },
  {
   "cell_type": "code",
   "execution_count": 144,
   "id": "8e1db386-7863-4f64-b53b-ddbf9be69b26",
   "metadata": {},
   "outputs": [
    {
     "data": {
      "text/plain": [
       "[('사이버한국외국어대학교', '서울특별시', '사립'),\n",
       " ('수원대학교', '경기도', '사립'),\n",
       " ('구미대학교', '경상북도', '사립'),\n",
       " ('가톨릭관동대학교', '강원특별자치도', '사립'),\n",
       " ('1조대학교', '도쿄', '사립')]"
      ]
     },
     "execution_count": 144,
     "metadata": {},
     "output_type": "execute_result"
    }
   ],
   "source": [
    "## 수정\n",
    "cur.execute(\"UPDATE university SET 대학소재지 = '도쿄' WHERE 제공대학명 = '1조대학교'\")\n",
    "cur.execute(\"SELECT * FROM university LIMIT 10 OFFSET 182\")\n",
    "cur.fetchall()"
   ]
  },
  {
   "cell_type": "code",
   "execution_count": 145,
   "id": "a9824644-9a7d-40b5-9c9f-4072c108e9de",
   "metadata": {},
   "outputs": [
    {
     "data": {
      "text/plain": [
       "[('사이버한국외국어대학교', '서울특별시', '사립'),\n",
       " ('수원대학교', '경기도', '사립'),\n",
       " ('구미대학교', '경상북도', '사립'),\n",
       " ('가톨릭관동대학교', '강원특별자치도', '사립')]"
      ]
     },
     "execution_count": 145,
     "metadata": {},
     "output_type": "execute_result"
    }
   ],
   "source": [
    "## 삭제\n",
    "cur.execute(\"DELETE FROM university WHERE 제공대학명 = '1조대학교'\")\n",
    "cur.execute(\"SELECT * FROM university LIMIT 10 OFFSET 182\")\n",
    "cur.fetchall()"
   ]
  },
  {
   "cell_type": "code",
   "execution_count": 146,
   "id": "cd837b1d-0c5d-4004-9877-38032f4d1ddb",
   "metadata": {
    "scrolled": true
   },
   "outputs": [
    {
     "ename": "IntegrityError",
     "evalue": "UNIQUE constraint failed: professor.교수코드",
     "output_type": "error",
     "traceback": [
      "\u001b[0;31m---------------------------------------------------------------------------\u001b[0m",
      "\u001b[0;31mIntegrityError\u001b[0m                            Traceback (most recent call last)",
      "Cell \u001b[0;32mIn[146], line 2\u001b[0m\n\u001b[1;32m      1\u001b[0m \u001b[38;5;66;03m## 중복되는 기본키를 가지는 튜플 삽입 시 오류 발생 -> 정상적으로 기본키 설정됨\u001b[39;00m\n\u001b[0;32m----> 2\u001b[0m cur\u001b[38;5;241m.\u001b[39mexecute(\u001b[38;5;124m\"\u001b[39m\u001b[38;5;124mINSERT INTO professor VALUES(1, \u001b[39m\u001b[38;5;124m'\u001b[39m\u001b[38;5;124m강신성2\u001b[39m\u001b[38;5;124m'\u001b[39m\u001b[38;5;124m, \u001b[39m\u001b[38;5;124m'\u001b[39m\u001b[38;5;124m자연계열\u001b[39m\u001b[38;5;124m'\u001b[39m\u001b[38;5;124m, \u001b[39m\u001b[38;5;124m'\u001b[39m\u001b[38;5;124m전북대학교\u001b[39m\u001b[38;5;124m'\u001b[39m\u001b[38;5;124m)\u001b[39m\u001b[38;5;124m\"\u001b[39m)\n",
      "\u001b[0;31mIntegrityError\u001b[0m: UNIQUE constraint failed: professor.교수코드"
     ]
    }
   ],
   "source": [
    "## 중복되는 기본키를 가지는 튜플 삽입 시 오류 발생 -> 정상적으로 기본키 설정됨\n",
    "cur.execute(\"INSERT INTO professor VALUES(1, '강신성2', '자연계열', '전북대학교')\")"
   ]
  },
  {
   "cell_type": "code",
   "execution_count": 304,
   "id": "749a8a88-9300-4d14-8ea5-f58b2514d4d8",
   "metadata": {},
   "outputs": [
    {
     "data": {
      "text/plain": [
       "[('한경대학교', '경기도', '국립'),\n",
       " ('가천대학교', '경기도', '사립'),\n",
       " ('단국대학교', '경기도', '사립'),\n",
       " ('성균관대학교', '서울특별시', '사립'),\n",
       " ('덕성여자대학교', '서울특별시', '사립'),\n",
       " ('과학기술연합대학원대학교', '대전광역시', '국립'),\n",
       " ('국민대학교', '서울특별시', '사립'),\n",
       " ('금오공과대학교', '경상북도', '국립'),\n",
       " ('전북대학교', '전라북도', '국립'),\n",
       " ('건국대학교', '서울특별시', '사립')]"
      ]
     },
     "execution_count": 304,
     "metadata": {},
     "output_type": "execute_result"
    }
   ],
   "source": [
    "# 기존 university 테이블\n",
    "cur.execute(\"SELECT * FROM university LIMIT 10\")\n",
    "cur.fetchall()"
   ]
  },
  {
   "cell_type": "code",
   "execution_count": 306,
   "id": "1822e8a4-51b1-45b9-bb19-a11b03ee993d",
   "metadata": {
    "scrolled": true
   },
   "outputs": [
    {
     "ename": "IntegrityError",
     "evalue": "UNIQUE constraint failed: university.제공대학명",
     "output_type": "error",
     "traceback": [
      "\u001b[0;31m---------------------------------------------------------------------------\u001b[0m",
      "\u001b[0;31mIntegrityError\u001b[0m                            Traceback (most recent call last)",
      "Cell \u001b[0;32mIn[306], line 2\u001b[0m\n\u001b[1;32m      1\u001b[0m \u001b[38;5;66;03m## 중복되는 기본키를 가지는 튜플 삽입 시 오류 발생 -> 정상적으로 기본키 설정됨\u001b[39;00m\n\u001b[0;32m----> 2\u001b[0m cur\u001b[38;5;241m.\u001b[39mexecute(\u001b[38;5;124m\"\u001b[39m\u001b[38;5;124mINSERT INTO university VALUES(\u001b[39m\u001b[38;5;124m'\u001b[39m\u001b[38;5;124m전북대학교\u001b[39m\u001b[38;5;124m'\u001b[39m\u001b[38;5;124m, \u001b[39m\u001b[38;5;124m'\u001b[39m\u001b[38;5;124m뉴욕\u001b[39m\u001b[38;5;124m'\u001b[39m\u001b[38;5;124m, \u001b[39m\u001b[38;5;124m'\u001b[39m\u001b[38;5;124m국립\u001b[39m\u001b[38;5;124m'\u001b[39m\u001b[38;5;124m)\u001b[39m\u001b[38;5;124m\"\u001b[39m)\n",
      "\u001b[0;31mIntegrityError\u001b[0m: UNIQUE constraint failed: university.제공대학명"
     ]
    }
   ],
   "source": [
    "## 중복되는 기본키를 가지는 튜플 삽입 시 오류 발생 -> 정상적으로 기본키 설정됨\n",
    "cur.execute(\"INSERT INTO university VALUES('전북대학교', '뉴욕', '국립')\")"
   ]
  },
  {
   "cell_type": "code",
   "execution_count": 148,
   "id": "d4dd477b-b034-4af3-a832-0a93b4f4c38c",
   "metadata": {},
   "outputs": [
    {
     "data": {
      "text/plain": [
       "[(-1, '윤리학개론', 2025, 3, '연세대학교', '2025-09-09'),\n",
       " (127521, '윤리학 개론', 2009, 1, '연세대학교', '2009-03-12'),\n",
       " (127676, '발명과 특허', 2009, 1, '부경대학교', '2009-04-30'),\n",
       " (128045, '연구방법론', 2009, 1, '삼육대학교', '2015-08-30'),\n",
       " (128322, '사회복지 개론', 2009, 1, '을지대학교', '2009-06-30')]"
      ]
     },
     "execution_count": 148,
     "metadata": {},
     "output_type": "execute_result"
    }
   ],
   "source": [
    "## norm_course 중복되지 않는 기본키를 가지는 튜플 삽입 시 정상\n",
    "cur.execute(\"INSERT INTO norm_course VALUES(-1, '윤리학개론', '2025', '3', '연세대학교', '2025-09-09')\")\n",
    "cur.execute(\"SELECT * FROM norm_course LIMIT 5\")\n",
    "cur.fetchall()"
   ]
  },
  {
   "cell_type": "code",
   "execution_count": 149,
   "id": "e4f62378-cb3d-45a3-8348-5ca55e27a770",
   "metadata": {},
   "outputs": [
    {
     "data": {
      "text/plain": [
       "[(-1, '수학1', 2025, 3, '연세대학교', '2025-09-09'),\n",
       " (127521, '윤리학 개론', 2009, 1, '연세대학교', '2009-03-12'),\n",
       " (127676, '발명과 특허', 2009, 1, '부경대학교', '2009-04-30'),\n",
       " (128045, '연구방법론', 2009, 1, '삼육대학교', '2015-08-30'),\n",
       " (128322, '사회복지 개론', 2009, 1, '을지대학교', '2009-06-30')]"
      ]
     },
     "execution_count": 149,
     "metadata": {},
     "output_type": "execute_result"
    }
   ],
   "source": [
    "## 수정\n",
    "cur.execute(\"UPDATE norm_course SET 강의명 = '수학1' WHERE 강의코드 = -1\")\n",
    "cur.execute(\"SELECT * FROM norm_course LIMIT 5\")\n",
    "cur.fetchall()"
   ]
  },
  {
   "cell_type": "code",
   "execution_count": 150,
   "id": "dba33cd7-7ec0-4c6e-9971-10864c075681",
   "metadata": {},
   "outputs": [
    {
     "data": {
      "text/plain": [
       "[(127521, '윤리학 개론', 2009, 1, '연세대학교', '2009-03-12'),\n",
       " (127676, '발명과 특허', 2009, 1, '부경대학교', '2009-04-30'),\n",
       " (128045, '연구방법론', 2009, 1, '삼육대학교', '2015-08-30'),\n",
       " (128322, '사회복지 개론', 2009, 1, '을지대학교', '2009-06-30'),\n",
       " (128348, '부부 이마고 치료', 2009, 1, '수도국제대학원대학교', '2022-09-28')]"
      ]
     },
     "execution_count": 150,
     "metadata": {},
     "output_type": "execute_result"
    }
   ],
   "source": [
    "## 삭제\n",
    "cur.execute(\"DELETE FROM norm_course WHERE 강의코드 = -1\")\n",
    "cur.execute(\"SELECT * FROM norm_course LIMIT 5\")\n",
    "cur.fetchall()"
   ]
  },
  {
   "cell_type": "code",
   "execution_count": 151,
   "id": "60fa729d-4845-47e2-a1f2-8ae37f700652",
   "metadata": {},
   "outputs": [
    {
     "ename": "IntegrityError",
     "evalue": "UNIQUE constraint failed: norm_course.강의코드",
     "output_type": "error",
     "traceback": [
      "\u001b[0;31m---------------------------------------------------------------------------\u001b[0m",
      "\u001b[0;31mIntegrityError\u001b[0m                            Traceback (most recent call last)",
      "Cell \u001b[0;32mIn[151], line 2\u001b[0m\n\u001b[1;32m      1\u001b[0m \u001b[38;5;66;03m## 중복되는 기본키를 가지는 튜플 삽입 시 오류 발생 -> 정상적으로 기본키 설정됨\u001b[39;00m\n\u001b[0;32m----> 2\u001b[0m cur\u001b[38;5;241m.\u001b[39mexecute(\u001b[38;5;124m\"\u001b[39m\u001b[38;5;124mINSERT INTO norm_course VALUES(127521, \u001b[39m\u001b[38;5;124m'\u001b[39m\u001b[38;5;124m수학1\u001b[39m\u001b[38;5;124m'\u001b[39m\u001b[38;5;124m, \u001b[39m\u001b[38;5;124m'\u001b[39m\u001b[38;5;124m2025\u001b[39m\u001b[38;5;124m'\u001b[39m\u001b[38;5;124m, \u001b[39m\u001b[38;5;124m'\u001b[39m\u001b[38;5;124m3\u001b[39m\u001b[38;5;124m'\u001b[39m\u001b[38;5;124m, \u001b[39m\u001b[38;5;124m'\u001b[39m\u001b[38;5;124m연세대학교\u001b[39m\u001b[38;5;124m'\u001b[39m\u001b[38;5;124m, \u001b[39m\u001b[38;5;124m'\u001b[39m\u001b[38;5;124m2025-09-09\u001b[39m\u001b[38;5;124m'\u001b[39m\u001b[38;5;124m)\u001b[39m\u001b[38;5;124m\"\u001b[39m)\n",
      "\u001b[0;31mIntegrityError\u001b[0m: UNIQUE constraint failed: norm_course.강의코드"
     ]
    }
   ],
   "source": [
    "## 중복되는 기본키를 가지는 튜플 삽입 시 오류 발생 -> 정상적으로 기본키 설정됨\n",
    "cur.execute(\"INSERT INTO norm_course VALUES(127521, '수학1', '2025', '3', '연세대학교', '2025-09-09')\")"
   ]
  },
  {
   "cell_type": "code",
   "execution_count": 152,
   "id": "ffa9d4f9-cb83-431c-bf33-3c541d75ba1a",
   "metadata": {},
   "outputs": [
    {
     "data": {
      "text/plain": [
       "[('가수업', '가분류'),\n",
       " ('예방치과학의 이해', '자연과학기타'),\n",
       " ('과학사 이해', '자연과학기타'),\n",
       " ('회귀분석(II)', '수학ㆍ물리ㆍ천문ㆍ지리'),\n",
       " ('AI를 위한 딥러닝', '수학ㆍ물리ㆍ천문ㆍ지리')]"
      ]
     },
     "execution_count": 152,
     "metadata": {},
     "output_type": "execute_result"
    }
   ],
   "source": [
    "## course_classed 중복되지 않는 기본키를 가지는 튜플 삽입 시 정상\n",
    "cur.execute(\"INSERT INTO course_classed VALUES('가수업', '가분류')\")\n",
    "cur.execute(\"SELECT * FROM course_classed ORDER BY rowid DESC LIMIT 5\")\n",
    "cur.fetchall()"
   ]
  },
  {
   "cell_type": "code",
   "execution_count": 153,
   "id": "599ccef5-7900-4fea-990a-eb53e6273cd9",
   "metadata": {},
   "outputs": [
    {
     "data": {
      "text/plain": [
       "[('가수업', '나분류'),\n",
       " ('예방치과학의 이해', '자연과학기타'),\n",
       " ('과학사 이해', '자연과학기타'),\n",
       " ('회귀분석(II)', '수학ㆍ물리ㆍ천문ㆍ지리'),\n",
       " ('AI를 위한 딥러닝', '수학ㆍ물리ㆍ천문ㆍ지리')]"
      ]
     },
     "execution_count": 153,
     "metadata": {},
     "output_type": "execute_result"
    }
   ],
   "source": [
    "## 수정\n",
    "cur.execute(\"UPDATE course_classed SET 교육분류 = '나분류' WHERE 강의명 = '가수업'\")\n",
    "cur.execute(\"SELECT * FROM course_classed ORDER BY rowid DESC LIMIT 5\")\n",
    "cur.fetchall()"
   ]
  },
  {
   "cell_type": "code",
   "execution_count": 154,
   "id": "29b516f7-4b94-486d-b5f3-d552c9526d5a",
   "metadata": {},
   "outputs": [
    {
     "data": {
      "text/plain": [
       "[('예방치과학의 이해', '자연과학기타'),\n",
       " ('과학사 이해', '자연과학기타'),\n",
       " ('회귀분석(II)', '수학ㆍ물리ㆍ천문ㆍ지리'),\n",
       " ('AI를 위한 딥러닝', '수학ㆍ물리ㆍ천문ㆍ지리'),\n",
       " ('다변량통계학(II)', '수학ㆍ물리ㆍ천문ㆍ지리')]"
      ]
     },
     "execution_count": 154,
     "metadata": {},
     "output_type": "execute_result"
    }
   ],
   "source": [
    "## 삭제\n",
    "cur.execute(\"DELETE FROM course_classed WHERE 강의명 = '가수업'\")\n",
    "cur.execute(\"SELECT * FROM course_classed ORDER BY rowid DESC LIMIT 5\")\n",
    "cur.fetchall()"
   ]
  },
  {
   "cell_type": "code",
   "execution_count": 155,
   "id": "bbb9ac89-c830-4c0b-b234-1a6d7b5aaa74",
   "metadata": {},
   "outputs": [
    {
     "ename": "IntegrityError",
     "evalue": "UNIQUE constraint failed: course_classed.강의명",
     "output_type": "error",
     "traceback": [
      "\u001b[0;31m---------------------------------------------------------------------------\u001b[0m",
      "\u001b[0;31mIntegrityError\u001b[0m                            Traceback (most recent call last)",
      "Cell \u001b[0;32mIn[155], line 2\u001b[0m\n\u001b[1;32m      1\u001b[0m \u001b[38;5;66;03m## 중복되는 기본키를 가지는 튜플 삽입 시 오류 발생 -> 정상적으로 기본키 설정됨\u001b[39;00m\n\u001b[0;32m----> 2\u001b[0m cur\u001b[38;5;241m.\u001b[39mexecute(\u001b[38;5;124m\"\u001b[39m\u001b[38;5;124mINSERT INTO course_classed VALUES(\u001b[39m\u001b[38;5;124m'\u001b[39m\u001b[38;5;124m과학사 이해\u001b[39m\u001b[38;5;124m'\u001b[39m\u001b[38;5;124m, \u001b[39m\u001b[38;5;124m'\u001b[39m\u001b[38;5;124m다분류\u001b[39m\u001b[38;5;124m'\u001b[39m\u001b[38;5;124m)\u001b[39m\u001b[38;5;124m\"\u001b[39m)\n\u001b[1;32m      3\u001b[0m cur\u001b[38;5;241m.\u001b[39mfetchall()\n",
      "\u001b[0;31mIntegrityError\u001b[0m: UNIQUE constraint failed: course_classed.강의명"
     ]
    }
   ],
   "source": [
    "## 중복되는 기본키를 가지는 튜플 삽입 시 오류 발생 -> 정상적으로 기본키 설정됨\n",
    "cur.execute(\"INSERT INTO course_classed VALUES('과학사 이해', '다분류')\")\n",
    "cur.fetchall()"
   ]
  },
  {
   "cell_type": "code",
   "execution_count": 156,
   "id": "51cb58bf-7f0f-4467-b038-8207a5cf5b76",
   "metadata": {},
   "outputs": [
    {
     "data": {
      "text/plain": [
       "[(1, 1112400), (8913, 1398367), (852, 820840), (60, 1445911), (7838, 1443736)]"
      ]
     },
     "execution_count": 156,
     "metadata": {},
     "output_type": "execute_result"
    }
   ],
   "source": [
    "## charge 중복되지 않는 기본키를 가지는 튜플 삽입 시 정상\n",
    "cur.execute(\"INSERT INTO charge VALUES(1, 1112400)\")\n",
    "cur.execute(\"SELECT * FROM charge ORDER BY rowid DESC LIMIT 5\")\n",
    "cur.fetchall()"
   ]
  },
  {
   "cell_type": "code",
   "execution_count": 157,
   "id": "c1f0bb19-5e13-45e6-9b10-57655a3c0212",
   "metadata": {},
   "outputs": [
    {
     "data": {
      "text/plain": [
       "[(1, 1112400), (8913, 1398367), (852, 820840), (60, 1445911), (7838, 1443736)]"
      ]
     },
     "execution_count": 157,
     "metadata": {},
     "output_type": "execute_result"
    }
   ],
   "source": [
    "## 삭제\n",
    "cur.execute(\"DELETE FROM charge WHERE 교수코드= 1 AND 강의코드= 111240\")\n",
    "cur.execute(\"SELECT * FROM charge ORDER BY rowid DESC LIMIT 5\")\n",
    "cur.fetchall()"
   ]
  },
  {
   "cell_type": "code",
   "execution_count": 158,
   "id": "ff1a9b82-b01f-4c02-bebe-3fee96497a7f",
   "metadata": {},
   "outputs": [
    {
     "ename": "IntegrityError",
     "evalue": "UNIQUE constraint failed: charge.교수코드, charge.강의코드",
     "output_type": "error",
     "traceback": [
      "\u001b[0;31m---------------------------------------------------------------------------\u001b[0m",
      "\u001b[0;31mIntegrityError\u001b[0m                            Traceback (most recent call last)",
      "Cell \u001b[0;32mIn[158], line 2\u001b[0m\n\u001b[1;32m      1\u001b[0m \u001b[38;5;66;03m## charge 중복되는 기본키를 가지는 튜플 삽입 시 오류 발생 -> 정상적으로 기본키 설정됨\u001b[39;00m\n\u001b[0;32m----> 2\u001b[0m cur\u001b[38;5;241m.\u001b[39mexecute(\u001b[38;5;124m\"\u001b[39m\u001b[38;5;124mINSERT INTO charge VALUES(1, 1104074)\u001b[39m\u001b[38;5;124m\"\u001b[39m)\n",
      "\u001b[0;31mIntegrityError\u001b[0m: UNIQUE constraint failed: charge.교수코드, charge.강의코드"
     ]
    }
   ],
   "source": [
    "## charge 중복되는 기본키를 가지는 튜플 삽입 시 오류 발생 -> 정상적으로 기본키 설정됨\n",
    "cur.execute(\"INSERT INTO charge VALUES(1, 1104074)\")"
   ]
  },
  {
   "cell_type": "markdown",
   "id": "c60dd01b-d93c-4cac-870d-04d484006820",
   "metadata": {
    "jp-MarkdownHeadingCollapsed": true
   },
   "source": [
    "### 2. 기본키 삭제에 따른 외래키 변화 확인"
   ]
  },
  {
   "cell_type": "code",
   "execution_count": 309,
   "id": "af7c2974-97f8-49e9-8986-963ae159c521",
   "metadata": {},
   "outputs": [
    {
     "data": {
      "text/plain": [
       "[(9, '마인숙', '자연계열', '전북대학교'),\n",
       " (103, '곽지이', '자연계열', '전북대학교'),\n",
       " (104, '이선영', '자연계열', '전북대학교'),\n",
       " (105, '정수미', '자연계열', '전북대학교'),\n",
       " (106, '최일선', '자연계열', '전북대학교')]"
      ]
     },
     "execution_count": 309,
     "metadata": {},
     "output_type": "execute_result"
    }
   ],
   "source": [
    "# 원래 professor 테이블\n",
    "cur.execute(\"SELECT * FROM professor WHERE 제공대학명 = '전북대학교' LIMIT 5\")\n",
    "cur.fetchall()"
   ]
  },
  {
   "cell_type": "code",
   "execution_count": 170,
   "id": "ca361c12-9833-4d53-bc84-0706f2114110",
   "metadata": {},
   "outputs": [
    {
     "data": {
      "text/html": [
       "<div>\n",
       "<style scoped>\n",
       "    .dataframe tbody tr th:only-of-type {\n",
       "        vertical-align: middle;\n",
       "    }\n",
       "\n",
       "    .dataframe tbody tr th {\n",
       "        vertical-align: top;\n",
       "    }\n",
       "\n",
       "    .dataframe thead th {\n",
       "        text-align: right;\n",
       "    }\n",
       "</style>\n",
       "<table border=\"1\" class=\"dataframe\">\n",
       "  <thead>\n",
       "    <tr style=\"text-align: right;\">\n",
       "      <th></th>\n",
       "      <th>강의코드</th>\n",
       "      <th>강의명</th>\n",
       "      <th>강의년도</th>\n",
       "      <th>강의학기</th>\n",
       "      <th>제공대학명</th>\n",
       "      <th>제공일자</th>\n",
       "    </tr>\n",
       "  </thead>\n",
       "  <tbody>\n",
       "    <tr>\n",
       "      <th>0</th>\n",
       "      <td>133761</td>\n",
       "      <td>자바 프로그래밍</td>\n",
       "      <td>2009</td>\n",
       "      <td>1</td>\n",
       "      <td>전북대학교</td>\n",
       "      <td>2008-12-11</td>\n",
       "    </tr>\n",
       "    <tr>\n",
       "      <th>1</th>\n",
       "      <td>145685</td>\n",
       "      <td>조경수 관리</td>\n",
       "      <td>2009</td>\n",
       "      <td>1</td>\n",
       "      <td>전북대학교</td>\n",
       "      <td>2009-11-05</td>\n",
       "    </tr>\n",
       "    <tr>\n",
       "      <th>2</th>\n",
       "      <td>153670</td>\n",
       "      <td>전력전자 및 실험</td>\n",
       "      <td>2009</td>\n",
       "      <td>2</td>\n",
       "      <td>전북대학교</td>\n",
       "      <td>2010-04-28</td>\n",
       "    </tr>\n",
       "    <tr>\n",
       "      <th>3</th>\n",
       "      <td>156266</td>\n",
       "      <td>기능생리학 1</td>\n",
       "      <td>2009</td>\n",
       "      <td>1</td>\n",
       "      <td>전북대학교</td>\n",
       "      <td>2010-06-10</td>\n",
       "    </tr>\n",
       "    <tr>\n",
       "      <th>4</th>\n",
       "      <td>156446</td>\n",
       "      <td>BIN융합개론및세미나 1</td>\n",
       "      <td>2009</td>\n",
       "      <td>1</td>\n",
       "      <td>전북대학교</td>\n",
       "      <td>2010-06-11</td>\n",
       "    </tr>\n",
       "  </tbody>\n",
       "</table>\n",
       "</div>"
      ],
      "text/plain": [
       "     강의코드            강의명  강의년도  강의학기  제공대학명        제공일자\n",
       "0  133761       자바 프로그래밍  2009     1  전북대학교  2008-12-11\n",
       "1  145685         조경수 관리  2009     1  전북대학교  2009-11-05\n",
       "2  153670      전력전자 및 실험  2009     2  전북대학교  2010-04-28\n",
       "3  156266        기능생리학 1  2009     1  전북대학교  2010-06-10\n",
       "4  156446  BIN융합개론및세미나 1  2009     1  전북대학교  2010-06-11"
      ]
     },
     "execution_count": 170,
     "metadata": {},
     "output_type": "execute_result"
    }
   ],
   "source": [
    "# norm_course 원래 테이블\n",
    "cur.execute(\"SELECT * FROM norm_course WHERE 제공대학명 = '전북대학교' LIMIT 5\")\n",
    "cols = [column[0] for column in cur.description]  # 열 이름 가져오기\n",
    "rows = cur.fetchall()  # 행 정보 가져오기\n",
    "fetchall = pd.DataFrame.from_records(data=rows, columns=cols)\n",
    "fetchall"
   ]
  },
  {
   "cell_type": "code",
   "execution_count": 172,
   "id": "b455cf91-bc4f-41d4-a3cb-9e7c1610db01",
   "metadata": {},
   "outputs": [
    {
     "data": {
      "text/plain": [
       "[('전북대학교', '전라북도', '국립')]"
      ]
     },
     "execution_count": 172,
     "metadata": {},
     "output_type": "execute_result"
    }
   ],
   "source": [
    "cur.execute(\"SELECT * FROM university WHERE 제공대학명 = '전북대학교'\")\n",
    "cur.fetchall()"
   ]
  },
  {
   "cell_type": "code",
   "execution_count": 173,
   "id": "326ebc66-3f11-4e34-be86-f29903e6fe1d",
   "metadata": {},
   "outputs": [
    {
     "data": {
      "text/plain": [
       "[]"
      ]
     },
     "execution_count": 173,
     "metadata": {},
     "output_type": "execute_result"
    }
   ],
   "source": [
    "#기본키 수정\n",
    "cur.execute(\"UPDATE university SET 제공대학명 = '전북특별자치대학교' WHERE 제공대학명 = '전북대학교'\")\n",
    "cur.execute(\"SELECT * FROM university WHERE 제공대학명 = '전북특별자치대학교'\")\n",
    "cur.execute(\"SELECT * FROM norm_course WHERE 제공대학명 = '전북특별자치대학교' LIMIT 5\")\n",
    "cur.execute(\"SELECT * FROM professor WHERE 제공대학명 = '전북대학교' LIMIT 5\") # 바뀐 내용 보여주기\n",
    "cur.fetchall()"
   ]
  },
  {
   "cell_type": "code",
   "execution_count": 174,
   "id": "5ddb5b5b-a7d5-4121-b469-d8ff4602ec5b",
   "metadata": {},
   "outputs": [
    {
     "data": {
      "text/html": [
       "<div>\n",
       "<style scoped>\n",
       "    .dataframe tbody tr th:only-of-type {\n",
       "        vertical-align: middle;\n",
       "    }\n",
       "\n",
       "    .dataframe tbody tr th {\n",
       "        vertical-align: top;\n",
       "    }\n",
       "\n",
       "    .dataframe thead th {\n",
       "        text-align: right;\n",
       "    }\n",
       "</style>\n",
       "<table border=\"1\" class=\"dataframe\">\n",
       "  <thead>\n",
       "    <tr style=\"text-align: right;\">\n",
       "      <th></th>\n",
       "      <th>교수코드</th>\n",
       "      <th>담당교수명</th>\n",
       "      <th>담당분야</th>\n",
       "      <th>제공대학명</th>\n",
       "    </tr>\n",
       "  </thead>\n",
       "  <tbody>\n",
       "    <tr>\n",
       "      <th>0</th>\n",
       "      <td>9</td>\n",
       "      <td>마인숙</td>\n",
       "      <td>자연계열</td>\n",
       "      <td>전북대학교</td>\n",
       "    </tr>\n",
       "    <tr>\n",
       "      <th>1</th>\n",
       "      <td>103</td>\n",
       "      <td>곽지이</td>\n",
       "      <td>자연계열</td>\n",
       "      <td>전북대학교</td>\n",
       "    </tr>\n",
       "    <tr>\n",
       "      <th>2</th>\n",
       "      <td>104</td>\n",
       "      <td>이선영</td>\n",
       "      <td>자연계열</td>\n",
       "      <td>전북대학교</td>\n",
       "    </tr>\n",
       "    <tr>\n",
       "      <th>3</th>\n",
       "      <td>105</td>\n",
       "      <td>정수미</td>\n",
       "      <td>자연계열</td>\n",
       "      <td>전북대학교</td>\n",
       "    </tr>\n",
       "    <tr>\n",
       "      <th>4</th>\n",
       "      <td>106</td>\n",
       "      <td>최일선</td>\n",
       "      <td>자연계열</td>\n",
       "      <td>전북대학교</td>\n",
       "    </tr>\n",
       "  </tbody>\n",
       "</table>\n",
       "</div>"
      ],
      "text/plain": [
       "   교수코드 담당교수명  담당분야  제공대학명\n",
       "0     9   마인숙  자연계열  전북대학교\n",
       "1   103   곽지이  자연계열  전북대학교\n",
       "2   104   이선영  자연계열  전북대학교\n",
       "3   105   정수미  자연계열  전북대학교\n",
       "4   106   최일선  자연계열  전북대학교"
      ]
     },
     "execution_count": 174,
     "metadata": {},
     "output_type": "execute_result"
    }
   ],
   "source": [
    "#원래대로 복구\n",
    "cur.execute(\"UPDATE university SET 제공대학명 = '전북대학교' WHERE 제공대학명 = '전북특별자치대학교'\")\n",
    "cur.execute(\"SELECT * FROM professor WHERE 제공대학명 = '전북대학교' LIMIT 5\")\n",
    "cols = [column[0] for column in cur.description]  # 열 이름 가져오기\n",
    "rows = cur.fetchall()  # 행 정보 가져오기\n",
    "fetchall = pd.DataFrame.from_records(data=rows, columns=cols)\n",
    "fetchall"
   ]
  },
  {
   "cell_type": "code",
   "execution_count": 176,
   "id": "d2798400-fce7-4013-9d0b-4974677770af",
   "metadata": {},
   "outputs": [
    {
     "data": {
      "text/html": [
       "<div>\n",
       "<style scoped>\n",
       "    .dataframe tbody tr th:only-of-type {\n",
       "        vertical-align: middle;\n",
       "    }\n",
       "\n",
       "    .dataframe tbody tr th {\n",
       "        vertical-align: top;\n",
       "    }\n",
       "\n",
       "    .dataframe thead th {\n",
       "        text-align: right;\n",
       "    }\n",
       "</style>\n",
       "<table border=\"1\" class=\"dataframe\">\n",
       "  <thead>\n",
       "    <tr style=\"text-align: right;\">\n",
       "      <th></th>\n",
       "      <th>교수코드</th>\n",
       "      <th>담당교수명</th>\n",
       "      <th>담당분야</th>\n",
       "      <th>제공대학명</th>\n",
       "    </tr>\n",
       "  </thead>\n",
       "  <tbody>\n",
       "    <tr>\n",
       "      <th>0</th>\n",
       "      <td>9</td>\n",
       "      <td>마인숙</td>\n",
       "      <td>자연계열</td>\n",
       "      <td>None</td>\n",
       "    </tr>\n",
       "    <tr>\n",
       "      <th>1</th>\n",
       "      <td>103</td>\n",
       "      <td>곽지이</td>\n",
       "      <td>자연계열</td>\n",
       "      <td>None</td>\n",
       "    </tr>\n",
       "    <tr>\n",
       "      <th>2</th>\n",
       "      <td>104</td>\n",
       "      <td>이선영</td>\n",
       "      <td>자연계열</td>\n",
       "      <td>None</td>\n",
       "    </tr>\n",
       "    <tr>\n",
       "      <th>3</th>\n",
       "      <td>105</td>\n",
       "      <td>정수미</td>\n",
       "      <td>자연계열</td>\n",
       "      <td>None</td>\n",
       "    </tr>\n",
       "    <tr>\n",
       "      <th>4</th>\n",
       "      <td>106</td>\n",
       "      <td>최일선</td>\n",
       "      <td>자연계열</td>\n",
       "      <td>None</td>\n",
       "    </tr>\n",
       "  </tbody>\n",
       "</table>\n",
       "</div>"
      ],
      "text/plain": [
       "   교수코드 담당교수명  담당분야 제공대학명\n",
       "0     9   마인숙  자연계열  None\n",
       "1   103   곽지이  자연계열  None\n",
       "2   104   이선영  자연계열  None\n",
       "3   105   정수미  자연계열  None\n",
       "4   106   최일선  자연계열  None"
      ]
     },
     "execution_count": 176,
     "metadata": {},
     "output_type": "execute_result"
    }
   ],
   "source": [
    "#기본키 삭제(ON DELETE SET NULL) 전북대학교 삭제\n",
    "cur.execute(\"DELETE FROM university WHERE 제공대학명 = '전북대학교'\")\n",
    "cur.execute(\"SELECT * FROM norm_course WHERE 제공대학명 IS NULL LIMIT 5\")\n",
    "cur.execute(\"SELECT * FROM professor WHERE 제공대학명 IS NULL LIMIT 5\")\n",
    "\n",
    "cols = [column[0] for column in cur.description]  # 열 이름 가져오기\n",
    "rows = cur.fetchall()  # 행 정보 가져오기\n",
    "fetchall = pd.DataFrame.from_records(data=rows, columns=cols)\n",
    "fetchall"
   ]
  },
  {
   "cell_type": "code",
   "execution_count": 177,
   "id": "aac7830f-e4a4-4c8e-a485-1b1950dea900",
   "metadata": {},
   "outputs": [
    {
     "data": {
      "text/html": [
       "<div>\n",
       "<style scoped>\n",
       "    .dataframe tbody tr th:only-of-type {\n",
       "        vertical-align: middle;\n",
       "    }\n",
       "\n",
       "    .dataframe tbody tr th {\n",
       "        vertical-align: top;\n",
       "    }\n",
       "\n",
       "    .dataframe thead th {\n",
       "        text-align: right;\n",
       "    }\n",
       "</style>\n",
       "<table border=\"1\" class=\"dataframe\">\n",
       "  <thead>\n",
       "    <tr style=\"text-align: right;\">\n",
       "      <th></th>\n",
       "      <th>강의코드</th>\n",
       "      <th>강의명</th>\n",
       "      <th>강의년도</th>\n",
       "      <th>강의학기</th>\n",
       "      <th>제공대학명</th>\n",
       "      <th>제공일자</th>\n",
       "    </tr>\n",
       "  </thead>\n",
       "  <tbody>\n",
       "    <tr>\n",
       "      <th>0</th>\n",
       "      <td>133761</td>\n",
       "      <td>자바 프로그래밍</td>\n",
       "      <td>2009</td>\n",
       "      <td>1</td>\n",
       "      <td>None</td>\n",
       "      <td>2008-12-11</td>\n",
       "    </tr>\n",
       "    <tr>\n",
       "      <th>1</th>\n",
       "      <td>145685</td>\n",
       "      <td>조경수 관리</td>\n",
       "      <td>2009</td>\n",
       "      <td>1</td>\n",
       "      <td>None</td>\n",
       "      <td>2009-11-05</td>\n",
       "    </tr>\n",
       "    <tr>\n",
       "      <th>2</th>\n",
       "      <td>153670</td>\n",
       "      <td>전력전자 및 실험</td>\n",
       "      <td>2009</td>\n",
       "      <td>2</td>\n",
       "      <td>None</td>\n",
       "      <td>2010-04-28</td>\n",
       "    </tr>\n",
       "    <tr>\n",
       "      <th>3</th>\n",
       "      <td>156266</td>\n",
       "      <td>기능생리학 1</td>\n",
       "      <td>2009</td>\n",
       "      <td>1</td>\n",
       "      <td>None</td>\n",
       "      <td>2010-06-10</td>\n",
       "    </tr>\n",
       "    <tr>\n",
       "      <th>4</th>\n",
       "      <td>156446</td>\n",
       "      <td>BIN융합개론및세미나 1</td>\n",
       "      <td>2009</td>\n",
       "      <td>1</td>\n",
       "      <td>None</td>\n",
       "      <td>2010-06-11</td>\n",
       "    </tr>\n",
       "  </tbody>\n",
       "</table>\n",
       "</div>"
      ],
      "text/plain": [
       "     강의코드            강의명  강의년도  강의학기 제공대학명        제공일자\n",
       "0  133761       자바 프로그래밍  2009     1  None  2008-12-11\n",
       "1  145685         조경수 관리  2009     1  None  2009-11-05\n",
       "2  153670      전력전자 및 실험  2009     2  None  2010-04-28\n",
       "3  156266        기능생리학 1  2009     1  None  2010-06-10\n",
       "4  156446  BIN융합개론및세미나 1  2009     1  None  2010-06-11"
      ]
     },
     "execution_count": 177,
     "metadata": {},
     "output_type": "execute_result"
    }
   ],
   "source": [
    "cur.execute(\"SELECT * FROM norm_course WHERE 제공대학명 IS NULL LIMIT 5\")\n",
    "\n",
    "cols = [column[0] for column in cur.description]  # 열 이름 가져오기\n",
    "rows = cur.fetchall()  # 행 정보 가져오기\n",
    "fetchall = pd.DataFrame.from_records(data=rows, columns=cols)\n",
    "fetchall"
   ]
  },
  {
   "cell_type": "code",
   "execution_count": 182,
   "id": "6def5501-15e0-411e-98b3-341eefea6dea",
   "metadata": {},
   "outputs": [
    {
     "data": {
      "text/html": [
       "<div>\n",
       "<style scoped>\n",
       "    .dataframe tbody tr th:only-of-type {\n",
       "        vertical-align: middle;\n",
       "    }\n",
       "\n",
       "    .dataframe tbody tr th {\n",
       "        vertical-align: top;\n",
       "    }\n",
       "\n",
       "    .dataframe thead th {\n",
       "        text-align: right;\n",
       "    }\n",
       "</style>\n",
       "<table border=\"1\" class=\"dataframe\">\n",
       "  <thead>\n",
       "    <tr style=\"text-align: right;\">\n",
       "      <th></th>\n",
       "      <th>강의코드</th>\n",
       "      <th>강의명</th>\n",
       "      <th>강의년도</th>\n",
       "      <th>강의학기</th>\n",
       "      <th>제공대학명</th>\n",
       "      <th>제공일자</th>\n",
       "    </tr>\n",
       "  </thead>\n",
       "  <tbody>\n",
       "  </tbody>\n",
       "</table>\n",
       "</div>"
      ],
      "text/plain": [
       "Empty DataFrame\n",
       "Columns: [강의코드, 강의명, 강의년도, 강의학기, 제공대학명, 제공일자]\n",
       "Index: []"
      ]
     },
     "execution_count": 182,
     "metadata": {},
     "output_type": "execute_result"
    }
   ],
   "source": [
    "#기본키 삭제(ON DELETE CASCADE)\n",
    "cur.execute(\"SELECT * FROM norm_course WHERE 강의명 = '수학1'\")\n",
    "cur.execute(\"DELETE FROM course_classed WHERE 강의명 = '수학1'\")\n",
    "cur.execute(\"SELECT * FROM norm_course WHERE 강의명 = '수학1'\")\n",
    "\n",
    "cols = [column[0] for column in cur.description]  # 열 이름 가져오기\n",
    "rows = cur.fetchall()  # 행 정보 가져오기\n",
    "fetchall = pd.DataFrame.from_records(data=rows, columns=cols)\n",
    "fetchall"
   ]
  },
  {
   "cell_type": "markdown",
   "id": "064c54d0-dd74-46ea-9755-93f19ae6f49e",
   "metadata": {
    "jp-MarkdownHeadingCollapsed": true
   },
   "source": [
    "### 3. 조인 조작의 정상성 여부 확인"
   ]
  },
  {
   "cell_type": "markdown",
   "id": "981a88e4-c731-472e-b707-7fc4e1675810",
   "metadata": {},
   "source": [
    "#### 조인을 이용해 쪼개기 전 테이블 만들기"
   ]
  },
  {
   "cell_type": "code",
   "execution_count": 192,
   "id": "cfc4d36a-b201-43f0-947f-dae6866181c9",
   "metadata": {},
   "outputs": [],
   "source": [
    "conn = sqlite3.connect(\"/Users/99ksh/TDB/kocw.db\")\n",
    "cur = conn.cursor()"
   ]
  },
  {
   "cell_type": "code",
   "execution_count": 186,
   "id": "635075a3-8dc1-4b27-9963-407894a9261b",
   "metadata": {},
   "outputs": [
    {
     "data": {
      "text/plain": [
       "[(0, '안상욱', '자연계열', '한경대학교', '경기도', '국립'),\n",
       " (1, '이중호', '자연계열', '가천대학교', '경기도', '사립'),\n",
       " (2, '최수한', '자연계열', '단국대학교', '경기도', '사립'),\n",
       " (3, '김문현', '자연계열', '성균관대학교', '서울특별시', '사립'),\n",
       " (4, '이상준', '자연계열', '덕성여자대학교', '서울특별시', '사립'),\n",
       " (5, '나성호', '자연계열', '과학기술연합대학원대학교', '대전광역시', '국립')]"
      ]
     },
     "execution_count": 186,
     "metadata": {},
     "output_type": "execute_result"
    }
   ],
   "source": [
    "#제공대학명을 기준으로 교수와 제공대학을 내부 조인\n",
    "cur.execute(\"SELECT * FROM professor LIMIT 6\")\n",
    "cur.execute(\"SELECT * FROM university LIMIT 6\")\n",
    "cur.execute(\"\"\"\n",
    "    SELECT 교수코드, 담당교수명, 담당분야, university.제공대학명 AS 제공대학명, 대학소재지, 구분\n",
    "    FROM university \n",
    "    INNER JOIN professor ON university.제공대학명 = professor.제공대학명 \n",
    "    LIMIT 6\n",
    "\"\"\")\n",
    "cur.fetchall()"
   ]
  },
  {
   "cell_type": "code",
   "execution_count": 187,
   "id": "6ec8efd1-7b0d-4ba0-bb24-e171c3cdc067",
   "metadata": {},
   "outputs": [
    {
     "data": {
      "text/plain": [
       "[(1095582, 0, '안상욱', '자연계열', '한경대학교', '경기도', '국립'),\n",
       " (1104074, 1, '이중호', '자연계열', '가천대학교', '경기도', '사립'),\n",
       " (1110603, 2, '최수한', '자연계열', '단국대학교', '경기도', '사립'),\n",
       " (1112400, 3, '김문현', '자연계열', '성균관대학교', '서울특별시', '사립'),\n",
       " (1118072, 4, '이상준', '자연계열', '덕성여자대학교', '서울특별시', '사립'),\n",
       " (1118158, 4, '이상준', '자연계열', '덕성여자대학교', '서울특별시', '사립')]"
      ]
     },
     "execution_count": 187,
     "metadata": {},
     "output_type": "execute_result"
    }
   ],
   "source": [
    "#위 테이블과 담당을 조인\n",
    "cur.execute(\"SELECT * FROM charge LIMIT 6\")\n",
    "cur.execute(\"\"\"\n",
    "    SELECT 강의코드, professor.교수코드 AS 교수코드, 담당교수명, 담당분야, university.제공대학명 AS 제공대학명, 대학소재지, 구분\n",
    "    FROM university \n",
    "    INNER JOIN professor ON university.제공대학명 = professor.제공대학명\n",
    "    INNER JOIN charge ON professor.교수코드 = charge.교수코드 \n",
    "    LIMIT 6\n",
    "\"\"\")\n",
    "cur.fetchall()"
   ]
  },
  {
   "cell_type": "code",
   "execution_count": 188,
   "id": "c9ef8dcd-fe1e-4a21-bd96-24e59f764bc2",
   "metadata": {},
   "outputs": [
    {
     "data": {
      "text/html": [
       "<div>\n",
       "<style scoped>\n",
       "    .dataframe tbody tr th:only-of-type {\n",
       "        vertical-align: middle;\n",
       "    }\n",
       "\n",
       "    .dataframe tbody tr th {\n",
       "        vertical-align: top;\n",
       "    }\n",
       "\n",
       "    .dataframe thead th {\n",
       "        text-align: right;\n",
       "    }\n",
       "</style>\n",
       "<table border=\"1\" class=\"dataframe\">\n",
       "  <thead>\n",
       "    <tr style=\"text-align: right;\">\n",
       "      <th></th>\n",
       "      <th>강의코드</th>\n",
       "      <th>강의명</th>\n",
       "      <th>강의년도</th>\n",
       "      <th>강의학기</th>\n",
       "      <th>제공일자</th>\n",
       "      <th>교수코드</th>\n",
       "      <th>담당교수명</th>\n",
       "      <th>담당분야</th>\n",
       "      <th>제공대학명</th>\n",
       "      <th>대학소재지</th>\n",
       "      <th>구분</th>\n",
       "    </tr>\n",
       "  </thead>\n",
       "  <tbody>\n",
       "    <tr>\n",
       "      <th>0</th>\n",
       "      <td>1095582</td>\n",
       "      <td>대학수학1</td>\n",
       "      <td>2015</td>\n",
       "      <td>1</td>\n",
       "      <td>2015-08-30</td>\n",
       "      <td>0</td>\n",
       "      <td>안상욱</td>\n",
       "      <td>자연계열</td>\n",
       "      <td>한경대학교</td>\n",
       "      <td>경기도</td>\n",
       "      <td>국립</td>\n",
       "    </tr>\n",
       "    <tr>\n",
       "      <th>1</th>\n",
       "      <td>1104074</td>\n",
       "      <td>수학1</td>\n",
       "      <td>2015</td>\n",
       "      <td>1</td>\n",
       "      <td>2015-09-14</td>\n",
       "      <td>1</td>\n",
       "      <td>이중호</td>\n",
       "      <td>자연계열</td>\n",
       "      <td>가천대학교</td>\n",
       "      <td>경기도</td>\n",
       "      <td>사립</td>\n",
       "    </tr>\n",
       "    <tr>\n",
       "      <th>2</th>\n",
       "      <td>1110603</td>\n",
       "      <td>미적분학</td>\n",
       "      <td>2015</td>\n",
       "      <td>1</td>\n",
       "      <td>2015-10-08</td>\n",
       "      <td>2</td>\n",
       "      <td>최수한</td>\n",
       "      <td>자연계열</td>\n",
       "      <td>단국대학교</td>\n",
       "      <td>경기도</td>\n",
       "      <td>사립</td>\n",
       "    </tr>\n",
       "    <tr>\n",
       "      <th>3</th>\n",
       "      <td>1112400</td>\n",
       "      <td>공학수학1</td>\n",
       "      <td>2015</td>\n",
       "      <td>1</td>\n",
       "      <td>2015-11-02</td>\n",
       "      <td>3</td>\n",
       "      <td>김문현</td>\n",
       "      <td>자연계열</td>\n",
       "      <td>성균관대학교</td>\n",
       "      <td>서울특별시</td>\n",
       "      <td>사립</td>\n",
       "    </tr>\n",
       "    <tr>\n",
       "      <th>4</th>\n",
       "      <td>1118072</td>\n",
       "      <td>정수론</td>\n",
       "      <td>2015</td>\n",
       "      <td>2</td>\n",
       "      <td>2015-12-16</td>\n",
       "      <td>4</td>\n",
       "      <td>이상준</td>\n",
       "      <td>자연계열</td>\n",
       "      <td>덕성여자대학교</td>\n",
       "      <td>서울특별시</td>\n",
       "      <td>사립</td>\n",
       "    </tr>\n",
       "    <tr>\n",
       "      <th>5</th>\n",
       "      <td>1118158</td>\n",
       "      <td>확률론</td>\n",
       "      <td>2015</td>\n",
       "      <td>2</td>\n",
       "      <td>2015-12-16</td>\n",
       "      <td>4</td>\n",
       "      <td>이상준</td>\n",
       "      <td>자연계열</td>\n",
       "      <td>덕성여자대학교</td>\n",
       "      <td>서울특별시</td>\n",
       "      <td>사립</td>\n",
       "    </tr>\n",
       "  </tbody>\n",
       "</table>\n",
       "</div>"
      ],
      "text/plain": [
       "      강의코드    강의명  강의년도  강의학기        제공일자  교수코드 담당교수명  담당분야    제공대학명  대학소재지  \\\n",
       "0  1095582  대학수학1  2015     1  2015-08-30     0   안상욱  자연계열    한경대학교    경기도   \n",
       "1  1104074    수학1  2015     1  2015-09-14     1   이중호  자연계열    가천대학교    경기도   \n",
       "2  1110603   미적분학  2015     1  2015-10-08     2   최수한  자연계열    단국대학교    경기도   \n",
       "3  1112400  공학수학1  2015     1  2015-11-02     3   김문현  자연계열   성균관대학교  서울특별시   \n",
       "4  1118072    정수론  2015     2  2015-12-16     4   이상준  자연계열  덕성여자대학교  서울특별시   \n",
       "5  1118158    확률론  2015     2  2015-12-16     4   이상준  자연계열  덕성여자대학교  서울특별시   \n",
       "\n",
       "   구분  \n",
       "0  국립  \n",
       "1  사립  \n",
       "2  사립  \n",
       "3  사립  \n",
       "4  사립  \n",
       "5  사립  "
      ]
     },
     "execution_count": 188,
     "metadata": {},
     "output_type": "execute_result"
    }
   ],
   "source": [
    "#위 테이블과 강의를 조인\n",
    "cur.execute(\"SELECT * FROM norm_course LIMIT 6\")\n",
    "cur.execute(\"\"\"\n",
    "    SELECT norm_course.강의코드 AS 강의코드, 강의명, 강의년도, 강의학기, 제공일자,\n",
    "           professor.교수코드 AS 교수코드, 담당교수명, 담당분야,\n",
    "           university.제공대학명 AS 제공대학명, 대학소재지, 구분\n",
    "    FROM university \n",
    "    INNER JOIN professor ON university.제공대학명 = professor.제공대학명\n",
    "    INNER JOIN charge ON professor.교수코드 = charge.교수코드\n",
    "    INNER JOIN norm_course ON charge.강의코드 = norm_course.강의코드 \n",
    "    LIMIT 6\n",
    "\"\"\")\n",
    "cols = [column[0] for column in cur.description]  # 열 이름 가져오기\n",
    "rows = cur.fetchall()  # 행 정보 가져오기\n",
    "fetchall = pd.DataFrame.from_records(data=rows, columns=cols)\n",
    "fetchall"
   ]
  },
  {
   "cell_type": "code",
   "execution_count": 189,
   "id": "b19acd7d-a97a-4188-bd78-0121a5abe542",
   "metadata": {},
   "outputs": [
    {
     "data": {
      "text/html": [
       "<div>\n",
       "<style scoped>\n",
       "    .dataframe tbody tr th:only-of-type {\n",
       "        vertical-align: middle;\n",
       "    }\n",
       "\n",
       "    .dataframe tbody tr th {\n",
       "        vertical-align: top;\n",
       "    }\n",
       "\n",
       "    .dataframe thead th {\n",
       "        text-align: right;\n",
       "    }\n",
       "</style>\n",
       "<table border=\"1\" class=\"dataframe\">\n",
       "  <thead>\n",
       "    <tr style=\"text-align: right;\">\n",
       "      <th></th>\n",
       "      <th>강의코드</th>\n",
       "      <th>강의년도</th>\n",
       "      <th>강의학기</th>\n",
       "      <th>제공일자</th>\n",
       "      <th>강의명</th>\n",
       "      <th>교육분류</th>\n",
       "      <th>교수코드</th>\n",
       "      <th>담당교수명</th>\n",
       "      <th>담당분야</th>\n",
       "      <th>제공대학명</th>\n",
       "      <th>대학소재지</th>\n",
       "      <th>구분</th>\n",
       "    </tr>\n",
       "  </thead>\n",
       "  <tbody>\n",
       "    <tr>\n",
       "      <th>0</th>\n",
       "      <td>1095582</td>\n",
       "      <td>2015</td>\n",
       "      <td>1</td>\n",
       "      <td>2015-08-30</td>\n",
       "      <td>대학수학1</td>\n",
       "      <td>수학ㆍ물리ㆍ천문ㆍ지리</td>\n",
       "      <td>0</td>\n",
       "      <td>안상욱</td>\n",
       "      <td>자연계열</td>\n",
       "      <td>한경대학교</td>\n",
       "      <td>경기도</td>\n",
       "      <td>국립</td>\n",
       "    </tr>\n",
       "    <tr>\n",
       "      <th>1</th>\n",
       "      <td>1104074</td>\n",
       "      <td>2015</td>\n",
       "      <td>1</td>\n",
       "      <td>2015-09-14</td>\n",
       "      <td>수학1</td>\n",
       "      <td>수학ㆍ물리ㆍ천문ㆍ지리</td>\n",
       "      <td>1</td>\n",
       "      <td>이중호</td>\n",
       "      <td>자연계열</td>\n",
       "      <td>가천대학교</td>\n",
       "      <td>경기도</td>\n",
       "      <td>사립</td>\n",
       "    </tr>\n",
       "    <tr>\n",
       "      <th>2</th>\n",
       "      <td>1110603</td>\n",
       "      <td>2015</td>\n",
       "      <td>1</td>\n",
       "      <td>2015-10-08</td>\n",
       "      <td>미적분학</td>\n",
       "      <td>수학ㆍ물리ㆍ천문ㆍ지리</td>\n",
       "      <td>2</td>\n",
       "      <td>최수한</td>\n",
       "      <td>자연계열</td>\n",
       "      <td>단국대학교</td>\n",
       "      <td>경기도</td>\n",
       "      <td>사립</td>\n",
       "    </tr>\n",
       "    <tr>\n",
       "      <th>3</th>\n",
       "      <td>1112400</td>\n",
       "      <td>2015</td>\n",
       "      <td>1</td>\n",
       "      <td>2015-11-02</td>\n",
       "      <td>공학수학1</td>\n",
       "      <td>수학ㆍ물리ㆍ천문ㆍ지리</td>\n",
       "      <td>3</td>\n",
       "      <td>김문현</td>\n",
       "      <td>자연계열</td>\n",
       "      <td>성균관대학교</td>\n",
       "      <td>서울특별시</td>\n",
       "      <td>사립</td>\n",
       "    </tr>\n",
       "    <tr>\n",
       "      <th>4</th>\n",
       "      <td>1118072</td>\n",
       "      <td>2015</td>\n",
       "      <td>2</td>\n",
       "      <td>2015-12-16</td>\n",
       "      <td>정수론</td>\n",
       "      <td>수학ㆍ물리ㆍ천문ㆍ지리</td>\n",
       "      <td>4</td>\n",
       "      <td>이상준</td>\n",
       "      <td>자연계열</td>\n",
       "      <td>덕성여자대학교</td>\n",
       "      <td>서울특별시</td>\n",
       "      <td>사립</td>\n",
       "    </tr>\n",
       "    <tr>\n",
       "      <th>5</th>\n",
       "      <td>1118158</td>\n",
       "      <td>2015</td>\n",
       "      <td>2</td>\n",
       "      <td>2015-12-16</td>\n",
       "      <td>확률론</td>\n",
       "      <td>수학ㆍ물리ㆍ천문ㆍ지리</td>\n",
       "      <td>4</td>\n",
       "      <td>이상준</td>\n",
       "      <td>자연계열</td>\n",
       "      <td>덕성여자대학교</td>\n",
       "      <td>서울특별시</td>\n",
       "      <td>사립</td>\n",
       "    </tr>\n",
       "  </tbody>\n",
       "</table>\n",
       "</div>"
      ],
      "text/plain": [
       "      강의코드  강의년도  강의학기        제공일자    강의명         교육분류  교수코드 담당교수명  담당분야  \\\n",
       "0  1095582  2015     1  2015-08-30  대학수학1  수학ㆍ물리ㆍ천문ㆍ지리     0   안상욱  자연계열   \n",
       "1  1104074  2015     1  2015-09-14    수학1  수학ㆍ물리ㆍ천문ㆍ지리     1   이중호  자연계열   \n",
       "2  1110603  2015     1  2015-10-08   미적분학  수학ㆍ물리ㆍ천문ㆍ지리     2   최수한  자연계열   \n",
       "3  1112400  2015     1  2015-11-02  공학수학1  수학ㆍ물리ㆍ천문ㆍ지리     3   김문현  자연계열   \n",
       "4  1118072  2015     2  2015-12-16    정수론  수학ㆍ물리ㆍ천문ㆍ지리     4   이상준  자연계열   \n",
       "5  1118158  2015     2  2015-12-16    확률론  수학ㆍ물리ㆍ천문ㆍ지리     4   이상준  자연계열   \n",
       "\n",
       "     제공대학명  대학소재지  구분  \n",
       "0    한경대학교    경기도  국립  \n",
       "1    가천대학교    경기도  사립  \n",
       "2    단국대학교    경기도  사립  \n",
       "3   성균관대학교  서울특별시  사립  \n",
       "4  덕성여자대학교  서울특별시  사립  \n",
       "5  덕성여자대학교  서울특별시  사립  "
      ]
     },
     "execution_count": 189,
     "metadata": {},
     "output_type": "execute_result"
    }
   ],
   "source": [
    "#위 테이블과 강의교육분류를 내부 조인\n",
    "cur.execute(\"SELECT * FROM course_classed LIMIT 6\")\n",
    "cur.execute(\"\"\"\n",
    "    SELECT norm_course.강의코드 AS 강의코드, 강의년도, 강의학기, 제공일자,\n",
    "           course_classed.강의명 AS 강의명, 교육분류,\n",
    "           professor.교수코드 AS 교수코드, 담당교수명, 담당분야,\n",
    "           university.제공대학명 AS 제공대학명, 대학소재지, 구분\n",
    "    FROM university \n",
    "    INNER JOIN professor ON university.제공대학명 = professor.제공대학명\n",
    "    INNER JOIN charge ON professor.교수코드 = charge.교수코드\n",
    "    INNER JOIN norm_course ON charge.강의코드 = norm_course.강의코드\n",
    "    INNER JOIN course_classed ON norm_course.강의명 = course_classed.강의명 \n",
    "    LIMIT 6\n",
    "\"\"\")\n",
    "cols = [column[0] for column in cur.description]  # 열 이름 가져오기\n",
    "rows = cur.fetchall()  # 행 정보 가져오기\n",
    "data_df = pd.DataFrame.from_records(data=rows, columns=cols)\n",
    "data_df"
   ]
  },
  {
   "cell_type": "markdown",
   "id": "1a6aed47-2b3f-4e6d-ad53-6787f2e1489d",
   "metadata": {
    "jp-MarkdownHeadingCollapsed": true
   },
   "source": [
    "### 4. 정보 추출을 위한 주요 변수 및 목표 서술"
   ]
  },
  {
   "cell_type": "markdown",
   "id": "bbf1d6c8-673d-495c-bd99-4e93bd048b6b",
   "metadata": {},
   "source": [
    "> 대학소재지, 대학명, 대학구분, 강의년도, 강의학기\n",
    "-> 시간의 흐름에 따라 제공되는 강의 수가 어떻게 바뀌는지"
   ]
  },
  {
   "cell_type": "code",
   "execution_count": 268,
   "id": "595f40cf-0575-4150-a4fd-cb5fd0a1f537",
   "metadata": {},
   "outputs": [],
   "source": [
    "conn = sqlite3.connect(\"/Users/99ksh/TDB/kocw.db\")\n",
    "cur = conn.cursor()"
   ]
  },
  {
   "cell_type": "code",
   "execution_count": 362,
   "id": "58d1a28c-4308-47f4-be6d-35ed5b7fb757",
   "metadata": {},
   "outputs": [
    {
     "data": {
      "text/plain": [
       "[(127521, '윤리학 개론', 2009, 1, '연세대학교', '2009-03-12'),\n",
       " (127676, '발명과 특허', 2009, 1, '부경대학교', '2009-04-30'),\n",
       " (128045, '연구방법론', 2009, 1, '삼육대학교', '2015-08-30'),\n",
       " (128322, '사회복지 개론', 2009, 1, '을지대학교', '2009-06-30'),\n",
       " (128348, '부부 이마고 치료', 2009, 1, '수도국제대학원대학교', '2022-09-28'),\n",
       " (128362, '레크리에이션 지도', 2009, 1, '공주대학교', '2009-06-30')]"
      ]
     },
     "execution_count": 362,
     "metadata": {},
     "output_type": "execute_result"
    }
   ],
   "source": [
    "cur.execute(\"SELECT * FROM norm_course LIMIT 6\")\n",
    "cur.fetchall()"
   ]
  },
  {
   "cell_type": "code",
   "execution_count": 363,
   "id": "16dded9a-4ac1-4990-98d6-5e0ecdb06204",
   "metadata": {},
   "outputs": [
    {
     "data": {
      "text/plain": [
       "[(1, 2007, 1),\n",
       " (1414, 2009, 1),\n",
       " (85, 2009, 2),\n",
       " (179, 2010, 1),\n",
       " (205, 2010, 2),\n",
       " (431, 2011, 1),\n",
       " (466, 2011, 2),\n",
       " (714, 2012, 1),\n",
       " (724, 2012, 2),\n",
       " (771, 2013, 1),\n",
       " (769, 2013, 2),\n",
       " (777, 2014, 1),\n",
       " (951, 2014, 2),\n",
       " (799, 2015, 1),\n",
       " (975, 2015, 2),\n",
       " (718, 2016, 1),\n",
       " (801, 2016, 2),\n",
       " (621, 2017, 1),\n",
       " (861, 2017, 2),\n",
       " (469, 2018, 1),\n",
       " (576, 2018, 2),\n",
       " (466, 2019, 1),\n",
       " (641, 2019, 2),\n",
       " (378, 2020, 1),\n",
       " (635, 2020, 2),\n",
       " (666, 2021, 1),\n",
       " (480, 2021, 2),\n",
       " (213, 2022, 1),\n",
       " (28, 2022, 2)]"
      ]
     },
     "execution_count": 363,
     "metadata": {},
     "output_type": "execute_result"
    }
   ],
   "source": [
    "cur.execute(\"\"\"SELECT COUNT(*) AS 강의수, 강의년도, 강의학기\n",
    "               FROM norm_course GROUP BY 강의년도, 강의학기\n",
    "\"\"\")\n",
    "\n",
    "cur.fetchall()"
   ]
  },
  {
   "cell_type": "code",
   "execution_count": 364,
   "id": "934a37f9-c033-4901-a705-d46c54190c5a",
   "metadata": {},
   "outputs": [
    {
     "data": {
      "text/html": [
       "<div>\n",
       "<style scoped>\n",
       "    .dataframe tbody tr th:only-of-type {\n",
       "        vertical-align: middle;\n",
       "    }\n",
       "\n",
       "    .dataframe tbody tr th {\n",
       "        vertical-align: top;\n",
       "    }\n",
       "\n",
       "    .dataframe thead th {\n",
       "        text-align: right;\n",
       "    }\n",
       "</style>\n",
       "<table border=\"1\" class=\"dataframe\">\n",
       "  <thead>\n",
       "    <tr style=\"text-align: right;\">\n",
       "      <th></th>\n",
       "      <th>강의수</th>\n",
       "      <th>강의년도</th>\n",
       "      <th>강의학기</th>\n",
       "    </tr>\n",
       "  </thead>\n",
       "  <tbody>\n",
       "    <tr>\n",
       "      <th>0</th>\n",
       "      <td>1</td>\n",
       "      <td>2007</td>\n",
       "      <td>1</td>\n",
       "    </tr>\n",
       "    <tr>\n",
       "      <th>1</th>\n",
       "      <td>1414</td>\n",
       "      <td>2009</td>\n",
       "      <td>1</td>\n",
       "    </tr>\n",
       "    <tr>\n",
       "      <th>2</th>\n",
       "      <td>85</td>\n",
       "      <td>2009</td>\n",
       "      <td>2</td>\n",
       "    </tr>\n",
       "    <tr>\n",
       "      <th>3</th>\n",
       "      <td>179</td>\n",
       "      <td>2010</td>\n",
       "      <td>1</td>\n",
       "    </tr>\n",
       "    <tr>\n",
       "      <th>4</th>\n",
       "      <td>205</td>\n",
       "      <td>2010</td>\n",
       "      <td>2</td>\n",
       "    </tr>\n",
       "    <tr>\n",
       "      <th>5</th>\n",
       "      <td>431</td>\n",
       "      <td>2011</td>\n",
       "      <td>1</td>\n",
       "    </tr>\n",
       "    <tr>\n",
       "      <th>6</th>\n",
       "      <td>466</td>\n",
       "      <td>2011</td>\n",
       "      <td>2</td>\n",
       "    </tr>\n",
       "    <tr>\n",
       "      <th>7</th>\n",
       "      <td>714</td>\n",
       "      <td>2012</td>\n",
       "      <td>1</td>\n",
       "    </tr>\n",
       "    <tr>\n",
       "      <th>8</th>\n",
       "      <td>724</td>\n",
       "      <td>2012</td>\n",
       "      <td>2</td>\n",
       "    </tr>\n",
       "    <tr>\n",
       "      <th>9</th>\n",
       "      <td>771</td>\n",
       "      <td>2013</td>\n",
       "      <td>1</td>\n",
       "    </tr>\n",
       "    <tr>\n",
       "      <th>10</th>\n",
       "      <td>769</td>\n",
       "      <td>2013</td>\n",
       "      <td>2</td>\n",
       "    </tr>\n",
       "    <tr>\n",
       "      <th>11</th>\n",
       "      <td>777</td>\n",
       "      <td>2014</td>\n",
       "      <td>1</td>\n",
       "    </tr>\n",
       "    <tr>\n",
       "      <th>12</th>\n",
       "      <td>951</td>\n",
       "      <td>2014</td>\n",
       "      <td>2</td>\n",
       "    </tr>\n",
       "    <tr>\n",
       "      <th>13</th>\n",
       "      <td>799</td>\n",
       "      <td>2015</td>\n",
       "      <td>1</td>\n",
       "    </tr>\n",
       "    <tr>\n",
       "      <th>14</th>\n",
       "      <td>975</td>\n",
       "      <td>2015</td>\n",
       "      <td>2</td>\n",
       "    </tr>\n",
       "    <tr>\n",
       "      <th>15</th>\n",
       "      <td>718</td>\n",
       "      <td>2016</td>\n",
       "      <td>1</td>\n",
       "    </tr>\n",
       "    <tr>\n",
       "      <th>16</th>\n",
       "      <td>801</td>\n",
       "      <td>2016</td>\n",
       "      <td>2</td>\n",
       "    </tr>\n",
       "    <tr>\n",
       "      <th>17</th>\n",
       "      <td>621</td>\n",
       "      <td>2017</td>\n",
       "      <td>1</td>\n",
       "    </tr>\n",
       "    <tr>\n",
       "      <th>18</th>\n",
       "      <td>861</td>\n",
       "      <td>2017</td>\n",
       "      <td>2</td>\n",
       "    </tr>\n",
       "    <tr>\n",
       "      <th>19</th>\n",
       "      <td>469</td>\n",
       "      <td>2018</td>\n",
       "      <td>1</td>\n",
       "    </tr>\n",
       "    <tr>\n",
       "      <th>20</th>\n",
       "      <td>576</td>\n",
       "      <td>2018</td>\n",
       "      <td>2</td>\n",
       "    </tr>\n",
       "    <tr>\n",
       "      <th>21</th>\n",
       "      <td>466</td>\n",
       "      <td>2019</td>\n",
       "      <td>1</td>\n",
       "    </tr>\n",
       "    <tr>\n",
       "      <th>22</th>\n",
       "      <td>641</td>\n",
       "      <td>2019</td>\n",
       "      <td>2</td>\n",
       "    </tr>\n",
       "    <tr>\n",
       "      <th>23</th>\n",
       "      <td>378</td>\n",
       "      <td>2020</td>\n",
       "      <td>1</td>\n",
       "    </tr>\n",
       "    <tr>\n",
       "      <th>24</th>\n",
       "      <td>635</td>\n",
       "      <td>2020</td>\n",
       "      <td>2</td>\n",
       "    </tr>\n",
       "    <tr>\n",
       "      <th>25</th>\n",
       "      <td>666</td>\n",
       "      <td>2021</td>\n",
       "      <td>1</td>\n",
       "    </tr>\n",
       "    <tr>\n",
       "      <th>26</th>\n",
       "      <td>480</td>\n",
       "      <td>2021</td>\n",
       "      <td>2</td>\n",
       "    </tr>\n",
       "    <tr>\n",
       "      <th>27</th>\n",
       "      <td>213</td>\n",
       "      <td>2022</td>\n",
       "      <td>1</td>\n",
       "    </tr>\n",
       "    <tr>\n",
       "      <th>28</th>\n",
       "      <td>28</td>\n",
       "      <td>2022</td>\n",
       "      <td>2</td>\n",
       "    </tr>\n",
       "  </tbody>\n",
       "</table>\n",
       "</div>"
      ],
      "text/plain": [
       "     강의수  강의년도  강의학기\n",
       "0      1  2007     1\n",
       "1   1414  2009     1\n",
       "2     85  2009     2\n",
       "3    179  2010     1\n",
       "4    205  2010     2\n",
       "5    431  2011     1\n",
       "6    466  2011     2\n",
       "7    714  2012     1\n",
       "8    724  2012     2\n",
       "9    771  2013     1\n",
       "10   769  2013     2\n",
       "11   777  2014     1\n",
       "12   951  2014     2\n",
       "13   799  2015     1\n",
       "14   975  2015     2\n",
       "15   718  2016     1\n",
       "16   801  2016     2\n",
       "17   621  2017     1\n",
       "18   861  2017     2\n",
       "19   469  2018     1\n",
       "20   576  2018     2\n",
       "21   466  2019     1\n",
       "22   641  2019     2\n",
       "23   378  2020     1\n",
       "24   635  2020     2\n",
       "25   666  2021     1\n",
       "26   480  2021     2\n",
       "27   213  2022     1\n",
       "28    28  2022     2"
      ]
     },
     "execution_count": 364,
     "metadata": {},
     "output_type": "execute_result"
    }
   ],
   "source": [
    "cur.execute(\"\"\"SELECT COUNT(*) AS 강의수, 강의년도, 강의학기\n",
    "               FROM norm_course GROUP BY 강의년도, 강의학기\n",
    "\"\"\")\n",
    "cols = [column[0] for column in cur.description]  # 열 이름 가져오기\n",
    "rows = cur.fetchall()  # 행 정보 가져오기\n",
    "df_time = pd.DataFrame.from_records(data=rows, columns=cols)\n",
    "df_time"
   ]
  },
  {
   "cell_type": "code",
   "execution_count": 382,
   "id": "cb7dec4e-0cff-436e-9be5-656b0ba2e19e",
   "metadata": {},
   "outputs": [
    {
     "data": {
      "text/plain": [
       "<Axes: xlabel='강의년도'>"
      ]
     },
     "execution_count": 382,
     "metadata": {},
     "output_type": "execute_result"
    },
    {
     "data": {
      "image/png": "[encoded data removed]",
      "text/plain": [
       "<Figure size 640x480 with 1 Axes>"
      ]
     },
     "metadata": {},
     "output_type": "display_data"
    }
   ],
   "source": [
    "## 해당 코드는 발표 시 블락처리(필요 없음)\n",
    "featured_df = df_time.assign(강의학기 = lambda _df : _df.강의학기.map(lambda x : '-01-01' if x == 1 else '-07-01'))\\\n",
    ".assign(강의년도 = lambda _df : _df.astype('str').강의년도).assign(강의년도 = lambda _df : _df.강의년도 + _df.강의학기)\\\n",
    ".drop('강의학기', axis = 1).assign(강의년도 = lambda _df : pd.to_datetime(_df.강의년도))\n",
    "\n",
    "featured_df.plot.line(x = '강의년도', y = '강의수')"
   ]
  },
  {
   "attachments": {
    "e49a4bd2-0c73-4a4b-9317-01b166a3ee9b.png": {
     "image/png": "[encoded data removed]"
    }
   },
   "cell_type": "markdown",
   "id": "07eb3ffd-e270-45b4-97e6-4642417fe066",
   "metadata": {},
   "source": [
    "- 강의 수가 증가하질 않는다. 왜그럴까?\n",
    "\n",
    "- K-MOOC 운영 개시일 : 2015년 10월.\n",
    "- 실제로 2015년 2학기를 기점으로 강의 수가 내려가는 추세인 것을 확인할 수 있음. 기존에 KOCW에서만 강의가 제공되었지만 K-MOOC이 새로 서비스를 시작하면서 제공되는 강의들이 KOCW와 K-MOOC으로 나뉘어져서 KOCW에 대한 의존도가 줄어들었기 떄문에 나타나는 현상이라고 생각된다.\n",
    "\n",
    "\n",
    "https://namu.wiki/w/K-MOOC\n",
    "\n",
    "상단 링크의 해당 표를 이용하여 해석(운영개시일)\n",
    "첫 이상치는 운영 개시 후 사실상 첫 시기라 많았다고 해석하면 됨. 또는 2007년과 2009년 1학기 사이 값들이 집계가 잘못되었기 때문에 발생했다고 생각할 수도 있음. 아무튼 이상치라 제거가 가능하다.\n",
    "\n",
    "2015-2학기의 값과 해당 정보를 기반으로 설명.\n",
    "\n",
    "![image.png](attachment:e49a4bd2-0c73-4a4b-9317-01b166a3ee9b.png)"
   ]
  },
  {
   "cell_type": "markdown",
   "id": "13b7237c-8e4b-4a77-a7ba-d74c5f5ee245",
   "metadata": {},
   "source": [
    "추출하고자하는 정보를 +위해서 조인 및 추출 조작을 통해서 (외부) 데이터 프레임 구성"
   ]
  },
  {
   "cell_type": "markdown",
   "id": "5e6dec12-ed8b-4300-867f-0990da1b00eb",
   "metadata": {
    "jp-MarkdownHeadingCollapsed": true
   },
   "source": [
    "## 구간 별 회귀분석"
   ]
  },
  {
   "cell_type": "code",
   "execution_count": 381,
   "id": "f87be6a5-e6e8-4147-ae7a-7d9a556949c9",
   "metadata": {},
   "outputs": [
    {
     "data": {
      "text/html": [
       "<div>\n",
       "<style scoped>\n",
       "    .dataframe tbody tr th:only-of-type {\n",
       "        vertical-align: middle;\n",
       "    }\n",
       "\n",
       "    .dataframe tbody tr th {\n",
       "        vertical-align: top;\n",
       "    }\n",
       "\n",
       "    .dataframe thead th {\n",
       "        text-align: right;\n",
       "    }\n",
       "</style>\n",
       "<table border=\"1\" class=\"dataframe\">\n",
       "  <thead>\n",
       "    <tr style=\"text-align: right;\">\n",
       "      <th></th>\n",
       "      <th>강의수</th>\n",
       "      <th>강의년도</th>\n",
       "    </tr>\n",
       "  </thead>\n",
       "  <tbody>\n",
       "    <tr>\n",
       "      <th>0</th>\n",
       "      <td>1</td>\n",
       "      <td>2007-01-01</td>\n",
       "    </tr>\n",
       "    <tr>\n",
       "      <th>1</th>\n",
       "      <td>1414</td>\n",
       "      <td>2009-01-01</td>\n",
       "    </tr>\n",
       "    <tr>\n",
       "      <th>2</th>\n",
       "      <td>85</td>\n",
       "      <td>2009-07-01</td>\n",
       "    </tr>\n",
       "    <tr>\n",
       "      <th>3</th>\n",
       "      <td>179</td>\n",
       "      <td>2010-01-01</td>\n",
       "    </tr>\n",
       "    <tr>\n",
       "      <th>4</th>\n",
       "      <td>205</td>\n",
       "      <td>2010-07-01</td>\n",
       "    </tr>\n",
       "    <tr>\n",
       "      <th>5</th>\n",
       "      <td>431</td>\n",
       "      <td>2011-01-01</td>\n",
       "    </tr>\n",
       "    <tr>\n",
       "      <th>6</th>\n",
       "      <td>466</td>\n",
       "      <td>2011-07-01</td>\n",
       "    </tr>\n",
       "    <tr>\n",
       "      <th>7</th>\n",
       "      <td>714</td>\n",
       "      <td>2012-01-01</td>\n",
       "    </tr>\n",
       "    <tr>\n",
       "      <th>8</th>\n",
       "      <td>724</td>\n",
       "      <td>2012-07-01</td>\n",
       "    </tr>\n",
       "    <tr>\n",
       "      <th>9</th>\n",
       "      <td>771</td>\n",
       "      <td>2013-01-01</td>\n",
       "    </tr>\n",
       "    <tr>\n",
       "      <th>10</th>\n",
       "      <td>769</td>\n",
       "      <td>2013-07-01</td>\n",
       "    </tr>\n",
       "    <tr>\n",
       "      <th>11</th>\n",
       "      <td>777</td>\n",
       "      <td>2014-01-01</td>\n",
       "    </tr>\n",
       "    <tr>\n",
       "      <th>12</th>\n",
       "      <td>951</td>\n",
       "      <td>2014-07-01</td>\n",
       "    </tr>\n",
       "    <tr>\n",
       "      <th>13</th>\n",
       "      <td>799</td>\n",
       "      <td>2015-01-01</td>\n",
       "    </tr>\n",
       "    <tr>\n",
       "      <th>14</th>\n",
       "      <td>975</td>\n",
       "      <td>2015-07-01</td>\n",
       "    </tr>\n",
       "    <tr>\n",
       "      <th>15</th>\n",
       "      <td>718</td>\n",
       "      <td>2016-01-01</td>\n",
       "    </tr>\n",
       "    <tr>\n",
       "      <th>16</th>\n",
       "      <td>801</td>\n",
       "      <td>2016-07-01</td>\n",
       "    </tr>\n",
       "    <tr>\n",
       "      <th>17</th>\n",
       "      <td>621</td>\n",
       "      <td>2017-01-01</td>\n",
       "    </tr>\n",
       "    <tr>\n",
       "      <th>18</th>\n",
       "      <td>861</td>\n",
       "      <td>2017-07-01</td>\n",
       "    </tr>\n",
       "    <tr>\n",
       "      <th>19</th>\n",
       "      <td>469</td>\n",
       "      <td>2018-01-01</td>\n",
       "    </tr>\n",
       "    <tr>\n",
       "      <th>20</th>\n",
       "      <td>576</td>\n",
       "      <td>2018-07-01</td>\n",
       "    </tr>\n",
       "    <tr>\n",
       "      <th>21</th>\n",
       "      <td>466</td>\n",
       "      <td>2019-01-01</td>\n",
       "    </tr>\n",
       "    <tr>\n",
       "      <th>22</th>\n",
       "      <td>641</td>\n",
       "      <td>2019-07-01</td>\n",
       "    </tr>\n",
       "    <tr>\n",
       "      <th>23</th>\n",
       "      <td>378</td>\n",
       "      <td>2020-01-01</td>\n",
       "    </tr>\n",
       "    <tr>\n",
       "      <th>24</th>\n",
       "      <td>635</td>\n",
       "      <td>2020-07-01</td>\n",
       "    </tr>\n",
       "    <tr>\n",
       "      <th>25</th>\n",
       "      <td>666</td>\n",
       "      <td>2021-01-01</td>\n",
       "    </tr>\n",
       "    <tr>\n",
       "      <th>26</th>\n",
       "      <td>480</td>\n",
       "      <td>2021-07-01</td>\n",
       "    </tr>\n",
       "    <tr>\n",
       "      <th>27</th>\n",
       "      <td>213</td>\n",
       "      <td>2022-01-01</td>\n",
       "    </tr>\n",
       "    <tr>\n",
       "      <th>28</th>\n",
       "      <td>28</td>\n",
       "      <td>2022-07-01</td>\n",
       "    </tr>\n",
       "  </tbody>\n",
       "</table>\n",
       "</div>"
      ],
      "text/plain": [
       "     강의수       강의년도\n",
       "0      1 2007-01-01\n",
       "1   1414 2009-01-01\n",
       "2     85 2009-07-01\n",
       "3    179 2010-01-01\n",
       "4    205 2010-07-01\n",
       "5    431 2011-01-01\n",
       "6    466 2011-07-01\n",
       "7    714 2012-01-01\n",
       "8    724 2012-07-01\n",
       "9    771 2013-01-01\n",
       "10   769 2013-07-01\n",
       "11   777 2014-01-01\n",
       "12   951 2014-07-01\n",
       "13   799 2015-01-01\n",
       "14   975 2015-07-01\n",
       "15   718 2016-01-01\n",
       "16   801 2016-07-01\n",
       "17   621 2017-01-01\n",
       "18   861 2017-07-01\n",
       "19   469 2018-01-01\n",
       "20   576 2018-07-01\n",
       "21   466 2019-01-01\n",
       "22   641 2019-07-01\n",
       "23   378 2020-01-01\n",
       "24   635 2020-07-01\n",
       "25   666 2021-01-01\n",
       "26   480 2021-07-01\n",
       "27   213 2022-01-01\n",
       "28    28 2022-07-01"
      ]
     },
     "execution_count": 381,
     "metadata": {},
     "output_type": "execute_result"
    }
   ],
   "source": [
    "## 해당 코드는 발표 시 블락처리하고, 그냥 아래 데이터프레임처럼 만들었다고 해주세요.\n",
    "featured_df = df_time.assign(강의학기 = lambda _df : _df.강의학기.map(lambda x : '-01-01' if x == 1 else '-07-01'))\\\n",
    ".assign(강의년도 = lambda _df : _df.astype('str').강의년도).assign(강의년도 = lambda _df : _df.강의년도 + _df.강의학기)\\\n",
    ".drop('강의학기', axis = 1).assign(강의년도 = lambda _df : pd.to_datetime(_df.강의년도))\n",
    "\n",
    "featured_df"
   ]
  },
  {
   "cell_type": "code",
   "execution_count": 382,
   "id": "6c1df25d-7b3d-4e37-867c-4a743af8639e",
   "metadata": {},
   "outputs": [
    {
     "data": {
      "text/plain": [
       "<Axes: xlabel='강의년도'>"
      ]
     },
     "execution_count": 382,
     "metadata": {},
     "output_type": "execute_result"
    },
    {
     "data": {
      "image/png": "[encoded data removed]",
      "text/plain": [
       "<Figure size 640x480 with 1 Axes>"
      ]
     },
     "metadata": {},
     "output_type": "display_data"
    }
   ],
   "source": [
    "featured_df.plot.line(x = '강의년도', y = '강의수')"
   ]
  },
  {
   "cell_type": "code",
   "execution_count": 368,
   "id": "1a29f38e-e760-4dfa-9326-099a0fcb49e0",
   "metadata": {},
   "outputs": [],
   "source": [
    "## 1. data\n",
    "X = pd.DataFrame({'강의년도' : list(featured_df.drop(1).index)}).assign(구간 = lambda _df : _df.강의년도.map(lambda x : 0 if x <= 14 else x - 14))\n",
    "X.iloc[0, 0] = -3\n",
    "y = featured_df.drop(1).강의수"
   ]
  },
  {
   "cell_type": "code",
   "execution_count": 369,
   "id": "abc5e7d3-7d99-4cd0-9aa8-ef13cef4fac7",
   "metadata": {},
   "outputs": [],
   "source": [
    "## 2. predictor\n",
    "predictr = sklearn.linear_model.LinearRegression()"
   ]
  },
  {
   "cell_type": "code",
   "execution_count": 370,
   "id": "4b6169ce-b7c2-4835-a93c-6ff81f3ba358",
   "metadata": {},
   "outputs": [
    {
     "data": {
      "text/html": [
       "<style>#sk-container-id-3 {\n",
       "  /* Definition of color scheme common for light and dark mode */\n",
       "  --sklearn-color-text: black;\n",
       "  --sklearn-color-line: gray;\n",
       "  /* Definition of color scheme for unfitted estimators */\n",
       "  --sklearn-color-unfitted-level-0: #fff5e6;\n",
       "  --sklearn-color-unfitted-level-1: #f6e4d2;\n",
       "  --sklearn-color-unfitted-level-2: #ffe0b3;\n",
       "  --sklearn-color-unfitted-level-3: chocolate;\n",
       "  /* Definition of color scheme for fitted estimators */\n",
       "  --sklearn-color-fitted-level-0: #f0f8ff;\n",
       "  --sklearn-color-fitted-level-1: #d4ebff;\n",
       "  --sklearn-color-fitted-level-2: #b3dbfd;\n",
       "  --sklearn-color-fitted-level-3: cornflowerblue;\n",
       "\n",
       "  /* Specific color for light theme */\n",
       "  --sklearn-color-text-on-default-background: var(--sg-text-color, var(--theme-code-foreground, var(--jp-content-font-color1, black)));\n",
       "  --sklearn-color-background: var(--sg-background-color, var(--theme-background, var(--jp-layout-color0, white)));\n",
       "  --sklearn-color-border-box: var(--sg-text-color, var(--theme-code-foreground, var(--jp-content-font-color1, black)));\n",
       "  --sklearn-color-icon: #696969;\n",
       "\n",
       "  @media (prefers-color-scheme: dark) {\n",
       "    /* Redefinition of color scheme for dark theme */\n",
       "    --sklearn-color-text-on-default-background: var(--sg-text-color, var(--theme-code-foreground, var(--jp-content-font-color1, white)));\n",
       "    --sklearn-color-background: var(--sg-background-color, var(--theme-background, var(--jp-layout-color0, #111)));\n",
       "    --sklearn-color-border-box: var(--sg-text-color, var(--theme-code-foreground, var(--jp-content-font-color1, white)));\n",
       "    --sklearn-color-icon: #878787;\n",
       "  }\n",
       "}\n",
       "\n",
       "#sk-container-id-3 {\n",
       "  color: var(--sklearn-color-text);\n",
       "}\n",
       "\n",
       "#sk-container-id-3 pre {\n",
       "  padding: 0;\n",
       "}\n",
       "\n",
       "#sk-container-id-3 input.sk-hidden--visually {\n",
       "  border: 0;\n",
       "  clip: rect(1px 1px 1px 1px);\n",
       "  clip: rect(1px, 1px, 1px, 1px);\n",
       "  height: 1px;\n",
       "  margin: -1px;\n",
       "  overflow: hidden;\n",
       "  padding: 0;\n",
       "  position: absolute;\n",
       "  width: 1px;\n",
       "}\n",
       "\n",
       "#sk-container-id-3 div.sk-dashed-wrapped {\n",
       "  border: 1px dashed var(--sklearn-color-line);\n",
       "  margin: 0 0.4em 0.5em 0.4em;\n",
       "  box-sizing: border-box;\n",
       "  padding-bottom: 0.4em;\n",
       "  background-color: var(--sklearn-color-background);\n",
       "}\n",
       "\n",
       "#sk-container-id-3 div.sk-container {\n",
       "  /* jupyter's `normalize.less` sets `[hidden] { display: none; }`\n",
       "     but bootstrap.min.css set `[hidden] { display: none !important; }`\n",
       "     so we also need the `!important` here to be able to override the\n",
       "     default hidden behavior on the sphinx rendered scikit-learn.org.\n",
       "     See: https://github.com/scikit-learn/scikit-learn/issues/21755 */\n",
       "  display: inline-block !important;\n",
       "  position: relative;\n",
       "}\n",
       "\n",
       "#sk-container-id-3 div.sk-text-repr-fallback {\n",
       "  display: none;\n",
       "}\n",
       "\n",
       "div.sk-parallel-item,\n",
       "div.sk-serial,\n",
       "div.sk-item {\n",
       "  /* draw centered vertical line to link estimators */\n",
       "  background-image: linear-gradient(var(--sklearn-color-text-on-default-background), var(--sklearn-color-text-on-default-background));\n",
       "  background-size: 2px 100%;\n",
       "  background-repeat: no-repeat;\n",
       "  background-position: center center;\n",
       "}\n",
       "\n",
       "/* Parallel-specific style estimator block */\n",
       "\n",
       "#sk-container-id-3 div.sk-parallel-item::after {\n",
       "  content: \"\";\n",
       "  width: 100%;\n",
       "  border-bottom: 2px solid var(--sklearn-color-text-on-default-background);\n",
       "  flex-grow: 1;\n",
       "}\n",
       "\n",
       "#sk-container-id-3 div.sk-parallel {\n",
       "  display: flex;\n",
       "  align-items: stretch;\n",
       "  justify-content: center;\n",
       "  background-color: var(--sklearn-color-background);\n",
       "  position: relative;\n",
       "}\n",
       "\n",
       "#sk-container-id-3 div.sk-parallel-item {\n",
       "  display: flex;\n",
       "  flex-direction: column;\n",
       "}\n",
       "\n",
       "#sk-container-id-3 div.sk-parallel-item:first-child::after {\n",
       "  align-self: flex-end;\n",
       "  width: 50%;\n",
       "}\n",
       "\n",
       "#sk-container-id-3 div.sk-parallel-item:last-child::after {\n",
       "  align-self: flex-start;\n",
       "  width: 50%;\n",
       "}\n",
       "\n",
       "#sk-container-id-3 div.sk-parallel-item:only-child::after {\n",
       "  width: 0;\n",
       "}\n",
       "\n",
       "/* Serial-specific style estimator block */\n",
       "\n",
       "#sk-container-id-3 div.sk-serial {\n",
       "  display: flex;\n",
       "  flex-direction: column;\n",
       "  align-items: center;\n",
       "  background-color: var(--sklearn-color-background);\n",
       "  padding-right: 1em;\n",
       "  padding-left: 1em;\n",
       "}\n",
       "\n",
       "\n",
       "/* Toggleable style: style used for estimator/Pipeline/ColumnTransformer box that is\n",
       "clickable and can be expanded/collapsed.\n",
       "- Pipeline and ColumnTransformer use this feature and define the default style\n",
       "- Estimators will overwrite some part of the style using the `sk-estimator` class\n",
       "*/\n",
       "\n",
       "/* Pipeline and ColumnTransformer style (default) */\n",
       "\n",
       "#sk-container-id-3 div.sk-toggleable {\n",
       "  /* Default theme specific background. It is overwritten whether we have a\n",
       "  specific estimator or a Pipeline/ColumnTransformer */\n",
       "  background-color: var(--sklearn-color-background);\n",
       "}\n",
       "\n",
       "/* Toggleable label */\n",
       "#sk-container-id-3 label.sk-toggleable__label {\n",
       "  cursor: pointer;\n",
       "  display: block;\n",
       "  width: 100%;\n",
       "  margin-bottom: 0;\n",
       "  padding: 0.5em;\n",
       "  box-sizing: border-box;\n",
       "  text-align: center;\n",
       "}\n",
       "\n",
       "#sk-container-id-3 label.sk-toggleable__label-arrow:before {\n",
       "  /* Arrow on the left of the label */\n",
       "  content: \"▸\";\n",
       "  float: left;\n",
       "  margin-right: 0.25em;\n",
       "  color: var(--sklearn-color-icon);\n",
       "}\n",
       "\n",
       "#sk-container-id-3 label.sk-toggleable__label-arrow:hover:before {\n",
       "  color: var(--sklearn-color-text);\n",
       "}\n",
       "\n",
       "/* Toggleable content - dropdown */\n",
       "\n",
       "#sk-container-id-3 div.sk-toggleable__content {\n",
       "  max-height: 0;\n",
       "  max-width: 0;\n",
       "  overflow: hidden;\n",
       "  text-align: left;\n",
       "  /* unfitted */\n",
       "  background-color: var(--sklearn-color-unfitted-level-0);\n",
       "}\n",
       "\n",
       "#sk-container-id-3 div.sk-toggleable__content.fitted {\n",
       "  /* fitted */\n",
       "  background-color: var(--sklearn-color-fitted-level-0);\n",
       "}\n",
       "\n",
       "#sk-container-id-3 div.sk-toggleable__content pre {\n",
       "  margin: 0.2em;\n",
       "  border-radius: 0.25em;\n",
       "  color: var(--sklearn-color-text);\n",
       "  /* unfitted */\n",
       "  background-color: var(--sklearn-color-unfitted-level-0);\n",
       "}\n",
       "\n",
       "#sk-container-id-3 div.sk-toggleable__content.fitted pre {\n",
       "  /* unfitted */\n",
       "  background-color: var(--sklearn-color-fitted-level-0);\n",
       "}\n",
       "\n",
       "#sk-container-id-3 input.sk-toggleable__control:checked~div.sk-toggleable__content {\n",
       "  /* Expand drop-down */\n",
       "  max-height: 200px;\n",
       "  max-width: 100%;\n",
       "  overflow: auto;\n",
       "}\n",
       "\n",
       "#sk-container-id-3 input.sk-toggleable__control:checked~label.sk-toggleable__label-arrow:before {\n",
       "  content: \"▾\";\n",
       "}\n",
       "\n",
       "/* Pipeline/ColumnTransformer-specific style */\n",
       "\n",
       "#sk-container-id-3 div.sk-label input.sk-toggleable__control:checked~label.sk-toggleable__label {\n",
       "  color: var(--sklearn-color-text);\n",
       "  background-color: var(--sklearn-color-unfitted-level-2);\n",
       "}\n",
       "\n",
       "#sk-container-id-3 div.sk-label.fitted input.sk-toggleable__control:checked~label.sk-toggleable__label {\n",
       "  background-color: var(--sklearn-color-fitted-level-2);\n",
       "}\n",
       "\n",
       "/* Estimator-specific style */\n",
       "\n",
       "/* Colorize estimator box */\n",
       "#sk-container-id-3 div.sk-estimator input.sk-toggleable__control:checked~label.sk-toggleable__label {\n",
       "  /* unfitted */\n",
       "  background-color: var(--sklearn-color-unfitted-level-2);\n",
       "}\n",
       "\n",
       "#sk-container-id-3 div.sk-estimator.fitted input.sk-toggleable__control:checked~label.sk-toggleable__label {\n",
       "  /* fitted */\n",
       "  background-color: var(--sklearn-color-fitted-level-2);\n",
       "}\n",
       "\n",
       "#sk-container-id-3 div.sk-label label.sk-toggleable__label,\n",
       "#sk-container-id-3 div.sk-label label {\n",
       "  /* The background is the default theme color */\n",
       "  color: var(--sklearn-color-text-on-default-background);\n",
       "}\n",
       "\n",
       "/* On hover, darken the color of the background */\n",
       "#sk-container-id-3 div.sk-label:hover label.sk-toggleable__label {\n",
       "  color: var(--sklearn-color-text);\n",
       "  background-color: var(--sklearn-color-unfitted-level-2);\n",
       "}\n",
       "\n",
       "/* Label box, darken color on hover, fitted */\n",
       "#sk-container-id-3 div.sk-label.fitted:hover label.sk-toggleable__label.fitted {\n",
       "  color: var(--sklearn-color-text);\n",
       "  background-color: var(--sklearn-color-fitted-level-2);\n",
       "}\n",
       "\n",
       "/* Estimator label */\n",
       "\n",
       "#sk-container-id-3 div.sk-label label {\n",
       "  font-family: monospace;\n",
       "  font-weight: bold;\n",
       "  display: inline-block;\n",
       "  line-height: 1.2em;\n",
       "}\n",
       "\n",
       "#sk-container-id-3 div.sk-label-container {\n",
       "  text-align: center;\n",
       "}\n",
       "\n",
       "/* Estimator-specific */\n",
       "#sk-container-id-3 div.sk-estimator {\n",
       "  font-family: monospace;\n",
       "  border: 1px dotted var(--sklearn-color-border-box);\n",
       "  border-radius: 0.25em;\n",
       "  box-sizing: border-box;\n",
       "  margin-bottom: 0.5em;\n",
       "  /* unfitted */\n",
       "  background-color: var(--sklearn-color-unfitted-level-0);\n",
       "}\n",
       "\n",
       "#sk-container-id-3 div.sk-estimator.fitted {\n",
       "  /* fitted */\n",
       "  background-color: var(--sklearn-color-fitted-level-0);\n",
       "}\n",
       "\n",
       "/* on hover */\n",
       "#sk-container-id-3 div.sk-estimator:hover {\n",
       "  /* unfitted */\n",
       "  background-color: var(--sklearn-color-unfitted-level-2);\n",
       "}\n",
       "\n",
       "#sk-container-id-3 div.sk-estimator.fitted:hover {\n",
       "  /* fitted */\n",
       "  background-color: var(--sklearn-color-fitted-level-2);\n",
       "}\n",
       "\n",
       "/* Specification for estimator info (e.g. \"i\" and \"?\") */\n",
       "\n",
       "/* Common style for \"i\" and \"?\" */\n",
       "\n",
       ".sk-estimator-doc-link,\n",
       "a:link.sk-estimator-doc-link,\n",
       "a:visited.sk-estimator-doc-link {\n",
       "  float: right;\n",
       "  font-size: smaller;\n",
       "  line-height: 1em;\n",
       "  font-family: monospace;\n",
       "  background-color: var(--sklearn-color-background);\n",
       "  border-radius: 1em;\n",
       "  height: 1em;\n",
       "  width: 1em;\n",
       "  text-decoration: none !important;\n",
       "  margin-left: 1ex;\n",
       "  /* unfitted */\n",
       "  border: var(--sklearn-color-unfitted-level-1) 1pt solid;\n",
       "  color: var(--sklearn-color-unfitted-level-1);\n",
       "}\n",
       "\n",
       ".sk-estimator-doc-link.fitted,\n",
       "a:link.sk-estimator-doc-link.fitted,\n",
       "a:visited.sk-estimator-doc-link.fitted {\n",
       "  /* fitted */\n",
       "  border: var(--sklearn-color-fitted-level-1) 1pt solid;\n",
       "  color: var(--sklearn-color-fitted-level-1);\n",
       "}\n",
       "\n",
       "/* On hover */\n",
       "div.sk-estimator:hover .sk-estimator-doc-link:hover,\n",
       ".sk-estimator-doc-link:hover,\n",
       "div.sk-label-container:hover .sk-estimator-doc-link:hover,\n",
       ".sk-estimator-doc-link:hover {\n",
       "  /* unfitted */\n",
       "  background-color: var(--sklearn-color-unfitted-level-3);\n",
       "  color: var(--sklearn-color-background);\n",
       "  text-decoration: none;\n",
       "}\n",
       "\n",
       "div.sk-estimator.fitted:hover .sk-estimator-doc-link.fitted:hover,\n",
       ".sk-estimator-doc-link.fitted:hover,\n",
       "div.sk-label-container:hover .sk-estimator-doc-link.fitted:hover,\n",
       ".sk-estimator-doc-link.fitted:hover {\n",
       "  /* fitted */\n",
       "  background-color: var(--sklearn-color-fitted-level-3);\n",
       "  color: var(--sklearn-color-background);\n",
       "  text-decoration: none;\n",
       "}\n",
       "\n",
       "/* Span, style for the box shown on hovering the info icon */\n",
       ".sk-estimator-doc-link span {\n",
       "  display: none;\n",
       "  z-index: 9999;\n",
       "  position: relative;\n",
       "  font-weight: normal;\n",
       "  right: .2ex;\n",
       "  padding: .5ex;\n",
       "  margin: .5ex;\n",
       "  width: min-content;\n",
       "  min-width: 20ex;\n",
       "  max-width: 50ex;\n",
       "  color: var(--sklearn-color-text);\n",
       "  box-shadow: 2pt 2pt 4pt #999;\n",
       "  /* unfitted */\n",
       "  background: var(--sklearn-color-unfitted-level-0);\n",
       "  border: .5pt solid var(--sklearn-color-unfitted-level-3);\n",
       "}\n",
       "\n",
       ".sk-estimator-doc-link.fitted span {\n",
       "  /* fitted */\n",
       "  background: var(--sklearn-color-fitted-level-0);\n",
       "  border: var(--sklearn-color-fitted-level-3);\n",
       "}\n",
       "\n",
       ".sk-estimator-doc-link:hover span {\n",
       "  display: block;\n",
       "}\n",
       "\n",
       "/* \"?\"-specific style due to the `<a>` HTML tag */\n",
       "\n",
       "#sk-container-id-3 a.estimator_doc_link {\n",
       "  float: right;\n",
       "  font-size: 1rem;\n",
       "  line-height: 1em;\n",
       "  font-family: monospace;\n",
       "  background-color: var(--sklearn-color-background);\n",
       "  border-radius: 1rem;\n",
       "  height: 1rem;\n",
       "  width: 1rem;\n",
       "  text-decoration: none;\n",
       "  /* unfitted */\n",
       "  color: var(--sklearn-color-unfitted-level-1);\n",
       "  border: var(--sklearn-color-unfitted-level-1) 1pt solid;\n",
       "}\n",
       "\n",
       "#sk-container-id-3 a.estimator_doc_link.fitted {\n",
       "  /* fitted */\n",
       "  border: var(--sklearn-color-fitted-level-1) 1pt solid;\n",
       "  color: var(--sklearn-color-fitted-level-1);\n",
       "}\n",
       "\n",
       "/* On hover */\n",
       "#sk-container-id-3 a.estimator_doc_link:hover {\n",
       "  /* unfitted */\n",
       "  background-color: var(--sklearn-color-unfitted-level-3);\n",
       "  color: var(--sklearn-color-background);\n",
       "  text-decoration: none;\n",
       "}\n",
       "\n",
       "#sk-container-id-3 a.estimator_doc_link.fitted:hover {\n",
       "  /* fitted */\n",
       "  background-color: var(--sklearn-color-fitted-level-3);\n",
       "}\n",
       "</style><div id=\"sk-container-id-3\" class=\"sk-top-container\"><div class=\"sk-text-repr-fallback\"><pre>LinearRegression()</pre><b>In a Jupyter environment, please rerun this cell to show the HTML representation or trust the notebook. <br />On GitHub, the HTML representation is unable to render, please try loading this page with nbviewer.org.</b></div><div class=\"sk-container\" hidden><div class=\"sk-item\"><div class=\"sk-estimator fitted sk-toggleable\"><input class=\"sk-toggleable__control sk-hidden--visually\" id=\"sk-estimator-id-3\" type=\"checkbox\" checked><label for=\"sk-estimator-id-3\" class=\"sk-toggleable__label fitted sk-toggleable__label-arrow fitted\">&nbsp;&nbsp;LinearRegression<a class=\"sk-estimator-doc-link fitted\" rel=\"noreferrer\" target=\"_blank\" href=\"https://scikit-learn.org/1.4/modules/generated/sklearn.linear_model.LinearRegression.html\">?<span>Documentation for LinearRegression</span></a><span class=\"sk-estimator-doc-link fitted\">i<span>Fitted</span></span></label><div class=\"sk-toggleable__content fitted\"><pre>LinearRegression()</pre></div> </div></div></div></div>"
      ],
      "text/plain": [
       "LinearRegression()"
      ]
     },
     "execution_count": 370,
     "metadata": {},
     "output_type": "execute_result"
    }
   ],
   "source": [
    "## 3. fitting\n",
    "predictr.fit(X, y)"
   ]
  },
  {
   "cell_type": "code",
   "execution_count": 371,
   "id": "eab1a8dd-2d1d-438f-98f4-37e992863b35",
   "metadata": {},
   "outputs": [],
   "source": [
    "## 4. prediction\n",
    "yhat = predictr.predict(X)\n",
    "yhat_matrix = pd.DataFrame({'yhat' : yhat}, index = y.index).reset_index().rename({\"yhat\" : \"강의수\"}, axis = 1)\\\n",
    ".merge(featured_df.강의년도.reset_index()).drop(\"index\", axis = 1)"
   ]
  },
  {
   "cell_type": "code",
   "execution_count": 13,
   "id": "d8254e28-a245-4704-9dc9-93cacff7016d",
   "metadata": {},
   "outputs": [
    {
     "data": {
      "text/html": [
       "<div>\n",
       "<style scoped>\n",
       "    .dataframe tbody tr th:only-of-type {\n",
       "        vertical-align: middle;\n",
       "    }\n",
       "\n",
       "    .dataframe tbody tr th {\n",
       "        vertical-align: top;\n",
       "    }\n",
       "\n",
       "    .dataframe thead th {\n",
       "        text-align: right;\n",
       "    }\n",
       "</style>\n",
       "<table border=\"1\" class=\"dataframe\">\n",
       "  <thead>\n",
       "    <tr style=\"text-align: right;\">\n",
       "      <th></th>\n",
       "      <th>강의수</th>\n",
       "      <th>강의년도</th>\n",
       "    </tr>\n",
       "  </thead>\n",
       "  <tbody>\n",
       "    <tr>\n",
       "      <th>0</th>\n",
       "      <td>-56.181910</td>\n",
       "      <td>2007-01-01</td>\n",
       "    </tr>\n",
       "    <tr>\n",
       "      <th>1</th>\n",
       "      <td>234.537627</td>\n",
       "      <td>2009-07-01</td>\n",
       "    </tr>\n",
       "    <tr>\n",
       "      <th>2</th>\n",
       "      <td>292.681535</td>\n",
       "      <td>2010-01-01</td>\n",
       "    </tr>\n",
       "    <tr>\n",
       "      <th>3</th>\n",
       "      <td>350.825442</td>\n",
       "      <td>2010-07-01</td>\n",
       "    </tr>\n",
       "    <tr>\n",
       "      <th>4</th>\n",
       "      <td>408.969350</td>\n",
       "      <td>2011-01-01</td>\n",
       "    </tr>\n",
       "    <tr>\n",
       "      <th>5</th>\n",
       "      <td>467.113257</td>\n",
       "      <td>2011-07-01</td>\n",
       "    </tr>\n",
       "    <tr>\n",
       "      <th>6</th>\n",
       "      <td>525.257165</td>\n",
       "      <td>2012-01-01</td>\n",
       "    </tr>\n",
       "    <tr>\n",
       "      <th>7</th>\n",
       "      <td>583.401072</td>\n",
       "      <td>2012-07-01</td>\n",
       "    </tr>\n",
       "    <tr>\n",
       "      <th>8</th>\n",
       "      <td>641.544980</td>\n",
       "      <td>2013-01-01</td>\n",
       "    </tr>\n",
       "    <tr>\n",
       "      <th>9</th>\n",
       "      <td>699.688887</td>\n",
       "      <td>2013-07-01</td>\n",
       "    </tr>\n",
       "    <tr>\n",
       "      <th>10</th>\n",
       "      <td>757.832795</td>\n",
       "      <td>2014-01-01</td>\n",
       "    </tr>\n",
       "    <tr>\n",
       "      <th>11</th>\n",
       "      <td>815.976703</td>\n",
       "      <td>2014-07-01</td>\n",
       "    </tr>\n",
       "    <tr>\n",
       "      <th>12</th>\n",
       "      <td>874.120610</td>\n",
       "      <td>2015-01-01</td>\n",
       "    </tr>\n",
       "    <tr>\n",
       "      <th>13</th>\n",
       "      <td>932.264518</td>\n",
       "      <td>2015-07-01</td>\n",
       "    </tr>\n",
       "    <tr>\n",
       "      <th>14</th>\n",
       "      <td>882.933705</td>\n",
       "      <td>2016-01-01</td>\n",
       "    </tr>\n",
       "    <tr>\n",
       "      <th>15</th>\n",
       "      <td>833.602893</td>\n",
       "      <td>2016-07-01</td>\n",
       "    </tr>\n",
       "    <tr>\n",
       "      <th>16</th>\n",
       "      <td>784.272081</td>\n",
       "      <td>2017-01-01</td>\n",
       "    </tr>\n",
       "    <tr>\n",
       "      <th>17</th>\n",
       "      <td>734.941269</td>\n",
       "      <td>2017-07-01</td>\n",
       "    </tr>\n",
       "    <tr>\n",
       "      <th>18</th>\n",
       "      <td>685.610457</td>\n",
       "      <td>2018-01-01</td>\n",
       "    </tr>\n",
       "    <tr>\n",
       "      <th>19</th>\n",
       "      <td>636.279645</td>\n",
       "      <td>2018-07-01</td>\n",
       "    </tr>\n",
       "    <tr>\n",
       "      <th>20</th>\n",
       "      <td>586.948832</td>\n",
       "      <td>2019-01-01</td>\n",
       "    </tr>\n",
       "    <tr>\n",
       "      <th>21</th>\n",
       "      <td>537.618020</td>\n",
       "      <td>2019-07-01</td>\n",
       "    </tr>\n",
       "    <tr>\n",
       "      <th>22</th>\n",
       "      <td>488.287208</td>\n",
       "      <td>2020-01-01</td>\n",
       "    </tr>\n",
       "    <tr>\n",
       "      <th>23</th>\n",
       "      <td>438.956396</td>\n",
       "      <td>2020-07-01</td>\n",
       "    </tr>\n",
       "    <tr>\n",
       "      <th>24</th>\n",
       "      <td>389.625584</td>\n",
       "      <td>2021-01-01</td>\n",
       "    </tr>\n",
       "    <tr>\n",
       "      <th>25</th>\n",
       "      <td>340.294772</td>\n",
       "      <td>2021-07-01</td>\n",
       "    </tr>\n",
       "    <tr>\n",
       "      <th>26</th>\n",
       "      <td>290.963959</td>\n",
       "      <td>2022-01-01</td>\n",
       "    </tr>\n",
       "    <tr>\n",
       "      <th>27</th>\n",
       "      <td>241.633147</td>\n",
       "      <td>2022-07-01</td>\n",
       "    </tr>\n",
       "  </tbody>\n",
       "</table>\n",
       "</div>"
      ],
      "text/plain": [
       "           강의수       강의년도\n",
       "0   -56.181910 2007-01-01\n",
       "1   234.537627 2009-07-01\n",
       "2   292.681535 2010-01-01\n",
       "3   350.825442 2010-07-01\n",
       "4   408.969350 2011-01-01\n",
       "5   467.113257 2011-07-01\n",
       "6   525.257165 2012-01-01\n",
       "7   583.401072 2012-07-01\n",
       "8   641.544980 2013-01-01\n",
       "9   699.688887 2013-07-01\n",
       "10  757.832795 2014-01-01\n",
       "11  815.976703 2014-07-01\n",
       "12  874.120610 2015-01-01\n",
       "13  932.264518 2015-07-01\n",
       "14  882.933705 2016-01-01\n",
       "15  833.602893 2016-07-01\n",
       "16  784.272081 2017-01-01\n",
       "17  734.941269 2017-07-01\n",
       "18  685.610457 2018-01-01\n",
       "19  636.279645 2018-07-01\n",
       "20  586.948832 2019-01-01\n",
       "21  537.618020 2019-07-01\n",
       "22  488.287208 2020-01-01\n",
       "23  438.956396 2020-07-01\n",
       "24  389.625584 2021-01-01\n",
       "25  340.294772 2021-07-01\n",
       "26  290.963959 2022-01-01\n",
       "27  241.633147 2022-07-01"
      ]
     },
     "execution_count": 13,
     "metadata": {},
     "output_type": "execute_result"
    }
   ],
   "source": [
    "yhat_matrix"
   ]
  },
  {
   "cell_type": "code",
   "execution_count": 12,
   "id": "fe2a9e65-80c9-4981-aa01-36921c78537a",
   "metadata": {},
   "outputs": [
    {
     "data": {
      "image/png": "[encoded data removed]",
      "text/plain": [
       "<Figure size 640x480 with 1 Axes>"
      ]
     },
     "metadata": {},
     "output_type": "display_data"
    }
   ],
   "source": [
    "fig, ax = plt.subplots()\n",
    "featured_df.plot.line(x=\"강의년도\", y=\"강의수\", ax=ax)\n",
    "\n",
    "ax.plot(yhat_matrix.강의년도, yhat_matrix.강의수, linestyle='-', color='r')\n",
    "\n",
    "plt.show()"
   ]
  }
 ],
 "metadata": {
  "kernelspec": {
   "display_name": "Python 3 (ipykernel)",
   "language": "python",
   "name": "python3"
  },
  "language_info": {
   "codemirror_mode": {
    "name": "ipython",
    "version": 3
   },
   "file_extension": ".py",
   "mimetype": "text/x-python",
   "name": "python",
   "nbconvert_exporter": "python",
   "pygments_lexer": "ipython3",
   "version": "3.9.18"
  }
 },
 "nbformat": 4,
 "nbformat_minor": 5
}
