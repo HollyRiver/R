{
 "cells": [
  {
   "cell_type": "markdown",
   "id": "6e050d73-626d-4788-acc5-c7ce69ed9197",
   "metadata": {},
   "source": [
    "# Chapter R Markdown"
   ]
  },
  {
   "cell_type": "markdown",
   "id": "31112180-bf41-4963-a1b7-1782a13c833d",
   "metadata": {},
   "source": [
    "`-` 레포트\n",
    "\n",
    "* 데이터 수집 및 분석 - 탐색적 자료 분석 수준\n",
    "* 결과 보고서는 R Markdown을 활용하여 html 파일로 저장\n",
    "* 해당 챕터는 시험엔 안나옴\n",
    "* PDAC Cycle : 왜, 어떻게(전처리/분석), 결론 - 서론/본론/결론\n",
    "* 서론에 내가 왜 이 주제-데이터를 선정했는가를 반드시 사용할 것\n",
    "* 본론에는 데이터 수집 방법, 출처, 분석에 시각화 결과 설명까지\n",
    "* 결론에 최종적으로 이러한 결과를 가지고 어떤 인사이트를 얻을 수 있는지 파악할 것\n",
    "\n",
    "> 분석 결과와 그 과정 : 코드까지 - 관심 있는 다른 데이터 과학자와의 협업 수준으로 설정\n",
    "\n",
    "* 제출 파일 : HTML 파일, 데이터 파일(여러 개 써도 됨), .Rmd 파일\n",
    "> 데이터 파일 기반으로 돌아가는지 확인할 거임"
   ]
  },
  {
   "cell_type": "markdown",
   "id": "eb2b485c-3ed3-4b22-9d3d-0e9d80364131",
   "metadata": {},
   "source": [
    "## 1. R Markdown 이해"
   ]
  },
  {
   "cell_type": "markdown",
   "id": "a35f45b6-f7c1-484d-bfd5-11bc90777c8b",
   "metadata": {},
   "source": [
    "### **A. 마크다운과 R Markdown**"
   ]
  },
  {
   "cell_type": "markdown",
   "id": "4909ab2b-5e41-4492-b4a3-0466ce0a9664",
   "metadata": {},
   "source": [
    "`-` Markdown\n",
    "\n",
    "* 일반 텍스트 기반 경량 마크업 언어\n",
    "* 특수 기호와 문자를 이용한 간단한 문법으로 웹 콘텐츠를 빠르게 작성할 수 있음\n",
    "* 일반 마크업 언어에 비해 문법이 쉽고 간단하며 직관적임\n",
    "\n",
    "`-` R Markdown\n",
    "\n",
    "* 마크다운을 기반으로 한 **데이터 과학을 위한 통합 문서 작성 도구**\n",
    "* HTML, PDF, MS Word 등 다양한 출력 형식을 지원\n",
    "* 파일 확장자 - `.rmd`"
   ]
  },
  {
   "cell_type": "markdown",
   "id": "2cce5a4e-b7b6-485d-aea2-9be69413a40d",
   "metadata": {},
   "source": [
    "`-` R Markdown 사용 방식\n",
    "\n",
    "1. 분석 결과에만 관심 있는 의사결정권자와의 소통\n",
    "2. 분석 결과와 그 과정에 관심 있는 다른 데이터 과학자와의 협업\n",
    "3. 데이터 과학을 수행하는 환경으로써 현대식 실험실 노트와 같은 용도"
   ]
  },
  {
   "cell_type": "markdown",
   "id": "25db27d3-ac48-474a-b310-f18faee0b361",
   "metadata": {},
   "source": [
    "`-` 대표적인 3가지 활용 방법\n",
    "\n",
    "* 문서 : `bookdown` 패키지\n",
    "* 프리젠테이션 : `xaringan`, `revealjs` 패키지\n",
    "* 웹, 블로그 : `blogdown`, `distill`, `quarto` 패키지"
   ]
  },
  {
   "cell_type": "markdown",
   "id": "a9ef74c0-6e0d-433b-8c68-92c1fbd692a0",
   "metadata": {},
   "source": [
    "## 2. R Markdown 시작하기"
   ]
  },
  {
   "cell_type": "markdown",
   "id": "54a4944b-192b-463a-a41e-ed47593cbdaf",
   "metadata": {},
   "source": [
    "* `rmarkdown`, `knitr` 패키지 자동 사용(별도 로드 필요 없음)\n",
    "* 최종 결과물 생성 : `ctrl + shift + k`"
   ]
  },
  {
   "cell_type": "markdown",
   "id": "731d4dcc-7d5c-4c4f-a197-5bd1ff8f626c",
   "metadata": {},
   "source": [
    "### **A. R Markdown 구조**"
   ]
  },
  {
   "cell_type": "markdown",
   "id": "75f3a775-f1d3-44a6-a5b2-4eacbbfe3cf2",
   "metadata": {},
   "source": [
    "* `---`로 둘러싼 YAML (option)\n",
    "* **Markdown** 텍스트\n",
    "* **R 코드 청크**"
   ]
  },
  {
   "cell_type": "markdown",
   "id": "78da865f-03f6-4ea2-aa59-a61fa1a2c6ce",
   "metadata": {},
   "source": [
    "`-` **R Markdown work flow**"
   ]
  },
  {
   "cell_type": "markdown",
   "id": "2024e98e-8230-4d04-b9f2-cb41750e1f1a",
   "metadata": {},
   "source": [
    "1. R Markdown 파일 생성\n",
    "2. 문서를 니트하면 `.Rmd` 파일을 `knitr`로 보냄\n",
    "3. `knitr`는 코드 청크를 모두 실행하고, 코드와 그 출력을 포함하는 새로운 Markdown 파일(.md) 생성\n",
    "4. 생성된 `.md` 파일은 pandoc 문서 변환기를 통해 다양한 형식(HTML, PDF, MS Word 등)으로 변환됨"
   ]
  },
  {
   "cell_type": "markdown",
   "id": "ac5762a6-72c1-47cf-b142-74bf162aff10",
   "metadata": {},
   "source": [
    "### **B. YAML Header**"
   ]
  },
  {
   "cell_type": "markdown",
   "id": "905fe040-07d0-423b-b6aa-1907e7d1bd42",
   "metadata": {},
   "source": [
    "* R Markdown 문서의 메타 데이터(meta data)로, 문서의 맨 처음에 위치해야 함\n",
    "* 문서의 제목, 저자, 작성 날짜, 출력 형식 등의 정보를 포함\n",
    "* 사용하는 R 패키지(bookdown, rticles 등)에 따라 포함할 수 있는 항목이 달라질 수 있음\n",
    "* 기본적으로 `key: value` 형식이며, `:` 바로 뒤에는 반드시 공백(space)이 있어야 함\n",
    "\n",
    "```Markdown\n",
    "---\n",
    "title: \"제목\"\n",
    "subtitle: \"부제목\"\n",
    "author: \"작성자\"\n",
    "date: \"작성일\" \n",
    "output: \n",
    "   - \"html_document\"\n",
    "   - \"word_document\"\n",
    "   - \"pdf_document\"\n",
    "   - \"md_document\"\n",
    "   - \"isoslides_presentation\"\n",
    "   - \"slidy_presentation\"\n",
    "   - \"beamer_presentation\"\n",
    "---\n",
    "```\n",
    "\n",
    "* `title`은 웹에서 실행 시 최상단 탭에 표시되는 타이틀로도 설정됨\n",
    "* output은 하나 고르면 됨\n",
    "* 크게 손댈 필요는 없음"
   ]
  },
  {
   "cell_type": "markdown",
   "id": "ec7442d1-f531-4c0e-a356-c2b4bf4f9ea0",
   "metadata": {},
   "source": [
    "## 3. 마크다운 문법"
   ]
  },
  {
   "cell_type": "markdown",
   "id": "175dd0cd-6892-4d43-8bac-1caa998447ef",
   "metadata": {},
   "source": [
    "> 기본 마크다운 문법을 공유함"
   ]
  },
  {
   "cell_type": "markdown",
   "id": "1ee6717b-29c8-45c5-8484-3eef1dc67224",
   "metadata": {},
   "source": [
    "`-` 수식 없이 위 첨자 / 아래 첨자 사용\n",
    "\n",
    "* 위 첨자 `x^2^`\n",
    "* 아래 첨자 `x~i~`\n",
    "* 삭제 `~~삭제~~`"
   ]
  },
  {
   "cell_type": "markdown",
   "id": "d41226d0-2001-452f-9cd8-167874026eae",
   "metadata": {},
   "source": [
    "`-` 워킹 디렉토리의 이미지 파일을 불러올 수 있음.\n",
    "\n",
    "* `![title](image.png){width=50%}` : CSS도 사용 가능"
   ]
  },
  {
   "cell_type": "markdown",
   "id": "eb0cd949-c7c2-47d2-afb3-9169cd9381bb",
   "metadata": {},
   "source": [
    "## 4. R 코드 청크"
   ]
  }
 ],
 "metadata": {
  "kernelspec": {
   "display_name": "R",
   "language": "R",
   "name": "ir"
  },
  "language_info": {
   "codemirror_mode": "r",
   "file_extension": ".r",
   "mimetype": "text/x-r-source",
   "name": "R",
   "pygments_lexer": "r",
   "version": "4.3.1"
  }
 },
 "nbformat": 4,
 "nbformat_minor": 5
}
