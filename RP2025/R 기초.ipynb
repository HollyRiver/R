{
 "cells": [
  {
   "cell_type": "markdown",
   "id": "8043b59b-6168-49a9-8caf-d39d1e9684a7",
   "metadata": {},
   "source": [
    "# R 기초"
   ]
  },
  {
   "cell_type": "markdown",
   "id": "19cf6d5f-3727-4aef-9365-3bde57dd903c",
   "metadata": {},
   "source": [
    "## 1. 산술연산"
   ]
  },
  {
   "cell_type": "markdown",
   "id": "1a1473ad-0192-4656-be8a-caef0f12e66f",
   "metadata": {},
   "source": [
    "|연산자|의미|\n",
    "|:-:|:-:|\n",
    "|+|덧셈|\n",
    "|-|뺄셈|\n",
    "|*|곱셈|\n",
    "|/|나눗셈|\n",
    "|%%|나머지|\n",
    "|^|제곱|"
   ]
  },
  {
   "cell_type": "markdown",
   "id": "5ff0c25b-948c-4102-9fe7-9b6f9639a627",
   "metadata": {},
   "source": [
    "> 나머지는 은근 많이 씀. ㅇㅅㅇ\n",
    ">\n",
    "> ex) 건강관리공단에서 나이를 좀 먹으면 검사받으라고 연락이 옴. 짝수/홀수년도 출생자 별로 검사년도 구분 -> 2로 나눴을 때 나머지가 0이면 짝수/1이면 홀수년도이도록 할 수 있음."
   ]
  },
  {
   "cell_type": "markdown",
   "id": "179309f7-c9c9-4e76-bd1c-7fdc48bbc73c",
   "metadata": {},
   "source": [
    "## 2. 주석(Comment)"
   ]
  },
  {
   "cell_type": "markdown",
   "id": "622d3adc-89e8-4982-b4bd-35e8b4274fb7",
   "metadata": {},
   "source": [
    "* 코드 설명 써둔 거. `#` 다음에 주석의 내용을 작성함.\n",
    "* Crtl+Shift+C로 드래그한 공간을 바로 주석처리 할 수 있음.\n",
    "* 작성자가 나중에 R 프로그램을 다시 보거나, 제 3자가 볼 때 프로그램의 내용을 쉽게 이해할 수 있도록 기재함."
   ]
  },
  {
   "cell_type": "markdown",
   "id": "9dd08e37-e651-4a26-8e5b-444ff692897c",
   "metadata": {},
   "source": [
    "## 3. 함수(Function)"
   ]
  },
  {
   "cell_type": "markdown",
   "id": "33b53f3e-e02b-429d-b097-53ab25638152",
   "metadata": {},
   "source": [
    "* 함수에 어떤 입력값을 주면, 일련의 과정을 거쳐서 계산된 결과값을 내보내는 구조\n",
    "* 입력값은 매개변수(parameter)라고 하며, 하나의 함수는 여러 개의 매개변수를 가질 수 있음\n",
    "* 함수의 정의에 맞추어 매개변수를 입력하면 정의된 결과값을 얻을 수 있음"
   ]
  },
  {
   "cell_type": "markdown",
   "id": "2a25d851-140b-4314-b1ac-86d513ca68df",
   "metadata": {},
   "source": [
    "### 산술연산함수"
   ]
  },
  {
   "cell_type": "markdown",
   "id": "a5b4fcde-0d15-4399-93de-a9a96bf67243",
   "metadata": {},
   "source": [
    "|함수|의미|\n",
    "|:-:|:-:|\n",
    "|`log()`|로그함수|\n",
    "|`sqrt()`|제곱근|\n",
    "|`abs()`|절대값|\n",
    "|`factorial()`|계승|\n",
    "|`sin(), cos(), tan()`|삼각함수|\n",
    "|`exp()`|지수함수|\n",
    "\n",
    "> `pi`는 원주율로써 기본적으로 저장되어 있음."
   ]
  },
  {
   "cell_type": "code",
   "execution_count": null,
   "id": "ae549c41-5b9b-407b-9a7f-ed030b0c832a",
   "metadata": {},
   "outputs": [],
   "source": []
  }
 ],
 "metadata": {
  "kernelspec": {
   "display_name": "R",
   "language": "R",
   "name": "ir"
  },
  "language_info": {
   "codemirror_mode": "r",
   "file_extension": ".r",
   "mimetype": "text/x-r-source",
   "name": "R",
   "pygments_lexer": "r",
   "version": "4.3.1"
  }
 },
 "nbformat": 4,
 "nbformat_minor": 5
}
