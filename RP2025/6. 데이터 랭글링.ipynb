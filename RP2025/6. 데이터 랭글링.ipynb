{
 "cells": [
  {
   "cell_type": "markdown",
   "id": "714edf66-03b5-4a90-ac32-3b4895369bba",
   "metadata": {},
   "source": [
    "tidyr부터 시험범위"
   ]
  },
  {
   "cell_type": "markdown",
   "id": "6e050d73-626d-4788-acc5-c7ce69ed9197",
   "metadata": {},
   "source": [
    "# Chapter 6 데이터 랭글링"
   ]
  },
  {
   "cell_type": "markdown",
   "id": "673969af-1dd3-4e7d-9511-45c2dcb5e908",
   "metadata": {},
   "source": [
    "## 1. `readr` 패키지"
   ]
  },
  {
   "cell_type": "markdown",
   "id": "17449944-1e82-4f03-9ce2-7d29df0aafa0",
   "metadata": {},
   "source": [
    "* `tibble`로 외부 파일을 불러오거나 저장하는 함수를 제공하는 패키지\n",
    "\n",
    "|**함수**|**설명**|\n",
    "|:-:|:-:|\n",
    "|`read_csv()`||\n",
    "|`read_tsv()`||\n",
    "|`read_delim()`|임의의 구분자로 구분된 파일 불러오기|\n",
    "|`read_table()`|공백으로 구분된 파일 불러오기|\n",
    "|`read_spss()`|(haven 패키지)|\n",
    "|`read_sas()`|(haven 패키지)|"
   ]
  },
  {
   "cell_type": "markdown",
   "id": "0fa1c531-0ee6-405e-bc41-15e463c99e63",
   "metadata": {},
   "source": [
    "* `read_csv()` 함수\n",
    "\n",
    "> * `read.csv()` 함수에 비해 약 10배 정도 빠르며, 좀 더 재현성이 뛰어남\n",
    "> * 첫 번째 행은 변수 이름(header)으로 사용\n",
    "> * 매개변수 `col_names` - 변수명(header)이 없는 경우 가용\n",
    ">   * `col_names = FALSE` - 변수명을 X1부터 Xn까지 순차적으로 넣어줌\n",
    ">   * `col_names = c(\"x\", \"y\", \"z\")`\n",
    "> * 매개변수 `skip` - 파일의 첫 n행 생략 (유효한 데이터가 n줄 이후부터 있는 경우)\n",
    "> * 매개변수 `na` - 특정 값을 결측값으로 지정"
   ]
  },
  {
   "cell_type": "markdown",
   "id": "8d71ad59-1505-477c-a6c5-6c62b527653d",
   "metadata": {},
   "source": [
    "```R\n",
    "read_csv(directory, col_names = c(\"A1\", \"A2\", ..., \"An\"), skip = 5, na = \"9999\" )\n",
    "```"
   ]
  },
  {
   "cell_type": "markdown",
   "id": "79980394-a58a-498e-8ceb-941ef61f87bf",
   "metadata": {},
   "source": [
    "## 2. `dplyr` 패키지"
   ]
  },
  {
   "cell_type": "markdown",
   "id": "06379285-cfc9-4d20-8bc2-0bb4a56e03ee",
   "metadata": {},
   "source": [
    "* 데이터 가공, EDA 등에 매우 유용하고 편리한 함수 제공하는 패키지\n",
    "* 적용 대상에 따른 `dplyr` 함수\n",
    "    * 행 : `filter(), arrange()`\n",
    "    * 열 : `select(), mutate(), rename(), relocate()`\n",
    "    * 집단 : `summarise(), group_by()`"
   ]
  },
  {
   "cell_type": "markdown",
   "id": "6e573833-5bdb-430b-8010-24fbb12895de",
   "metadata": {},
   "source": [
    "|변수|설명|\n",
    "|:-:|:-:|\n",
    "|year|출발년도|\n",
    "|month|출발 월|\n",
    "|day|출발 일|\n",
    "|dep_time|실제 출발 시간(HHMM 또는 HMM)|\n",
    "|arr_time|실제 도착 시간(HHMM 또는 HMM)|\n",
    "|sched_dep_time|예정된 출발 시간(HHMM 또는 HMM)|\n",
    "|sched_arr_time|예정된 도착 시간(HHMM 또는 HMM)|\n",
    "|dep_delay|출발 지연 시간(분)|\n",
    "|arr_delay|도착 지연 시간(분)|\n",
    "|carrier|항공사 약어|\n",
    "|flight|항공편 번호|\n",
    "|tailnum|비행기 식별 번호|\n",
    "|origin|출발지|\n",
    "|dest|목적지|\n",
    "|air_time|비행 시간(분)|\n",
    "|distance|비행 거리(miles)|\n",
    "|hour|예정된 출발 시간; 시|\n",
    "|minute|예정된 출발 시간; 분|\n",
    "|time_hour|예정된 비행 날짜 및 시간(POSIXct date)|"
   ]
  },
  {
   "cell_type": "markdown",
   "id": "c8231771-c933-4c89-a59e-96c134aca58c",
   "metadata": {},
   "source": [
    "> `str` 대신 `glimpse`를 사용하여 콘솔 크기에 맞춰 출력할 수 있음"
   ]
  },
  {
   "cell_type": "markdown",
   "id": "33a41e51-d5bb-48e9-9f56-d9cca2b350e9",
   "metadata": {},
   "source": [
    "### A. 행 관련 함수"
   ]
  },
  {
   "cell_type": "markdown",
   "id": "e2352639-2f3d-4881-a1cd-ddc5352746e1",
   "metadata": {},
   "source": [
    "`-` `filter()` 함수"
   ]
  },
  {
   "cell_type": "markdown",
   "id": "14111745-59e7-4218-995d-e703ebff3c81",
   "metadata": {},
   "source": [
    "```R\n",
    "library(nycflights13)\n",
    "\n",
    "#### 120분 이상 연착한 항공편 - arr_delay가 120분 이상인 샘플\n",
    "flights %>% filter(arr_delay >= 120)\n",
    "\n",
    "#### 다중 조건 : 1월 1일에 출발한 항공편 - month는 1, day는 1인 샘플\n",
    "flights %>% filter((month == 1) & (day == 1)) ## 832개\n",
    "flights %>% filter(month == 1, day == 1) ## 여러 개의 args 입력하면 조건으로 인식함\n",
    "\n",
    "#### 여러 값 추출 : 3, 5, 8월에 출발한 항공권 -> %in% 사용\n",
    "flights %>% filter(month %in% c(3, 5, 8))\n",
    "```"
   ]
  },
  {
   "cell_type": "markdown",
   "id": "b6cac59f-cd6a-4a3b-8691-debf5b019aff",
   "metadata": {},
   "source": [
    "`-` `arrange()` 함수 : 데이터프레임 정렬 수행\n",
    "\n",
    "> 결측치는 항상 후순위로 정렬\n",
    ">\n",
    "> `desc()` : 내림차순 정렬"
   ]
  },
  {
   "cell_type": "markdown",
   "id": "fbbab422-da54-4113-b8c1-0c90ccd7c53c",
   "metadata": {},
   "source": [
    "```R\n",
    "#### 출발 시간 순으로 정렬\n",
    "flights %>% arrange(year, month, day, dep_time)\n",
    "\n",
    "#### 도착 지연 순으로 내림차순 정렬\n",
    "flights %>% arrange(desc(arr_delay))\n",
    "```"
   ]
  },
  {
   "cell_type": "markdown",
   "id": "a70947f2-2e6b-4eae-a84b-9a66ab180bd6",
   "metadata": {},
   "source": [
    "### B. 열 관련 함수"
   ]
  },
  {
   "cell_type": "markdown",
   "id": "f29edce2-36c9-4394-9be4-0098fe908e05",
   "metadata": {},
   "source": [
    "`-` `select()` 함수 : DB에서 쓰는 `SELECT`와 동일"
   ]
  },
  {
   "cell_type": "markdown",
   "id": "193bfc6b-823c-48a7-bc5e-af385988bb26",
   "metadata": {},
   "source": [
    "```R\n",
    "flights %>% select(x1, x2, x3) ## 특정 변수들 선택\n",
    "flights %>% select(x1:x5)  ## x1부터 x5까지 변수 이름으로 슬라이싱\n",
    "flights %>% select(-(x1:x5)) ## x1부터 x5까지 빼고 추출\n",
    "\n",
    "#### 추출 시 변수 이름 변경까지 됨\n",
    "flights %>%\n",
    "  select(dep.time = dep_time,\n",
    "         arr_time = arr_time)\n",
    "```"
   ]
  },
  {
   "cell_type": "markdown",
   "id": "2c7db387-84e5-4777-9aa5-5156ce2fc3ef",
   "metadata": {},
   "source": [
    "`-` 도우미(helpers) 함수"
   ]
  },
  {
   "cell_type": "markdown",
   "id": "ff63d4f2-1322-4052-8188-7dbeae4abefa",
   "metadata": {},
   "source": [
    "|함수|설명|\n",
    "|:-:|:-:|\n",
    "|`starts_with()`|특정 문자열로 시작하는 이름 매칭|\n",
    "|`ends_with()`|특정 문자열로 끝나는 이름 매칭|\n",
    "|`contains()`|특정 문자열을 포함하는 이름 매칭|\n",
    "|`num_range(perfix, range)`|숫자 접미사를 가지는 일련의 이름 매칭|"
   ]
  },
  {
   "cell_type": "markdown",
   "id": "4aadc9dd-1afb-4385-8528-7ebe0d0966a1",
   "metadata": {},
   "source": [
    "```R\n",
    "### select 도우미 함수\n",
    "flights %>% select(starts_with(\"sched\")) ## 변수 이름이 \"sched\"로 시작하는 경우\n",
    "flights %>% select(ends_with(\"time\"))    ## 변수 이름이 \"time\"으로 끝나는 경우\n",
    "\n",
    "flights %>% select(contains(\"arr\"))         ## 변수 이름에 \"arr\"이 포함되는 경우\n",
    "## -> carrier라는 의도하지 않은 변수가 들어감\n",
    "flights %>% select(contains(\"arr_\")) ## 이런 식으로 응용 가능하긴 한데, 좀 그럼\n",
    "```"
   ]
  },
  {
   "cell_type": "markdown",
   "id": "b8e4fad7-4ddc-4d8e-83f9-639c463c6105",
   "metadata": {},
   "source": [
    "`-` `mutate()` 함수\n",
    "\n",
    "* 데이터셋에 존재하는 변수로부터 **새로운 변수 생성**\n",
    "* 새로운 변수는 기본적으로 데이터셋 마지막 열에 추가\n",
    "* `.after`를 통해 해당 변수 뒤에, `.before`를 통해 해당 변수 뒤에 생성된 열을 둘 수 있다.\n",
    "\n",
    "```R\n",
    "flights %>% mutate(gain = dep_delay - arr_delay)                      # 출발 지연 - 도착 지연(분)\n",
    "flights %>% mutate(speed = distance / (air_time/60), .before = 1)     # 첫번째 변수 앞에 추가\n",
    "flights %>% mutate(hour = air_time / 60, .after = air_time)           # air_time 변수 뒤에 추가\n",
    "```\n",
    "\n",
    "* `mutate()`와 자주 쓰이는 함수\n",
    "\n",
    "|함수|설명|\n",
    "|:-:|:-|\n",
    "|`row_number()`|행 번호 반환. 또는 순위를 부여할 때 동순위 발생 시 가장 먼저 등장한 값을 우선순위|\n",
    "|`min_rank()`|순위 부여(동순위 발생 시 중복된 순위로 매김 : minimum으로 매김)|\n",
    "|`dense_rank()`|순위 부여(동순위 발생 시 항상 연속된 값을 부여). 위 전부 `NA`는 `NA`로|\n",
    "|`na_if()`|특정 값을 NA로 변환|\n",
    "|`coalesce()`|여러 열을 넣었을 때, 첫 번째로 NA가 아닌 값을 반환|\n",
    "|`if_else()`|단순 조건문(이분법적 분류) -> 연속형 변수 등을 이분법적으로 분류하는 경우|\n",
    "|`case_when()`|여러 개의 조건을 처리 -> 이분법적 분류가 아닌 다항 분류|\n",
    "|`recode()`|특정 값을 새로운 값으로 변환|"
   ]
  },
  {
   "cell_type": "markdown",
   "id": "a8f33dba-496d-489f-b937-adea9d932719",
   "metadata": {},
   "source": [
    "```R\n",
    "flights %>%\n",
    "    mutate(idx = row_number(),\n",
    "           ranking = min_rank(des(distance)), ## 동순위 중복\n",
    "           ranking2 = dense_rank(distance)),  ## 동순위 발생해도 연속\n",
    "           )\n",
    "\n",
    "flights %>% mutate(dep_delay_na = na_if(dep_delay, 0)) ## 0이면 NA로 변경. ~이면 NA이다\n",
    "flights %>% mutate(first_non_na = coalesce(dep_delay, arr_delay)) ## 처음으로 NA가 아닌 값을 반환\n",
    "\n",
    "flights %>% murate(carrier_name = recode(carrier, \"AA\" = \"American Airlines\", \"DL\" = \"Delta Airlines\"))\n",
    "```"
   ]
  },
  {
   "cell_type": "markdown",
   "id": "f07229f8-6cd7-4510-9a7f-9ed632050e3d",
   "metadata": {},
   "source": [
    "`-` `rename()` 함수\n",
    "\n",
    "* 특정 변수 이름 변경\n",
    "* 명시적으로 언급하지 않은 모든 변수를 유지함(백틱까지 쓰면서)\n",
    "* 숫자열이 앞에 들어온 변수명 같이 변수 이름 규칙을 위반하는 것을 교체하는 데에 유리"
   ]
  },
  {
   "cell_type": "markdown",
   "id": "b93d545a-17dc-4db9-8d11-e06bfb4d0891",
   "metadata": {},
   "source": [
    "```R\n",
    "#### select에서와 동일한 사용법\n",
    "flights %>% rename(dep.time = dep_time,\n",
    "                   arr.time = arr_time)\n",
    "```"
   ]
  },
  {
   "cell_type": "markdown",
   "id": "3d59de86-b22f-4350-beb9-7b858bdedbec",
   "metadata": {},
   "source": [
    "`-` `relocate()` 함수 : 변수의 위치 변경"
   ]
  },
  {
   "cell_type": "markdown",
   "id": "0af06213-9584-457a-a9d3-1ad14e3cd590",
   "metadata": {},
   "source": [
    "```R\n",
    "flights %>%\n",
    "  filter(dep_delay <= 10 & dep_delay >= -10) %>%\n",
    "  arrange(desc(arr_delay)) %>%\n",
    "  relocate(arr_delay, .after = day) ## day 뒤에 감\n",
    "\n",
    "flights %>%\n",
    "  filter(dep_delay <= 10 & dep_delay >= -10) %>%\n",
    "  arrange(desc(arr_delay)) %>%\n",
    "  relocate(arr_delay, .before = day) ## day 앞에 감\n",
    "\n",
    "flights %>% relocate(air_time, distance) ## 기본적으로 앞에 데려옴\n",
    "flights %>% relocate(carrier:tailnum, .before = day)  ## 콜론 사용 문법은 공유\n",
    "```"
   ]
  },
  {
   "cell_type": "markdown",
   "id": "bb73866b-f044-4f65-a50b-78e2ccab8116",
   "metadata": {},
   "source": [
    "### C. 집단 관련 함수"
   ]
  },
  {
   "cell_type": "markdown",
   "id": "9253b520-ae7f-43ae-a80a-b850847975c2",
   "metadata": {},
   "source": [
    "`-` `summarise()` 함수 == `summarize()`\n",
    "\n",
    "* 통계량을 계산하여 하나의 행으로 요약\n",
    "* 여러 개의 다양한 요약 함수를 사용할 수 있음\n",
    "\n",
    "|함수|설명|\n",
    "|:-:|:-:|\n",
    "|`n()`|관측값 개수|\n",
    "|`n_distinct()`|유니크한 값의 수|\n",
    "|`first()`|첫 번째 값|\n",
    "|`last()`|마지막 값|\n",
    "|`nth()`|n번째 값|\n",
    "|`sum()`||\n",
    "|`mean()`||\n",
    "|`sd()`||\n",
    "|`IQR()`||\n",
    "|`quantile()`||"
   ]
  },
  {
   "cell_type": "markdown",
   "id": "51f41381-b421-406e-a80c-743164071dac",
   "metadata": {},
   "source": [
    "`-` `group_by()` 함수\n",
    "\n",
    "* 특정 변수를 기준으로 그룹화\n",
    "* 일반적으로 `summarize()`와 함께 사용\n",
    "* 여러 변수를 기준으로 그룹화 가능\n",
    "* `ungroup()` : 그룹화 해제"
   ]
  },
  {
   "cell_type": "markdown",
   "id": "2b9a0f5d-95b9-4432-89c1-41f07b412cc9",
   "metadata": {},
   "source": [
    "`-` `count()` 함수 : 도우미 함수\n",
    "\n",
    "* 변수의 고유값별로 관측값 개수를 반환(빈도표 생성)\n",
    "* `group_by()` + `summarize(n = n())`을 간결하게 표현한 도우미 함수\n",
    "* `count(col1, wt = col2)`로 `group_by(col1) + summarize(n = sum(col2))`를 간결하게 표현 가능"
   ]
  },
  {
   "cell_type": "markdown",
   "id": "70ce0ded-df0a-4c4b-8264-7a3ca53418d5",
   "metadata": {},
   "source": [
    "### D. 관계형 데이터 : 정형 데이터베이스 관련 내용\n",
    "\n",
    "* 일반적으로 데이터 테이블이 많이 있고, 관심있는 질문에 대답하기 위해 이들을 결합해야 함\n",
    "* 여러 데이터 테이블을 총칭하여 관계형 데이터라고 함"
   ]
  },
  {
   "cell_type": "markdown",
   "id": "d15380e8-3ae3-4c02-8f98-6fdd65255490",
   "metadata": {},
   "source": [
    "`-` 키 Key\n",
    "\n",
    "* 두 테이블을 연결할 때 사용하는 변수 : 관측값을 고유하게 식별하는 역할을 함\n",
    "* 기본키 Primary Key : 한 테이블 내에서 각 관측값을 고유하게 식별하는 변수(또는 변수들의 집합) PK\n",
    "* 외래키 Foreign Key : 다른 테이블의 기본키를 참조하여 두 테이블을 연결하는 변수(또는 변수들의 집합) FK\n",
    "\n",
    "> 기본키는 반드시 모든 관측값을 유일하게 식별해야 하므로, 실제 중복이 없는지 확인하는 것이 중요\n",
    ">\n",
    "> 일부 테이블은 명시적으로 기본키가 정해져 있지 않기도 함\n",
    "> \n",
    "> 일반적으로 기본키와 외래키는 일대다 관계를 형성함"
   ]
  },
  {
   "cell_type": "markdown",
   "id": "d4bede33-27e8-4c13-9e95-46fb3fe67ab7",
   "metadata": {},
   "source": [
    "`-` 뮤테이팅 조인 Mutating join\n",
    "\n",
    "* 관측값을 키로 매칭한 뒤, 한 테이블의 변수를 다른 테이블에 복사하여 결합\n",
    "* 1개의 내부조인과 3개의 외부조인 방식이 있음"
   ]
  },
  {
   "cell_type": "markdown",
   "id": "135e975a-f2e0-4a9c-bd36-61159d7937db",
   "metadata": {},
   "source": [
    "|함수|설명|\n",
    "|:-:|:-:|\n",
    "|`inner_join(x, y)`|키가 일치하는 관측값만 결합(양쪽 모두 존재)|\n",
    "|`left_join(x, y)`|`x`의 모든 관측값을 유지, 일치하는 `y`의 값을 결합|\n",
    "|`right_join(x, y)`|`y`의 모든 관측값을 유지, 일치하는 `x`의 값을 결합|\n",
    "|`full_join(x, y)`|모든 관측값을 유지하고, 일치하는 부분은 결합|"
   ]
  },
  {
   "cell_type": "markdown",
   "id": "4594e8c1-97d6-41d8-9930-dbd049013c90",
   "metadata": {},
   "source": [
    "```R\n",
    "x <- tibble(key = c(1, 2, 3),\n",
    "            value_x = c(\"x1\", \"x2\", \"x3\"))\n",
    "y <- tibble(key = c(1, 2, 4),\n",
    "            value_y = c(\"y1\", \"y2\", \"y3\"))\n",
    "\n",
    "x %>% inner_join(y) ## 알아서 이름이 같은 변수를 기준으로 매핑해주긴 함\n",
    "x %>% left_join(y, by = \"key\")\n",
    "x %>% right_join(y, by = \"key\")\n",
    "x %>% full_join(y, by = \"key\")\n",
    "```"
   ]
  },
  {
   "cell_type": "markdown",
   "id": "d691dbef-e54c-4b3e-a301-22a7faeecb54",
   "metadata": {},
   "source": [
    "* `by`를 지정해주지 않으면 두 테이블에 있는 같은 모든 변수를 사용해서 자연조인\n",
    "* 조인하려는 테이블의 키에 해당하는 변수 이름이 다를 경우, 조인 문법을 사용"
   ]
  },
  {
   "cell_type": "markdown",
   "id": "31843339-ae97-4482-b52d-f5b3a7e524f4",
   "metadata": {},
   "source": [
    "```R\n",
    "flights2 %>% left_join(airports, by = c(\"origin\" = \"faa\"))\n",
    "```"
   ]
  },
  {
   "cell_type": "markdown",
   "id": "a7309887-cc3b-47aa-9246-70d5c8c47d98",
   "metadata": {},
   "source": [
    "`-` 필터링 조인"
   ]
  },
  {
   "cell_type": "markdown",
   "id": "d6f96b19-b326-4ddf-a0cf-a290f7b9e062",
   "metadata": {},
   "source": [
    "* 변수를 결합하지 않고, 관측값 자체를 필터링함 -> 세미 조인. 해시 테이블 같은 거\n",
    "* 매칭 여부만 중요하며, 어떤 관측값이 매칭되었는지는 중요하지 않음\n",
    "\n",
    "|함수|설명|\n",
    "|:-:|:-:|\n",
    "|`semi_join()`|x의 관측값 중 y와 키가 일치하는 값만 유지|\n",
    "|`anti_join()`|x의 관측값 중 y와 키가 일치하지 않는 값만 반환|"
   ]
  },
  {
   "cell_type": "markdown",
   "id": "b13de104-ae92-4ea1-9fac-b21dcac357d8",
   "metadata": {},
   "source": [
    "---\n",
    "---\n",
    "\n",
    "여기까지 중간고사 범위"
   ]
  },
  {
   "cell_type": "markdown",
   "id": "4f3fb161-48a1-47bf-9d3e-01a1fbf0fdc6",
   "metadata": {},
   "source": [
    "**한글 데이터 불러오기**\n",
    "\n",
    "\n",
    "```R\n",
    "mydata <- read_csv(\"mydata.csv\", locale = locale(encoding = \"CP949\"))\n",
    "```"
   ]
  },
  {
   "cell_type": "markdown",
   "id": "fa0767dd-bb56-4708-a9c7-ff6392fecc39",
   "metadata": {},
   "source": [
    "## 3. tidyr"
   ]
  },
  {
   "cell_type": "markdown",
   "id": "7bd6f453-8b37-4ca0-a38a-66b2e4eaf341",
   "metadata": {},
   "source": [
    "### A. wide format과 long format"
   ]
  },
  {
   "cell_type": "markdown",
   "id": "2ffa0488-16d9-4924-b237-a0bfce80ad55",
   "metadata": {},
   "source": [
    "* wide format\n",
    "    * 사람이 읽기 쉬운 데이터 구조\n",
    "    * 통계학에서 다루는 데이터 테이블 구조와 동일한 개념\n",
    "      > 각 행은 동일한 관측 개체, 각 열은 변수\n",
    "    * 각 행은 관측 단위를 나타내며, 각 열은 관측 단위에 대한 측정값으로 표현\n",
    "* long format\n",
    "    * 컴퓨터가 이해하기 편한 데이터 구조\n",
    "     > 개체에 대해 회차 별 여러 번 측정 / 개체 별 측정 회차 수가 다름 -> 각 회차 별 분포를 알고 싶을 때는 wide format으로\n",
    "    * wide format보다 유연하여 데이터 추가 및 삭제가 용이\n",
    "    * 각 열은 요인(factor)으로 변환된 상태\n",
    "    * 타이디 데이터임 -> 외워둘 필요는 없다네요"
   ]
  },
  {
   "cell_type": "markdown",
   "id": "1370e1df-5878-48bf-8d3f-79baf16e8bff",
   "metadata": {},
   "source": [
    "> 특정 열을 기준으로 wide format과 long format을 판단함"
   ]
  },
  {
   "cell_type": "markdown",
   "id": "08616203-bdcb-4165-acc6-25bf6af67d62",
   "metadata": {},
   "source": [
    "### B. 변환"
   ]
  },
  {
   "cell_type": "markdown",
   "id": "65e2d938-c66e-4bf5-bea0-258215a020d3",
   "metadata": {},
   "source": [
    "`-` long format으로 변환"
   ]
  },
  {
   "cell_type": "markdown",
   "id": "e3d9a5a3-9e4b-4261-8996-1669a386fb2a",
   "metadata": {},
   "source": [
    "* wide format을 long format으로 변환 - `pivot_longer()` 함수\n",
    "    * 행의 개수를 늘리고, 열의 개수를 줄여서 데이터셋을 길게 만듦\n",
    "    * long format으로 변환하고자 하는 열을 지정하는 방법은 `dplyr::select()` 함수와 동일\n",
    "      > 마이너스 기호, `starts_with`, `ends_with`, `contains`를 이용하여 변수 지정 가능\n",
    "    * 기본적으로 이름에 해당하는 열은 문자열로 변환됨\n",
    "    * `gather()`, `reshape2::melt()` 함수와 동일\n",
    "\n",
    "```R\n",
    "pivot_longer(data, cols = c(col1, col2),\n",
    "             names_to = \"name_col\", names_prefix = \"prefix\", ## 접두사 제거\n",
    "             values_to = \"value_col\", values_drop_na = TRUE) ## 결측값 제거\n",
    "\n",
    "mutate(year = parse_integer(year)) ## 이걸로 문자열을 정수형으로 바꿔줄 수 있음\n",
    "```"
   ]
  },
  {
   "cell_type": "markdown",
   "id": "6446e7a9-d980-4342-a528-c691e2db2ab2",
   "metadata": {},
   "source": [
    "`-` wide format으로 변환 : `pivot_wider()`"
   ]
  },
  {
   "cell_type": "markdown",
   "id": "ccbd489d-d072-4a06-888d-9b9e25290885",
   "metadata": {},
   "source": [
    "* 변수로 늘릴 column : `names_from`\n",
    "> 특정 열에 대해서 값이 없는 경우 알아서 결측값으로 들어감\n",
    "* 변수를 없애서 셀 안의 값으로 바꿀 column : `values_from`\n",
    "> 여러 개의 변수를 지정하면 `names_from`의 유니크한 개수 $\\times$ 변수 개수만큼의 변수가 생성됨"
   ]
  },
  {
   "cell_type": "markdown",
   "id": "3d22d5cb-31f8-46af-b35c-871d982beb9d",
   "metadata": {},
   "source": [
    "```R\n",
    "pivot_wider(data,\n",
    "            names_from = name_cols,\n",
    "            values_from = value_cols, values_fill = \"NA 처리값\")\n",
    "```"
   ]
  },
  {
   "cell_type": "markdown",
   "id": "f2aa9530-6035-4005-8865-1ae989107b80",
   "metadata": {},
   "source": [
    "### C. 열의 분리 및 결합"
   ]
  },
  {
   "cell_type": "markdown",
   "id": "72de921a-43e7-4fab-80e1-456b6b83e830",
   "metadata": {},
   "source": [
    "`-` 열의 분리 : `separate()`\n",
    "\n",
    "* 단일 값 원칙을 만족하지 못하는 경우\n",
    "* 한 개의 열에 여러 값들이 결합되어있는 경우, 분리"
   ]
  },
  {
   "cell_type": "markdown",
   "id": "06a546e8-3a17-47e2-a4fc-f69e31fd231b",
   "metadata": {},
   "source": [
    "```R\n",
    "separate(complx_col, into = c(\"col1\", \"col2\"), sep = \"분리 기준 문자열\")\n",
    "```"
   ]
  },
  {
   "cell_type": "markdown",
   "id": "09c61d4e-2c09-4b97-9904-915e6bccc528",
   "metadata": {},
   "source": [
    "`-` 열의 결합 : `unite()`\n",
    "\n",
    "* 기본 구분자는 `\"_\"`"
   ]
  },
  {
   "cell_type": "markdown",
   "id": "bddf77bd-7526-4535-b573-2dfb4f982d1c",
   "metadata": {},
   "source": [
    "```R\n",
    "unite(col = new_col, col1, col2, ..., sep = \"\")\n",
    "```"
   ]
  },
  {
   "cell_type": "markdown",
   "id": "69aa7502-5ece-4e30-9191-a727b8c953c9",
   "metadata": {},
   "source": [
    "### D. 결측값 처리 - `is.na()`"
   ]
  },
  {
   "cell_type": "markdown",
   "id": "914a237b-01f4-4a39-ba51-d6cf1d5a0457",
   "metadata": {},
   "source": [
    "* `NA` == `not available`\n",
    "* 결측값은 전염성을 가짐 -> 결측값이 하나라도 존재할 경우 연산 시 결측값으로 반환됨\n",
    "> 산술연산자와 비교연산자 모두 NA를 반환함\n",
    ">\n",
    "> `NA`와 `NA`를 같다고 할 수 있는가? -> 모름. 그니까 `NA`로 반환"
   ]
  },
  {
   "cell_type": "markdown",
   "id": "cc727a5d-0133-46f9-82c5-31c63cb7ac2b",
   "metadata": {},
   "source": [
    "`-` 명시적/암묵적 결측값\n",
    "\n",
    "* 명시적 결측값 - `NA`로 표시된 값\n",
    "* 암묵적 결측값 - 데이터셋에 존재하지 않는 값"
   ]
  },
  {
   "cell_type": "markdown",
   "id": "b2bbcbff-8a2d-468a-b558-70c3d4a74474",
   "metadata": {},
   "source": [
    "```R\n",
    "# 2015년 4분기 수익은 NA로 표시되어 있으므로, 명시적 결측값임\n",
    "# 2016년 1분기 수익은 데이터셋이 존재하지 않으므로, 암묵적 결측값임\n",
    "stocks <- tibble(\n",
    "  year   = c(2015, 2015, 2015, 2015, 2016, 2016, 2016),\n",
    "  qtr    = c(   1,    2,    3,    4,    2,    3,    4),\n",
    "  return = c(1.88, 0.59, 0.35,   NA, 0.92, 0.17, 2.66))\n",
    "\n",
    "stocks %>%\n",
    "  pivot_wider(names_from = year,                  # year를 열로 pivot하여 명시적으로 만듦\n",
    "              values_from = return) %>%\n",
    "  pivot_longer(cols = c(`2015`, `2016`),          # 명시적 결측값이 중요하지 않다면\n",
    "               names_to = \"year\",                 # 암묵적으로 만듬(NA 제거)\n",
    "               values_to = \"return\",\n",
    "               values_drop_na = TRUE)\n",
    "```"
   ]
  },
  {
   "cell_type": "markdown",
   "id": "65901549-2b58-47f5-9540-25b1e24c9d92",
   "metadata": {},
   "source": [
    "`-` 결측값 처리 함수"
   ]
  },
  {
   "cell_type": "markdown",
   "id": "0a6abcc1-e796-460d-a87d-04561f418a4b",
   "metadata": {},
   "source": [
    "|**함수**|**설명**|\n",
    "|:-:|:-|\n",
    "|`complete(col1, col2, ...)`|해당 범주형 열들의 조합에 대하여 명시적 결측값 생성|\n",
    "|`fill(col1, col2, ...)`|결측값을 가장 최근에 존재하는 값(이월된 마지막 관측값)으로 대체|\n",
    "|`drop_na(col1, col2, ...)`|결측값이 포함된 행 제거. 파라미터 추가 입력 시 몇개 열에 대해서만 적용 가능|\n",
    "|`replace_na(list(col1 = \"\", col2 = 0, ...))`|결측값을 사용자가 지정한 값으로 대체|"
   ]
  },
  {
   "cell_type": "markdown",
   "id": "815c0de8-24fe-4ebe-a950-514baee60cc2",
   "metadata": {},
   "source": [
    "## **4. stringr 패키지**\n",
    "\n",
    "---"
   ]
  },
  {
   "cell_type": "markdown",
   "id": "3ba0e77b-fb48-4c73-96d8-7c1acf212e24",
   "metadata": {},
   "source": [
    "### **A. 문자열 기초**"
   ]
  },
  {
   "cell_type": "markdown",
   "id": "28bdaa12-398d-4a42-bc15-e317fc25ede7",
   "metadata": {},
   "source": [
    "> 함수들은 문자열이 아니라도 사용 가능함"
   ]
  },
  {
   "cell_type": "markdown",
   "id": "a386cdc0-88f9-4c30-880e-cc010e6c559f",
   "metadata": {},
   "source": [
    "`-` `str_length()` : 문자열의 길이 확인\n",
    "\n",
    "```R\n",
    "babynames %>%\n",
    "  count(name_length = str_length(name), wt = n)\n",
    "```"
   ]
  },
  {
   "cell_type": "markdown",
   "id": "fb5cce75-90f4-4f4c-87a2-8ebaaff0772d",
   "metadata": {},
   "source": [
    "> `str_length(col)` 자체를 생성된 열처럼 바로 사용할 수 있음"
   ]
  },
  {
   "cell_type": "markdown",
   "id": "7382a351-074c-4376-97c5-675d089571ff",
   "metadata": {},
   "source": [
    "`-` `str_sub()` : 서브 스트링\n",
    "\n",
    "```R\n",
    "str_sub(x, 1, 3)\n",
    "str_sub(x, -3, -1) ## 뺴는 게 아니라 파이썬 인덱스처럼 뒤에서부터\n",
    "```"
   ]
  },
  {
   "cell_type": "markdown",
   "id": "01981fc6-14ea-4234-8261-86af8ae12986",
   "metadata": {},
   "source": [
    "`-` `str_to_lower()`, `str_to_upper()` : 대소문자 변환"
   ]
  },
  {
   "cell_type": "markdown",
   "id": "d91f174a-635d-4759-8e92-166b17c7b12c",
   "metadata": {},
   "source": [
    "### **B. 데이터에서 문자열 생성**"
   ]
  },
  {
   "cell_type": "markdown",
   "id": "36442611-cea2-489c-b8c1-6248c6a116d7",
   "metadata": {},
   "source": [
    "`-` `str_c(a, b, sep = \"\")` : 두 개 이상의 벡터를 결합, 구분자 지정 가능\n",
    "\n",
    "`-` `str_c(v, collapse = \"\")` : 벡터를 단일 문자열로 결합"
   ]
  },
  {
   "cell_type": "markdown",
   "id": "c60cff27-2b87-4a64-8084-3a3358f1f0f5",
   "metadata": {},
   "source": [
    "* `letters`, `LETTERS` : a-z / A-Z가 저장되어 있음"
   ]
  },
  {
   "cell_type": "markdown",
   "id": "88003f9f-ee54-480b-81cd-626d41d321b5",
   "metadata": {},
   "source": [
    "* `str_replace_na(NA)` : `NA`를 `\"NA\"`로 변경"
   ]
  },
  {
   "cell_type": "markdown",
   "id": "70053a5e-e248-46ac-9d7a-69bdb28b45f7",
   "metadata": {},
   "source": [
    "`-` `str_glue()` : 고정 문자열과 변수를 직관적으로 결합할 수 있도록 지원. 그냥 f-string\n",
    "\n",
    "> `{}` 안에 작성한 표현식은 문자열 외부처럼 평가되어 값으로 치환됨\n",
    ">\n",
    "> 함수 내부 문자열 작성 시 외부를 묶은 따옴표와 다른 따옴표를 사용\n",
    "\n",
    "```R\n",
    "str_glue(\"Today is {str_to_upper('monday')}\") ## 내부는 다른 따옴표로...\n",
    "str_glue('Today is {str_to_upper(\"monday\")}')\n",
    "```"
   ]
  },
  {
   "cell_type": "markdown",
   "id": "194a0f56-8d2f-4d62-93b9-170b6b118668",
   "metadata": {},
   "source": [
    "`-` `str_glue"
   ]
  }
 ],
 "metadata": {
  "kernelspec": {
   "display_name": "R",
   "language": "R",
   "name": "ir"
  },
  "language_info": {
   "codemirror_mode": "r",
   "file_extension": ".r",
   "mimetype": "text/x-r-source",
   "name": "R",
   "pygments_lexer": "r",
   "version": "4.3.1"
  }
 },
 "nbformat": 4,
 "nbformat_minor": 5
}
