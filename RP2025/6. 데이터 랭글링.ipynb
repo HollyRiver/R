{
 "cells": [
  {
   "cell_type": "markdown",
   "id": "6e050d73-626d-4788-acc5-c7ce69ed9197",
   "metadata": {},
   "source": [
    "# Chapter 7 데이터 시각화"
   ]
  },
  {
   "cell_type": "markdown",
   "id": "673969af-1dd3-4e7d-9511-45c2dcb5e908",
   "metadata": {},
   "source": [
    "## 1. 데이터 시각화 이해"
   ]
  },
  {
   "cell_type": "markdown",
   "id": "ff900563-3d6d-49ff-8aee-4cae77204fbd",
   "metadata": {},
   "source": [
    "### **A. 데이터 시각화**"
   ]
  },
  {
   "cell_type": "markdown",
   "id": "5fc3e443-0ad8-4967-983c-aef1e227d069",
   "metadata": {},
   "source": [
    "* 데이터나 정보를 그래프, 차트 등 시각적 형식으로 표현하는 것\n",
    "* 시각적 이미지는 보다 직관적인 인식을 가능하게 하고 강렬한 인상을 남김\n",
    "* 다양한 시각화를 통해 데이터에 대한 다층적인 이해 가능\n",
    "* 빅데이터를 효과적으로 요약하고 전달할 수 있음"
   ]
  },
  {
   "cell_type": "markdown",
   "id": "7dcbb0bb-a595-4808-9f6d-6286be1f7587",
   "metadata": {},
   "source": [
    "### **B. 데이터 유형에 따른 시각화 방법**"
   ]
  },
  {
   "cell_type": "markdown",
   "id": "26db08a4-dad4-440d-b9ca-0ff9adfe44df",
   "metadata": {},
   "source": [
    "|**유형**|**설명**|**예제**|**시각화 방법**|\n",
    "|:-:|:-|:-:|:-|\n",
    "|범주형 데이터|- 집단으로 구분되는 데이터 <br>- 기본적으로 숫자로 표현할 수 없음 <br>- 대소비교, 산술연산 불가능|성별, 종교|- 막대 그래프(bar chart) <br>- 원 그래프(pie chart)|\n",
    "|수치형 데이터|- 수치 값을 가지는 데이터 <br>- 대소비교, 산술연산 가능|키, 몸무게|- 히스토그램(histogram) <br>- 상자 그림(box plot) <br>- 산점도(scatter plot) <br>- 선 그래프(line plot)|"
   ]
  },
  {
   "cell_type": "markdown",
   "id": "a3acdf0f-e7e4-46be-bbf5-685117006658",
   "metadata": {},
   "source": [
    "## 2. R base graphics"
   ]
  },
  {
   "cell_type": "markdown",
   "id": "a78272cc-98cf-443c-8dc4-7bd20700e0f2",
   "metadata": {},
   "source": [
    "> 진짜 초보 단계에서 가장 심플하게 할 때 사용. 안씀\n",
    ">\n",
    "> 매개변수를 통해 세부적인 그래픽 요소 설정 가능"
   ]
  },
  {
   "cell_type": "markdown",
   "id": "81217ad3-105d-43b2-9755-06ad4cabc807",
   "metadata": {},
   "source": [
    "## 3. ggplot2 패키지"
   ]
  },
  {
   "cell_type": "markdown",
   "id": "5c62dd7c-4d52-4909-8aae-af96528fbdc3",
   "metadata": {},
   "source": [
    "### **A. ggplot2 패키지 소개**"
   ]
  },
  {
   "cell_type": "markdown",
   "id": "abd3f027-93dd-4da4-b607-b4238e90182a",
   "metadata": {},
   "source": [
    "* 범용성, 명료함, 일관성 있는 인터페이스, 미적인 그래픽 결과를 제공하는 패키지\n",
    "* **독립적인 시각적 구성요소**를 정의하고, **이를 층층히 쌓아올리는 방식**으로 그래프를 생성\n",
    "\n",
    "1. Data : 데이터 준비\n",
    "2. Aesthetics : 축에 대한 설정(x축, y축, 크기, 색상, 모양 등)\n",
    "3. Geometries : 시각화 방법(기하 객체 : 점, 선, 막대 등)\n",
    "---\n",
    "4. Facets : 그래프 화면 분할\n",
    "5. Statistics : 통계량과 함께 표시\n",
    "6. Coordinates : 그래프의 변형, 회전\n",
    "7. Theme : 테마"
   ]
  },
  {
   "cell_type": "markdown",
   "id": "08e66e80-fc1f-4f5b-b77d-34eecdb3c52d",
   "metadata": {},
   "source": [
    "![](https://stat6503.github.io/RP2025/img/fig7-1.png)"
   ]
  },
  {
   "cell_type": "markdown",
   "id": "3462d473-2a97-4e43-9e23-1bad489203a3",
   "metadata": {},
   "source": [
    "### **B. ggplot2 기본 구조**"
   ]
  },
  {
   "cell_type": "markdown",
   "id": "5ed6649f-f7e6-455c-885e-ee8a9a45184a",
   "metadata": {},
   "source": [
    "* 가장 기본적인 구조는 `ggplot()` 함수와 `geom_` 계열 함수로 구성됨\n",
    "* 각 구성요소는 `+`로 연결되며, 줄바꿈 시에 반드시 `+`는 줄 마지막에 위치해야 함\n",
    "  * `ggplot()` 함수\n",
    "    * 좌표 시스템(빈 그래프)을 생성하며, 이후 레이어를 추가하여 그래프를 완성\n",
    "    * 첫 번째 매개변수는 데이터프레임으로 지정\n",
    "  * `geom_` 계열 함수\n",
    "    * 범주형 데이터 시각화 - `geom_bar()`\n",
    "    * 수치형 데이터 시각화 - `geom_histogram()`, `geom_boxplot()`, `geom_point()`, `geom_line()`"
   ]
  },
  {
   "cell_type": "markdown",
   "id": "f2d4650d-5fcf-4d65-9a4b-67128809a208",
   "metadata": {},
   "source": [
    "### **C. 막대 그래프(bar chart)**"
   ]
  },
  {
   "cell_type": "markdown",
   "id": "b885b6b8-e64f-411a-8dc1-5c85ae341b47",
   "metadata": {},
   "source": [
    "* 범주형 데이터를 시각화한 것으로, 집단별 빈도를 막대로 나타낸 그래프\n",
    "* [예제] 다이아몬드 가격 데이터셋 diamonts\n",
    "    * cut : 컷 품질(Fair, Good, Very Good, Premium, Ideal)\n",
    "    * color : 다이아몬드 색상(from D(best) to J(worst))\n",
    "    * clarity : 다이아몬드 투명도(I1(worst), SI2, SI1, VS2, VS1, VVS2, VVS1, IF(best))\n",
    "    > 전부 순서가 있는 범주형 변수"
   ]
  },
  {
   "cell_type": "code",
   "execution_count": null,
   "id": "16c6f34c-f74b-4ebc-84a1-25458a9057dc",
   "metadata": {},
   "outputs": [],
   "source": []
  }
 ],
 "metadata": {
  "kernelspec": {
   "display_name": "R",
   "language": "R",
   "name": "ir"
  },
  "language_info": {
   "codemirror_mode": "r",
   "file_extension": ".r",
   "mimetype": "text/x-r-source",
   "name": "R",
   "pygments_lexer": "r",
   "version": "4.3.1"
  }
 },
 "nbformat": 4,
 "nbformat_minor": 5
}
