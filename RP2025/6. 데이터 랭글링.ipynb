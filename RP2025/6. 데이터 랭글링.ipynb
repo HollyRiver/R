{
 "cells": [
  {
   "cell_type": "markdown",
   "id": "6e050d73-626d-4788-acc5-c7ce69ed9197",
   "metadata": {},
   "source": [
    "# Chapter 6 데이터 랭글링"
   ]
  },
  {
   "cell_type": "markdown",
   "id": "673969af-1dd3-4e7d-9511-45c2dcb5e908",
   "metadata": {},
   "source": [
    "## 1. `readr` 패키지"
   ]
  },
  {
   "cell_type": "markdown",
   "id": "17449944-1e82-4f03-9ce2-7d29df0aafa0",
   "metadata": {},
   "source": [
    "* `tibble`로 외부 파일을 불러오거나 저장하는 함수를 제공하는 패키지\n",
    "\n",
    "|**함수**|**설명**|\n",
    "|:-:|:-:|\n",
    "|`read_csv()`||\n",
    "|`read_tsv()`||\n",
    "|`read_delim()`|임의의 구분자로 구분된 파일 불러오기|\n",
    "|`read_table()`|공백으로 구분된 파일 불러오기|\n",
    "|`read_spss()`|(haven 패키지)|\n",
    "|`read_sas()`|(haven 패키지)|"
   ]
  },
  {
   "cell_type": "markdown",
   "id": "0fa1c531-0ee6-405e-bc41-15e463c99e63",
   "metadata": {},
   "source": [
    "* `read_csv()` 함수\n",
    "\n",
    "> * `read.csv()` 함수에 비해 약 10배 정도 빠르며, 좀 더 재현성이 뛰어남\n",
    "> * 첫 번째 행은 변수 이름(header)으로 사용\n",
    "> * 매개변수 `col_names` - 변수명(header)이 없는 경우 가용\n",
    ">   * `col_names = FALSE` - 변수명을 X1부터 Xn까지 순차적으로 넣어줌\n",
    ">   * `col_names = c(\"x\", \"y\", \"z\")`\n",
    "> * 매개변수 `skip` - 파일의 첫 n행 생략 (유효한 데이터가 n줄 이후부터 있는 경우)\n",
    "> * 매개변수 `na` - 특정 값을 결측값으로 지정"
   ]
  },
  {
   "cell_type": "markdown",
   "id": "8d71ad59-1505-477c-a6c5-6c62b527653d",
   "metadata": {},
   "source": [
    "```R\n",
    "read_csv(directory, col_names = c(\"A1\", \"A2\", ..., \"An\"), skip = 5, na = \"9999\" )\n",
    "```"
   ]
  },
  {
   "cell_type": "markdown",
   "id": "79980394-a58a-498e-8ceb-941ef61f87bf",
   "metadata": {},
   "source": [
    "## 2. `dplyr` 패키지"
   ]
  },
  {
   "cell_type": "markdown",
   "id": "06379285-cfc9-4d20-8bc2-0bb4a56e03ee",
   "metadata": {},
   "source": [
    "* 데이터 가공, EDA 등에 매우 유용하고 편리한 함수 제공하는 패키지\n",
    "* 적용 대상에 따른 `dplyr` 함수\n",
    "    * 행 : `filter(), arrange()`\n",
    "    * 열 : `select(), mutate(), rename(), relocate()`\n",
    "    * 집단 : `summarise(), group_by()`"
   ]
  },
  {
   "cell_type": "markdown",
   "id": "6e573833-5bdb-430b-8010-24fbb12895de",
   "metadata": {},
   "source": [
    "|변수|설명|\n",
    "|:-:|:-:|\n",
    "|year|출발년도|\n",
    "|month|출발 월|\n",
    "|day|출발 일|\n",
    "|dep_time|실제 출발 시간(HHMM 또는 HMM)|\n",
    "|arr_time|실제 도착 시간(HHMM 또는 HMM)|\n",
    "|sched_dep_time|예정된 출발 시간(HHMM 또는 HMM)|\n",
    "|sched_arr_time|예정된 도착 시간(HHMM 또는 HMM)|\n",
    "|dep_delay|출발 지연 시간(분)|\n",
    "|arr_delay|도착 지연 시간(분)|\n",
    "|carrier|항공사 약어|\n",
    "|flight|항공편 번호|\n",
    "|tailnum|비행기 식별 번호|\n",
    "|origin|출발지|\n",
    "|dest|목적지|\n",
    "|air_time|비행 시간(분)|\n",
    "|distance|비행 거리(miles)|\n",
    "|hour|예정된 출발 시간; 시|\n",
    "|minute|예정된 출발 시간; 분|\n",
    "|time_hour|예정된 비행 날짜 및 시간(POSIXct date)|"
   ]
  },
  {
   "cell_type": "markdown",
   "id": "c8231771-c933-4c89-a59e-96c134aca58c",
   "metadata": {},
   "source": [
    "> `str` 대신 `glimpse`를 사용하여 콘솔 크기에 맞춰 출력할 수 있음"
   ]
  },
  {
   "cell_type": "markdown",
   "id": "e2352639-2f3d-4881-a1cd-ddc5352746e1",
   "metadata": {},
   "source": [
    "`-` `filter()` 함수"
   ]
  },
  {
   "cell_type": "markdown",
   "id": "14111745-59e7-4218-995d-e703ebff3c81",
   "metadata": {},
   "source": [
    "```R\n",
    "library(nycflights13)\n",
    "\n",
    "#### 120분 이상 연착한 항공편 - arr_delay가 120분 이상인 샘플\n",
    "flights %>% filter(arr_delay >= 120)\n",
    "\n",
    "#### 다중 조건 : 1월 1일에 출발한 항공편 - month는 1, day는 1인 샘플\n",
    "flights %>% filter((month == 1) & (day == 1)) ## 832개\n",
    "flights %>% filter(month == 1, day == 1) ## 여러 개의 args 입력하면 조건으로 인식함\n",
    "\n",
    "#### 여러 값 추출 : 3, 5, 8월에 출발한 항공권 -> %in% 사용\n",
    "flights %>% filter(month %in% c(3, 5, 8))\n",
    "```"
   ]
  },
  {
   "cell_type": "markdown",
   "id": "b6cac59f-cd6a-4a3b-8691-debf5b019aff",
   "metadata": {},
   "source": [
    "`-` `arrange()` 함수 : 데이터프레임 정렬 수행\n",
    "\n",
    "> 결측치는 항상 후순위로 정렬\n",
    ">\n",
    "> `desc()` : 내림차순 정렬"
   ]
  },
  {
   "cell_type": "markdown",
   "id": "fbbab422-da54-4113-b8c1-0c90ccd7c53c",
   "metadata": {},
   "source": [
    "```R\n",
    "#### 출발 시간 순으로 정렬\n",
    "flights %>% arrange(year, month, day, dep_time)\n",
    "\n",
    "#### 도착 지연 순으로 내림차순 정렬\n",
    "flights %>% arrange(desc(arr_delay))\n",
    "```"
   ]
  },
  {
   "cell_type": "markdown",
   "id": "f29edce2-36c9-4394-9be4-0098fe908e05",
   "metadata": {},
   "source": [
    "`-` `select()` 함수 : DB에서 쓰는 `SELECT`와 동일"
   ]
  },
  {
   "cell_type": "markdown",
   "id": "193bfc6b-823c-48a7-bc5e-af385988bb26",
   "metadata": {},
   "source": [
    "```R\n",
    "flights %>% select(x1, x2, x3) ## 특정 변수들 선택\n",
    "flights %>% select(x1:x5)  ## x1부터 x5까지 변수 이름으로 슬라이싱\n",
    "flights %>% select(-(x1:x5)) ## x1부터 x5까지 빼고 추출\n",
    "\n",
    "#### 추출 시 변수 이름 변경까지 됨\n",
    "flights %>%\n",
    "  select(dep.time = dep_time,\n",
    "         arr_time = arr_time)\n",
    "```"
   ]
  },
  {
   "cell_type": "markdown",
   "id": "2c7db387-84e5-4777-9aa5-5156ce2fc3ef",
   "metadata": {},
   "source": [
    "`-` 도우미(helpers) 함수"
   ]
  },
  {
   "cell_type": "markdown",
   "id": "ff63d4f2-1322-4052-8188-7dbeae4abefa",
   "metadata": {},
   "source": [
    "|함수|설명|\n",
    "|:-:|:-:|\n",
    "|`starts_with()`|특정 문자열로 시작하는 이름 매칭|\n",
    "|`ends_with()`|특정 문자열로 끝나는 이름 매칭|\n",
    "|`contains()`|특정 문자열을 포함하는 이름 매칭|\n",
    "|`num_range(perfix, range)`|숫자 접미사를 가지는 일련의 이름 매칭|"
   ]
  },
  {
   "cell_type": "markdown",
   "id": "4aadc9dd-1afb-4385-8528-7ebe0d0966a1",
   "metadata": {},
   "source": [
    "```R\n",
    "### select 도우미 함수\n",
    "flights %>% select(starts_with(\"sched\")) ## 변수 이름이 \"sched\"로 시작하는 경우\n",
    "flights %>% select(ends_with(\"time\"))    ## 변수 이름이 \"time\"으로 끝나는 경우\n",
    "\n",
    "flights %>% select(contains(\"arr\"))         ## 변수 이름에 \"arr\"이 포함되는 경우\n",
    "## -> carrier라는 의도하지 않은 변수가 들어감\n",
    "flights %>% select(contains(\"arr_\")) ## 이런 식으로 응용 가능하긴 한데, 좀 그럼\n",
    "```"
   ]
  },
  {
   "cell_type": "markdown",
   "id": "b8e4fad7-4ddc-4d8e-83f9-639c463c6105",
   "metadata": {},
   "source": [
    "`-` `mutate()` 함수"
   ]
  },
  {
   "cell_type": "markdown",
   "id": "f07229f8-6cd7-4510-9a7f-9ed632050e3d",
   "metadata": {},
   "source": [
    "`-` `rename()` 함수\n",
    "\n",
    "* 특정 변수 이름 변경\n",
    "* 명시적으로 언급하지 않은 모든 변수를 유지함(백틱까지 쓰면서)\n",
    "* 숫자열이 앞에 들어온 변수명 같이 변수 이름 규칙을 위반하는 것을 교체하는 데에 유리"
   ]
  },
  {
   "cell_type": "markdown",
   "id": "b93d545a-17dc-4db9-8d11-e06bfb4d0891",
   "metadata": {},
   "source": [
    "```R\n",
    "#### select에서와 동일한 사용법\n",
    "flights %>% rename(dep.time = dep_time,\n",
    "                   arr.time = arr_time)\n",
    "```"
   ]
  },
  {
   "cell_type": "markdown",
   "id": "3d59de86-b22f-4350-beb9-7b858bdedbec",
   "metadata": {},
   "source": [
    "`-` `relocate()` 함수 : 변수의 위치 변경"
   ]
  },
  {
   "cell_type": "markdown",
   "id": "0af06213-9584-457a-a9d3-1ad14e3cd590",
   "metadata": {},
   "source": [
    "```R\n",
    "flights %>%\n",
    "  filter(dep_delay <= 10 & dep_delay >= -10) %>%\n",
    "  arrange(desc(arr_delay)) %>%\n",
    "  relocate(arr_delay, .after = day) ## 앞에 day를 둠\n",
    "\n",
    "flights %>%\n",
    "  filter(dep_delay <= 10 & dep_delay >= -10) %>%\n",
    "  arrange(desc(arr_delay)) %>%\n",
    "  relocate(arr_delay, .before = day) ## 뒤에 day를 둠\n",
    "\n",
    "flights %>% relocate(air_time, distance) ## 기본적으로 앞에 데려옴\n",
    "flights %>% relocate(carrier:tailnum, .before = day)  ## 콜론 사용 문법은 공유\n",
    "```"
   ]
  },
  {
   "cell_type": "code",
   "execution_count": null,
   "id": "d0f4619c-a2fe-487a-a31a-a8669f94b929",
   "metadata": {},
   "outputs": [],
   "source": []
  }
 ],
 "metadata": {
  "kernelspec": {
   "display_name": "R",
   "language": "R",
   "name": "ir"
  },
  "language_info": {
   "codemirror_mode": "r",
   "file_extension": ".r",
   "mimetype": "text/x-r-source",
   "name": "R",
   "pygments_lexer": "r",
   "version": "4.3.1"
  }
 },
 "nbformat": 4,
 "nbformat_minor": 5
}
