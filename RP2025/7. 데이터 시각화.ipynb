{
 "cells": [
  {
   "cell_type": "markdown",
   "id": "6e050d73-626d-4788-acc5-c7ce69ed9197",
   "metadata": {},
   "source": [
    "# Chapter 7 데이터 시각화"
   ]
  },
  {
   "cell_type": "markdown",
   "id": "673969af-1dd3-4e7d-9511-45c2dcb5e908",
   "metadata": {},
   "source": [
    "## 1. 데이터 시각화 이해"
   ]
  },
  {
   "cell_type": "markdown",
   "id": "ff900563-3d6d-49ff-8aee-4cae77204fbd",
   "metadata": {},
   "source": [
    "### **A. 데이터 시각화**"
   ]
  },
  {
   "cell_type": "markdown",
   "id": "5fc3e443-0ad8-4967-983c-aef1e227d069",
   "metadata": {},
   "source": [
    "* 데이터나 정보를 그래프, 차트 등 시각적 형식으로 표현하는 것\n",
    "* 시각적 이미지는 보다 직관적인 인식을 가능하게 하고 강렬한 인상을 남김\n",
    "* 다양한 시각화를 통해 데이터에 대한 다층적인 이해 가능\n",
    "* 빅데이터를 효과적으로 요약하고 전달할 수 있음"
   ]
  },
  {
   "cell_type": "markdown",
   "id": "7dcbb0bb-a595-4808-9f6d-6286be1f7587",
   "metadata": {},
   "source": [
    "### **B. 데이터 유형에 따른 시각화 방법**"
   ]
  },
  {
   "cell_type": "markdown",
   "id": "26db08a4-dad4-440d-b9ca-0ff9adfe44df",
   "metadata": {},
   "source": [
    "|**유형**|**설명**|**예제**|**시각화 방법**|\n",
    "|:-:|:-|:-:|:-|\n",
    "|범주형 데이터|- 집단으로 구분되는 데이터 <br>- 기본적으로 숫자로 표현할 수 없음 <br>- 대소비교, 산술연산 불가능|성별, 종교|- 막대 그래프(bar chart) <br>- 원 그래프(pie chart)|\n",
    "|수치형 데이터|- 수치 값을 가지는 데이터 <br>- 대소비교, 산술연산 가능|키, 몸무게|- 히스토그램(histogram) <br>- 상자 그림(box plot) <br>- 산점도(scatter plot) <br>- 선 그래프(line plot)|"
   ]
  },
  {
   "cell_type": "markdown",
   "id": "a3acdf0f-e7e4-46be-bbf5-685117006658",
   "metadata": {},
   "source": [
    "## 2. R base graphics"
   ]
  },
  {
   "cell_type": "markdown",
   "id": "a78272cc-98cf-443c-8dc4-7bd20700e0f2",
   "metadata": {},
   "source": [
    "> 진짜 초보 단계에서 가장 심플하게 할 때 사용. 안씀\n",
    ">\n",
    "> 매개변수를 통해 세부적인 그래픽 요소 설정 가능"
   ]
  },
  {
   "cell_type": "markdown",
   "id": "81217ad3-105d-43b2-9755-06ad4cabc807",
   "metadata": {},
   "source": [
    "## 3. ggplot2 패키지"
   ]
  },
  {
   "cell_type": "markdown",
   "id": "5c62dd7c-4d52-4909-8aae-af96528fbdc3",
   "metadata": {},
   "source": [
    "### **A. ggplot2 패키지 소개**"
   ]
  },
  {
   "cell_type": "markdown",
   "id": "abd3f027-93dd-4da4-b607-b4238e90182a",
   "metadata": {},
   "source": [
    "* 범용성, 명료함, 일관성 있는 인터페이스, 미적인 그래픽 결과를 제공하는 패키지\n",
    "* **독립적인 시각적 구성요소**를 정의하고, **이를 층층히 쌓아올리는 방식**으로 그래프를 생성\n",
    "\n",
    "1. Data : 데이터 준비\n",
    "2. Aesthetics : 축에 대한 설정(x축, y축, 크기, 색상, 모양 등)\n",
    "3. Geometries : 시각화 방법(기하 객체 : 점, 선, 막대 등)\n",
    "---\n",
    "4. Facets : 그래프 화면 분할\n",
    "5. Statistics : 통계량과 함께 표시\n",
    "6. Coordinates : 그래프의 변형, 회전\n",
    "7. Theme : 테마"
   ]
  },
  {
   "cell_type": "markdown",
   "id": "08e66e80-fc1f-4f5b-b77d-34eecdb3c52d",
   "metadata": {},
   "source": [
    "![](https://stat6503.github.io/RP2025/img/fig7-1.png)"
   ]
  },
  {
   "cell_type": "markdown",
   "id": "3462d473-2a97-4e43-9e23-1bad489203a3",
   "metadata": {},
   "source": [
    "### **B. ggplot2 기본 구조**"
   ]
  },
  {
   "cell_type": "markdown",
   "id": "5ed6649f-f7e6-455c-885e-ee8a9a45184a",
   "metadata": {},
   "source": [
    "* 가장 기본적인 구조는 `ggplot()` 함수와 `geom_` 계열 함수로 구성됨\n",
    "* 각 구성요소는 `+`로 연결되며, 줄바꿈 시에 반드시 `+`는 줄 마지막에 위치해야 함\n",
    "  * `ggplot()` 함수\n",
    "    * 좌표 시스템(빈 그래프)을 생성하며, 이후 레이어를 추가하여 그래프를 완성\n",
    "    * 첫 번째 매개변수는 데이터프레임으로 지정\n",
    "  * `geom_` 계열 함수\n",
    "    * 범주형 데이터 시각화 - `geom_bar()`\n",
    "    * 수치형 데이터 시각화 - `geom_histogram()`, `geom_boxplot()`, `geom_point()`, `geom_line()`"
   ]
  },
  {
   "cell_type": "markdown",
   "id": "f2d4650d-5fcf-4d65-9a4b-67128809a208",
   "metadata": {},
   "source": [
    "### **C. 막대 그래프(bar chart)**"
   ]
  },
  {
   "cell_type": "markdown",
   "id": "b885b6b8-e64f-411a-8dc1-5c85ae341b47",
   "metadata": {},
   "source": [
    "* 범주형 데이터를 시각화한 것으로, 집단별 빈도를 막대로 나타낸 그래프\n",
    "* [예제] 다이아몬드 가격 데이터셋 diamonts\n",
    "    * cut : 컷 품질(Fair, Good, Very Good, Premium, Ideal)\n",
    "    * color : 다이아몬드 색상(from D(best) to J(worst))\n",
    "    * clarity : 다이아몬드 투명도(I1(worst), SI2, SI1, VS2, VS1, VVS2, VVS1, IF(best))\n",
    "    > 전부 순서가 있는 범주형 변수"
   ]
  },
  {
   "cell_type": "markdown",
   "id": "185ef7a7-fdad-48ff-b1ea-81960e7d3c93",
   "metadata": {},
   "source": [
    "`-` 컷 품질에 따른 막대그래프\n",
    "\n",
    "```R\n",
    "## 기본\n",
    "ggplot(diamonds, aes(x = cut)) + geom_bar() ## x축만 지정, 도수로 표시\n",
    "\n",
    "## 일괄 색상 설정\n",
    "ggplot(diamonds, aes(x = cut)) + geom_bar(fill = \"orange\") ## 유의한 색상일 시 자동으로 텍스트 하이라이트\n",
    "\n",
    "## 범주 별 색상 설정\n",
    "ggplot(diamonds, aes(x = cut, fill = cut)) + geom_bar()\n",
    "```"
   ]
  },
  {
   "cell_type": "markdown",
   "id": "3e0f2776-db6f-4335-afca-dba4515086e3",
   "metadata": {},
   "source": [
    "`-` 두 개의 범주형 변수 `cut, clarity`에 대한 누적형 막대그래프\n",
    "\n",
    "```R\n",
    "## 도수 차이를 반영\n",
    "ggplot(diamonds, aes(x = cut, fill = clarity)) + geom_bar()\n",
    "\n",
    "## 세부 조정 : 피규어를 변수에 저장\n",
    "p = ggplot(diamonds, aes(x = cut, fill = clarity))\n",
    "p + geom_bar() ## 누적 막대 그래프 : stack\n",
    "p + geom_bar(position = \"fill\") ## 각 범주의 도수를 1로 하여 상대도수 표시\n",
    "\n",
    "## 두 개 범주를 각각 그림\n",
    "p + geom_bar(position = \"dodge\")\n",
    "\n",
    "## 상대적으로 도수가 큰 범주만 표시?\n",
    "p + geom_bar(position = \"identity\") \n",
    "```"
   ]
  },
  {
   "cell_type": "markdown",
   "id": "5ef2c863-1e64-410e-9d79-56cb35430ae8",
   "metadata": {},
   "source": [
    "> 컷 품질이 좋을수록 투명도가 높은 경향 있음"
   ]
  },
  {
   "cell_type": "markdown",
   "id": "56ba0609-56d2-41ce-8108-c6dd9ed14839",
   "metadata": {},
   "source": [
    "`-` 데이터 자체가 요약된 통계량일 경우\n",
    "\n",
    "```R\n",
    "diamonds %>% count(cut) %>%\n",
    "  ggplot(aes(x = cut, y = n, fill = cut)) +\n",
    "  geom_bar(stat = \"identity\") \n",
    "```"
   ]
  },
  {
   "cell_type": "markdown",
   "id": "cbb1dd50-c27b-4e47-847e-a046d8f54426",
   "metadata": {},
   "source": [
    "`-` 그래프에서 y축에 카테고리를 넣고 싶을 경우\n",
    "\n",
    "```R\n",
    "diamonds %>%\n",
    "  ggplot(aes(y = cut, fill = cut)) + geom_bar()  \n",
    "```"
   ]
  },
  {
   "cell_type": "markdown",
   "id": "2a1a2e89-6c92-4bb6-abb2-f7532af02926",
   "metadata": {},
   "source": [
    "> 그래프를 이미지로 저장하려면 `Plots`창의 `Export`를 사용하면 됨. 코드 써도 되고..."
   ]
  },
  {
   "cell_type": "markdown",
   "id": "462194d2-fdb0-4e0d-8312-01e53871c31d",
   "metadata": {},
   "source": [
    "`-` 인종의 빈도가 큰 순서대로 시각화\n",
    "\n",
    "```R\n",
    "### EX5. 인종의 빈도가 큰 순서대로 시각화\n",
    "gss_cat$race %>% levels ## 네 개 범주, Not applicable은 자료 없음\n",
    "gss_cat %>%\n",
    "  mutate(race = fct_infreq(race)) %>%\n",
    "  ggplot(aes(x = race, fill = race)) +\n",
    "  geom_bar() +\n",
    "  scale_x_discrete(drop = FALSE) + ## 데이터 없는 범주 표시(이산형 x축)\n",
    "  scale_fill_manual(values = c(\"darkorange\", \"steelblue\", \"#66a182\", \"#d1495b\")) + ## 색상 변경\n",
    "  labs(x = \"\", y = \"Frequency\") + ## axis label 변경\n",
    "  theme(axis.title.y = element_text(size = 15, margin = margin(r = 10)), ## axis title text 속성\n",
    "        axis.text = element_text(size = 15), ## x축과 y축 틱 텍스트 크기 설정\n",
    "        legend.position = \"none\" ## 이미 아래에 있는데 쓰기 싫음\n",
    "        )\n",
    "```"
   ]
  },
  {
   "cell_type": "markdown",
   "id": "5d2ce649-e20a-4548-96b3-b055eb411963",
   "metadata": {},
   "source": [
    "* `element_text`\n",
    "\n",
    "> `size` : 폰트 사이즈\n",
    ">\n",
    "> `margin` : `axis`와의 거리"
   ]
  },
  {
   "cell_type": "markdown",
   "id": "d88ff78b-0cd6-422c-bed4-11424c486f2e",
   "metadata": {},
   "source": [
    "`-` 베이직 컬러 팔레트 사용\n",
    "\n",
    "```R\n",
    "library(lubridate)\n",
    "library(nycflights13)\n",
    "library(RColorBrewer) ## 팔레트 불러오기\n",
    "\n",
    "## 예정된 도착 일시, 실제 출발 일시, 실제 도착 일시를 date-time 형식으로 생성\n",
    "make_datetime_100 <- function(year, month, day, time) {\n",
    "  make_datetime(year, month, day, time %/% 100, time %% 100)\n",
    "}\n",
    "\n",
    "## 결측치 처리 및 dttm으로 변경 후 필요한 데이터만 추출\n",
    "flights_dt <- flights %>% \n",
    "  filter(!is.na(dep_time), !is.na(arr_time)) %>% \n",
    "  mutate(dep_time = make_datetime_100(year, month, day, dep_time),\n",
    "         arr_time = make_datetime_100(year, month, day, arr_time),\n",
    "         sched_dep_time = make_datetime_100(year, month, day, sched_dep_time),\n",
    "         sched_arr_time = make_datetime_100(year, month, day, sched_arr_time)) %>% \n",
    "  select(origin, dest, ends_with(\"delay\"), ends_with(\"time\"))\n",
    "\n",
    "\n",
    "flights_dt %>%\n",
    "  mutate(wday = wday(dep_time, label = TRUE)) %>%\n",
    "  ggplot(aes(x = wday, fill = wday)) +\n",
    "  geom_bar() +\n",
    "  scale_fill_manual(values = brewer.pal(7, \"Spectral\")) + ## 필요한 색상(범주)의 개수 입력 무조건\n",
    "  labs(x = \"\", y = \"Frequency\") +\n",
    "  theme(legend.position = \"none\") +\n",
    "  theme(axis.title.y = element_text(size = 15, margin = margin(r=10)),\n",
    "        axis.text.x = element_text(size = 12),\n",
    "        legend.position = \"none\")\n",
    "```"
   ]
  },
  {
   "cell_type": "markdown",
   "id": "526ee96b-d30a-4d58-9641-7218c4449c24",
   "metadata": {},
   "source": [
    "> 연속형 변수의 경우 연속된 색상, 범주형 변수의 경우 구분되는 색상을 사용하는 것이 좋음"
   ]
  },
  {
   "cell_type": "markdown",
   "id": "e74fd756-a40b-4fc3-9715-32e0f4a21eef",
   "metadata": {},
   "source": [
    "### **D. 히스토그램**"
   ]
  },
  {
   "cell_type": "markdown",
   "id": "aeb3c98e-086a-4671-9ac9-53ab56d4e8c7",
   "metadata": {},
   "source": [
    "* 수치형 데이터를 일정 구간으로 나눈 후, 각 구간별 빈도를 막대로 나타낸 그래프"
   ]
  },
  {
   "cell_type": "markdown",
   "id": "f5cd8b75-dace-4da4-a2dd-e002062acf70",
   "metadata": {},
   "source": [
    "`-` 파라메터 설정\n",
    "\n",
    "```R\n",
    "ggplot(PlantGrowth, aes(x = weight)) +\n",
    "  geom_histogram(fill = \"steelblue\", color = \"gray\", bins = 10) + ## bins 조정 color는 테두리임\n",
    "  labs(title = \"plot title\") ## 기본적으로 왼쪽 정렬\n",
    "```"
   ]
  },
  {
   "cell_type": "markdown",
   "id": "992d6f7a-f31f-4053-a675-1130a84ce9e4",
   "metadata": {},
   "source": [
    "`-` 커스텀 테마\n",
    "\n",
    "* `theme_bw()` : 그리드는 남아있음\n",
    "* `theme_classic()` : 그리드 없앰\n",
    "* `theme_void()` : 축이나 그리드 다 없앰"
   ]
  },
  {
   "cell_type": "markdown",
   "id": "4d2e7b90-a421-410f-a1e5-a93f4788f186",
   "metadata": {},
   "source": [
    "`-` 처리 집단에 따른 범주별 히스토그램 분할 : `facet`\n",
    "\n",
    "```R\n",
    "ggplot(PlantGrowth, aes(x = weight, fill = group)) +\n",
    "  geom_histogram(bins = 10) +\n",
    "  labs(title = \"식물의 건조중량 히스토그램\", y = \"\") +\n",
    "  facet_grid(group~.) + ## x축을 또 다른 변수로 분할할경우 ~뒤에 지정. 아니면 `.`\n",
    "  theme(plot.title = element_text(size = 25, hjust = 0.5), ## 타이틀 가운데 정렬\n",
    "        axis.title = element_text(size = 15),\n",
    "        axis.text = element_text(size = 15),\n",
    "        strip.text = element_text(size = 20, face = \"bold\"), ## 분할 텍스트 설정\n",
    "        legend.position = \"none\")\n",
    "```\n",
    "\n",
    "> 축이 동일한 분할된 그래프가 그려짐"
   ]
  },
  {
   "cell_type": "markdown",
   "id": "f74bd605-1b89-469b-a581-bf4a4a09fc2f",
   "metadata": {},
   "source": [
    "### **E. 상자 그림(box plot)**"
   ]
  },
  {
   "cell_type": "markdown",
   "id": "3bc24cb7-0f7f-4965-8566-390d050ebb5c",
   "metadata": {},
   "source": [
    "* 다섯숫자 요약값에 기반으로 한 그래프\n",
    "    * 사분위수 - 데이터를 크기 순으로 정렬한 후 사등분하는 값\n",
    "      * 최소값\n",
    "      * Q1\n",
    "      * 중앙값\n",
    "      * Q3\n",
    "      * 최대값\n",
    "      * IQR\n",
    "* 일반 범위를 벗어난 경우를 이상치로 판단\n",
    "* 집단별 수치형 데이터의 분포를 비교하는데 유용"
   ]
  },
  {
   "cell_type": "markdown",
   "id": "d73352e6-4e4b-426c-b24c-b1788d659189",
   "metadata": {},
   "source": [
    "```R\n",
    "## 세워진 상자 그림\n",
    "penguins %>%\n",
    "  drop_na() %>%\n",
    "  ggplot(aes(y = body_mass_g)) +\n",
    "  geom_boxplot() ## 전체 분포는 오른쪽으로 기울어진 분포 느낌\n",
    "\n",
    "\n",
    "## 눕힌 상자 그림\n",
    "penguins %>%\n",
    "  drop_na() %>%\n",
    "  ggplot(aes(x = body_mass_g)) +\n",
    "  geom_boxplot()\n",
    "```"
   ]
  },
  {
   "cell_type": "markdown",
   "id": "cbbe7daa-d6bd-48c8-8d53-05d6e65bc1a7",
   "metadata": {},
   "source": [
    "`-` 품종에 따른 상자 그림\n",
    "\n",
    "```R\n",
    "## EX1. 품종에 따른 상자 그림\n",
    "penguins %>%\n",
    "  drop_na() %>%\n",
    "  ggplot(aes(x = species, y = body_mass_g)) +\n",
    "    geom_boxplot(aes(fill = species), ## 여기서도 aes를 사용할 수 있음\n",
    "                 width = 0.5) ## 상자의 너비 조절 가능\n",
    "```"
   ]
  },
  {
   "cell_type": "markdown",
   "id": "a9b1dc9a-8b58-4ef9-a241-d8dd1c9584f1",
   "metadata": {},
   "source": [
    "`-` `facet_grid`를 이용하여 n $\\times$ m개의 그래프 산출\n",
    "\n",
    "```R\n",
    "fig <- penguins %>%\n",
    "  drop_na() %>%\n",
    "  ggplot(aes(x = island, y = body_mass_g, fill = island)) +\n",
    "    geom_boxplot(width = 0.5) +\n",
    "    facet_grid(sex ~ species) +\n",
    "    labs(x = \"\", y = \"Weight (g)\") +\n",
    "    theme_bw() +\n",
    "    theme(axis.title.y = element_text(size = 15, margin = margin(r = 15)),\n",
    "          axis.text = element_text(size = 12),\n",
    "          strip.text = element_text(size = 15, face = \"bold\"), ## 내부 타이틀\n",
    "          legend.position = \"none\",\n",
    "          panel.grid.major.x = element_blank(), ## x 그리드 없앰\n",
    "          panel.grid.minor = element_blank() ## 자잘한 눈금 없앰\n",
    "          )\n",
    "\n",
    "### 상자별 분포 파악하기\n",
    "fig + geom_point(color = \"steelblue\", alpha = 0.5)\n",
    "fig + geom_jitter(color = \"steelblue\", alpha = 0.5, width = 0.2) ## 지터링\n",
    "```"
   ]
  },
  {
   "cell_type": "markdown",
   "id": "9ce09aa3-bced-4ffb-954c-af1eeb539bc8",
   "metadata": {},
   "source": [
    "### **F. 산점도**"
   ]
  },
  {
   "cell_type": "markdown",
   "id": "d1303c9a-7f42-41d2-8d2c-c9d8474e3a9a",
   "metadata": {},
   "source": [
    "* 두 수치형 데이터의 관측 순서쌍을 이차원 평면 상에 점으로 나타낸 그래프\n",
    "* 두 변수 간 상관관계를 추정하기 위함\n",
    "* `pch` - 점 유형\n",
    "    * 0~14 : 채우기 없음, 테두리 색상만 `color`로 설정\n",
    "    * 15~20 : 채우기 색상만 `color`로 설정, 테두리 없음\n",
    "    * 21~24 : 채우기 색상은 `fill`, 테두리는 `color`로 설정"
   ]
  },
  {
   "cell_type": "markdown",
   "id": "103a6055-4dba-4f1a-b73a-82a1b26e6a11",
   "metadata": {},
   "source": [
    "```R\n",
    "## EX1. 날개 길이와 몸무게 간 산점도\n",
    "penguins %>%\n",
    "  drop_na() %>%\n",
    "  ggplot(aes(x = flipper_length_mm, y = body_mass_g)) +\n",
    "  geom_point(size = 4, color = \"forestgreen\", pch = 17, alpha = 0.5) +\n",
    "  labs(x = \"Flipper Length\", y = \"Weight (g)\",\n",
    "       title = \"펭귄 지느러미 길이와 몸무게 간 산점도\") +\n",
    "  theme_bw() +\n",
    "  geom_smooth(method = lm, color = \"red\") + ## 회귀직선 및 신뢰구간 표시\n",
    "  geom_rug() ## 변수 별 데이터의 단변량 분포를 사이드에 표시\n",
    "```"
   ]
  },
  {
   "cell_type": "markdown",
   "id": "6469936d-717d-41ca-b9a5-ebe834fc46ae",
   "metadata": {},
   "source": [
    "```R\n",
    "## EX2. 날개 길이와 체중에 대한 산점도 + 품종별 색상 및 모양 구분\n",
    "penguins %>%\n",
    "  drop_na() %>%\n",
    "  ggplot(aes(x = flipper_length_mm, y = body_mass_g)) +\n",
    "  geom_point(aes(color = species, pch = species), size = 4, alpha = 0.5)\n",
    "```"
   ]
  },
  {
   "cell_type": "markdown",
   "id": "8941598d-52f4-4933-a152-60de1728bdc8",
   "metadata": {},
   "source": [
    "```R\n",
    "## EX3. 날개 길이와 체중에 대한 산점도 + 부리 길이 색상 구분 -> 클수록 부리길이도 김\n",
    "penguins %>%\n",
    "  drop_na() %>%\n",
    "  ggplot(aes(x = flipper_length_mm, y = body_mass_g)) +\n",
    "  geom_point(aes(color = bill_length_mm), size = 4, alpha = 0.6) +\n",
    "  scale_color_gradient(low = \"cyan\", high = \"red\") ## 그라데이션 설정\n",
    "```"
   ]
  },
  {
   "cell_type": "markdown",
   "id": "29452d41-e77e-4bd2-9e51-e94a07eb5a5f",
   "metadata": {},
   "source": [
    "```R\n",
    "## EX4. 날개 길이와 체중에 대한 산점도 + 부리 길이 크기 구분 + 성별 색상 구분\n",
    "penguins %>%\n",
    "  drop_na() %>%\n",
    "  ggplot(aes(x = flipper_length_mm, y = body_mass_g, color = sex, size = bill_length_mm)) +\n",
    "  geom_point(alpha = 0.6)\n",
    "```"
   ]
  },
  {
   "cell_type": "code",
   "execution_count": null,
   "id": "4290dbe9-3298-47b1-8eee-6442623cb23e",
   "metadata": {},
   "outputs": [],
   "source": []
  }
 ],
 "metadata": {
  "kernelspec": {
   "display_name": "R",
   "language": "R",
   "name": "ir"
  },
  "language_info": {
   "codemirror_mode": "r",
   "file_extension": ".r",
   "mimetype": "text/x-r-source",
   "name": "R",
   "pygments_lexer": "r",
   "version": "4.3.1"
  }
 },
 "nbformat": 4,
 "nbformat_minor": 5
}
