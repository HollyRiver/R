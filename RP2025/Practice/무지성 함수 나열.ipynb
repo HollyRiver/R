{
 "cells": [
  {
   "cell_type": "code",
   "execution_count": 1,
   "id": "89dcf2a2-9703-474f-9ce7-59ca750357f4",
   "metadata": {},
   "outputs": [
    {
     "name": "stderr",
     "output_type": "stream",
     "text": [
      "── \u001b[1mAttaching core tidyverse packages\u001b[22m ──────────────────────── tidyverse 2.0.0 ──\n",
      "\u001b[32m✔\u001b[39m \u001b[34mdplyr    \u001b[39m 1.1.3     \u001b[32m✔\u001b[39m \u001b[34mreadr    \u001b[39m 2.1.4\n",
      "\u001b[32m✔\u001b[39m \u001b[34mforcats  \u001b[39m 1.0.0     \u001b[32m✔\u001b[39m \u001b[34mstringr  \u001b[39m 1.5.0\n",
      "\u001b[32m✔\u001b[39m \u001b[34mggplot2  \u001b[39m 3.4.4     \u001b[32m✔\u001b[39m \u001b[34mtibble   \u001b[39m 3.2.1\n",
      "\u001b[32m✔\u001b[39m \u001b[34mlubridate\u001b[39m 1.9.3     \u001b[32m✔\u001b[39m \u001b[34mtidyr    \u001b[39m 1.3.0\n",
      "\u001b[32m✔\u001b[39m \u001b[34mpurrr    \u001b[39m 1.0.2     \n",
      "── \u001b[1mConflicts\u001b[22m ────────────────────────────────────────── tidyverse_conflicts() ──\n",
      "\u001b[31m✖\u001b[39m \u001b[34mdplyr\u001b[39m::\u001b[32mfilter()\u001b[39m masks \u001b[34mstats\u001b[39m::filter()\n",
      "\u001b[31m✖\u001b[39m \u001b[34mdplyr\u001b[39m::\u001b[32mlag()\u001b[39m    masks \u001b[34mstats\u001b[39m::lag()\n",
      "\u001b[36mℹ\u001b[39m Use the conflicted package (\u001b[3m\u001b[34m<http://conflicted.r-lib.org/>\u001b[39m\u001b[23m) to force all conflicts to become errors\n"
     ]
    }
   ],
   "source": [
    "library(tidyverse)\n",
    "library(lubridate)\n",
    "library(RColorBrewer)\n",
    "library(nycflights13)"
   ]
  },
  {
   "cell_type": "code",
   "execution_count": null,
   "id": "6aba96f2-f5af-4ffc-9aec-aefe5da61662",
   "metadata": {},
   "outputs": [],
   "source": [
    "pivot_wider(names_from, values_from, values_fill)\n",
    "pivot_longer(cols, names_to, values_to, values_drop_na, names_prefix)\n",
    "\n",
    "#---#\n",
    "separate(data, col, into, sep)\n",
    "unite(data, col, cols, sep)\n",
    "\n",
    "#---#\n",
    "is.na()\n",
    "complete(data, cols)\n",
    "fill(data, col)\n",
    "drop_na(data, cols)\n",
    "replace_na(data, replace = list(col1 = \"\", col2 = 0, ...))\n",
    "replace_na(vector, replace)\n",
    "\n",
    "#---#\n",
    "str_length(v)\n",
    "str_sub(v, start, end)\n",
    "str_to_lower(v)\n",
    "str_to_upper(v)\n",
    "letters, LETTERS\n",
    "\n",
    "#---#\n",
    "str_c(col, sep)\n",
    "str_c(v, collapse)\n",
    "str_glue(\"\")\n",
    "str_glue_data(tbl, \"\")\n",
    "str_replace_na(v)\n",
    "str_flatten(v, collapse)\n",
    "\n",
    "#---#\n",
    "str_subset(v, regX)\n",
    "str_detect(v, regX)\n",
    "str_count(v, regX)\n",
    "str_extract(v, regX)\n",
    "str_extract_all(v, regX)\n",
    "str_split(v, pattern = boundary(c(\"character\", \"line_break\", \"sentence\", \"word\"))) # 여기 안함\n",
    "\n",
    "#---#\n",
    "fct_inorder(fct)\n",
    "fct_infreq(fct)\n",
    "fct_inseq(fct)\n",
    "fct_rev(fct)\n",
    "\n",
    "#---#\n",
    "fct_reorder(fct, freq)\n",
    "fct_relevel(fct, c(levels))\n",
    "\n",
    "#---#\n",
    "fct_recode(fct, \"new_level1\" = \"pre_level1\", \"new_level2\" = \"per_level2\", ...)\n",
    "fct_collapse(fct, new_level1 = c(\"pre11\", \"pre12\", \"pre13\", ...), new_level2 = c(\"pre21\", \"pre22\", \"pre23\", ...))\n",
    "fct_lump(fct, n, prop, other_level)\n",
    "\n",
    "#---#\n",
    "make_date(tbl, year, month, day)\n",
    "make_datetime(tbl, year, month, day, hour, minute, second)\n",
    "\n",
    "#---#\n",
    "ymd(txt)\n",
    "hms(txt)\n",
    "ymd_hms(txt)\n",
    "\n",
    "#---#\n",
    "wday(txt or date, label = TRUE, abbr = FALSE)\n",
    "month(txt or date, label = TRUE, abbr = FALSE)\n",
    "\n",
    "#---#\n",
    "as.duration(difftime)\n",
    "dyears(1) / ddays(1)\n",
    "years(1) / days(1)\n",
    "interval(start, end) ## start %--% end\n",
    "\n",
    "#---#\n",
    "ggplot(aes(x, y, color, fill, size, ...))\n",
    "geom_bar(stat = c(\"identity\"), position = c(\"fill\", \"dodge\"))\n",
    "geom_histogram(bins, binwidth)\n",
    "geom_boxplot()\n",
    "geom_jitter(alpha, width)\n",
    "geom_point(pch)\n",
    "geom_rug(size)\n",
    "geom_line()\n",
    "geom_smooth(method = lm, color)\n",
    "\n",
    "labs(x, y, title, color, fill, size, ...)\n",
    "facet_grid(y~x, labeller)\n",
    "\n",
    "scale_fill_manual(values = RColorBrewer::brewer.pal)\n",
    "scale_color_manual(values = RColorBrewer::brewer.pal)\n",
    "scale_color_gradient(low, high)\n",
    "scale_x_discrete(drop = FALSE)\n",
    "scale_x_continuous(breaks = c())\n",
    "\n",
    "theme_bw()\n",
    "theme_classic()\n",
    "theme_void()\n",
    "\n",
    "theme(axis.title = element_text(size, margin, hjust),\n",
    "      axis.text = element_text(),\n",
    "      strip.text = element_text(),\n",
    "      plot.title = element_text(),\n",
    "      legend.title = element_text(),\n",
    "      legend.text = element_text(),\n",
    "      panel.grid.major = element_blank(),\n",
    "      panel.grid.minor = element_blank(),\n",
    "      legend.position = \"none\"\n",
    "     )\n",
    "\n",
    "guides(color = guide_legend(override.aes = list(size)))"
   ]
  },
  {
   "cell_type": "code",
   "execution_count": 8,
   "id": "e5ed3fe1-9f3c-471b-9c55-29b2682599bd",
   "metadata": {},
   "outputs": [
    {
     "data": {
      "text/html": [
       "366"
      ],
      "text/latex": [
       "366"
      ],
      "text/markdown": [
       "366"
      ],
      "text/plain": [
       "[1] 366"
      ]
     },
     "metadata": {},
     "output_type": "display_data"
    }
   ],
   "source": [
    "(ymd(\"2024-01-01\") %--% ymd(\"2025-01-01\")) / ddays(1)"
   ]
  },
  {
   "cell_type": "code",
   "execution_count": null,
   "id": "4efa6412-2cb5-4a74-8716-ed3be7c1bd8b",
   "metadata": {},
   "outputs": [],
   "source": []
  }
 ],
 "metadata": {
  "kernelspec": {
   "display_name": "R",
   "language": "R",
   "name": "ir"
  },
  "language_info": {
   "codemirror_mode": "r",
   "file_extension": ".r",
   "mimetype": "text/x-r-source",
   "name": "R",
   "pygments_lexer": "r",
   "version": "4.3.1"
  }
 },
 "nbformat": 4,
 "nbformat_minor": 5
}
