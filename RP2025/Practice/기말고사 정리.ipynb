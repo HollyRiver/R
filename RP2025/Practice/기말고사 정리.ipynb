{
 "cells": [
  {
   "cell_type": "markdown",
   "id": "c592241e-cd35-466f-a367-a31f65c0d49d",
   "metadata": {},
   "source": [
    "tidyr 이후부터"
   ]
  },
  {
   "cell_type": "markdown",
   "id": "368dfa44-4598-488a-8d9f-83c0383cf5ef",
   "metadata": {},
   "source": [
    "대부분 `help`를 쳐서 찾아볼 수 있으므로 걱정 안해도 됨"
   ]
  },
  {
   "cell_type": "markdown",
   "id": "7379faca-052b-4e56-b2c1-c91081d31509",
   "metadata": {},
   "source": [
    "`-` readr 데이터 포맷 변경"
   ]
  },
  {
   "cell_type": "markdown",
   "id": "65766212-6be1-4b11-bd01-f7bdc46d5f9e",
   "metadata": {},
   "source": [
    "* `parse_character()`\n",
    "* `parse_integer()`\n",
    "* `parse_double()`"
   ]
  },
  {
   "cell_type": "markdown",
   "id": "e5b0b86f-1eff-496d-bf41-c6b24d775eeb",
   "metadata": {},
   "source": [
    "# 1. tidyr\n",
    "\n",
    "---"
   ]
  },
  {
   "cell_type": "markdown",
   "id": "c178bbab-fdbb-45a8-b760-d1d17a065162",
   "metadata": {},
   "source": [
    "## **A. wide format과 long format**"
   ]
  },
  {
   "cell_type": "markdown",
   "id": "09cf84a0-f93b-4352-b6a6-efdb79651c7c",
   "metadata": {},
   "source": [
    "> 특정 열에 대하여 wide/long을 판단할 수 있음 ex) 연도, 성별 등"
   ]
  },
  {
   "cell_type": "markdown",
   "id": "fd30e9bc-a0d5-4c5d-921c-9fed0cb05a8a",
   "metadata": {},
   "source": [
    "`-` long format : 컴퓨터가 이해하기 편한 데이터 구조\n",
    "\n",
    "* wide format보다 유연하여 데이터 추가 및 삭제가 용이\n",
    "* 각 열은 요인으로 변환된 상태\n",
    "* `pivot_longer()` 함수로 변환 가능 : 변환할 열을 지정할 시 `starts_with`, `ends_with`, `contains` 등 `select`와 동일한 함수 및 문법 활용 가능\n",
    "\n",
    "```R\n",
    "tbl %>% pivot_longer(cols = c(col1, col2),\n",
    "                     names_to = \"name_col\", name_prefix = \"prefix\", ## 접두사 제거\n",
    "                     values_to = \"value_col\", values_drop_na = TRUE) ## 제거하여 암묵적 결측값으로 변환\n",
    "\n",
    "pivot_longer(tbl, cols = contains(\"20\"),\n",
    "             names_to = \"year\", values_to = \"population\", values_drop_na = TRUE)\n",
    "```"
   ]
  },
  {
   "cell_type": "markdown",
   "id": "96f0a41a-115a-41bc-aa7f-d7c56f5728ed",
   "metadata": {},
   "source": [
    "`-` wide format : 사람이 읽기 쉬운 데이터구조\n",
    "\n",
    "* 통계학에서 다루는 데이터 테이블 구조와 동일한 개념\n",
    "* 각 행은 관특 단위를 나타내며, 각 열은 관측 단위에 대한 측정값으로 표현\n",
    "* `pivot_wider()` 함수로 변환 가능\n",
    "\n",
    "```R\n",
    "tbl %>% pivot_wider(names_from = c(naming1, naming2, ...),\n",
    "                    values_from = c(value1, value2, ...), values_fill = \"0\") ## 결측값 발생 시 처리\n",
    "```\n",
    "\n",
    "> `names_from`의 변수 범주 수와 `values_from`의 변수 개수의 곱만큼 새로운 변수가 생성된다. 이름은 `value_naming1_naming2_...`이런 식으로 붙는다."
   ]
  },
  {
   "cell_type": "markdown",
   "id": "b803a2d8-2f50-4566-9322-75b1ad3b3c3e",
   "metadata": {},
   "source": [
    "## **B. 열의 분리 및 결합**"
   ]
  },
  {
   "cell_type": "markdown",
   "id": "9ea4838a-c172-4911-b240-496a6b2e1531",
   "metadata": {},
   "source": [
    "`-` `separate(tbl, complx_col, into = c(\"new_col1\", \"new_col2\"), sep = \"\")`\n",
    "\n",
    "* 단일 값 원칙을 만족하지 못하는 경우\n",
    "* 한 개의 열에 여러 값들이 결합되어 있는 경우 여러 개로 분리"
   ]
  },
  {
   "cell_type": "markdown",
   "id": "b94234de-e232-4404-8118-ee00c5da0ada",
   "metadata": {},
   "source": [
    "`-` `unite(tbl, col = \"new_col\", col1, col2, ..., sep = \"\")`\n",
    "\n",
    "* 여러 개의 열을 하나의 열로 결합해야 할 때 사용\n",
    "* 기본 구분자는 `\"_\"`"
   ]
  },
  {
   "cell_type": "markdown",
   "id": "7b33035f-414f-4e1a-bd67-91e92536e4fd",
   "metadata": {},
   "source": [
    "## **C. 결측값 처리**"
   ]
  },
  {
   "cell_type": "markdown",
   "id": "6c9db0ed-5764-4f74-b421-99768df2314f",
   "metadata": {},
   "source": [
    "`-` `NA` == not available\n",
    "\n",
    "* 결측값은 전염성을 가짐 -> 결측값이 하나만 존재해도 연산 시 결측값으로 반환됨\n",
    "\n",
    "`-` 명시적 결측값 : `NA`로서 명시적으로 표시된 값\n",
    "\n",
    "`-` 암묵적 결측값 : 데이터셋에 존재하지 않는 값"
   ]
  },
  {
   "cell_type": "markdown",
   "id": "3f8708d4-b074-49b2-a8a4-7bfdc5a2f167",
   "metadata": {},
   "source": [
    "```R\n",
    "stocks <- tibble(\n",
    "    year   = c(2015, 2015, 2015, 2015, 2016, 2016, 2016),\n",
    "    qtr    = c(   1,    2,    3,    4,    2,    3,    4),\n",
    "    return = c(1.88, 0.59, 0.35,   NA, 0.92, 0.17, 2.66)\n",
    "    )\n",
    "```"
   ]
  },
  {
   "cell_type": "markdown",
   "id": "b1b58e13-cb72-47af-8191-d3c00c265345",
   "metadata": {},
   "source": [
    "`-` `complete(tbl, col1, col2, ...)` : 해당 열들`(col1, col2, ...)`의 하위 범주들의 모든 조합에 대하여 명시적 결측값 생성"
   ]
  },
  {
   "cell_type": "markdown",
   "id": "101461f2-01fa-403d-8681-1ef839f91589",
   "metadata": {},
   "source": [
    "`-` `fill(tbl, col1, col2, ...)` : 해당 열들에서 결측값을 가장 최근에 존재하는 값(이월된 마지막 관측값)으로 대체\n",
    "\n",
    "> 엑셀 차트 등에서 범주를 묶어 표시하였을 때 사용하면 유리"
   ]
  },
  {
   "cell_type": "markdown",
   "id": "7cf7be8e-25c7-4dda-9ce6-b2f8bb00a543",
   "metadata": {},
   "source": [
    "`-` `drop_na(tbl, col1, col2, ...)` : 해당 열들 중 하나라도 결측값이 포함된 행을 제거함. 변수를 입력하지 않으면 모든 열을 대상으로 검사"
   ]
  },
  {
   "cell_type": "markdown",
   "id": "22fdab4b-fbb3-4415-b070-176e0d2250ac",
   "metadata": {},
   "source": [
    "`-` `replace_na(tbl, list(col1 = \"null\", col2 = \"unknown\", ...))` : 결측값을 사용자가 지정한 값으로 대체\n",
    "\n",
    "&nbsp;&nbsp;&nbsp;&nbsp;&nbsp;`replace_na(vecter, \"null\")` : 벡터의 경우 문자열로 파라미터 입력"
   ]
  },
  {
   "cell_type": "markdown",
   "id": "f8ab9ce1-f50c-4f05-a175-a231c772e1e5",
   "metadata": {},
   "source": [
    "# 2. stringr\n",
    "\n",
    "---"
   ]
  },
  {
   "cell_type": "markdown",
   "id": "f324037b-cfff-47e9-95ac-21017588feb6",
   "metadata": {},
   "source": [
    "## **A. 문자열 기초**"
   ]
  },
  {
   "cell_type": "markdown",
   "id": "c92d82b0-4783-4870-b8f6-ebd508c76a9f",
   "metadata": {},
   "source": [
    "`-` `str_length(value)` : 문자열의 길이 확인"
   ]
  },
  {
   "cell_type": "markdown",
   "id": "04776529-6a0f-411b-9a7b-58bceb6fc8f7",
   "metadata": {},
   "source": [
    "`-` `str_sub(txt, a, b)` : 서브 스트링. 파이썬 인덱스처럼 뒤에서부터 추출 가능\n",
    "\n",
    "> `str_sub(x, -n, -1)` : 뒤에서 n번째부터 맨뒤까지 추출"
   ]
  },
  {
   "cell_type": "markdown",
   "id": "ad60319f-2f3a-446a-9f01-92088a73c333",
   "metadata": {},
   "source": [
    "`-` `str_to_lower(txt)`, `str_to_upper(txt)` : 대소문자 변환"
   ]
  },
  {
   "cell_type": "markdown",
   "id": "77ba09b6-335b-4472-9378-1cbb88be57f0",
   "metadata": {},
   "source": [
    "`-` `letters`, `LETTERS` : `a-z` / `A-Z`"
   ]
  },
  {
   "cell_type": "markdown",
   "id": "c4975347-865e-466b-95b4-e3772a338f5a",
   "metadata": {},
   "source": [
    "## **B. 데이터에서 문자열 생성**"
   ]
  },
  {
   "cell_type": "markdown",
   "id": "a3980e75-4542-4dc9-bd09-9ff013d0ced5",
   "metadata": {},
   "source": [
    "`-` `str_c(a, b, sep = \", \")` : 두 개 이상의 벡터를 결합, 구분자 지정 가능"
   ]
  },
  {
   "cell_type": "markdown",
   "id": "b6f0b078-a63e-4fb7-8bd0-361dd7a2e1de",
   "metadata": {},
   "source": [
    "`-` `str_c(v, collapse = \", \")` : 벡터를 단일 문자열로 결합"
   ]
  },
  {
   "cell_type": "markdown",
   "id": "25b63be8-d165-4159-9239-87bb4ec8c987",
   "metadata": {},
   "source": [
    "`-` `str_replace_na(v)` : `NA`를 `\"NA\"`로 변경. 그냥 `replace_na(v, \"NA\")`써도 됨"
   ]
  },
  {
   "cell_type": "markdown",
   "id": "5c1ca47b-40cd-4885-8a42-513b3a933580",
   "metadata": {},
   "source": [
    "`-` `str_glue(f-string)` : f-string 문법을 사용할 수 있도록 지원. 중괄호 내부 문자열 작성 시 외부를 묶은 따옴표와 다른 형태를 사용"
   ]
  },
  {
   "cell_type": "markdown",
   "id": "7cc85dd0-d128-4e4d-b4b6-0b58b6fee514",
   "metadata": {},
   "source": [
    "`-` `str_glue_data(tbl, f-string)` : 데이터 프레임에 특화된 `str_glue()`, 더 빠르고 효율적임. 열 이름을 변수처럼 사용 가능"
   ]
  },
  {
   "cell_type": "markdown",
   "id": "b0a04f4e-4579-4b00-a40c-0113ce51e43a",
   "metadata": {},
   "source": [
    "`-` `str_flatten(v, collapse = \", \")` : 문자 벡터의 각 원소를 하나의 문자열로 결합\n",
    "\n",
    "> `group_by() -> summarize()`와 함께 사용하여 문자열을 요약하는 데에 사용 가능\n",
    "\n",
    "```R\n",
    "### 하나의 셀에 여러 개의 데이터를 삽입\n",
    "mytbl <- tibble(name = c(\"Carmen\", \"Carmen\", \"Marvin\", \"Terence\", \"Terence\", \"Terence\"),\n",
    "                fruit = c(\"banana\", \"apple\", \"nectarine\", \"cantaloupe\", \"papaya\", \"madarine\"))\n",
    "\n",
    "mytbl %>%\n",
    "  group_by(name) %>%\n",
    "  summarise(fruits = str_flatten(fruit, \", \")) ## 각 셀에는 이름 별 과일이 나열됨\n",
    "```"
   ]
  },
  {
   "cell_type": "markdown",
   "id": "2d0d4845-eed3-449b-a641-16b3fd2bc0b7",
   "metadata": {},
   "source": [
    "## **C. 정규 표현식 종류**"
   ]
  },
  {
   "cell_type": "markdown",
   "id": "f3be4584-5fc3-4abc-a12a-a6403fb699bb",
   "metadata": {},
   "source": [
    "`-` 정규표현식\n",
    "\n",
    "* 문자열의 규칙을 표현하는 특수한 언어\n",
    "* 일정한 규칙을 만족하는 문자열을 탐색하거나 추출, 변경하는 데 사용\n",
    "* `str_view(txt, regX)`로 정규 표현식이 문자 벡터에 어떻게 매칭되는지 시각적으로 확인 가능\n",
    "* `writeLines(regX)`로 정규표현식이 포함된 텍스트가 실제 어떻게 산출되는지 파악 가능\n",
    "* 여러 단어를 앵커에 먹이거나 반복시키고 싶을 경우 `()`를 사용\n",
    "* `or` 연산자 `|`를 사용할 수 있음"
   ]
  },
  {
   "cell_type": "markdown",
   "id": "6bd29b74-b989-4bf9-a4ef-2a75eca65dd7",
   "metadata": {},
   "source": [
    "|**표현식**|**설명**|\n",
    "|:-:|:-|\n",
    "|`.`|어떤 문자 한 개와 일치(줄 바꿈 제외)|\n",
    "|`^`|`^` 뒤의 표현식이 문자열의 시작과 일치. 맨 처음이라는 것을 지시|\n",
    "|`$`|`$` 앞의 표현식이 문자열의 끝과 일치. 맨 끝이라는 것을 지시|\n",
    "|`?`|`?` 앞의 표현식이 0번 또는 1번 일치|\n",
    "|`+`|`+` 앞의 표현식이 1번 이상 반복되어 일치|\n",
    "|`*`|`*` 앞의 표현식이 0번 이상 반복되어 일치|\n",
    "|`()`|표현식을 하나의 집단에 적용|\n",
    "|`\\`|escape 문자열. 정규 표현식을 문자열이 아닌 기호 자체로 변환|"
   ]
  },
  {
   "cell_type": "markdown",
   "id": "06db52ac-becc-4de8-be6b-bbb24f22c73f",
   "metadata": {},
   "source": [
    "`-` 앵커 : 닻, 문자열 양 끝단을 지시하는 정규 표현식 `^, $`\n",
    "\n",
    "> 문자열 자체가 `\"^ ... $\"`라고 생각하면 편하다."
   ]
  },
  {
   "cell_type": "markdown",
   "id": "5c09d752-bbea-414c-b5a7-74de8d3fc01c",
   "metadata": {},
   "source": [
    "`-` 반복 : `?, +, *` / `{n, m}`\n",
    "\n",
    "> `?` : 있을수도 있고 없을수도 있음. 그러니까 0번 또는 1번 일치\n",
    ">\n",
    "> `+` : 일단 해당 문자열을 더함. 더하니까 1번은 무조건 있음. 그러니까 1번 이상 반복되어 일치\n",
    ">\n",
    "> `*` : 해당 문자열을 곱함. 근데 0을 곱할수도 있으니까 0번 이상 반복되어 일치\n",
    ">\n",
    "> `{n}` : 앞의 문자열이 `n`번만 반복\n",
    ">\n",
    "> `{n,}` : 앞의 문자열이 `n`번 이상 반복\n",
    ">\n",
    "> `{n, m}` : 앞의 문자열이 `n`번 이상, `m`번 이하 반복"
   ]
  },
  {
   "cell_type": "markdown",
   "id": "8a8d0fa3-3cf7-4d5d-9fe1-ba77ff79b13a",
   "metadata": {},
   "source": [
    "`-` 그룹화 : `()`안에 있는 것들을 싸잡아서 정규표현식이나 연산자 적용"
   ]
  },
  {
   "cell_type": "markdown",
   "id": "44cd33e9-a1f6-4204-9229-ae6e7ac38db0",
   "metadata": {},
   "source": [
    "`-` escape 문자열 : `\\`로 정규표현식을 무력화할 수 있음.\n",
    "\n",
    "```R\n",
    "str_view(\"\\\"\", \"\\\"\") ## \"와 '는 정규표현식이 아니므로 \\ 하나로 무력화할 수 있음.\n",
    "\n",
    "str_view(\"a\\\\b\", \"\\\\\\\\\") ## \\\\를 찾기 위해서 \\로 \\를 무력화하는 것을 두 번 썼음. 실제 산출은 a\\b\n",
    "\n",
    "str_view(c(\"abc\", \"a.c\", \"bef\"), \"a\\\\.c\") ## 텍스트에서도 정규 표현식이 적용되므로 이를 찾으려면 \\\\. -> \"\\.\"\n",
    "```"
   ]
  },
  {
   "cell_type": "code",
   "execution_count": null,
   "id": "fbc229b6-25e7-403d-bb62-5c89e0cd3663",
   "metadata": {},
   "outputs": [],
   "source": []
  }
 ],
 "metadata": {
  "kernelspec": {
   "display_name": "R",
   "language": "R",
   "name": "ir"
  },
  "language_info": {
   "codemirror_mode": "r",
   "file_extension": ".r",
   "mimetype": "text/x-r-source",
   "name": "R",
   "pygments_lexer": "r",
   "version": "4.3.1"
  }
 },
 "nbformat": 4,
 "nbformat_minor": 5
}
