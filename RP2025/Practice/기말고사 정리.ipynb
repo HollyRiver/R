{
 "cells": [
  {
   "cell_type": "markdown",
   "id": "c592241e-cd35-466f-a367-a31f65c0d49d",
   "metadata": {},
   "source": [
    "tidyr 이후부터"
   ]
  },
  {
   "cell_type": "markdown",
   "id": "368dfa44-4598-488a-8d9f-83c0383cf5ef",
   "metadata": {},
   "source": [
    "대부분 `help`를 쳐서 찾아볼 수 있으므로 걱정 안해도 됨"
   ]
  },
  {
   "cell_type": "markdown",
   "id": "7379faca-052b-4e56-b2c1-c91081d31509",
   "metadata": {},
   "source": [
    "`-` readr 데이터 포맷 변경"
   ]
  },
  {
   "cell_type": "markdown",
   "id": "65766212-6be1-4b11-bd01-f7bdc46d5f9e",
   "metadata": {},
   "source": [
    "* `parse_character()`\n",
    "* `parse_integer()`\n",
    "* `parse_double()`"
   ]
  },
  {
   "cell_type": "markdown",
   "id": "e5b0b86f-1eff-496d-bf41-c6b24d775eeb",
   "metadata": {},
   "source": [
    "# 1. tidyr\n",
    "\n",
    "---"
   ]
  },
  {
   "cell_type": "markdown",
   "id": "c178bbab-fdbb-45a8-b760-d1d17a065162",
   "metadata": {},
   "source": [
    "## **A. wide format과 long format**"
   ]
  },
  {
   "cell_type": "markdown",
   "id": "09cf84a0-f93b-4352-b6a6-efdb79651c7c",
   "metadata": {},
   "source": [
    "> 특정 열에 대하여 wide/long을 판단할 수 있음 ex) 연도, 성별 등"
   ]
  },
  {
   "cell_type": "markdown",
   "id": "fd30e9bc-a0d5-4c5d-921c-9fed0cb05a8a",
   "metadata": {},
   "source": [
    "`-` long format : 컴퓨터가 이해하기 편한 데이터 구조\n",
    "\n",
    "* wide format보다 유연하여 데이터 추가 및 삭제가 용이\n",
    "* 각 열은 요인으로 변환된 상태\n",
    "* `pivot_longer()` 함수로 변환 가능 : 변환할 열을 지정할 시 `starts_with`, `ends_with`, `contains` 등 `select`와 동일한 함수 및 문법 활용 가능\n",
    "\n",
    "```R\n",
    "tbl %>% pivot_longer(cols = c(col1, col2),\n",
    "                     names_to = \"name_col\", name_prefix = \"prefix\", ## 접두사 제거\n",
    "                     values_to = \"value_col\", values_drop_na = TRUE) ## 결측값 제거\n",
    "\n",
    "pivot_longer(tbl, cols = contains(\"20\"),\n",
    "             names_to = \"year\", values_to = \"population\", values_drop_na = TRUE)\n",
    "```"
   ]
  },
  {
   "cell_type": "markdown",
   "id": "96f0a41a-115a-41bc-aa7f-d7c56f5728ed",
   "metadata": {},
   "source": [
    "`-` wide format : 사람이 읽기 쉬운 데이터구조\n",
    "\n",
    "* 통계학에서 다루는 데이터 테이블 구조와 동일한 개념\n",
    "* 각 행은 관특 단위를 나타내며, 각 열은 관측 단위에 대한 측정값으로 표현\n",
    "* `pivot_wider()` 함수로 변환 가능\n",
    "\n",
    "```R\n",
    "tbl %>% pivot_wider(names_from = c(naming1, naming2, ...),\n",
    "                    values_from = c(value1, value2, ...), values_fill = \"0\") ## 결측값 발생 시 처리\n",
    "```\n",
    "\n",
    "> `names_from`의 변수 범주 수와 `values_from`의 변수 개수의 곱만큼 새로운 변수가 생성된다. 이름은 `value_naming1_naming2_...`이런 식으로 붙는다."
   ]
  },
  {
   "cell_type": "markdown",
   "id": "b803a2d8-2f50-4566-9322-75b1ad3b3c3e",
   "metadata": {},
   "source": []
  }
 ],
 "metadata": {
  "kernelspec": {
   "display_name": "R",
   "language": "R",
   "name": "ir"
  },
  "language_info": {
   "codemirror_mode": "r",
   "file_extension": ".r",
   "mimetype": "text/x-r-source",
   "name": "R",
   "pygments_lexer": "r",
   "version": "4.3.1"
  }
 },
 "nbformat": 4,
 "nbformat_minor": 5
}
