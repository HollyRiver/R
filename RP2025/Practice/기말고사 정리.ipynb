{
 "cells": [
  {
   "cell_type": "markdown",
   "id": "c592241e-cd35-466f-a367-a31f65c0d49d",
   "metadata": {},
   "source": [
    "tidyr 이후부터"
   ]
  },
  {
   "cell_type": "markdown",
   "id": "368dfa44-4598-488a-8d9f-83c0383cf5ef",
   "metadata": {},
   "source": [
    "대부분 `help`를 쳐서 찾아볼 수 있으므로 걱정 안해도 됨"
   ]
  },
  {
   "cell_type": "markdown",
   "id": "7379faca-052b-4e56-b2c1-c91081d31509",
   "metadata": {},
   "source": [
    "`-` readr 데이터 포맷 변경"
   ]
  },
  {
   "cell_type": "markdown",
   "id": "65766212-6be1-4b11-bd01-f7bdc46d5f9e",
   "metadata": {},
   "source": [
    "* `parse_character()`\n",
    "* `parse_integer()`\n",
    "* `parse_double()`"
   ]
  },
  {
   "cell_type": "markdown",
   "id": "e5b0b86f-1eff-496d-bf41-c6b24d775eeb",
   "metadata": {},
   "source": [
    "# 1. tidyr\n",
    "\n",
    "---"
   ]
  },
  {
   "cell_type": "markdown",
   "id": "c178bbab-fdbb-45a8-b760-d1d17a065162",
   "metadata": {},
   "source": [
    "## **A. wide format과 long format**"
   ]
  },
  {
   "cell_type": "markdown",
   "id": "09cf84a0-f93b-4352-b6a6-efdb79651c7c",
   "metadata": {},
   "source": [
    "> 특정 열에 대하여 wide/long을 판단할 수 있음 ex) 연도, 성별 등"
   ]
  },
  {
   "cell_type": "markdown",
   "id": "fd30e9bc-a0d5-4c5d-921c-9fed0cb05a8a",
   "metadata": {},
   "source": [
    "`-` long format : 컴퓨터가 이해하기 편한 데이터 구조\n",
    "\n",
    "* wide format보다 유연하여 데이터 추가 및 삭제가 용이\n",
    "* 각 열은 요인으로 변환된 상태\n",
    "* `pivot_longer()` 함수로 변환 가능 : 변환할 열을 지정할 시 `starts_with`, `ends_with`, `contains` 등 `select`와 동일한 함수 및 문법 활용 가능\n",
    "\n",
    "```R\n",
    "tbl %>% pivot_longer(cols = c(col1, col2),\n",
    "                     names_to = \"name_col\", name_prefix = \"prefix\", ## 접두사 제거\n",
    "                     values_to = \"value_col\", values_drop_na = TRUE) ## 제거하여 암묵적 결측값으로 변환\n",
    "\n",
    "pivot_longer(tbl, cols = contains(\"20\"),\n",
    "             names_to = \"year\", values_to = \"population\", values_drop_na = TRUE)\n",
    "```"
   ]
  },
  {
   "cell_type": "markdown",
   "id": "96f0a41a-115a-41bc-aa7f-d7c56f5728ed",
   "metadata": {},
   "source": [
    "`-` wide format : 사람이 읽기 쉬운 데이터구조\n",
    "\n",
    "* 통계학에서 다루는 데이터 테이블 구조와 동일한 개념\n",
    "* 각 행은 관특 단위를 나타내며, 각 열은 관측 단위에 대한 측정값으로 표현\n",
    "* `pivot_wider()` 함수로 변환 가능\n",
    "\n",
    "```R\n",
    "tbl %>% pivot_wider(names_from = c(naming1, naming2, ...),\n",
    "                    values_from = c(value1, value2, ...), values_fill = \"0\") ## 결측값 발생 시 처리\n",
    "```\n",
    "\n",
    "> `names_from`의 변수 범주 수와 `values_from`의 변수 개수의 곱만큼 새로운 변수가 생성된다. 이름은 `value_naming1_naming2_...`이런 식으로 붙는다."
   ]
  },
  {
   "cell_type": "markdown",
   "id": "b803a2d8-2f50-4566-9322-75b1ad3b3c3e",
   "metadata": {},
   "source": [
    "## **B. 열의 분리 및 결합**"
   ]
  },
  {
   "cell_type": "markdown",
   "id": "9ea4838a-c172-4911-b240-496a6b2e1531",
   "metadata": {},
   "source": [
    "`-` `separate(tbl, complx_col, into = c(\"new_col1\", \"new_col2\"), sep = \"\")`\n",
    "\n",
    "* 단일 값 원칙을 만족하지 못하는 경우\n",
    "* 한 개의 열에 여러 값들이 결합되어 있는 경우 여러 개로 분리"
   ]
  },
  {
   "cell_type": "markdown",
   "id": "b94234de-e232-4404-8118-ee00c5da0ada",
   "metadata": {},
   "source": [
    "`-` `unite(tbl, col = \"new_col\", col1, col2, ..., sep = \"\")`\n",
    "\n",
    "* 여러 개의 열을 하나의 열로 결합해야 할 때 사용\n",
    "* 기본 구분자는 `\"_\"`"
   ]
  },
  {
   "cell_type": "markdown",
   "id": "7b33035f-414f-4e1a-bd67-91e92536e4fd",
   "metadata": {},
   "source": [
    "## **C. 결측값 처리**"
   ]
  },
  {
   "cell_type": "markdown",
   "id": "6c9db0ed-5764-4f74-b421-99768df2314f",
   "metadata": {},
   "source": [
    "`-` `NA` == not available\n",
    "\n",
    "* 결측값은 전염성을 가짐 -> 결측값이 하나만 존재해도 연산 시 결측값으로 반환됨\n",
    "\n",
    "`-` 명시적 결측값 : `NA`로서 명시적으로 표시된 값\n",
    "\n",
    "`-` 암묵적 결측값 : 데이터셋에 존재하지 않는 값"
   ]
  },
  {
   "cell_type": "markdown",
   "id": "3f8708d4-b074-49b2-a8a4-7bfdc5a2f167",
   "metadata": {},
   "source": [
    "```R\n",
    "stocks <- tibble(\n",
    "    year   = c(2015, 2015, 2015, 2015, 2016, 2016, 2016),\n",
    "    qtr    = c(   1,    2,    3,    4,    2,    3,    4),\n",
    "    return = c(1.88, 0.59, 0.35,   NA, 0.92, 0.17, 2.66)\n",
    "    )\n",
    "```"
   ]
  },
  {
   "cell_type": "markdown",
   "id": "b1b58e13-cb72-47af-8191-d3c00c265345",
   "metadata": {},
   "source": [
    "`-` `complete(tbl, col1, col2, ...)` : 해당 열들`(col1, col2, ...)`의 하위 범주들의 모든 조합에 대하여 명시적 결측값 생성"
   ]
  },
  {
   "cell_type": "markdown",
   "id": "101461f2-01fa-403d-8681-1ef839f91589",
   "metadata": {},
   "source": [
    "`-` `fill(tbl, col1, col2, ...)` : 해당 열들에서 결측값을 가장 최근에 존재하는 값(이월된 마지막 관측값)으로 대체\n",
    "\n",
    "> 엑셀 차트 등에서 범주를 묶어 표시하였을 때 사용하면 유리"
   ]
  },
  {
   "cell_type": "markdown",
   "id": "7cf7be8e-25c7-4dda-9ce6-b2f8bb00a543",
   "metadata": {},
   "source": [
    "`-` `drop_na(tbl, col1, col2, ...)` : 해당 열들 중 하나라도 결측값이 포함된 행을 제거함. 변수를 입력하지 않으면 모든 열을 대상으로 검사"
   ]
  },
  {
   "cell_type": "markdown",
   "id": "22fdab4b-fbb3-4415-b070-176e0d2250ac",
   "metadata": {},
   "source": [
    "`-` `replace_na(tbl, list(col1 = \"null\", col2 = \"unknown\", ...))` : 결측값을 사용자가 지정한 값으로 대체\n",
    "\n",
    "&nbsp;&nbsp;&nbsp;&nbsp;&nbsp;`replace_na(vecter, \"null\")` : 벡터의 경우 문자열로 파라미터 입력"
   ]
  },
  {
   "cell_type": "markdown",
   "id": "f8ab9ce1-f50c-4f05-a175-a231c772e1e5",
   "metadata": {},
   "source": [
    "# 2. stringr\n",
    "\n",
    "---"
   ]
  },
  {
   "cell_type": "markdown",
   "id": "f324037b-cfff-47e9-95ac-21017588feb6",
   "metadata": {},
   "source": [
    "## **A. 문자열 기초**"
   ]
  },
  {
   "cell_type": "markdown",
   "id": "c92d82b0-4783-4870-b8f6-ebd508c76a9f",
   "metadata": {},
   "source": [
    "`-` `str_length(value)` : 문자열의 길이 확인"
   ]
  },
  {
   "cell_type": "markdown",
   "id": "04776529-6a0f-411b-9a7b-58bceb6fc8f7",
   "metadata": {},
   "source": [
    "`-` `str_sub(txt, a, b)` : 서브 스트링. 파이썬 인덱스처럼 뒤에서부터 추출 가능\n",
    "\n",
    "> `str_sub(x, -n, -1)` : 뒤에서 n번째부터 맨뒤까지 추출"
   ]
  },
  {
   "cell_type": "markdown",
   "id": "ad60319f-2f3a-446a-9f01-92088a73c333",
   "metadata": {},
   "source": [
    "`-` `str_to_lower(txt)`, `str_to_upper(txt)` : 대소문자 변환"
   ]
  },
  {
   "cell_type": "markdown",
   "id": "77ba09b6-335b-4472-9378-1cbb88be57f0",
   "metadata": {},
   "source": [
    "`-` `letters`, `LETTERS` : `a-z` / `A-Z`"
   ]
  },
  {
   "cell_type": "markdown",
   "id": "c4975347-865e-466b-95b4-e3772a338f5a",
   "metadata": {},
   "source": [
    "## **B. 데이터에서 문자열 생성**"
   ]
  },
  {
   "cell_type": "markdown",
   "id": "a3980e75-4542-4dc9-bd09-9ff013d0ced5",
   "metadata": {},
   "source": [
    "`-` `str_c(a, b, sep = \", \")` : 두 개 이상의 벡터를 결합, 구분자 지정 가능"
   ]
  },
  {
   "cell_type": "markdown",
   "id": "b6f0b078-a63e-4fb7-8bd0-361dd7a2e1de",
   "metadata": {},
   "source": [
    "`-` `str_c(v, collapse = \", \")` : 벡터를 단일 문자열로 결합"
   ]
  },
  {
   "cell_type": "markdown",
   "id": "25b63be8-d165-4159-9239-87bb4ec8c987",
   "metadata": {},
   "source": [
    "`-` `str_replace_na(v)` : `NA`를 `\"NA\"`로 변경. 그냥 `replace_na(v, \"NA\")`써도 됨"
   ]
  },
  {
   "cell_type": "markdown",
   "id": "5c1ca47b-40cd-4885-8a42-513b3a933580",
   "metadata": {},
   "source": [
    "`-` `str_glue(f-string)` : f-string 문법을 사용할 수 있도록 지원. 중괄호 내부 문자열 작성 시 외부를 묶은 따옴표와 다른 형태를 사용"
   ]
  },
  {
   "cell_type": "markdown",
   "id": "7cc85dd0-d128-4e4d-b4b6-0b58b6fee514",
   "metadata": {},
   "source": [
    "`-` `str_glue_data(tbl, f-string)` : 데이터 프레임에 특화된 `str_glue()`, 더 빠르고 효율적임. 열 이름을 변수처럼 사용 가능"
   ]
  },
  {
   "cell_type": "markdown",
   "id": "b0a04f4e-4579-4b00-a40c-0113ce51e43a",
   "metadata": {},
   "source": [
    "`-` `str_flatten(v, collapse = \", \")` : 문자 벡터의 각 원소를 하나의 문자열로 결합\n",
    "\n",
    "> `group_by() -> summarize()`와 함께 사용하여 문자열을 요약하는 데에 사용 가능\n",
    "\n",
    "```R\n",
    "### 하나의 셀에 여러 개의 데이터를 삽입\n",
    "mytbl <- tibble(name = c(\"Carmen\", \"Carmen\", \"Marvin\", \"Terence\", \"Terence\", \"Terence\"),\n",
    "                fruit = c(\"banana\", \"apple\", \"nectarine\", \"cantaloupe\", \"papaya\", \"madarine\"))\n",
    "\n",
    "mytbl %>%\n",
    "  group_by(name) %>%\n",
    "  summarise(fruits = str_flatten(fruit, \", \")) ## 각 셀에는 이름 별 과일이 나열됨\n",
    "```"
   ]
  },
  {
   "cell_type": "markdown",
   "id": "2d0d4845-eed3-449b-a641-16b3fd2bc0b7",
   "metadata": {},
   "source": [
    "## **C. 정규 표현식 종류**"
   ]
  },
  {
   "cell_type": "markdown",
   "id": "f3be4584-5fc3-4abc-a12a-a6403fb699bb",
   "metadata": {},
   "source": [
    "`-` 정규표현식\n",
    "\n",
    "* 문자열의 규칙을 표현하는 특수한 언어\n",
    "* 일정한 규칙을 만족하는 문자열을 탐색하거나 추출, 변경하는 데 사용\n",
    "* `str_view(txt, regX)`로 정규 표현식이 문자 벡터에 어떻게 매칭되는지 시각적으로 확인 가능\n",
    "* `writeLines(regX)`로 정규표현식이 포함된 텍스트가 실제 어떻게 산출되는지 파악 가능\n",
    "* 여러 단어를 앵커에 먹이거나 반복시키고 싶을 경우 `()`를 사용\n",
    "* `or` 연산자 `|`를 사용할 수 있음"
   ]
  },
  {
   "cell_type": "markdown",
   "id": "6bd29b74-b989-4bf9-a4ef-2a75eca65dd7",
   "metadata": {},
   "source": [
    "|**표현식**|**설명**|\n",
    "|:-:|:-|\n",
    "|`.`|어떤 문자 한 개와 일치(줄 바꿈 제외)|\n",
    "|`^`|`^` 뒤의 표현식이 문자열의 시작과 일치. 맨 처음이라는 것을 지시|\n",
    "|`$`|`$` 앞의 표현식이 문자열의 끝과 일치. 맨 끝이라는 것을 지시|\n",
    "|`?`|`?` 앞의 표현식이 0번 또는 1번 일치|\n",
    "|`+`|`+` 앞의 표현식이 1번 이상 반복되어 일치|\n",
    "|`*`|`*` 앞의 표현식이 0번 이상 반복되어 일치|\n",
    "|`()`|표현식을 하나의 집단에 적용|\n",
    "|`\\`|escape 문자열. 정규 표현식을 문자열이 아닌 기호 자체로 변환|"
   ]
  },
  {
   "cell_type": "markdown",
   "id": "06db52ac-becc-4de8-be6b-bbb24f22c73f",
   "metadata": {},
   "source": [
    "`-` 앵커 : 닻, 문자열 양 끝단을 지시하는 정규 표현식 `^, $`\n",
    "\n",
    "> 문자열 자체가 `\"^ ... $\"`라고 생각하면 편하다."
   ]
  },
  {
   "cell_type": "markdown",
   "id": "5c09d752-bbea-414c-b5a7-74de8d3fc01c",
   "metadata": {},
   "source": [
    "`-` 반복 : `?, +, *` / `{n, m}`\n",
    "\n",
    "> `?` : 있을수도 있고 없을수도 있음. 그러니까 0번 또는 1번 일치\n",
    ">\n",
    "> `+` : 일단 해당 문자열을 더함. 더하니까 1번은 무조건 있음. 그러니까 1번 이상 반복되어 일치\n",
    ">\n",
    "> `*` : 해당 문자열을 곱함. 근데 0을 곱할수도 있으니까 0번 이상 반복되어 일치\n",
    ">\n",
    "> `{n}` : 앞의 문자열이 `n`번만 반복\n",
    ">\n",
    "> `{n,}` : 앞의 문자열이 `n`번 이상 반복\n",
    ">\n",
    "> `{n, m}` : 앞의 문자열이 `n`번 이상, `m`번 이하 반복"
   ]
  },
  {
   "cell_type": "markdown",
   "id": "8a8d0fa3-3cf7-4d5d-9fe1-ba77ff79b13a",
   "metadata": {},
   "source": [
    "`-` 그룹화 : `()`안에 있는 것들을 싸잡아서 정규표현식이나 연산자 적용\n",
    "\n",
    "`-` `[]`를 사용하여 문자 집합과 매칭 가능 : 대괄호 안 `^` 사용 시 해당 문자 집합을 제외한 문자를 매칭"
   ]
  },
  {
   "cell_type": "markdown",
   "id": "44cd33e9-a1f6-4204-9229-ae6e7ac38db0",
   "metadata": {},
   "source": [
    "`-` escape 문자열 : `\\`로 정규표현식을 무력화할 수 있음.\n",
    "\n",
    "```R\n",
    "str_view(\"\\\"\", \"\\\"\") ## \"와 '는 정규표현식이 아니므로 \\ 하나로 무력화할 수 있음.\n",
    "\n",
    "str_view(\"a\\\\b\", \"\\\\\\\\\") ## \\\\를 찾기 위해서 \\로 \\를 무력화하는 것을 두 번 썼음. 실제 산출은 a\\b\n",
    "\n",
    "str_view(c(\"abc\", \"a.c\", \"bef\"), \"a\\\\.c\") ## 정규 표현식을 무력화하려면 \\\\. -> \"\\.\" -> .\n",
    "\n",
    "\n",
    "text <- \"The total cost is 29 dollars\\nand 99 cents.\"\n",
    "str_view(text, \"\\\\d\") ## decimal : 숫자 (0~9)와 매칭\n",
    "str_view(text, \"\\\\s\") ## all types space\n",
    "```"
   ]
  },
  {
   "cell_type": "markdown",
   "id": "c6aa4b43-537a-4596-a69d-e7309616d613",
   "metadata": {},
   "source": [
    "`-` `str_detect(v, regX)` : 문자열에 특정 패턴이 존재하는지 확인, 패턴이 일치하면 `TRUE` 반환\n",
    "\n",
    "> `group_by(col1)`, `summarize(new_col = mean(str_detect(col2, regX)))`로 패턴이 일치하는 비율 파악 가능"
   ]
  },
  {
   "cell_type": "markdown",
   "id": "d9f9525e-14a9-44b2-870d-29e155d78eef",
   "metadata": {},
   "source": [
    "`-` `str_subset(v, regX)` : 문자열들 중 패턴이 일치하는 것들만 반환"
   ]
  },
  {
   "cell_type": "markdown",
   "id": "70d2869d-319d-475d-bb10-dbd1eabeb010",
   "metadata": {},
   "source": [
    "`-` `str_count(v, regX)` : 문자열 내에서 일치하는 패턴의 개수 반환"
   ]
  },
  {
   "cell_type": "markdown",
   "id": "335fe4d4-88cb-4700-87b1-db36d5ef006f",
   "metadata": {},
   "source": [
    "`-` `str_extract()`, `str_extract_all(v, regX, simplify = bool)` : 문자열에서 일치하는 텍스트를 추출\n",
    "\n",
    "> `str_extract`는 가장 먼저 나오는 하나만 추출, `str_extract_all`은 전부 추출\n",
    ">\n",
    "> `simplify = TRUE` : 반환값을 행렬로 변환"
   ]
  },
  {
   "cell_type": "markdown",
   "id": "4b4b9133-6a30-429e-bd9e-2b72581db1f1",
   "metadata": {},
   "source": [
    "`-` `str_replace()`, `str_replace_all(v, regX, replace_txt)` : 문자열들 중 패턴이 일치하는 부분을 다른 문자열로 변환\n",
    "\n",
    "> `str_replace_all(v, c(\"1\" = \"one\", \"2\" = \"two\", \"3\" = \"three\"))` : 벡터를 입력하여 여러 패턴을 한 번에 변경할 수 있음 -> 딕셔너리 느낌으로다가"
   ]
  },
  {
   "cell_type": "markdown",
   "id": "6a26f2c0-6089-4ad6-ae44-e7b40d5aaf12",
   "metadata": {},
   "source": [
    "`-` `str_split(v, pattern = regX, simplify = bool)` : 문자열을 특정 문자열을 기준으로 분리\n",
    "\n",
    "> `pattern`에 `boundary()` 입력 가능\n",
    ">\n",
    "> * `boundary(\"word\")` : 단어를 경계로 분할\n",
    "> * `boundary(\"sentence\")` : 문장을 경계로 분할\n",
    "> * `boundary(\"line_break\")` : 줄바꿈 및 공백 기호를 경계로 분할(`\"\\n\", \"\\t\", \" \")`\n",
    "> * `boundary(\"character\")` : 문자를 경계로 분할 - 사실상 개별 문자열 다 분할"
   ]
  },
  {
   "cell_type": "markdown",
   "id": "a3a1a108-629a-4dee-9429-3af59e1387f9",
   "metadata": {},
   "source": [
    "# 3. forcats\n",
    "\n",
    "---"
   ]
  },
  {
   "cell_type": "markdown",
   "id": "b9e2f658-d54d-4111-897a-8f3fbfd78e45",
   "metadata": {},
   "source": [
    "* 팩터를 다루는 패키지"
   ]
  },
  {
   "cell_type": "markdown",
   "id": "d97fce71-8641-4409-b952-0a33f9d4ff8c",
   "metadata": {},
   "source": [
    "## **A. levels 재정렬**"
   ]
  },
  {
   "cell_type": "markdown",
   "id": "106951b1-c1fa-4273-b41d-fd114143dbb3",
   "metadata": {},
   "source": [
    "`-` `fct_inorder(fct)` : 데이터에 입력된 순서대로 팩터 수준 재정렬\n",
    "\n",
    "`-` `fct_infreq(fct)` : 팩터 수준 중 가장 많은 관측값을 가지는 레벨 순서대로 재정렬\n",
    "\n",
    "`-` `fct_rev(fct)` : 팩터 수준을 반대로 재정렬\n",
    "\n",
    "`-` `fct_inseq(fct)` : 숫자로 변환 가능한 팩터일 경우 작은 수부터 재정렬"
   ]
  },
  {
   "cell_type": "markdown",
   "id": "d421779a-ed34-414d-ab36-f96bba6f4d36",
   "metadata": {},
   "source": [
    "**---시각화하는 경우 유용하게 사용 가능---**\n",
    "\n",
    "`-` `fct_reorder(fct, val)` : 특정 변수를 기준으로 팩터 수준을 재정렬"
   ]
  },
  {
   "cell_type": "markdown",
   "id": "2d78fede-61a1-42e5-b1eb-2180cb4fb456",
   "metadata": {},
   "source": [
    "`-` `fct_relevel(fct, \"level\")` : 지정한 수준을 가장 앞쪽으로 이동"
   ]
  },
  {
   "cell_type": "markdown",
   "id": "5bf7cfb0-0e1f-4a79-b6a2-88a433e0c317",
   "metadata": {},
   "source": [
    "```R\n",
    "## 평균 tv 시청시간이 큰 순서대로 재정렬 후 시각화\n",
    "tidy <- gss_cat %>%\n",
    "            group_by(marital) %>%\n",
    "            summarize(tvhours = mean(tvhours, na.rm = TRUE),\n",
    "                      n = n()) %>%\n",
    "            mutate(marital = fct_reorder(marital, tvhours))\n",
    "\n",
    "ggplot(tidy, aes(x = tvhours, y = marital)) +\n",
    "    geom_bar(stat = \"identity\")\n",
    "\n",
    "\n",
    "## 소득에 따른 평균 연령에서 응답 불가 수준을 맨 앞으로 위치 변경\n",
    "tidy <- gss_cat %>%\n",
    "            group_by(rincome) %>%\n",
    "            summarize(age = mean(age, na.rm = TRUE), n = n())\n",
    "\n",
    "ggplot(tidy, aes(x = age, y = fct_rev(fct_relevel(rincome, \"Not applicable\"))) +\n",
    "    geom_point()\n",
    "```"
   ]
  },
  {
   "cell_type": "markdown",
   "id": "345eeb7d-8921-4798-9148-c98e5d632b70",
   "metadata": {},
   "source": [
    "## **B. levels 변경**"
   ]
  },
  {
   "cell_type": "markdown",
   "id": "ca0f6a22-9b7d-431a-9c4c-601177e1e71d",
   "metadata": {},
   "source": [
    "> 서로 다른 범주를 잘못 묶으면 그 결과가 왜곡될 수 있음"
   ]
  },
  {
   "cell_type": "markdown",
   "id": "af6cf47a-942d-4818-8fc4-1e60596f702e",
   "metadata": {},
   "source": [
    "`-` `fct_recode(fct, \"A\" = \"AAA\", \"A\" = \"AA\", \"A\" = \"AA-\")` : 얘는 왜 거꾸로 지정해주는진 모르겠지만, 특정 레벨을 다른 레벨로 지정할 수 있음. 뒤에 입력된 레벨이 앞의 값으로 변환됨."
   ]
  },
  {
   "cell_type": "markdown",
   "id": "5383aaaa-6353-41c4-91b0-35019033c677",
   "metadata": {},
   "source": [
    "`-` `fct_collapse(fct, A = c(\"AA\", \"AAA\", \"AA-\"))` : 여러 레벨들을 하나의 레벨로 병합"
   ]
  },
  {
   "cell_type": "markdown",
   "id": "af0d2100-8c44-4b38-acd5-819d1b94cab4",
   "metadata": {},
   "source": [
    "`-` `fct_lump(fct, n = level_sum, prop = level_prob, other_level = \"other\")` : 빈도가 적은 레벨들을 `other_level`로 병합. 디폴트는 `\"Other\"`"
   ]
  },
  {
   "cell_type": "markdown",
   "id": "adb08230-2f53-43ea-9cef-4beceb0a9d99",
   "metadata": {},
   "source": [
    "# 3. lubridate\n",
    "\n",
    "---"
   ]
  },
  {
   "cell_type": "markdown",
   "id": "80aa617e-0820-41d8-acb5-2c0e235b93ec",
   "metadata": {},
   "source": [
    "* 날짜, 시간을 다루는 함수를 제공하는 패키지\n",
    "* 핵심 `tidyverse`와 별도로 불러올 필요가 있음"
   ]
  },
  {
   "cell_type": "markdown",
   "id": "717189e4-7fab-4bcb-a1eb-4a6c1316747b",
   "metadata": {},
   "source": [
    "## **A. 날짜/시간 유형**"
   ]
  },
  {
   "cell_type": "markdown",
   "id": "bd6b6c03-f473-4ec5-bbf8-1388842956dc",
   "metadata": {},
   "source": [
    "`-` `<date>` : 날짜\n",
    "\n",
    "`-` `<time>` : 하루 중의 시간\n",
    "\n",
    "`-` `<dttm>` : date-time. 날짜와 시간으로서 시점을 고유하게 식별"
   ]
  },
  {
   "cell_type": "markdown",
   "id": "c3d96791-53bb-4da7-bcc5-c26edb0aa642",
   "metadata": {},
   "source": [
    "> `today()` : 오늘 날짜(`<date>`)\n",
    ">\n",
    "> `now()` : 현재 날짜 및 시간(`<dttm>`)"
   ]
  },
  {
   "cell_type": "markdown",
   "id": "8f7009e8-8ba1-4345-834b-4da4c160b670",
   "metadata": {},
   "source": [
    "## **B. 날짜/시간 생성**"
   ]
  },
  {
   "cell_type": "markdown",
   "id": "556321cf-ab1a-4f05-b3ec-d0eab0d019c0",
   "metadata": {},
   "source": [
    "`-` 문자열(string)로부터 생성\n",
    "\n",
    "* y(year), m(month), d(day)의 순서를 파악한 후 해당 순서대로 함수 이름으로 사용\n",
    "* dttm 생성 시 함수 이름에 `_`와 h(hour), m(minute), s(second)중 하나 이상 추가\n",
    "\n",
    "```R\n",
    "mdy(\"March 2nd, 2025\")\n",
    "dmy(\"02-Mar-2025\")\n",
    "\n",
    "ymd_hms(\"2025-03-02 12:34:59\")\n",
    "mdy_hm(\"03/31/2025 18:30\")\n",
    "```"
   ]
  },
  {
   "cell_type": "markdown",
   "id": "db23efe3-b73a-461f-a474-c58198c017c6",
   "metadata": {},
   "source": [
    "`-` 개별 구성요소로부터 생성"
   ]
  },
  {
   "cell_type": "code",
   "execution_count": null,
   "id": "2ba4888c-1941-4d53-b02b-71c947f1f8b2",
   "metadata": {},
   "outputs": [],
   "source": []
  }
 ],
 "metadata": {
  "kernelspec": {
   "display_name": "R",
   "language": "R",
   "name": "ir"
  },
  "language_info": {
   "codemirror_mode": "r",
   "file_extension": ".r",
   "mimetype": "text/x-r-source",
   "name": "R",
   "pygments_lexer": "r",
   "version": "4.3.1"
  }
 },
 "nbformat": 4,
 "nbformat_minor": 5
}
