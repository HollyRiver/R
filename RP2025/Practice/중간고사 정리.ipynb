{
 "cells": [
  {
   "cell_type": "markdown",
   "id": "c592241e-cd35-466f-a367-a31f65c0d49d",
   "metadata": {},
   "source": [
    "4월 21일 월요일 중간고사\n",
    "\n",
    "* 앞반 16:00 ~ 16:50\n",
    "* 뒷반 17:00 ~ 17:50\n",
    "\n",
    "> 4월 16일 수업 끝날 때 공지\n",
    ">\n",
    "> 5~10분 일찍 올 것\n",
    ">\n",
    "> 중도 퇴실 불가\n",
    ">\n",
    "> 필기구 지참 -> 시험지에 이름 써야 되니까\n",
    ">\n",
    "> 노트북 사용 금지\n",
    "\n",
    "* **시험 시 패키지가 필요하므로, 코드의 순서를 잘 고려할 것.**\n",
    "* **제출 후, 코드를 전부 실행시키므로 순서를 잘 지킬 것**\n",
    "\n",
    "> 한 번 저장해두고, 끈 다음 다시 실행해보는 것이 좋음 ㅇㅇ\n",
    "\n",
    "\n",
    "> 주석이 한글이라 깨질 수 있음. 하지만 평가 대상은 아님.\n",
    ">\n",
    "> 시험은 `tidyr`까지만 보는걸로"
   ]
  },
  {
   "cell_type": "markdown",
   "id": "368dfa44-4598-488a-8d9f-83c0383cf5ef",
   "metadata": {},
   "source": [
    "대부분 `help`를 쳐서 찾아볼 수 있으므로 걱정 안해도 됨"
   ]
  },
  {
   "cell_type": "markdown",
   "id": "e5b0b86f-1eff-496d-bf41-c6b24d775eeb",
   "metadata": {},
   "source": [
    "# 1. 데이터 분석과 R\n",
    "\n",
    "---"
   ]
  },
  {
   "cell_type": "markdown",
   "id": "26afb928-5226-49ce-8cd9-7f3a87fb31ea",
   "metadata": {},
   "source": [
    "`-` Hadley Wickham이 제시한 데이터 과학의 과정"
   ]
  },
  {
   "cell_type": "markdown",
   "id": "4db3fccd-c929-4ed1-8c54-5ec9c95234b9",
   "metadata": {},
   "source": [
    "|과정|설명|\n",
    "|:-:|:-|\n",
    "|데이터 가져오기 <br> Import|- 분석할 데이터를 가져오는 단계|\n",
    "|정리하기 <br> Tidy|- 가져온 데이터를 일관된 형태로 제구조화하는 단계 <br> - 이 단계를 통해 정리한 데이터를 tidy data라 칭함|\n",
    "|변환하기 <br> Transform|- tidy data에서 필요로 하는 새로운 값을 구하거나, 분석에 필요한 데이터로 변환하는 과정|\n",
    "|시각화 <br> Visualization|- 데이터에서 의미를 도출하는 과정 중 하나|\n",
    "|모델링 <br> Model|- 데이터를 통해 수립한 모델을 이용하여 예측 등의 과정을 수행하는 단계|\n",
    "|소통하기 <br> Communicate|- 데이터에서 찾아낸 세상의 모습을 다른 사람들에게 공유하는 과정|"
   ]
  },
  {
   "cell_type": "markdown",
   "id": "661aeeb7-bab8-4ae3-b71a-4174295c979c",
   "metadata": {},
   "source": [
    "# 2. R 기초\n",
    "\n",
    "---"
   ]
  },
  {
   "cell_type": "markdown",
   "id": "a7594b4d-15b9-497a-a191-5593af9d941b",
   "metadata": {},
   "source": [
    "## A. 산술연산"
   ]
  },
  {
   "cell_type": "code",
   "execution_count": null,
   "id": "ef840a16-0151-4eae-b8c3-96bf84cf68bc",
   "metadata": {},
   "outputs": [],
   "source": [
    "1+2\n",
    "1-2\n",
    "1*2\n",
    "1/2\n",
    "1%%2 ## 나머지. 몫은 %/%임\n",
    "1^2"
   ]
  },
  {
   "cell_type": "markdown",
   "id": "2446f9a3-9647-4678-972f-6f982ecb8dea",
   "metadata": {},
   "source": [
    "## B. 산술연산 함수"
   ]
  },
  {
   "cell_type": "code",
   "execution_count": null,
   "id": "00146836-0353-4eb1-be71-b59e1c4ecad2",
   "metadata": {},
   "outputs": [],
   "source": [
    "log(2) ## 자연로그\n",
    "exp(2)\n",
    "sqrt(2)\n",
    "abs(-2)\n",
    "factorial(2)\n",
    "sin(2*pi) ## 기본적으로 pi 값은 저장되어 있음\n",
    "cos(pi/2)\n",
    "tan(pi/2)"
   ]
  },
  {
   "cell_type": "markdown",
   "id": "5c1e5eee-8a40-4dee-aa3c-f3599e83a1a5",
   "metadata": {},
   "source": [
    "## C. 자료형"
   ]
  },
  {
   "cell_type": "code",
   "execution_count": null,
   "id": "6160ecba-b6d6-4314-a0bc-6239b3eb44b2",
   "metadata": {},
   "outputs": [],
   "source": [
    "as.numeric(\"1\")\n",
    "as.character(1)\n",
    "as.logical(\"TRUE\")\n",
    "FALSE\n",
    "T\n",
    "F\n",
    "NULL ## 정의되지 않음\n",
    "NA   ## 결측치\n",
    "NaN  ## 연산 불가"
   ]
  },
  {
   "cell_type": "markdown",
   "id": "b2ffc92a-a51d-4b09-99a5-c4c1ab94dcfd",
   "metadata": {},
   "source": [
    "`-` 세 가지 `N`\n",
    "\n",
    "|종류|설명|\n",
    "|:-:|:-|\n",
    "|`NULL`|정의되지 않음|\n",
    "|`NA`|결측치|\n",
    "|`NaN`|수학적으로 정의 불가|"
   ]
  },
  {
   "cell_type": "markdown",
   "id": "c96e9975-b977-473c-abd3-7a473b4b9d67",
   "metadata": {},
   "source": [
    "## D. 비교연산자"
   ]
  },
  {
   "cell_type": "code",
   "execution_count": null,
   "id": "8604784d-c931-4677-93c0-6175318ff0ae",
   "metadata": {},
   "outputs": [],
   "source": [
    "## 비교연산 : 다른 언어들이랑 똑같음\n",
    "a <- 1\n",
    "b <- 2\n",
    "\n",
    "a > b\n",
    "a >= b\n",
    "a < b\n",
    "a <= b\n",
    "a != b\n",
    "a == b"
   ]
  },
  {
   "cell_type": "markdown",
   "id": "7286b69e-9b1e-46b4-81b2-60ede639c140",
   "metadata": {},
   "source": [
    "## E. 논리 연산자"
   ]
  },
  {
   "cell_type": "code",
   "execution_count": null,
   "id": "a1801e38-1db6-4f22-b801-0ea332ca09d1",
   "metadata": {},
   "outputs": [],
   "source": [
    "## 논리연산 : 여기는 and or 안씀. 논리 연산자랑 비트 연산자랑 같은듯\n",
    "c <- 3\n",
    "d <- 4\n",
    "\n",
    "(a > b) & (c < d) ## FALSE\n",
    "(a > b) | (c < d) ## TRUE"
   ]
  },
  {
   "cell_type": "markdown",
   "id": "b7f82d1d-c8e4-4302-9a74-f358f67f788c",
   "metadata": {},
   "source": [
    "# 3. 데이터와 자료구조\n",
    "\n",
    "---"
   ]
  },
  {
   "cell_type": "markdown",
   "id": "e5dd533d-cb80-4415-be09-5da5c06cc662",
   "metadata": {},
   "source": [
    "## A. 데이터 이해"
   ]
  },
  {
   "cell_type": "markdown",
   "id": "0841664b-cba9-4c3e-ab80-663a4246dd57",
   "metadata": {},
   "source": [
    "`-` 테이블\n",
    "\n",
    "* 데이터를 효과적으로 분석하려면 일정한 형태로 정리되어 있어야 하며, 대표적인 형태가 테이블임\n",
    "* 데이터를 논리적으로 정리하여 표 형태로 만드는 것을 **데이터 구조화**또는 **정형화**라고 함\n",
    "* 데이터의 저장 형태로, 동질적인 데이터 값인 열과, 하나의 데이터 집합인 행으로 구성됨"
   ]
  },
  {
   "cell_type": "markdown",
   "id": "b467059d-6898-427f-9102-0aa30755ca0a",
   "metadata": {},
   "source": [
    "## B. 자료 구조"
   ]
  },
  {
   "cell_type": "markdown",
   "id": "1370e269-11b4-4816-a8dc-69bd45cdffde",
   "metadata": {},
   "source": [
    "* R은 vector, matrix, array, list, data.frame의 5개 기본 자료구조를 제공함\n",
    "\n",
    "|구분|1차원|2차원|n차원|\n",
    "|:-:|:-:|:-:|:-:|\n",
    "|동질적|벡터|행렬|배열|\n",
    "|이질적|리스트|데이터 프레임||"
   ]
  },
  {
   "cell_type": "markdown",
   "id": "bd5daab3-0825-445e-94b4-478b52ff85f3",
   "metadata": {},
   "source": [
    "## C. 벡터"
   ]
  },
  {
   "cell_type": "markdown",
   "id": "9d4cde46-7e38-46f7-b968-ec888e357941",
   "metadata": {},
   "source": [
    "`-` 동일한 자료형의 값을 1차원으로 저장하는 가장 기본적인 구조"
   ]
  },
  {
   "cell_type": "code",
   "execution_count": null,
   "id": "7b517967-238b-4af0-b993-a483c6cf30e0",
   "metadata": {},
   "outputs": [],
   "source": [
    "## 벡터 생성\n",
    "v1 <- c(1, 2, 3, 4, 5)\n",
    "v2 <- c('a', 'b', 'c')\n",
    "v3 <- c(TRUE, FALSE, T)\n",
    "v4 <- c(1, 2, 3, 'a', 'b') ## character vector\n",
    "\n",
    "v5 <- 1:10\n",
    "v6 <- seq(1, 10, 2) ## length 파라미터를 사용하여 공차가 아닌 벡터의 길이를 지정해줄 수 있음\n",
    "v7 <- rep(1:5, times = 5) ## default arg setting\n",
    "v8 <- rep(1:5, each = 5)  ## 각 원소를 반복하면서 붙임\n",
    "\n",
    "## 벡터 인덱싱\n",
    "v <- c(6, 8, 1, 9, 7)\n",
    "v[1] ## R은 인덱스가 1부터 시작\n",
    "v[6]\n",
    "\n",
    "v[1:3] ## 벡터로 인덱싱할 수 있음. v[c(1, 2, 3)] 이런 느낌\n",
    "v[-5]  ## 뒤에서의 순서 아님. 해당 인덱스 제외 추출임\n",
    "v[c(T, F, T, F, T)]  ## 논리형으로도 인덱싱 가능. 길이가 부족할 경우 재활용 규칙을 따름\n",
    "\n",
    "## 벡터 산술연산\n",
    "v9 <- c(3, 7, 6)\n",
    "v10 <- c(4, 2, 8)\n",
    "\n",
    "v9 + 2  ## 5, 9, 8 : vectorization\n",
    "v9 - v10 ## -1, 5, -2 : 위치 별 연산\n",
    "v9 * c(10, 5) ## Warning 30, 35, 60 : 재활용 규칙\n",
    "\n",
    "## 벡터 비교연산\n",
    "v11 <- 1:10\n",
    "v11 >= 5 ## 각 원소별로 논리 연산자 적용하여 벡터로 산출\n",
    "v11[v11 >= 5] ## 5 이상인 원소만 추출\n",
    "sum(v11 < 5) ## 5 미만인 원소의 수 : 논리형은 T == 1, F == 0\n",
    "sum(v11[v11 < 5]) ## 5 미만인 원소의 합계"
   ]
  },
  {
   "cell_type": "markdown",
   "id": "b8added2-736a-4d11-adb5-0e5c18e21d5d",
   "metadata": {},
   "source": [
    "`-` 벡터에 적용 가능한 함수\n",
    "\n",
    "`sum(), mean(), median(), max(), min(), var(), sd(), length()`\n",
    "\n",
    "> 기초 통계량과 길이"
   ]
  },
  {
   "cell_type": "markdown",
   "id": "04b57fe3-fdcd-4e4b-89f5-e2dd4d3a90d3",
   "metadata": {},
   "source": [
    "`-` 팩터 factor"
   ]
  },
  {
   "cell_type": "markdown",
   "id": "a36bee0b-e3ce-48c6-9e80-33b2feac5487",
   "metadata": {},
   "source": [
    "* 문자형 데이터를 저장할 수 있는 벡터의 한 종류\n",
    "* 성별, 혈액형 등 저장할 데이터 값이 정해져 있을 때 사용. 범주가 정해져 있을 때 사용\n",
    "* 문자형 벡터를 만든 뒤, `factor()` 함수를 이용하여 생성\n",
    "* `levels()` 함수는 팩터의 범주를 호출\n",
    "* 팩터는 범주 외 다른 값을 저장할 수 없기 때문에 오타를 방지할 수 있음"
   ]
  },
  {
   "cell_type": "code",
   "execution_count": null,
   "id": "205ad992-923f-4dc0-95dd-a819e0ed0693",
   "metadata": {},
   "outputs": [],
   "source": [
    "szn <- c(\"spring\", \"fall\", 'winter', 'summer', 'summer', 'spring')\n",
    "szn_fct1 <- factor(szn)\n",
    "levels(szn) <- c(\"spring\", \"summer\", \"fall\", \"winter\")\n",
    "\n",
    "szn_fct2 <- factor(szn, levels = c(\"spring\", \"summer\", \"fall\", \"winter\")) ## 동일한 표현\n",
    "\n",
    "szn_fct1[7] <- \"autumn\"  ## invalid factor level, NA generated : 결측치로 추가"
   ]
  },
  {
   "cell_type": "markdown",
   "id": "e4c25d8b-51b5-423a-97ef-3153da75aeb5",
   "metadata": {},
   "source": [
    "## D. 행렬과 배열"
   ]
  },
  {
   "cell_type": "markdown",
   "id": "2205fd0f-dc04-4427-8b52-dbf750edee99",
   "metadata": {},
   "source": [
    "`-` 행렬 : 동일한 자료형의 값을 2차원으로 저장하는 자료구조"
   ]
  },
  {
   "cell_type": "code",
   "execution_count": 26,
   "id": "8f587ccd-f097-4734-ada2-9f633ee669da",
   "metadata": {},
   "outputs": [
    {
     "data": {
      "text/html": [
       "<table class=\"dataframe\">\n",
       "<caption>A matrix: 4 × 3 of type dbl</caption>\n",
       "<thead>\n",
       "\t<tr><th></th><th scope=col>Kor</th><th scope=col>Eng</th><th scope=col>Math</th></tr>\n",
       "</thead>\n",
       "<tbody>\n",
       "\t<tr><th scope=row>Kim</th><td>80</td><td>67</td><td>74</td></tr>\n",
       "\t<tr><th scope=row>Lee</th><td>82</td><td>95</td><td>88</td></tr>\n",
       "\t<tr><th scope=row>Park</th><td>75</td><td>84</td><td>82</td></tr>\n",
       "\t<tr><th scope=row>Choi</th><td>95</td><td>83</td><td>76</td></tr>\n",
       "</tbody>\n",
       "</table>\n"
      ],
      "text/latex": [
       "A matrix: 4 × 3 of type dbl\n",
       "\\begin{tabular}{r|lll}\n",
       "  & Kor & Eng & Math\\\\\n",
       "\\hline\n",
       "\tKim & 80 & 67 & 74\\\\\n",
       "\tLee & 82 & 95 & 88\\\\\n",
       "\tPark & 75 & 84 & 82\\\\\n",
       "\tChoi & 95 & 83 & 76\\\\\n",
       "\\end{tabular}\n"
      ],
      "text/markdown": [
       "\n",
       "A matrix: 4 × 3 of type dbl\n",
       "\n",
       "| <!--/--> | Kor | Eng | Math |\n",
       "|---|---|---|---|\n",
       "| Kim | 80 | 67 | 74 |\n",
       "| Lee | 82 | 95 | 88 |\n",
       "| Park | 75 | 84 | 82 |\n",
       "| Choi | 95 | 83 | 76 |\n",
       "\n"
      ],
      "text/plain": [
       "     Kor Eng Math\n",
       "Kim  80  67  74  \n",
       "Lee  82  95  88  \n",
       "Park 75  84  82  \n",
       "Choi 95  83  76  "
      ]
     },
     "metadata": {},
     "output_type": "display_data"
    }
   ],
   "source": [
    "## 행렬 생성\n",
    "m1 <- matrix(1:20, ncol = 4) ## nrow는 자동으로 맞춰짐. 약수가 아닐 경우 재사용 규칙 적용\n",
    "m2 <- matrix(1:20, ncol = 4, byrow = TRUE) ## 행별로 주어진 자료일 때 사용.\n",
    "\n",
    "## 행렬에 사용 가능한 함수\n",
    "# dim(), ncol(), nrow(), colnames(), rownames() -> 뒤에 두개는 잘 안씀;; 그럴 거면 데이터프레임 쓰지\n",
    "score <- matrix(c(80, 67, 74,\n",
    "                  82, 95, 88,\n",
    "                  75, 84, 82,\n",
    "                  95, 83, 76),\n",
    "                nrow = 4, ncol = 3, byrow = TRUE)\n",
    "\n",
    "rownames(score) <- c(\"Kim\", \"Lee\", \"Park\", \"Choi\")\n",
    "colnames(score) <- c(\"Kor\", \"Eng\", \"Math\")\n",
    "\n",
    "score ## 유사 데이터프레임처럼 사용 가능. 물론 자료형이 같음."
   ]
  },
  {
   "cell_type": "code",
   "execution_count": null,
   "id": "ef3d9d01-de75-4344-951a-38e9272d6689",
   "metadata": {},
   "outputs": [],
   "source": [
    "## 행렬 인덱싱\n",
    "m <- matrix(1:15, nrow = 3) ## (3, 5) matrix\n",
    "m[, 1]\n",
    "m[, c(1, 3, 5)]\n",
    "m[1:2, 3:5]\n",
    "m[-2,]\n",
    "m[-1, c(-1, -2)] ## 특정 행과 열 빼고 추출\n",
    "m[m > 7] ## 벡터에 논리 연산자 쓰는 것과 동일\n",
    "\n",
    "## 행렬 산술연산 : 두 행렬의 크기가 무조건 같아야 함 -> 재사용 규칙 안됨\n",
    "m2 <- matrix(1:20, nrow = 4)\n",
    "m3 <- matrix(21:40, nrow = 4)\n",
    "\n",
    "## 각 원소끼리 연산함\n",
    "m2 + m3\n",
    "m2 - m3\n",
    "m2 * m3\n",
    "m2 / m3\n",
    "\n",
    "m2%*%t(m3) ## (4, 5) \\times (5, 4) : 행렬곱\n",
    "\n",
    "## 특수 행렬 생성\n",
    "Id <- diag(1, 5)\n",
    "zro <- matrix(0, ncol = 5, nrow = 5) ## 정방 행렬을 만들고 싶은거면 diag(0, 5)도 됨\n",
    "dagmat <- diag(seq(1, 7, 2)) ## 벡터 원소만 사용하고 싶을 경우 차원 안써도 됨. 넘으면 재사용 규칙\n",
    "# symat <- matrix(asdasfasf) ## 직접 입력해서 만들어야 함\n",
    "Transmat <- t(m2) ## 전치\n",
    "Invmt <- solve(Id) ## Non-Singular Matrix일 경우에만\n",
    "\n",
    "## 행렬 결합\n",
    "cbind(m2, m3) ## bind column wize\n",
    "rbind(m2, m3) ## bind row wize\n",
    "cbind(m2, c(1, 3, 5, 2)) ## bind with vector"
   ]
  },
  {
   "cell_type": "markdown",
   "id": "9e157436-c1e5-4af2-9ea4-cf26daed5d57",
   "metadata": {},
   "source": [
    "`-` 배열 : 동일한 자료형의 값을 n차원으로 저장하는 자료구조"
   ]
  },
  {
   "cell_type": "code",
   "execution_count": null,
   "id": "09bfe123-3698-4cb4-82e6-74364c91319c",
   "metadata": {},
   "outputs": [],
   "source": [
    "## 배열 생성\n",
    "arr <- array(1:12, dim = c(2, 2, 3)) # dim에 벡터를 집어넣어 차원과 규모를 설정해줄 수 있음\n",
    "\n",
    "## 인덱싱 매트릭스와 동일"
   ]
  },
  {
   "cell_type": "markdown",
   "id": "afa80777-166c-4848-98a5-7b6d3d46fbbc",
   "metadata": {},
   "source": [
    "## E. 리스트"
   ]
  },
  {
   "cell_type": "markdown",
   "id": "41ddafa6-d93f-4c91-8842-0dc55895d9ea",
   "metadata": {},
   "source": [
    "`-` 서로 다른 자료형의 값을 1차원으로 저장하는 자료구조\n",
    "\n",
    "> R의 모든 객체가 원소로 포함될 수 있음. 함수의 결과값을 반환할 때 유리하게 사용 가능"
   ]
  },
  {
   "cell_type": "code",
   "execution_count": null,
   "id": "b45d7a08-493e-45d1-b1ae-5d631684f200",
   "metadata": {},
   "outputs": [],
   "source": [
    "## 리스트 생성\n",
    "myinfo <- list(name = \"Kim\", age = 25, status = TRUE, score = c(70, 85, 90))\n",
    "\n",
    "## 리스트 인덱싱\n",
    "myinfo[[1]]\n",
    "myinfo$score\n",
    "myinfo[[\"score\"]]"
   ]
  },
  {
   "cell_type": "markdown",
   "id": "30ffedf5-0a98-4066-bab5-73c44f563bd6",
   "metadata": {},
   "source": [
    "## F. 데이터 프레임"
   ]
  },
  {
   "cell_type": "markdown",
   "id": "45817cf0-c92d-4236-b34d-b1358037a924",
   "metadata": {},
   "source": [
    "`-` 열 단위의 서로 다른 자료형의 값을 저장하는 자료구조\n",
    "\n",
    "> 데이터프레임에서 특정 열을 가져오면 값들의 모든 자료형이 동일해야만 함.\n",
    ">\n",
    "> 같은 길이의 벡터를 원소로 가지는 리스트의 특별한 경우 -> 표현을 공유함\n",
    ">\n",
    "> 행렬과 같은 2차원 구조 -> 다루는 방법이 비슷함"
   ]
  },
  {
   "cell_type": "code",
   "execution_count": 55,
   "id": "b0b9d139-b1df-4899-ab2f-a9e9d3b288b9",
   "metadata": {},
   "outputs": [
    {
     "data": {
      "text/html": [
       "<table class=\"dataframe\">\n",
       "<caption>A data.frame: 4 × 5</caption>\n",
       "<thead>\n",
       "\t<tr><th scope=col>name</th><th scope=col>age</th><th scope=col>btype</th><th scope=col>smoking</th><th scope=col>c(\"dog\", \"cat\", \"bird\", \"dog\")</th></tr>\n",
       "\t<tr><th scope=col>&lt;chr&gt;</th><th scope=col>&lt;dbl&gt;</th><th scope=col>&lt;fct&gt;</th><th scope=col>&lt;lgl&gt;</th><th scope=col>&lt;chr&gt;</th></tr>\n",
       "</thead>\n",
       "<tbody>\n",
       "\t<tr><td>Kim </td><td>24</td><td>A</td><td> TRUE</td><td>dog </td></tr>\n",
       "\t<tr><td>Lee </td><td>25</td><td>B</td><td>FALSE</td><td>cat </td></tr>\n",
       "\t<tr><td>Park</td><td>22</td><td>O</td><td> TRUE</td><td>bird</td></tr>\n",
       "\t<tr><td>Choi</td><td>27</td><td>B</td><td> TRUE</td><td>dog </td></tr>\n",
       "</tbody>\n",
       "</table>\n"
      ],
      "text/latex": [
       "A data.frame: 4 × 5\n",
       "\\begin{tabular}{lllll}\n",
       " name & age & btype & smoking & c(\"dog\", \"cat\", \"bird\", \"dog\")\\\\\n",
       " <chr> & <dbl> & <fct> & <lgl> & <chr>\\\\\n",
       "\\hline\n",
       "\t Kim  & 24 & A &  TRUE & dog \\\\\n",
       "\t Lee  & 25 & B & FALSE & cat \\\\\n",
       "\t Park & 22 & O &  TRUE & bird\\\\\n",
       "\t Choi & 27 & B &  TRUE & dog \\\\\n",
       "\\end{tabular}\n"
      ],
      "text/markdown": [
       "\n",
       "A data.frame: 4 × 5\n",
       "\n",
       "| name &lt;chr&gt; | age &lt;dbl&gt; | btype &lt;fct&gt; | smoking &lt;lgl&gt; | c(\"dog\", \"cat\", \"bird\", \"dog\") &lt;chr&gt; |\n",
       "|---|---|---|---|---|\n",
       "| Kim  | 24 | A |  TRUE | dog  |\n",
       "| Lee  | 25 | B | FALSE | cat  |\n",
       "| Park | 22 | O |  TRUE | bird |\n",
       "| Choi | 27 | B |  TRUE | dog  |\n",
       "\n"
      ],
      "text/plain": [
       "  name age btype smoking c(\"dog\", \"cat\", \"bird\", \"dog\")\n",
       "1 Kim  24  A      TRUE   dog                           \n",
       "2 Lee  25  B     FALSE   cat                           \n",
       "3 Park 22  O      TRUE   bird                          \n",
       "4 Choi 27  B      TRUE   dog                           "
      ]
     },
     "metadata": {},
     "output_type": "display_data"
    }
   ],
   "source": [
    "df2 <- cbind(df1, c(\"dog\", \"cat\", \"bird\", \"dog\")) ## 아직 묶인 열의 이름이 할당되지 않은 상태\n",
    "df2"
   ]
  },
  {
   "cell_type": "code",
   "execution_count": null,
   "id": "88b70d24-0a61-45c5-abe5-d0e355c0a6cd",
   "metadata": {},
   "outputs": [],
   "source": [
    "## 데이터프레임 생성\n",
    "df1 <- data.frame(name = c(\"Kim\", \"Lee\", \"Park\", \"Choi\"),\n",
    "                  age = c(24, 25, 22, 27),\n",
    "                  btype = factor(c(\"A\", \"B\", \"O\", \"B\"), levels = c(\"A\", \"B\", \"O\", \"AB\")),\n",
    "                  smoking = c(TRUE, FALSE, TRUE, TRUE))\n",
    "\n",
    "df2 <- cbind(df1, c(\"dog\", \"cat\", \"bird\", \"dog\")) ## 아직 묶인 열의 이름이 할당되지 않은 상태 : 할당은 됨\n",
    "colnames(df2)[5] <- \"pet\" ## 오브젝트를 그대로 호출해서 할당 가능\n",
    "\n",
    "## 데이터프레임 인덱싱 : 행렬과 동일\n",
    "df2[1, 2] ## 개별 원소\n",
    "df2[, 3]  ## 열\n",
    "df2[-1, c(-2, -3)] ## 특정 샘플과 열 제외\n",
    "df2$pet\n",
    "df2[[\"pet\"]]\n",
    "df2[[1]]"
   ]
  },
  {
   "cell_type": "markdown",
   "id": "b2fcc0cf-77e0-4afb-9393-5c8ea3a7b667",
   "metadata": {},
   "source": [
    "`-` 데이터프레임 요약 함수\n",
    "\n",
    "|함수|설명|\n",
    "|:-:|:-|\n",
    "|`head()`|처음 몇 개의 원소를 반환|\n",
    "|`tail()`|마지막 몇 개의 원소를 반환|\n",
    "|`str()`|자료구조와 각 원소의 자료형, 미리보기 출력|\n",
    "|`unique()`|중복된 값을 제거하고 유일한 값만 반환|\n",
    "|`table()`|각 값의 빈도를 계산하여 표 형태로 반환 -> 범주형에 유용함|\n",
    "|`colSums(), colMeans()`|각 열의 합계/평균을 계산|\n",
    "|`rowSums(), rowMeans()`|각 행의 합계/평균을 계산 -> 전부 수치형이여야 함|"
   ]
  },
  {
   "cell_type": "code",
   "execution_count": null,
   "id": "c3603537-0fe4-4e8f-9d2a-0868906296bb",
   "metadata": {},
   "outputs": [],
   "source": [
    "dim(iris)                                   # 데이터프레임의 차원\n",
    "nrow(iris)                                  # 행의 개수\n",
    "ncol(iris)                                  # 열의 개수\n",
    "colnames(iris)                              # 열 이름, names()와 결과 동일\n",
    "\n",
    "head(iris)                                  # 처음 6개 행 출력\n",
    "tail(iris)                                  # 마지막 6개 행 출력\n",
    "str(iris)                                   # 데이터셋 요약 정보\n",
    "\n",
    "unique(iris[, 5])                           # 품종의 종류 보기(중복 제거) \n",
    "table(iris[, \"Species\"])                    # 품종의 종류별 행의 개수 세기\n",
    "\n",
    "colSums(iris[, -5])                         # 각 열의 합계 \n",
    "colMeans(iris[, -5])                        # 각 열의 평균 \n",
    "rowSums(iris[, -5])                         # 각 행의 합계 \n",
    "rowMeans(iris[, -5])                        # 각 행의 평균"
   ]
  },
  {
   "cell_type": "markdown",
   "id": "4119240a-131b-46ef-8827-e9565151e76e",
   "metadata": {},
   "source": [
    "# 4. 프로그래밍 구조"
   ]
  },
  {
   "cell_type": "markdown",
   "id": "8296b701-fe8f-4906-aae6-f3b164e601f6",
   "metadata": {},
   "source": [
    "## A. 조건문(Conditional Statement)"
   ]
  },
  {
   "cell_type": "markdown",
   "id": "b434b968-c5f4-432a-bafa-5c6ae5f57ac9",
   "metadata": {},
   "source": [
    "### if 문\n",
    "\n",
    "* 조건이 참이면 코드블록 실행, 거짓이면 실행하지 않고 다음 명령문으로 넘어감\n",
    "* 코드블록 : 중괄호 `{}`로 구분된 코드. 여러 명령문을 하나로 묶은 실행 단위"
   ]
  },
  {
   "cell_type": "markdown",
   "id": "ebdce36a-ce88-4397-9380-3517c2b1922f",
   "metadata": {},
   "source": [
    "### if-else 문\n",
    "\n",
    "* 조건이 참이면 첫 번째 코드블록 실행, 거짓이면 두 번째 코드블록 실행\n",
    "* if-else 문에서 `else`는 반드시 `if` 문의 코드블록을 닫는 중괄호와 같은 줄에 작성해야만 함"
   ]
  },
  {
   "cell_type": "markdown",
   "id": "fc141b07-5230-4362-a4de-0bb8dcb39793",
   "metadata": {},
   "source": [
    "### else if 문\n",
    "\n",
    "* 첫 번째 조건이 거짓이면 두 번째 조건을 검사하고, 두 번째 조건이 참이면 해당 코드블록을 실행\n",
    "* 여러 조건을 순차적으로 검사할 때 사용"
   ]
  },
  {
   "cell_type": "markdown",
   "id": "f720f68b-d17d-4a11-976c-17ffc31e5f0f",
   "metadata": {},
   "source": [
    "### ifelse() 함수 -> 엑셀과 동일\n",
    "\n",
    "* 조건에 따라 두 값 중 하나를 선택해야 하는 경우 유용"
   ]
  },
  {
   "cell_type": "code",
   "execution_count": 1,
   "id": "efb3b9bf-c834-4980-a509-cc654c5c7067",
   "metadata": {},
   "outputs": [
    {
     "data": {
      "text/html": [
       "'fail'"
      ],
      "text/latex": [
       "'fail'"
      ],
      "text/markdown": [
       "'fail'"
      ],
      "text/plain": [
       "[1] \"fail\""
      ]
     },
     "metadata": {},
     "output_type": "display_data"
    }
   ],
   "source": [
    "grade = 50\n",
    "ifelse(grade <= 60, \"fail\", \"pass\")"
   ]
  },
  {
   "cell_type": "markdown",
   "id": "51c9cb99-2c31-4d1d-88aa-8bb37033a259",
   "metadata": {},
   "source": [
    "## B. 반복문"
   ]
  },
  {
   "cell_type": "markdown",
   "id": "5868aa77-6e39-44d3-9810-0816fe175aec",
   "metadata": {},
   "source": [
    "```R\n",
    "## for 문 : list나 vector, 데이터프레임 등 어떠한 iterable obj를 넣어도 동작함\n",
    "for (i in iterable_obj) {\n",
    "    code block\n",
    "\n",
    "    if (logical) {\n",
    "        next\n",
    "    } else if (logical) {\n",
    "        break\n",
    "    }\n",
    "}\n",
    "\n",
    "## while 문\n",
    "while (logical) {\n",
    "    code block\n",
    "\n",
    "    if (logical) {\n",
    "        next\n",
    "    } else if (logical) {\n",
    "        break\n",
    "    } else {\n",
    "        code block\n",
    "    }\n",
    "}\n",
    "```"
   ]
  },
  {
   "cell_type": "markdown",
   "id": "296a0bf7-5124-46e0-ba8d-ebb6ec6bd520",
   "metadata": {},
   "source": [
    "* `cat()` : 출력을 하되, 여러 값을 받아서 결합한 뒤 출력. `paste()`는 값을 반환하나, `cat()`은 출력만 하고 반환은 하지 않음."
   ]
  },
  {
   "cell_type": "markdown",
   "id": "b5be1853-280b-4401-b96a-7bd6a56b9350",
   "metadata": {},
   "source": [
    "## C. apply 계열 함수"
   ]
  },
  {
   "cell_type": "markdown",
   "id": "ad65d693-2635-4c2a-845e-67958f67c906",
   "metadata": {},
   "source": [
    "* 반복적인 작업에 함수를 적용시켜주는 것"
   ]
  },
  {
   "cell_type": "markdown",
   "id": "8e78fec3-bee9-432c-9ef8-7c97ee61ce84",
   "metadata": {},
   "source": [
    "|함수|설명|\n",
    "|:-:|:-|\n",
    "|`apply()`|행렬, 배열, 데이터프레임의 행이나 열에 함수를 적용하고 반환|\n",
    "|`lapply()`|리스트 또는 벡터의 각 원소에 함수를 적용하고, **리스트**로 반환|\n",
    "|`sapply()`|`lapply()`와 비슷하나, 가능한 경우 결과를 벡터나 행렬로 반환 -> Simplify|\n",
    "|`vapply()`|`sapply()`와 비슷하나, 반환값의 형태를 명시적으로 지정 -> verify|\n",
    "|`tapply()`|집단 별로 데이터를 나누어 함수를 적용 <br> 주로 팩터와 함께 사용|\n",
    "|`mapply()`|여러 입력 벡터에 함수를 병렬로 적용하고 결과를 반환 -> Multiple|"
   ]
  },
  {
   "cell_type": "markdown",
   "id": "7ace2020-4f4b-4f11-b05f-520ed1315bab",
   "metadata": {},
   "source": [
    "```R\n",
    "apply(iris[, 1:4], 1, mean) ## 각 행의 평균 계산 : 유일하게 행 기반 연산 가능\n",
    "\n",
    "lapply(iris[, 1:4], summary) ## 각 열의 통계량 계산, 리스트 반환\n",
    "sapply(iris[, 1:4], summary) ## 각 열의 통계량 계산, 벡터 반환\n",
    "vapply(iris[, 1:4], mean, numeric(1)) ## 각 열의 평균을 숫자로 반환\n",
    "\n",
    "tapply(iris[, 1], iris[5], mean) ## iris[5]열을 기준으로 그룹화한 후 평균 계산. 한 열만 들어감\n",
    "\n",
    "mapply(sum, iris[, 1], iris[, 2], iris[, 3]) ## 여러 벡터의 합 계산, 함수 먼저\n",
    "```"
   ]
  },
  {
   "cell_type": "markdown",
   "id": "04d2059c-d326-4284-9bfd-f8ec9a1318b8",
   "metadata": {},
   "source": [
    "## D. 사용자 정의 함수"
   ]
  },
  {
   "cell_type": "markdown",
   "id": "26c7bd1b-0f3a-4f93-b7b9-41556c38d49d",
   "metadata": {},
   "source": [
    "```R\n",
    "fun1 <- function(parameters) {\n",
    "    statements\n",
    "    return(val)\n",
    "}\n",
    "\n",
    "## default 지정\n",
    "fun2 <- function(x, y = 2) {\n",
    "    result = x/y\n",
    "    return(result)\n",
    "}\n",
    "```"
   ]
  },
  {
   "cell_type": "markdown",
   "id": "9055255d-8323-42e6-8513-173f1af7fa7d",
   "metadata": {},
   "source": [
    "# 5. tidyverse 통합 패키지"
   ]
  },
  {
   "cell_type": "markdown",
   "id": "76536ab8-cf19-4d58-b152-cc732ce2b425",
   "metadata": {},
   "source": [
    "## A. tidyverse"
   ]
  },
  {
   "cell_type": "markdown",
   "id": "5b3bd38f-607f-44fd-ab0e-7be0962e9f4a",
   "metadata": {},
   "source": [
    "* 기존 자료구조의 재사용\n",
    "* 파이프 연산자를 이용한 단순한 함수 조합\n",
    "* 함수형 프로그래밍 적극 포용\n",
    "* 사람을 위한 설계"
   ]
  },
  {
   "cell_type": "markdown",
   "id": "01858efa-4329-4d9b-8369-0857a6dcd14a",
   "metadata": {},
   "source": [
    "## B. tidyverse 작업 흐름"
   ]
  },
  {
   "attachments": {
    "e85cb3c5-571a-4982-b85b-0e05513df7f2.png": {
     "image/png": "[encoded data removed]"
    }
   },
   "cell_type": "markdown",
   "id": "b8cc2cf9-3096-4ed5-93ae-76d36ea6b439",
   "metadata": {},
   "source": [
    "![image.png](attachment:e85cb3c5-571a-4982-b85b-0e05513df7f2.png)"
   ]
  },
  {
   "cell_type": "markdown",
   "id": "7d827482-dcfb-4017-9ef8-4f18316e1fa7",
   "metadata": {},
   "source": [
    "## C. 타이디 데이터"
   ]
  },
  {
   "cell_type": "markdown",
   "id": "9a95b4dd-950d-4649-973a-c61f7f54a619",
   "metadata": {},
   "source": [
    "1. 모든 열은 변수이다.\n",
    "2. 모든 행은 관측값이다.\n",
    "3. 모든 셀은 단일 값을 가진다."
   ]
  },
  {
   "cell_type": "markdown",
   "id": "589e13bb-e80c-4788-a72f-4f7865f98148",
   "metadata": {},
   "source": [
    "## D. 파이프 연산자"
   ]
  },
  {
   "cell_type": "markdown",
   "id": "55302d04-f897-4462-bb96-33f57bd20b82",
   "metadata": {},
   "source": [
    "* `magrittr` 패키지 포함\n",
    "* `%>%` : `ctrl + shift + m`, place-holder == `.`\n",
    "* `|>` : place-holder == `_`"
   ]
  },
  {
   "cell_type": "markdown",
   "id": "dd3784ef-f9b9-496e-9172-c09b0ce84787",
   "metadata": {},
   "source": [
    "## E. tibble 패키지"
   ]
  },
  {
   "cell_type": "markdown",
   "id": "27fe0cb5-4aea-49a6-84eb-b2e382704415",
   "metadata": {},
   "source": [
    "|변수 라벨|설명|\n",
    "|:-:|:-:|\n",
    "|`<chr>`|문자형(character)|\n",
    "|`<int>`|정수형(integer)|\n",
    "|`<dbl>`|실수형(double)|\n",
    "|`<date>`|날짜(date)|\n",
    "|`<time>`|시간(time)|\n",
    "|`<dttm>`|날짜와 시간(date-time)|\n",
    "|`<lgl>`|논리형(logical)|\n",
    "|`+lbl`|변수의 값에 부여된 라벨 값이 추가되어 있음을 표시|"
   ]
  },
  {
   "cell_type": "markdown",
   "id": "b45f59e1-3f70-4713-91d2-ed213f96d5f5",
   "metadata": {},
   "source": [
    "```R\n",
    "View(tbl) ## 전체 데이터셋 표기\n",
    "glimpse(tbl) ## str(tbl)인데 조금 더 깔끔하게\n",
    "as.data.frame(tbl)\n",
    "as_tibble(df)\n",
    "```"
   ]
  },
  {
   "cell_type": "markdown",
   "id": "5ee8b4b5-d08f-4b10-8840-14191ccc2fed",
   "metadata": {},
   "source": [
    "```R\n",
    "## 정의한 변수를 바로 사용하여 선형 결합 등을 통해 새로운 변수 생성이 가능\n",
    "tbl = tibble(\n",
    "    x = 1:5,\n",
    "    y = 1,\n",
    "    z = x^2 + y\n",
    ")\n",
    "\n",
    "## tibble 반환\n",
    "tbl[, 1]\n",
    "\n",
    "## 벡터 반환\n",
    "tbl[[1]]\n",
    "tbl[[col1]]\n",
    "tbl$col1\n",
    "```"
   ]
  },
  {
   "cell_type": "markdown",
   "id": "0fee3c68-02e2-4771-9833-cc6762478713",
   "metadata": {},
   "source": [
    "# 6. 데이터 랭글링"
   ]
  },
  {
   "cell_type": "markdown",
   "id": "93eb4e9f-7bb0-434a-84c8-01acb7090f91",
   "metadata": {},
   "source": [
    "## A. `readr` 패키지"
   ]
  },
  {
   "cell_type": "markdown",
   "id": "c00f70a6-cf09-4278-88ce-11d1346b6308",
   "metadata": {},
   "source": [
    "* `read_csv()`, `read_tsv()`, `read_table()` : csv, tsv, 공백구분 파일 불러오기\n",
    "* `read_delim()` : 임의의 구분자로 된 파일 불러오기"
   ]
  },
  {
   "cell_type": "markdown",
   "id": "9b0ccf46-4c60-44de-9a20-a1a1d50711a1",
   "metadata": {},
   "source": [
    "```R\n",
    "read_csv(\"directory\", col_names = FALSE, skip = n, na = val)\n",
    "## 변수명 지정, n개 행 스킵, val 값을 결측치로 지정\n",
    "## 헤더가 있는데 스킵 때려버리면 헤더 사라짐\n",
    "```"
   ]
  },
  {
   "cell_type": "markdown",
   "id": "3bd7323e-0132-4c60-a1b7-341952b628e5",
   "metadata": {},
   "source": [
    "## B. `dplyr` 패키지"
   ]
  },
  {
   "cell_type": "markdown",
   "id": "bf1b3de1-2921-4898-8b53-305fcb63276b",
   "metadata": {},
   "source": [
    "> 깔끔화(Tidy)에 유리"
   ]
  },
  {
   "cell_type": "markdown",
   "id": "46c6317d-68d1-44fb-98e9-1edb3c2c3395",
   "metadata": {},
   "source": [
    "### 행 관련 함수"
   ]
  },
  {
   "cell_type": "markdown",
   "id": "53813203-c511-494b-9dd4-57599c40549c",
   "metadata": {},
   "source": [
    "`-` `filter()` : 특정 열에 대하여 조건에 맞는지 확인\n",
    "\n",
    "`-` `arrange()` : 특정 열에 대하여 정렬, `desc(col)` 함수로 내림차순 정렬"
   ]
  },
  {
   "cell_type": "markdown",
   "id": "b4b06618-d8d6-41ad-bf2a-efc8d7667dc9",
   "metadata": {},
   "source": [
    "```R\n",
    "flights %>%\n",
    "    filter(month %in% 6:9 & arr_delay <= 0) %>%\n",
    "    arrange(desc(year), desc(month), desc(day))\n",
    "```"
   ]
  },
  {
   "cell_type": "markdown",
   "id": "1a6ecf19-1b16-4446-a5ac-c137b216cfc9",
   "metadata": {},
   "source": [
    "### 열 관련 함수"
   ]
  },
  {
   "cell_type": "markdown",
   "id": "b0e50de2-bbc6-4927-8553-4fe88b0445ce",
   "metadata": {},
   "source": [
    "`-` `select()` : 특정 변수 추출 -> `?dplyr::select()`\n",
    "\n",
    "> 도우미함수 : `starts_with()`, `ends_with()`, `contains()`\n",
    "\n",
    "```R\n",
    "flights %>% select(year:day) ## 변수명으로 슬라이싱\n",
    "flights %>% select(-(year:day)) ## 변수명으로 슬라이싱하여 제거\n",
    "flights %>%\n",
    "    select(dep.time = dep_time, arr.time = arr_time) ## 이름 변경 후 추출\n",
    "\n",
    "flights %>% select(starts_with(\"sched\"))\n",
    "flights %>% select(ends_with(\"time\"))\n",
    "flights %>% select(contains(\"arr_\"))\n",
    "```"
   ]
  },
  {
   "cell_type": "markdown",
   "id": "44c71988-2da3-4f46-ab6a-03865573d21d",
   "metadata": {},
   "source": [
    "`-` `mutate()` : 새로운 변수 생성\n",
    "\n",
    "> Useful mutate functions : `?dplyr::mutate`\n",
    ">\n",
    "> 산술 연산자 및 함수\n",
    ">\n",
    "> `lead()`, `lag`\n",
    ">\n",
    "> 랭킹관련 함수 : `dense_rank()`, `min_rank()`, `percent_rank()`, `row_number()`\n",
    ">\n",
    "> 결측치 처리 : `na_if()` - 특정값을 NA로, `coalesce()` - NA가 아닌 값 찾기\n",
    ">\n",
    "> 조건문 : `if_else()`, `case_when()`, `recode()` - 특정 값을 지정하여 변경"
   ]
  },
  {
   "cell_type": "markdown",
   "id": "e536400c-a0ef-401c-8860-b5d9d3b4ab0c",
   "metadata": {},
   "source": [
    "`-` `rename()` : 함수 이름을 굳이 `colnames()`쓰면서 바꿀 필요 없음. `select()`에서 이름 변경하는 것과 사용법이 동일"
   ]
  },
  {
   "cell_type": "markdown",
   "id": "b9329579-c06a-47c7-8cce-8b363043c941",
   "metadata": {},
   "source": [
    "`-` `relocate()` : 변수 위치 변경, 여러 변수 묶음을 선택해서 위치 변경 가능, 기본적으로 맨 앞으로 끌고옴"
   ]
  },
  {
   "cell_type": "markdown",
   "id": "e084903a-afb6-4dff-9af3-8c2e59574f50",
   "metadata": {},
   "source": [
    "### 집단 관련 함수"
   ]
  },
  {
   "cell_type": "markdown",
   "id": "f33b468d-8bc9-487f-8b5f-a65af9958da3",
   "metadata": {},
   "source": [
    "`-` `summarise()` == `summarize()` : 통계량을 계산하여 하나의 행으로 요약 - `?summarize`\n",
    "\n",
    "|함수|설명|\n",
    "|:-:|:-:|\n",
    "|`n()`|관측값 개수|\n",
    "|`n_distinct()`|유니크한 값의 수|\n",
    "|`first()`|첫 번째 값|\n",
    "|`last()`|마지막 값|\n",
    "|`nth()`|n번째 값|\n",
    "|`sum()`||\n",
    "|`mean()`||\n",
    "|`sd()`||\n",
    "|`IQR()`||\n",
    "|`quantile()`||"
   ]
  },
  {
   "cell_type": "markdown",
   "id": "9b9757e5-3e13-43c5-bf28-a73b1e3dca22",
   "metadata": {},
   "source": [
    "`-` `group_by()` : 특정 변수를 기준으로 그룹화, `summarize()`와 함께 사용"
   ]
  },
  {
   "cell_type": "markdown",
   "id": "c5409baf-856b-400e-800a-2f0ff0a40482",
   "metadata": {},
   "source": [
    "`-` `count()` : 그룹별 수 집계, 총합 집계를 빠르게 할 수 있는 도우미함수\n",
    "\n",
    "> `count(col1, wt = col2, sort = TRUE)` -> 총합 집계 및 정렬 수행 가능"
   ]
  },
  {
   "cell_type": "markdown",
   "id": "e44fad9b-d588-49f6-bace-13685a634068",
   "metadata": {},
   "source": [
    "### 관계형 데이터"
   ]
  },
  {
   "cell_type": "markdown",
   "id": "f4020c26-7799-4f44-83ec-f4fda6888d4a",
   "metadata": {},
   "source": [
    "* 기본키 : 테이블에서 모든 관측값을 유일하게 구분할 수 있도록 하는 변수들의 집합\n",
    "* 외래키 : 다른 테이블의 기본키를 참조하여 두 테이블이 연결될 수 있도록 하는 변수"
   ]
  },
  {
   "cell_type": "markdown",
   "id": "9d8b2e3b-e1cb-452e-a945-3beffe13e206",
   "metadata": {},
   "source": [
    "`-` 뮤테이팅 조인\n",
    "\n",
    "```R\n",
    "inner_join(x, y, by = \"col1\")\n",
    "left_join(x, y, by = \"col1\")\n",
    "right_join(x, y, by = \"col1\")\n",
    "full_join(x, y, by = \"col1\")\n",
    "```"
   ]
  },
  {
   "cell_type": "markdown",
   "id": "3ffedbad-b432-4f46-9fc6-8a36fc3611be",
   "metadata": {},
   "source": [
    "`-` 필터링 조인"
   ]
  },
  {
   "cell_type": "markdown",
   "id": "720ccb04-0554-4cc5-bc1f-f90dc126243f",
   "metadata": {},
   "source": [
    "```R\n",
    "## x만 살림\n",
    "semi_join(x, y) ## 두 벡터가 일치하는 값만 유지\n",
    "anti_join(x, y) ## 두 벡터가 일치하지 않는 값만 유지\n",
    "```"
   ]
  },
  {
   "cell_type": "code",
   "execution_count": null,
   "id": "81598a07-6d0a-4381-9763-bad4a8854077",
   "metadata": {},
   "outputs": [],
   "source": []
  }
 ],
 "metadata": {
  "kernelspec": {
   "display_name": "R",
   "language": "R",
   "name": "ir"
  },
  "language_info": {
   "codemirror_mode": "r",
   "file_extension": ".r",
   "mimetype": "text/x-r-source",
   "name": "R",
   "pygments_lexer": "r",
   "version": "4.3.1"
  }
 },
 "nbformat": 4,
 "nbformat_minor": 5
}
