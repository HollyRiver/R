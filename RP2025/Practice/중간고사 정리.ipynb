{
 "cells": [
  {
   "cell_type": "markdown",
   "id": "c592241e-cd35-466f-a367-a31f65c0d49d",
   "metadata": {},
   "source": [
    "4월 21일 월요일 중간고사\n",
    "\n",
    "* 앞반 16:00 ~ 16:50\n",
    "* 뒷반 17:00 ~ 17:50\n",
    "\n",
    "> 4월 16일 수업 끝날 때 공지\n",
    ">\n",
    "> 5~10분 일찍 올 것\n",
    ">\n",
    "> 중도 퇴실 불가\n",
    ">\n",
    "> 필기구 지참 -> 시험지에 이름 써야 되니까\n",
    ">\n",
    "> 노트북 사용 금지\n",
    "\n",
    "* **시험 시 패키지가 필요하므로, 코드의 순서를 잘 고려할 것.**\n",
    "* **제출 후, 코드를 전부 실행시키므로 순서를 잘 지킬 것**\n",
    "\n",
    "> 한 번 저장해두고, 끈 다음 다시 실행해보는 것이 좋음 ㅇㅇ"
   ]
  },
  {
   "cell_type": "markdown",
   "id": "e5b0b86f-1eff-496d-bf41-c6b24d775eeb",
   "metadata": {},
   "source": [
    "# 1. 데이터 분석과 R\n",
    "\n",
    "---"
   ]
  },
  {
   "cell_type": "markdown",
   "id": "26afb928-5226-49ce-8cd9-7f3a87fb31ea",
   "metadata": {},
   "source": [
    "`-` Hadley Wickham이 제시한 데이터 과학의 과정"
   ]
  },
  {
   "cell_type": "markdown",
   "id": "4db3fccd-c929-4ed1-8c54-5ec9c95234b9",
   "metadata": {},
   "source": [
    "|과정|설명|\n",
    "|:-:|:-|\n",
    "|데이터 가져오기 <br> Import|- 분석할 데이터를 가져오는 단계|\n",
    "|정리하기 <br> Tidy|- 가져온 데이터를 일관된 형태로 제구조화하는 단계 <br> - 이 단계를 통해 정리한 데이터를 tidy data라 칭함|\n",
    "|변환하기 <br> Transform|- tidy data에서 필요로 하는 새로운 값을 구하거나, 분석에 필요한 데이터로 변환하는 과정|\n",
    "|시각화 <br> Visualization|- 데이터에서 의미를 도출하는 과정 중 하나|\n",
    "|모델링 <br> Model|- 데이터를 통해 수립한 모델을 이용하여 예측 등의 과정을 수행하는 단계|\n",
    "|소통하기 <br> Communicate|- 데이터에서 찾아낸 세상의 모습을 다른 사람들에게 공유하는 과정|"
   ]
  },
  {
   "cell_type": "markdown",
   "id": "661aeeb7-bab8-4ae3-b71a-4174295c979c",
   "metadata": {},
   "source": [
    "# 2. R 기초\n",
    "\n",
    "---"
   ]
  },
  {
   "cell_type": "markdown",
   "id": "a7594b4d-15b9-497a-a191-5593af9d941b",
   "metadata": {},
   "source": [
    "## A. 산술연산"
   ]
  },
  {
   "cell_type": "code",
   "execution_count": null,
   "id": "ef840a16-0151-4eae-b8c3-96bf84cf68bc",
   "metadata": {},
   "outputs": [],
   "source": [
    "1+2\n",
    "1-2\n",
    "1*2\n",
    "1/2\n",
    "1%%2 ## 나머지. 몫은 %/%임\n",
    "1^2"
   ]
  },
  {
   "cell_type": "markdown",
   "id": "2446f9a3-9647-4678-972f-6f982ecb8dea",
   "metadata": {},
   "source": [
    "## B. 산술연산 함수"
   ]
  },
  {
   "cell_type": "code",
   "execution_count": null,
   "id": "00146836-0353-4eb1-be71-b59e1c4ecad2",
   "metadata": {},
   "outputs": [],
   "source": [
    "log(2) ## 자연로그\n",
    "exp(2)\n",
    "sqrt(2)\n",
    "abs(-2)\n",
    "factorial(2)\n",
    "sin(2*pi) ## 기본적으로 pi 값은 저장되어 있음\n",
    "cos(pi/2)\n",
    "tan(pi/2)"
   ]
  },
  {
   "cell_type": "markdown",
   "id": "5c1e5eee-8a40-4dee-aa3c-f3599e83a1a5",
   "metadata": {},
   "source": [
    "## C. 자료형"
   ]
  },
  {
   "cell_type": "code",
   "execution_count": null,
   "id": "6160ecba-b6d6-4314-a0bc-6239b3eb44b2",
   "metadata": {},
   "outputs": [],
   "source": [
    "as.numeric(\"1\")\n",
    "as.character(1)\n",
    "as.logical(\"TRUE\")\n",
    "FALSE\n",
    "T\n",
    "F\n",
    "NULL ## 정의되지 않음\n",
    "NA   ## 결측치\n",
    "NaN  ## 연산 불가"
   ]
  },
  {
   "cell_type": "markdown",
   "id": "b2ffc92a-a51d-4b09-99a5-c4c1ab94dcfd",
   "metadata": {},
   "source": [
    "`-` 세 가지 `N`\n",
    "\n",
    "|종류|설명|\n",
    "|:-:|:-|\n",
    "|`NULL`|정의되지 않음|\n",
    "|`NA`|결측치|\n",
    "|`NaN`|수학적으로 정의 불가|"
   ]
  },
  {
   "cell_type": "markdown",
   "id": "c96e9975-b977-473c-abd3-7a473b4b9d67",
   "metadata": {},
   "source": [
    "## D. 비교연산자"
   ]
  },
  {
   "cell_type": "code",
   "execution_count": null,
   "id": "8604784d-c931-4677-93c0-6175318ff0ae",
   "metadata": {},
   "outputs": [],
   "source": [
    "## 비교연산 : 다른 언어들이랑 똑같음\n",
    "a <- 1\n",
    "b <- 2\n",
    "\n",
    "a > b\n",
    "a >= b\n",
    "a < b\n",
    "a <= b\n",
    "a != b\n",
    "a == b"
   ]
  },
  {
   "cell_type": "markdown",
   "id": "7286b69e-9b1e-46b4-81b2-60ede639c140",
   "metadata": {},
   "source": [
    "## E. 논리 연산자"
   ]
  },
  {
   "cell_type": "code",
   "execution_count": null,
   "id": "a1801e38-1db6-4f22-b801-0ea332ca09d1",
   "metadata": {},
   "outputs": [],
   "source": [
    "## 논리연산 : 여기는 and or 안씀. 논리 연산자랑 비트 연산자랑 같은듯\n",
    "c <- 3\n",
    "d <- 4\n",
    "\n",
    "(a > b) & (c < d) ## FALSE\n",
    "(a > b) | (c < d) ## TRUE"
   ]
  },
  {
   "cell_type": "markdown",
   "id": "b7f82d1d-c8e4-4302-9a74-f358f67f788c",
   "metadata": {},
   "source": [
    "# 3. 데이터와 자료구조\n",
    "\n",
    "---"
   ]
  },
  {
   "cell_type": "markdown",
   "id": "e5dd533d-cb80-4415-be09-5da5c06cc662",
   "metadata": {},
   "source": [
    "## A. 데이터 이해"
   ]
  },
  {
   "cell_type": "markdown",
   "id": "0841664b-cba9-4c3e-ab80-663a4246dd57",
   "metadata": {},
   "source": [
    "`-` 테이블\n",
    "\n",
    "* 데이터를 효과적으로 분석하려면 일정한 형태로 정리되어 있어야 하며, 대표적인 형태가 테이블임\n",
    "* 데이터를 논리적으로 정리하여 표 형태로 만드는 것을 **데이터 구조화**또는 **정형화**라고 함\n",
    "* 데이터의 저장 형태로, 동질적인 데이터 값인 열과, 하나의 데이터 집합인 행으로 구성됨"
   ]
  },
  {
   "cell_type": "markdown",
   "id": "b467059d-6898-427f-9102-0aa30755ca0a",
   "metadata": {},
   "source": [
    "## B. 자료 구조"
   ]
  },
  {
   "cell_type": "markdown",
   "id": "1370e269-11b4-4816-a8dc-69bd45cdffde",
   "metadata": {},
   "source": [
    "* R은 vector, matrix, array, list, data.frame의 5개 기본 자료구조를 제공함\n",
    "\n",
    "|구분|1차원|2차원|n차원|\n",
    "|:-:|:-:|:-:|:-:|\n",
    "|동질적|벡터|행렬|배열|\n",
    "|이질적|리스트|데이터 프레임||"
   ]
  },
  {
   "cell_type": "markdown",
   "id": "bd5daab3-0825-445e-94b4-478b52ff85f3",
   "metadata": {},
   "source": [
    "## C. 벡터"
   ]
  },
  {
   "cell_type": "markdown",
   "id": "9d4cde46-7e38-46f7-b968-ec888e357941",
   "metadata": {},
   "source": [
    "`-` 동일한 자료형의 값을 1차원으로 저장하는 가장 기본적인 구조"
   ]
  },
  {
   "cell_type": "code",
   "execution_count": null,
   "id": "7b517967-238b-4af0-b993-a483c6cf30e0",
   "metadata": {},
   "outputs": [],
   "source": [
    "## 벡터 생성\n",
    "v1 <- c(1, 2, 3, 4, 5)\n",
    "v2 <- c('a', 'b', 'c')\n",
    "v3 <- c(TRUE, FALSE, T)\n",
    "v4 <- c(1, 2, 3, 'a', 'b') ## character vector\n",
    "\n",
    "v5 <- 1:10\n",
    "v6 <- seq(1, 10, 2) ## length 파라미터를 사용하여 공차가 아닌 벡터의 길이를 지정해줄 수 있음\n",
    "v7 <- rep(1:5, times = 5) ## default arg setting\n",
    "v8 <- rep(1:5, each = 5)  ## 각 원소를 반복하면서 붙임\n",
    "\n",
    "## 벡터 인덱싱\n",
    "v <- c(6, 8, 1, 9, 7)\n",
    "v[1] ## R은 인덱스가 1부터 시작\n",
    "v[6]\n",
    "\n",
    "v[1:3] ## 벡터로 인덱싱할 수 있음. v[c(1, 2, 3)] 이런 느낌\n",
    "v[-5]  ## 뒤에서의 순서 아님. 해당 인덱스 제외 추출임\n",
    "v[c(T, F, T, F, T)]  ## 논리형으로도 인덱싱 가능. 길이가 부족할 경우 재활용 규칙을 따름\n",
    "\n",
    "## 벡터 산술연산\n",
    "v9 <- c(3, 7, 6)\n",
    "v10 <- c(4, 2, 8)\n",
    "\n",
    "v9 + 2  ## 5, 9, 8 : vectorization\n",
    "v9 - v10 ## -1, 5, -2 : 위치 별 연산\n",
    "v9 * c(10, 5) ## Warning 30, 35, 60 : 재활용 규칙\n",
    "\n",
    "## 벡터 비교연산\n",
    "v11 <- 1:10\n",
    "v11 >= 5 ## 각 원소별로 논리 연산자 적용하여 벡터로 산출\n",
    "v11[v11 >= 5] ## 5 이상인 원소만 추출\n",
    "sum(v11 < 5) ## 5 미만인 원소의 수 : 논리형은 T == 1, F == 0\n",
    "sum(v11[v11 < 5]) ## 5 미만인 원소의 합계"
   ]
  },
  {
   "cell_type": "markdown",
   "id": "b8added2-736a-4d11-adb5-0e5c18e21d5d",
   "metadata": {},
   "source": [
    "`-` 벡터에 적용 가능한 함수\n",
    "\n",
    "`sum(), mean(), median(), max(), min(), var(), sd(), length()`\n",
    "\n",
    "> 기초 통계량과 길이"
   ]
  },
  {
   "cell_type": "markdown",
   "id": "04b57fe3-fdcd-4e4b-89f5-e2dd4d3a90d3",
   "metadata": {},
   "source": [
    "`-` 팩터 factor"
   ]
  },
  {
   "cell_type": "markdown",
   "id": "a36bee0b-e3ce-48c6-9e80-33b2feac5487",
   "metadata": {},
   "source": [
    "* 문자형 데이터를 저장할 수 있는 벡터의 한 종류\n",
    "* 성별, 혈액형 등 저장할 데이터 값이 정해져 있을 때 사용. 범주가 정해져 있을 때 사용\n",
    "* 문자형 벡터를 만든 뒤, `factor()` 함수를 이용하여 생성\n",
    "* `levels()` 함수는 팩터의 범주를 호출\n",
    "* 팩터는 범주 외 다른 값을 저장할 수 없기 때문에 오타를 방지할 수 있음"
   ]
  },
  {
   "cell_type": "code",
   "execution_count": null,
   "id": "205ad992-923f-4dc0-95dd-a819e0ed0693",
   "metadata": {},
   "outputs": [],
   "source": [
    "szn <- c(\"spring\", \"fall\", 'winter', 'summer', 'summer', 'spring')\n",
    "szn_fct1 <- factor(szn)\n",
    "levels(szn) <- c(\"spring\", \"summer\", \"fall\", \"winter\")\n",
    "\n",
    "szn_fct2 <- factor(szn, levels = c(\"spring\", \"summer\", \"fall\", \"winter\")) ## 동일한 표현\n",
    "\n",
    "szn_fct1[7] <- \"autumn\"  ## invalid factor level, NA generated : 결측치로 추가"
   ]
  },
  {
   "cell_type": "markdown",
   "id": "e4c25d8b-51b5-423a-97ef-3153da75aeb5",
   "metadata": {},
   "source": [
    "## D. 행렬과 배열"
   ]
  },
  {
   "cell_type": "markdown",
   "id": "2205fd0f-dc04-4427-8b52-dbf750edee99",
   "metadata": {},
   "source": [
    "`-` 행렬 : 동일한 자료형의 값을 2차원으로 저장하는 자료구조"
   ]
  },
  {
   "cell_type": "code",
   "execution_count": 26,
   "id": "8f587ccd-f097-4734-ada2-9f633ee669da",
   "metadata": {},
   "outputs": [
    {
     "data": {
      "text/html": [
       "<table class=\"dataframe\">\n",
       "<caption>A matrix: 4 × 3 of type dbl</caption>\n",
       "<thead>\n",
       "\t<tr><th></th><th scope=col>Kor</th><th scope=col>Eng</th><th scope=col>Math</th></tr>\n",
       "</thead>\n",
       "<tbody>\n",
       "\t<tr><th scope=row>Kim</th><td>80</td><td>67</td><td>74</td></tr>\n",
       "\t<tr><th scope=row>Lee</th><td>82</td><td>95</td><td>88</td></tr>\n",
       "\t<tr><th scope=row>Park</th><td>75</td><td>84</td><td>82</td></tr>\n",
       "\t<tr><th scope=row>Choi</th><td>95</td><td>83</td><td>76</td></tr>\n",
       "</tbody>\n",
       "</table>\n"
      ],
      "text/latex": [
       "A matrix: 4 × 3 of type dbl\n",
       "\\begin{tabular}{r|lll}\n",
       "  & Kor & Eng & Math\\\\\n",
       "\\hline\n",
       "\tKim & 80 & 67 & 74\\\\\n",
       "\tLee & 82 & 95 & 88\\\\\n",
       "\tPark & 75 & 84 & 82\\\\\n",
       "\tChoi & 95 & 83 & 76\\\\\n",
       "\\end{tabular}\n"
      ],
      "text/markdown": [
       "\n",
       "A matrix: 4 × 3 of type dbl\n",
       "\n",
       "| <!--/--> | Kor | Eng | Math |\n",
       "|---|---|---|---|\n",
       "| Kim | 80 | 67 | 74 |\n",
       "| Lee | 82 | 95 | 88 |\n",
       "| Park | 75 | 84 | 82 |\n",
       "| Choi | 95 | 83 | 76 |\n",
       "\n"
      ],
      "text/plain": [
       "     Kor Eng Math\n",
       "Kim  80  67  74  \n",
       "Lee  82  95  88  \n",
       "Park 75  84  82  \n",
       "Choi 95  83  76  "
      ]
     },
     "metadata": {},
     "output_type": "display_data"
    }
   ],
   "source": [
    "## 행렬 생성\n",
    "m1 <- matrix(1:20, ncol = 4) ## nrow는 자동으로 맞춰짐. 약수가 아닐 경우 재사용 규칙 적용\n",
    "m2 <- matrix(1:20, ncol = 4, byrow = TRUE) ## 행별로 주어진 자료일 때 사용.\n",
    "\n",
    "## 행렬에 사용 가능한 함수\n",
    "# dim(), ncol(), nrow(), colnames(), rownames() -> 뒤에 두개는 잘 안씀;; 그럴 거면 데이터프레임 쓰지\n",
    "score <- matrix(c(80, 67, 74,\n",
    "                  82, 95, 88,\n",
    "                  75, 84, 82,\n",
    "                  95, 83, 76),\n",
    "                nrow = 4, ncol = 3, byrow = TRUE)\n",
    "\n",
    "rownames(score) <- c(\"Kim\", \"Lee\", \"Park\", \"Choi\")\n",
    "colnames(score) <- c(\"Kor\", \"Eng\", \"Math\")\n",
    "\n",
    "score ## 유사 데이터프레임처럼 사용 가능. 물론 자료형이 같음."
   ]
  },
  {
   "cell_type": "code",
   "execution_count": null,
   "id": "ef3d9d01-de75-4344-951a-38e9272d6689",
   "metadata": {},
   "outputs": [],
   "source": [
    "## 행렬 인덱싱\n",
    "m <- matrix(1:15, nrow = 3) ## (3, 5) matrix\n",
    "m[, 1]\n",
    "m[, c(1, 3, 5)]\n",
    "m[1:2, 3:5]\n",
    "m[-2,]\n",
    "m[-1, c(-1, -2)] ## 특정 행과 열 빼고 추출\n",
    "m[m > 7] ## 벡터에 논리 연산자 쓰는 것과 동일\n",
    "\n",
    "## 행렬 산술연산 : 두 행렬의 크기가 무조건 같아야 함\n",
    "m2 <- matrix(1:20, nrow = 4)\n",
    "m3 <- matrix(21:40, nrow = 4)\n",
    "\n",
    "## 각 원소끼리 연산함\n",
    "m2 + m3\n",
    "m2 - m3\n",
    "m2 * m3\n",
    "m2 / m3\n",
    "\n",
    "m2%*%t(m3) ## (4, 5) \\times (5, 4) : 행렬곱\n",
    "\n",
    "## 특수 행렬 생성\n",
    "Id <- diag(1, 5)\n",
    "zro <- matrix(0, ncol = 5, nrow = 5) ## 정방 행렬을 만들고 싶은거면 diag(0, 5)도 됨\n",
    "dagmat <- diag(seq(1, 7, 2)) ## 벡터 원소만 사용하고 싶을 경우 차원 안써도 됨. 넘으면 재사용 규칙\n",
    "# symat <- matrix(asdasfasf) ## 직접 입력해서 만들어야 함\n",
    "Transmat <- t(m2) ## 전치\n",
    "Invmt <- solve(Id) ## Non-Singular Matrix일 경우에만\n",
    "\n",
    "## 행렬 결합\n",
    "cbind(m2, m3) ## bind column wize\n",
    "rbind(m2, m3) ## bind row wize\n",
    "cbind(m2, c(1, 3, 5, 2)) ## bind with vector"
   ]
  },
  {
   "cell_type": "markdown",
   "id": "9e157436-c1e5-4af2-9ea4-cf26daed5d57",
   "metadata": {},
   "source": [
    "`-` 배열 : 동일한 자료형의 값을 n차원으로 저장하는 자료구조"
   ]
  },
  {
   "cell_type": "code",
   "execution_count": null,
   "id": "09bfe123-3698-4cb4-82e6-74364c91319c",
   "metadata": {},
   "outputs": [],
   "source": [
    "## 배열 생성\n",
    "arr <- array(1:12, dim = c(2, 2, 3)) # dim에 벡터를 집어넣어 차원과 규모를 설정해줄 수 있음\n",
    "\n",
    "## 인덱싱 매트릭스와 동일"
   ]
  },
  {
   "cell_type": "markdown",
   "id": "afa80777-166c-4848-98a5-7b6d3d46fbbc",
   "metadata": {},
   "source": [
    "## E. 리스트"
   ]
  },
  {
   "cell_type": "markdown",
   "id": "41ddafa6-d93f-4c91-8842-0dc55895d9ea",
   "metadata": {},
   "source": [
    "`-` 서로 다른 자료형의 값을 1차원으로 저장하는 자료구조\n",
    "\n",
    "> R의 모든 객체가 원소로 포함될 수 있음. 함수의 결과값을 반환할 때 유리하게 사용 가능"
   ]
  },
  {
   "cell_type": "code",
   "execution_count": null,
   "id": "b45d7a08-493e-45d1-b1ae-5d631684f200",
   "metadata": {},
   "outputs": [],
   "source": [
    "## 리스트 생성\n",
    "myinfo <- list(name = \"Kim\", age = 25, status = TRUE, score = c(70, 85, 90))\n",
    "\n",
    "## 리스트 인덱싱\n",
    "myinfo[[1]]\n",
    "myinfo$score\n",
    "myinfo[[\"score\"]]"
   ]
  },
  {
   "cell_type": "markdown",
   "id": "30ffedf5-0a98-4066-bab5-73c44f563bd6",
   "metadata": {},
   "source": [
    "## F. 데이터 프레임"
   ]
  },
  {
   "cell_type": "markdown",
   "id": "45817cf0-c92d-4236-b34d-b1358037a924",
   "metadata": {},
   "source": [
    "`-` 열 단위의 서로 다른 자료형의 값을 저장하는 자료구조\n",
    "\n",
    "> 데이터프레임에서 특정 열을 가져오면 값들의 모든 자료형이 동일해야만 함.\n",
    ">\n",
    "> 같은 길이의 벡터를 원소로 가지는 리스트의 특별한 경우 -> 표현을 공유함\n",
    ">\n",
    "> 행렬과 같은 2차원 구조 -> 다루는 방법이 비슷함"
   ]
  },
  {
   "cell_type": "code",
   "execution_count": 55,
   "id": "b0b9d139-b1df-4899-ab2f-a9e9d3b288b9",
   "metadata": {},
   "outputs": [
    {
     "data": {
      "text/html": [
       "<table class=\"dataframe\">\n",
       "<caption>A data.frame: 4 × 5</caption>\n",
       "<thead>\n",
       "\t<tr><th scope=col>name</th><th scope=col>age</th><th scope=col>btype</th><th scope=col>smoking</th><th scope=col>c(\"dog\", \"cat\", \"bird\", \"dog\")</th></tr>\n",
       "\t<tr><th scope=col>&lt;chr&gt;</th><th scope=col>&lt;dbl&gt;</th><th scope=col>&lt;fct&gt;</th><th scope=col>&lt;lgl&gt;</th><th scope=col>&lt;chr&gt;</th></tr>\n",
       "</thead>\n",
       "<tbody>\n",
       "\t<tr><td>Kim </td><td>24</td><td>A</td><td> TRUE</td><td>dog </td></tr>\n",
       "\t<tr><td>Lee </td><td>25</td><td>B</td><td>FALSE</td><td>cat </td></tr>\n",
       "\t<tr><td>Park</td><td>22</td><td>O</td><td> TRUE</td><td>bird</td></tr>\n",
       "\t<tr><td>Choi</td><td>27</td><td>B</td><td> TRUE</td><td>dog </td></tr>\n",
       "</tbody>\n",
       "</table>\n"
      ],
      "text/latex": [
       "A data.frame: 4 × 5\n",
       "\\begin{tabular}{lllll}\n",
       " name & age & btype & smoking & c(\"dog\", \"cat\", \"bird\", \"dog\")\\\\\n",
       " <chr> & <dbl> & <fct> & <lgl> & <chr>\\\\\n",
       "\\hline\n",
       "\t Kim  & 24 & A &  TRUE & dog \\\\\n",
       "\t Lee  & 25 & B & FALSE & cat \\\\\n",
       "\t Park & 22 & O &  TRUE & bird\\\\\n",
       "\t Choi & 27 & B &  TRUE & dog \\\\\n",
       "\\end{tabular}\n"
      ],
      "text/markdown": [
       "\n",
       "A data.frame: 4 × 5\n",
       "\n",
       "| name &lt;chr&gt; | age &lt;dbl&gt; | btype &lt;fct&gt; | smoking &lt;lgl&gt; | c(\"dog\", \"cat\", \"bird\", \"dog\") &lt;chr&gt; |\n",
       "|---|---|---|---|---|\n",
       "| Kim  | 24 | A |  TRUE | dog  |\n",
       "| Lee  | 25 | B | FALSE | cat  |\n",
       "| Park | 22 | O |  TRUE | bird |\n",
       "| Choi | 27 | B |  TRUE | dog  |\n",
       "\n"
      ],
      "text/plain": [
       "  name age btype smoking c(\"dog\", \"cat\", \"bird\", \"dog\")\n",
       "1 Kim  24  A      TRUE   dog                           \n",
       "2 Lee  25  B     FALSE   cat                           \n",
       "3 Park 22  O      TRUE   bird                          \n",
       "4 Choi 27  B      TRUE   dog                           "
      ]
     },
     "metadata": {},
     "output_type": "display_data"
    }
   ],
   "source": [
    "df2 <- cbind(df1, c(\"dog\", \"cat\", \"bird\", \"dog\")) ## 아직 묶인 열의 이름이 할당되지 않은 상태\n",
    "df2"
   ]
  },
  {
   "cell_type": "code",
   "execution_count": null,
   "id": "88b70d24-0a61-45c5-abe5-d0e355c0a6cd",
   "metadata": {},
   "outputs": [],
   "source": [
    "## 데이터프레임 생성\n",
    "df1 <- data.frame(name = c(\"Kim\", \"Lee\", \"Park\", \"Choi\"),\n",
    "                  age = c(24, 25, 22, 27),\n",
    "                  btype = factor(c(\"A\", \"B\", \"O\", \"B\"), levels = c(\"A\", \"B\", \"O\", \"AB\")),\n",
    "                  smoking = c(TRUE, FALSE, TRUE, TRUE))\n",
    "\n",
    "df2 <- cbind(df1, c(\"dog\", \"cat\", \"bird\", \"dog\")) ## 아직 묶인 열의 이름이 할당되지 않은 상태 : 할당은 됨\n",
    "colnames(df2)[5] <- \"pet\" ## 오브젝트를 그대로 호출해서 할당 가능\n",
    "\n",
    "## 데이터프레임 인덱싱 : 행렬과 동일\n",
    "df2[1, 2] ## 개별 원소\n",
    "df2[, 3]  ## 열\n",
    "df2[-1, c(-2, -3)] ## 특정 샘플과 열 제외\n",
    "df2$pet\n",
    "df2[[\"pet\"]]\n",
    "df2[[1]]"
   ]
  },
  {
   "cell_type": "markdown",
   "id": "b2fcc0cf-77e0-4afb-9393-5c8ea3a7b667",
   "metadata": {},
   "source": [
    "`-` 데이터프레임 요약 함수\n",
    "\n",
    "|함수|설명|\n",
    "|:-:|:-|\n",
    "|`head()`|처음 몇 개의 원소를 반환|\n",
    "|`tail()`|마지막 몇 개의 원소를 반환|\n",
    "|`str()`|자료구조와 각 원소의 자료형, 미리보기 출력|\n",
    "|`unique()`|중복된 값을 제거하고 유일한 값만 반환|\n",
    "|`table()`|각 값의 빈도를 계산하여 표 형태로 반환|\n",
    "|`colSums(), colMeans()`|각 열의 합계/평균을 계산|\n",
    "|`rowSums(), rowMeans()`|각 행의 합계/평균을 계산 -> 전부 수치형이여야 함|"
   ]
  },
  {
   "cell_type": "code",
   "execution_count": null,
   "id": "c3603537-0fe4-4e8f-9d2a-0868906296bb",
   "metadata": {},
   "outputs": [],
   "source": [
    "dim(iris)                                   # 데이터프레임의 차원\n",
    "nrow(iris)                                  # 행의 개수\n",
    "ncol(iris)                                  # 열의 개수\n",
    "colnames(iris)                              # 열 이름, names()와 결과 동일\n",
    "\n",
    "head(iris)                                  # 처음 6개 행 출력\n",
    "tail(iris)                                  # 마지막 6개 행 출력\n",
    "str(iris)                                   # 데이터셋 요약 정보\n",
    "\n",
    "unique(iris[, 5])                           # 품종의 종류 보기(중복 제거) \n",
    "table(iris[, \"Species\"])                    # 품종의 종류별 행의 개수 세기\n",
    "\n",
    "colSums(iris[, -5])                         # 각 열의 합계 \n",
    "colMeans(iris[, -5])                        # 각 열의 평균 \n",
    "rowSums(iris[, -5])                         # 각 행의 합계 \n",
    "rowMeans(iris[, -5])                        # 각 행의 평균"
   ]
  },
  {
   "cell_type": "markdown",
   "id": "4119240a-131b-46ef-8827-e9565151e76e",
   "metadata": {},
   "source": [
    "# 4. 프로그래밍 구조"
   ]
  },
  {
   "cell_type": "code",
   "execution_count": null,
   "id": "e6a03f8d-b6d3-4b7f-b58b-d9b5a6b3a133",
   "metadata": {},
   "outputs": [],
   "source": []
  }
 ],
 "metadata": {
  "kernelspec": {
   "display_name": "R",
   "language": "R",
   "name": "ir"
  },
  "language_info": {
   "codemirror_mode": "r",
   "file_extension": ".r",
   "mimetype": "text/x-r-source",
   "name": "R",
   "pygments_lexer": "r",
   "version": "4.3.1"
  }
 },
 "nbformat": 4,
 "nbformat_minor": 5
}
