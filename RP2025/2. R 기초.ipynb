{
 "cells": [
  {
   "cell_type": "markdown",
   "id": "8043b59b-6168-49a9-8caf-d39d1e9684a7",
   "metadata": {},
   "source": [
    "# R 기초"
   ]
  },
  {
   "cell_type": "markdown",
   "id": "cf94d8fc-6139-47fb-812e-b5596f7d7ba9",
   "metadata": {},
   "source": [
    "R의 작업폴더는 R studio를 열 때마다 초기화됨, 하지만 R script로 실행하면 작업폴더가 해당 시점에서 변경되지 않음."
   ]
  },
  {
   "cell_type": "markdown",
   "id": "19cf6d5f-3727-4aef-9365-3bde57dd903c",
   "metadata": {},
   "source": [
    "## 1. 산술연산"
   ]
  },
  {
   "cell_type": "markdown",
   "id": "1a1473ad-0192-4656-be8a-caef0f12e66f",
   "metadata": {},
   "source": [
    "|연산자|의미|\n",
    "|:-:|:-:|\n",
    "|+|덧셈|\n",
    "|-|뺄셈|\n",
    "|*|곱셈|\n",
    "|/|나눗셈|\n",
    "|%%|나머지|\n",
    "|^|제곱|"
   ]
  },
  {
   "cell_type": "markdown",
   "id": "5ff0c25b-948c-4102-9fe7-9b6f9639a627",
   "metadata": {},
   "source": [
    "> 나머지는 은근 많이 씀. ㅇㅅㅇ\n",
    ">\n",
    "> ex) 건강관리공단에서 나이를 좀 먹으면 검사받으라고 연락이 옴. 짝수/홀수년도 출생자 별로 검사년도 구분 -> 2로 나눴을 때 나머지가 0이면 짝수/1이면 홀수년도이도록 할 수 있음."
   ]
  },
  {
   "cell_type": "markdown",
   "id": "179309f7-c9c9-4e76-bd1c-7fdc48bbc73c",
   "metadata": {},
   "source": [
    "## 2. 주석(Comment)"
   ]
  },
  {
   "cell_type": "markdown",
   "id": "622d3adc-89e8-4982-b4bd-35e8b4274fb7",
   "metadata": {},
   "source": [
    "* 코드 설명 써둔 거. `#` 다음에 주석의 내용을 작성함.\n",
    "* Crtl+Shift+C로 드래그한 공간을 바로 주석처리 할 수 있음.\n",
    "* 작성자가 나중에 R 프로그램을 다시 보거나, 제 3자가 볼 때 프로그램의 내용을 쉽게 이해할 수 있도록 기재함."
   ]
  },
  {
   "cell_type": "markdown",
   "id": "9dd08e37-e651-4a26-8e5b-444ff692897c",
   "metadata": {},
   "source": [
    "## 3. 함수(Function)"
   ]
  },
  {
   "cell_type": "markdown",
   "id": "33b53f3e-e02b-429d-b097-53ab25638152",
   "metadata": {},
   "source": [
    "* 함수에 어떤 입력값을 주면, 일련의 과정을 거쳐서 계산된 결과값을 내보내는 구조\n",
    "* 입력값은 매개변수(parameter)라고 하며, 하나의 함수는 여러 개의 매개변수를 가질 수 있음\n",
    "* 함수의 정의에 맞추어 매개변수를 입력하면 정의된 결과값을 얻을 수 있음"
   ]
  },
  {
   "cell_type": "markdown",
   "id": "2a25d851-140b-4314-b1ac-86d513ca68df",
   "metadata": {},
   "source": [
    "### 산술연산함수"
   ]
  },
  {
   "cell_type": "markdown",
   "id": "a5b4fcde-0d15-4399-93de-a9a96bf67243",
   "metadata": {},
   "source": [
    "|함수|의미|\n",
    "|:-:|:-:|\n",
    "|`log()`|로그함수|\n",
    "|`sqrt()`|제곱근|\n",
    "|`abs()`|절대값|\n",
    "|`factorial()`|계승|\n",
    "|`sin(), cos(), tan()`|삼각함수|\n",
    "|`exp()`|지수함수|\n",
    "\n",
    "> `pi`는 원주율로써 기본적으로 저장되어 있음."
   ]
  },
  {
   "cell_type": "markdown",
   "id": "1238deb2-46ef-417e-bd1e-c6837ae23eaf",
   "metadata": {},
   "source": [
    "## 4. 자료형(data type)"
   ]
  },
  {
   "cell_type": "markdown",
   "id": "06c9b95a-ddc0-4b14-93f6-80c5e4d30f4d",
   "metadata": {},
   "source": [
    "* 변수에 저장할 수 있는 값의 종류"
   ]
  },
  {
   "cell_type": "markdown",
   "id": "11dbddf4-a93c-4043-8467-f13af7d0e0cb",
   "metadata": {},
   "source": [
    "|자료형|예|설명|\n",
    "|:-:|:-:|:-:|\n",
    "|숫자형|1, -1, 2.5|정수와 실수 모두 가능|\n",
    "|문자형|'Hello', \"World\"|작은 따옴표나 큰 따옴표로 묶어서 표현|\n",
    "|논리형|TRUE/T, FALSE/F|반드시 대문자 표기|\n",
    "|특수값|NULL|정의되지 않음을 의미|\n",
    "|특수값|NA|결측값 missing value|\n",
    "|특수값|NaN|수학적으로 정의가 불가능한 값 : 0으로 나누는 것 등|"
   ]
  },
  {
   "cell_type": "markdown",
   "id": "1dcc3abd-518e-4cea-a3ec-880787a31323",
   "metadata": {},
   "source": [
    "## 5. 논리연산"
   ]
  },
  {
   "cell_type": "markdown",
   "id": "6fea06e6-0f5b-41eb-ac59-b90c5be00f43",
   "metadata": {},
   "source": [
    "|연산자|예|설명|\n",
    "|:-:|:-:|:-:|\n",
    "|<|A<B||\n",
    "|<=|A<=B||\n",
    "|>|A>B||\n",
    "|>=|A>=B||\n",
    "|!=|A!=B||\n",
    "|\\||(A<B) \\| (C<D)|두 논리값 중 하나라도 참이면 TRUE 반환|\n",
    "|&|(A<B) & (C<D)|두 논리값 모두 참이여야 TRUE 반환|"
   ]
  },
  {
   "cell_type": "markdown",
   "id": "804f5e85-63da-48f4-8443-88ef1a37a3eb",
   "metadata": {},
   "source": [
    "## 7. 변수"
   ]
  },
  {
   "cell_type": "markdown",
   "id": "c64dcfbb-e9a3-4676-b48d-b7051ee42555",
   "metadata": {},
   "source": [
    "### A. 변수 값 할당"
   ]
  },
  {
   "cell_type": "markdown",
   "id": "497b003e-20d8-4672-8d61-7374d4138433",
   "metadata": {},
   "source": [
    "* 어떤 값을 저장할 수 있는 공간\n",
    "* 할당 연산자 <- 를 이용하여 변수에 값을 저장할 수 있음\n",
    "    * 할당(assign) : 프로그래밍에서 사용자가 저장공간에 원하는 값을 저장하는 것\n",
    "    * 단축키 : `alt + -`\n",
    "* 변수에 저장된 값을 확인하려면 변수명을 입력하거나 `print()` 함수를 사용\n",
    "* 변수명 지정규칙\n",
    "    1. 첫 번째 문자는 반드시 영문자나 마침표로 시작\n",
    "    2. 두 번째 문자부터는 영문자, 숫자, 마침표, 밑줄 사용가능\n",
    "    3. 변수명은 대소문자를 구분\n",
    "    4. 변수명 중간에 여백을 넣을 수 없음"
   ]
  },
  {
   "cell_type": "markdown",
   "id": "2626be9a-1a51-4236-a7d6-d3815f071329",
   "metadata": {},
   "source": [
    "### B. 변수 값 변경"
   ]
  },
  {
   "cell_type": "markdown",
   "id": "d5df5733-ecd3-4d57-b316-fef7148af6d1",
   "metadata": {},
   "source": [
    "* 변수에 저장된 값은 언제라도 변경 가능\n",
    "* 자료형은 어떤 값을 저장하는가에 따라 유동적으로 바뀜 <- 일반적인 컴파일 언어처럼 자료형 지정 안해도 됨"
   ]
  }
 ],
 "metadata": {
  "kernelspec": {
   "display_name": "R",
   "language": "R",
   "name": "ir"
  },
  "language_info": {
   "codemirror_mode": "r",
   "file_extension": ".r",
   "mimetype": "text/x-r-source",
   "name": "R",
   "pygments_lexer": "r",
   "version": "4.3.1"
  }
 },
 "nbformat": 4,
 "nbformat_minor": 5
}
